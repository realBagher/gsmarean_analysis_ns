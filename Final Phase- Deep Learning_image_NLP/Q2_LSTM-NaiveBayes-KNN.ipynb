{
  "nbformat": 4,
  "nbformat_minor": 0,
  "metadata": {
    "colab": {
      "provenance": [],
      "collapsed_sections": [
        "dnYo_l4xJ_Sf",
        "DIFd8hJV-Sut",
        "HK4k_0pVNWQM",
        "x9KTslzGRdra",
        "8XDSHFGYgJgJ",
        "M89MvtSfI9HU",
        "_iJ8QIHf4wyl",
        "X483UYPVwlyG",
        "70T2xXjA-V-g",
        "QnflPh7O0MrB",
        "Z3eeJfzL6cjt",
        "hEY3XsLa0JY2",
        "37y7MLE50NdR",
        "Z78pm-fHoxdg",
        "8tqc5Rf52vw0",
        "RM0KNtG5-IB_",
        "IhOvU24IkNWQ",
        "u4Rd_BuNox3h",
        "5KOyk1pzr1IX"
      ],
      "gpuType": "T4"
    },
    "kernelspec": {
      "name": "python3",
      "display_name": "Python 3"
    },
    "language_info": {
      "name": "python"
    },
    "accelerator": "GPU"
  },
  "cells": [
    {
      "cell_type": "markdown",
      "source": [
        "# library"
      ],
      "metadata": {
        "id": "dnYo_l4xJ_Sf"
      }
    },
    {
      "cell_type": "code",
      "source": [
        "import numpy as np\n",
        "import pandas as pd\n",
        "import matplotlib.pyplot as plt\n",
        "import seaborn as sns\n",
        "from sklearn.model_selection import train_test_split"
      ],
      "metadata": {
        "id": "SyDrALdgKJyO"
      },
      "execution_count": 1,
      "outputs": []
    },
    {
      "cell_type": "markdown",
      "source": [
        "# preprocessing\n"
      ],
      "metadata": {
        "id": "Z3eeJfzL6cjt"
      }
    },
    {
      "cell_type": "code",
      "source": [
        "from google.colab import drive\n",
        "\n",
        "drive.mount('/content/drive')"
      ],
      "metadata": {
        "colab": {
          "base_uri": "https://localhost:8080/"
        },
        "id": "9gpsEcMziYs1",
        "outputId": "c4c9a5f2-2218-406a-b719-877692660b0e"
      },
      "execution_count": 2,
      "outputs": [
        {
          "output_type": "stream",
          "name": "stdout",
          "text": [
            "Drive already mounted at /content/drive; to attempt to forcibly remount, call drive.mount(\"/content/drive\", force_remount=True).\n"
          ]
        }
      ]
    },
    {
      "cell_type": "code",
      "source": [
        "df1 = pd.DataFrame(pd.read_excel('/content/drive/MyDrive/last quera project/time_cleaned.xlsx'))\n",
        "df2 = pd.DataFrame(pd.read_excel('/content/drive/MyDrive/last quera project/wow_data_cleaned.xlsx') )"
      ],
      "metadata": {
        "id": "sMYnkfhP6hsr"
      },
      "execution_count": 3,
      "outputs": []
    },
    {
      "cell_type": "code",
      "source": [
        "df1.info()\n",
        "df1 = df1.drop(['Unnamed: 0.2','Unnamed: 0.1','Unnamed: 0'], axis=1)\n",
        "df1.rename(columns={'headline':'Header' , \"description\":'Body' , \"label\":'Label'}, inplace=True)"
      ],
      "metadata": {
        "colab": {
          "base_uri": "https://localhost:8080/"
        },
        "id": "aSmswymE66wf",
        "outputId": "1fdd99fe-b813-4338-c0c1-f0e4387d194f"
      },
      "execution_count": 4,
      "outputs": [
        {
          "output_type": "stream",
          "name": "stdout",
          "text": [
            "<class 'pandas.core.frame.DataFrame'>\n",
            "RangeIndex: 28516 entries, 0 to 28515\n",
            "Data columns (total 6 columns):\n",
            " #   Column        Non-Null Count  Dtype \n",
            "---  ------        --------------  ----- \n",
            " 0   Unnamed: 0.2  28516 non-null  int64 \n",
            " 1   Unnamed: 0.1  28516 non-null  int64 \n",
            " 2   Unnamed: 0    28516 non-null  int64 \n",
            " 3   headline      28515 non-null  object\n",
            " 4   description   28516 non-null  object\n",
            " 5   label         28516 non-null  object\n",
            "dtypes: int64(3), object(3)\n",
            "memory usage: 1.3+ MB\n"
          ]
        }
      ]
    },
    {
      "cell_type": "code",
      "source": [
        "df2.info()\n",
        "df2 = df2.drop(['Unnamed: 0.1','Unnamed: 0'], axis=1)\n",
        "df2.rename(columns={'Headlines': 'Header', 'Descriptions': 'Body', 'Labels': 'Label'}, inplace=True)\n"
      ],
      "metadata": {
        "colab": {
          "base_uri": "https://localhost:8080/"
        },
        "id": "8lVx3Y0y-t24",
        "outputId": "fee1cf88-e8c8-4972-8d70-0f8d48a3d117"
      },
      "execution_count": 5,
      "outputs": [
        {
          "output_type": "stream",
          "name": "stdout",
          "text": [
            "<class 'pandas.core.frame.DataFrame'>\n",
            "RangeIndex: 1150 entries, 0 to 1149\n",
            "Data columns (total 5 columns):\n",
            " #   Column        Non-Null Count  Dtype \n",
            "---  ------        --------------  ----- \n",
            " 0   Unnamed: 0.1  1150 non-null   int64 \n",
            " 1   Unnamed: 0    1150 non-null   int64 \n",
            " 2   Headlines     1149 non-null   object\n",
            " 3   Descriptions  1150 non-null   object\n",
            " 4   Labels        1150 non-null   object\n",
            "dtypes: int64(2), object(3)\n",
            "memory usage: 45.0+ KB\n"
          ]
        }
      ]
    },
    {
      "cell_type": "code",
      "source": [
        "df1['Label'].value_counts()"
      ],
      "metadata": {
        "colab": {
          "base_uri": "https://localhost:8080/"
        },
        "id": "Zc8GLVbE_fMX",
        "outputId": "db7b89fb-f516-47b2-ed33-928cff5ff68b"
      },
      "execution_count": 6,
      "outputs": [
        {
          "output_type": "execute_result",
          "data": {
            "text/plain": [
              "Label\n",
              "Politics    8379\n",
              "Tech        8281\n",
              "Business    8256\n",
              "Sport       3600\n",
              "Name: count, dtype: int64"
            ]
          },
          "metadata": {},
          "execution_count": 6
        }
      ]
    },
    {
      "cell_type": "code",
      "source": [
        "df2['Label'].value_counts()"
      ],
      "metadata": {
        "colab": {
          "base_uri": "https://localhost:8080/"
        },
        "id": "vpcvbQIY_vMu",
        "outputId": "7a5c1fb5-9765-4632-a7d8-d63244dc9494"
      },
      "execution_count": 7,
      "outputs": [
        {
          "output_type": "execute_result",
          "data": {
            "text/plain": [
              "Label\n",
              "Sport    1150\n",
              "Name: count, dtype: int64"
            ]
          },
          "metadata": {},
          "execution_count": 7
        }
      ]
    },
    {
      "cell_type": "code",
      "source": [
        "df = pd.concat([df1,df2], axis=0)"
      ],
      "metadata": {
        "id": "CMD-EvjPA4gQ"
      },
      "execution_count": 8,
      "outputs": []
    },
    {
      "cell_type": "code",
      "source": [
        "df['Label'].value_counts()"
      ],
      "metadata": {
        "colab": {
          "base_uri": "https://localhost:8080/"
        },
        "id": "KUUUQLNpBBsw",
        "outputId": "f319165f-9661-4c68-8fcc-54f53ce01b8a"
      },
      "execution_count": 9,
      "outputs": [
        {
          "output_type": "execute_result",
          "data": {
            "text/plain": [
              "Label\n",
              "Politics    8379\n",
              "Tech        8281\n",
              "Business    8256\n",
              "Sport       4750\n",
              "Name: count, dtype: int64"
            ]
          },
          "metadata": {},
          "execution_count": 9
        }
      ]
    },
    {
      "cell_type": "code",
      "source": [
        "df.info()"
      ],
      "metadata": {
        "colab": {
          "base_uri": "https://localhost:8080/"
        },
        "id": "h1FGurNUBDtA",
        "outputId": "ff5ebb08-b909-472f-9e99-f9dd69ce3d0d"
      },
      "execution_count": 10,
      "outputs": [
        {
          "output_type": "stream",
          "name": "stdout",
          "text": [
            "<class 'pandas.core.frame.DataFrame'>\n",
            "Index: 29666 entries, 0 to 1149\n",
            "Data columns (total 3 columns):\n",
            " #   Column  Non-Null Count  Dtype \n",
            "---  ------  --------------  ----- \n",
            " 0   Header  29664 non-null  object\n",
            " 1   Body    29666 non-null  object\n",
            " 2   Label   29666 non-null  object\n",
            "dtypes: object(3)\n",
            "memory usage: 927.1+ KB\n"
          ]
        }
      ]
    },
    {
      "cell_type": "code",
      "source": [
        "df = df.dropna()"
      ],
      "metadata": {
        "id": "pcDaVjbVBXd4"
      },
      "execution_count": 11,
      "outputs": []
    },
    {
      "cell_type": "code",
      "source": [
        "df.info()"
      ],
      "metadata": {
        "colab": {
          "base_uri": "https://localhost:8080/"
        },
        "id": "QK3DDyMkBo73",
        "outputId": "be7fbc89-5b57-436e-d4d4-98871a86e4c5"
      },
      "execution_count": 12,
      "outputs": [
        {
          "output_type": "stream",
          "name": "stdout",
          "text": [
            "<class 'pandas.core.frame.DataFrame'>\n",
            "Index: 29664 entries, 0 to 1149\n",
            "Data columns (total 3 columns):\n",
            " #   Column  Non-Null Count  Dtype \n",
            "---  ------  --------------  ----- \n",
            " 0   Header  29664 non-null  object\n",
            " 1   Body    29664 non-null  object\n",
            " 2   Label   29664 non-null  object\n",
            "dtypes: object(3)\n",
            "memory usage: 927.0+ KB\n"
          ]
        }
      ]
    },
    {
      "cell_type": "code",
      "source": [
        "df['Label'].value_counts()"
      ],
      "metadata": {
        "colab": {
          "base_uri": "https://localhost:8080/"
        },
        "id": "l4fNExszB5KH",
        "outputId": "be8e55a1-f0b2-46ff-f3b3-87c4befa5e87"
      },
      "execution_count": 13,
      "outputs": [
        {
          "output_type": "execute_result",
          "data": {
            "text/plain": [
              "Label\n",
              "Politics    8378\n",
              "Tech        8281\n",
              "Business    8256\n",
              "Sport       4749\n",
              "Name: count, dtype: int64"
            ]
          },
          "metadata": {},
          "execution_count": 13
        }
      ]
    },
    {
      "cell_type": "code",
      "source": [
        "df['Label'].value_counts().plot.bar()\n"
      ],
      "metadata": {
        "colab": {
          "base_uri": "https://localhost:8080/",
          "height": 514
        },
        "id": "BlgHkzPwCA7C",
        "outputId": "85b34656-e81f-4826-b244-46bc3b8be367"
      },
      "execution_count": 14,
      "outputs": [
        {
          "output_type": "execute_result",
          "data": {
            "text/plain": [
              "<Axes: xlabel='Label'>"
            ]
          },
          "metadata": {},
          "execution_count": 14
        },
        {
          "output_type": "display_data",
          "data": {
            "text/plain": [
              "<Figure size 640x480 with 1 Axes>"
            ],
            "image/png": "[encoded data removed]"
          },
          "metadata": {}
        }
      ]
    },
    {
      "cell_type": "code",
      "source": [
        "df.head()"
      ],
      "metadata": {
        "colab": {
          "base_uri": "https://localhost:8080/",
          "height": 206
        },
        "id": "A14mx5dBCOm4",
        "outputId": "d5dcf78c-4951-446a-a440-76d5f2811937"
      },
      "execution_count": 15,
      "outputs": [
        {
          "output_type": "execute_result",
          "data": {
            "text/plain": [
              "                                              Header  \\\n",
              "0           Sam Bankman-Fried Faces 25 Years in Jail   \n",
              "1  Sam Bankman-Fried to be Sentenced for Defraudi...   \n",
              "2  India’s Income Inequality Is Now Worse Than Un...   \n",
              "3  Trump's Social Media Company Soars Nearly 50% ...   \n",
              "4            How Is Trump's New Firm Worth Billions?   \n",
              "\n",
              "                                                Body     Label  \n",
              "0  Sam Bankman-Fried, the former billionaire who ...  Business  \n",
              "1  Former crypto mogul Sam Bankman-Fried faces th...  Business  \n",
              "2  A new study from the World Inequality Lab find...  Business  \n",
              "3  Shares of Donald Trump’s social media company ...  Business  \n",
              "4  On the cusp of a financial crisis, Donald Trum...  Business  "
            ],
            "text/html": [
              "\n",
              "  <div id=\"df-11b36280-b200-444f-bd59-9a464e3d935e\" class=\"colab-df-container\">\n",
              "    <div>\n",
              "<style scoped>\n",
              "    .dataframe tbody tr th:only-of-type {\n",
              "        vertical-align: middle;\n",
              "    }\n",
              "\n",
              "    .dataframe tbody tr th {\n",
              "        vertical-align: top;\n",
              "    }\n",
              "\n",
              "    .dataframe thead th {\n",
              "        text-align: right;\n",
              "    }\n",
              "</style>\n",
              "<table border=\"1\" class=\"dataframe\">\n",
              "  <thead>\n",
              "    <tr style=\"text-align: right;\">\n",
              "      <th></th>\n",
              "      <th>Header</th>\n",
              "      <th>Body</th>\n",
              "      <th>Label</th>\n",
              "    </tr>\n",
              "  </thead>\n",
              "  <tbody>\n",
              "    <tr>\n",
              "      <th>0</th>\n",
              "      <td>Sam Bankman-Fried Faces 25 Years in Jail</td>\n",
              "      <td>Sam Bankman-Fried, the former billionaire who ...</td>\n",
              "      <td>Business</td>\n",
              "    </tr>\n",
              "    <tr>\n",
              "      <th>1</th>\n",
              "      <td>Sam Bankman-Fried to be Sentenced for Defraudi...</td>\n",
              "      <td>Former crypto mogul Sam Bankman-Fried faces th...</td>\n",
              "      <td>Business</td>\n",
              "    </tr>\n",
              "    <tr>\n",
              "      <th>2</th>\n",
              "      <td>India’s Income Inequality Is Now Worse Than Un...</td>\n",
              "      <td>A new study from the World Inequality Lab find...</td>\n",
              "      <td>Business</td>\n",
              "    </tr>\n",
              "    <tr>\n",
              "      <th>3</th>\n",
              "      <td>Trump's Social Media Company Soars Nearly 50% ...</td>\n",
              "      <td>Shares of Donald Trump’s social media company ...</td>\n",
              "      <td>Business</td>\n",
              "    </tr>\n",
              "    <tr>\n",
              "      <th>4</th>\n",
              "      <td>How Is Trump's New Firm Worth Billions?</td>\n",
              "      <td>On the cusp of a financial crisis, Donald Trum...</td>\n",
              "      <td>Business</td>\n",
              "    </tr>\n",
              "  </tbody>\n",
              "</table>\n",
              "</div>\n",
              "    <div class=\"colab-df-buttons\">\n",
              "\n",
              "  <div class=\"colab-df-container\">\n",
              "    <button class=\"colab-df-convert\" onclick=\"convertToInteractive('df-11b36280-b200-444f-bd59-9a464e3d935e')\"\n",
              "            title=\"Convert this dataframe to an interactive table.\"\n",
              "            style=\"display:none;\">\n",
              "\n",
              "  <svg xmlns=\"http://www.w3.org/2000/svg\" height=\"24px\" viewBox=\"0 -960 960 960\">\n",
              "    <path d=\"M120-120v-720h720v720H120Zm60-500h600v-160H180v160Zm220 220h160v-160H400v160Zm0 220h160v-160H400v160ZM180-400h160v-160H180v160Zm440 0h160v-160H620v160ZM180-180h160v-160H180v160Zm440 0h160v-160H620v160Z\"/>\n",
              "  </svg>\n",
              "    </button>\n",
              "\n",
              "  <style>\n",
              "    .colab-df-container {\n",
              "      display:flex;\n",
              "      gap: 12px;\n",
              "    }\n",
              "\n",
              "    .colab-df-convert {\n",
              "      background-color: #E8F0FE;\n",
              "      border: none;\n",
              "      border-radius: 50%;\n",
              "      cursor: pointer;\n",
              "      display: none;\n",
              "      fill: #1967D2;\n",
              "      height: 32px;\n",
              "      padding: 0 0 0 0;\n",
              "      width: 32px;\n",
              "    }\n",
              "\n",
              "    .colab-df-convert:hover {\n",
              "      background-color: #E2EBFA;\n",
              "      box-shadow: 0px 1px 2px rgba(60, 64, 67, 0.3), 0px 1px 3px 1px rgba(60, 64, 67, 0.15);\n",
              "      fill: #174EA6;\n",
              "    }\n",
              "\n",
              "    .colab-df-buttons div {\n",
              "      margin-bottom: 4px;\n",
              "    }\n",
              "\n",
              "    [theme=dark] .colab-df-convert {\n",
              "      background-color: #3B4455;\n",
              "      fill: #D2E3FC;\n",
              "    }\n",
              "\n",
              "    [theme=dark] .colab-df-convert:hover {\n",
              "      background-color: #434B5C;\n",
              "      box-shadow: 0px 1px 3px 1px rgba(0, 0, 0, 0.15);\n",
              "      filter: drop-shadow(0px 1px 2px rgba(0, 0, 0, 0.3));\n",
              "      fill: #FFFFFF;\n",
              "    }\n",
              "  </style>\n",
              "\n",
              "    <script>\n",
              "      const buttonEl =\n",
              "        document.querySelector('#df-11b36280-b200-444f-bd59-9a464e3d935e button.colab-df-convert');\n",
              "      buttonEl.style.display =\n",
              "        google.colab.kernel.accessAllowed ? 'block' : 'none';\n",
              "\n",
              "      async function convertToInteractive(key) {\n",
              "        const element = document.querySelector('#df-11b36280-b200-444f-bd59-9a464e3d935e');\n",
              "        const dataTable =\n",
              "          await google.colab.kernel.invokeFunction('convertToInteractive',\n",
              "                                                    [key], {});\n",
              "        if (!dataTable) return;\n",
              "\n",
              "        const docLinkHtml = 'Like what you see? Visit the ' +\n",
              "          '<a target=\"_blank\" href=https://colab.research.google.com/notebooks/data_table.ipynb>data table notebook</a>'\n",
              "          + ' to learn more about interactive tables.';\n",
              "        element.innerHTML = '';\n",
              "        dataTable['output_type'] = 'display_data';\n",
              "        await google.colab.output.renderOutput(dataTable, element);\n",
              "        const docLink = document.createElement('div');\n",
              "        docLink.innerHTML = docLinkHtml;\n",
              "        element.appendChild(docLink);\n",
              "      }\n",
              "    </script>\n",
              "  </div>\n",
              "\n",
              "\n",
              "<div id=\"df-d6181796-946f-4ce5-8db3-360980f24e78\">\n",
              "  <button class=\"colab-df-quickchart\" onclick=\"quickchart('df-d6181796-946f-4ce5-8db3-360980f24e78')\"\n",
              "            title=\"Suggest charts\"\n",
              "            style=\"display:none;\">\n",
              "\n",
              "<svg xmlns=\"http://www.w3.org/2000/svg\" height=\"24px\"viewBox=\"0 0 24 24\"\n",
              "     width=\"24px\">\n",
              "    <g>\n",
              "        <path d=\"M19 3H5c-1.1 0-2 .9-2 2v14c0 1.1.9 2 2 2h14c1.1 0 2-.9 2-2V5c0-1.1-.9-2-2-2zM9 17H7v-7h2v7zm4 0h-2V7h2v10zm4 0h-2v-4h2v4z\"/>\n",
              "    </g>\n",
              "</svg>\n",
              "  </button>\n",
              "\n",
              "<style>\n",
              "  .colab-df-quickchart {\n",
              "      --bg-color: #E8F0FE;\n",
              "      --fill-color: #1967D2;\n",
              "      --hover-bg-color: #E2EBFA;\n",
              "      --hover-fill-color: #174EA6;\n",
              "      --disabled-fill-color: #AAA;\n",
              "      --disabled-bg-color: #DDD;\n",
              "  }\n",
              "\n",
              "  [theme=dark] .colab-df-quickchart {\n",
              "      --bg-color: #3B4455;\n",
              "      --fill-color: #D2E3FC;\n",
              "      --hover-bg-color: #434B5C;\n",
              "      --hover-fill-color: #FFFFFF;\n",
              "      --disabled-bg-color: #3B4455;\n",
              "      --disabled-fill-color: #666;\n",
              "  }\n",
              "\n",
              "  .colab-df-quickchart {\n",
              "    background-color: var(--bg-color);\n",
              "    border: none;\n",
              "    border-radius: 50%;\n",
              "    cursor: pointer;\n",
              "    display: none;\n",
              "    fill: var(--fill-color);\n",
              "    height: 32px;\n",
              "    padding: 0;\n",
              "    width: 32px;\n",
              "  }\n",
              "\n",
              "  .colab-df-quickchart:hover {\n",
              "    background-color: var(--hover-bg-color);\n",
              "    box-shadow: 0 1px 2px rgba(60, 64, 67, 0.3), 0 1px 3px 1px rgba(60, 64, 67, 0.15);\n",
              "    fill: var(--button-hover-fill-color);\n",
              "  }\n",
              "\n",
              "  .colab-df-quickchart-complete:disabled,\n",
              "  .colab-df-quickchart-complete:disabled:hover {\n",
              "    background-color: var(--disabled-bg-color);\n",
              "    fill: var(--disabled-fill-color);\n",
              "    box-shadow: none;\n",
              "  }\n",
              "\n",
              "  .colab-df-spinner {\n",
              "    border: 2px solid var(--fill-color);\n",
              "    border-color: transparent;\n",
              "    border-bottom-color: var(--fill-color);\n",
              "    animation:\n",
              "      spin 1s steps(1) infinite;\n",
              "  }\n",
              "\n",
              "  @keyframes spin {\n",
              "    0% {\n",
              "      border-color: transparent;\n",
              "      border-bottom-color: var(--fill-color);\n",
              "      border-left-color: var(--fill-color);\n",
              "    }\n",
              "    20% {\n",
              "      border-color: transparent;\n",
              "      border-left-color: var(--fill-color);\n",
              "      border-top-color: var(--fill-color);\n",
              "    }\n",
              "    30% {\n",
              "      border-color: transparent;\n",
              "      border-left-color: var(--fill-color);\n",
              "      border-top-color: var(--fill-color);\n",
              "      border-right-color: var(--fill-color);\n",
              "    }\n",
              "    40% {\n",
              "      border-color: transparent;\n",
              "      border-right-color: var(--fill-color);\n",
              "      border-top-color: var(--fill-color);\n",
              "    }\n",
              "    60% {\n",
              "      border-color: transparent;\n",
              "      border-right-color: var(--fill-color);\n",
              "    }\n",
              "    80% {\n",
              "      border-color: transparent;\n",
              "      border-right-color: var(--fill-color);\n",
              "      border-bottom-color: var(--fill-color);\n",
              "    }\n",
              "    90% {\n",
              "      border-color: transparent;\n",
              "      border-bottom-color: var(--fill-color);\n",
              "    }\n",
              "  }\n",
              "</style>\n",
              "\n",
              "  <script>\n",
              "    async function quickchart(key) {\n",
              "      const quickchartButtonEl =\n",
              "        document.querySelector('#' + key + ' button');\n",
              "      quickchartButtonEl.disabled = true;  // To prevent multiple clicks.\n",
              "      quickchartButtonEl.classList.add('colab-df-spinner');\n",
              "      try {\n",
              "        const charts = await google.colab.kernel.invokeFunction(\n",
              "            'suggestCharts', [key], {});\n",
              "      } catch (error) {\n",
              "        console.error('Error during call to suggestCharts:', error);\n",
              "      }\n",
              "      quickchartButtonEl.classList.remove('colab-df-spinner');\n",
              "      quickchartButtonEl.classList.add('colab-df-quickchart-complete');\n",
              "    }\n",
              "    (() => {\n",
              "      let quickchartButtonEl =\n",
              "        document.querySelector('#df-d6181796-946f-4ce5-8db3-360980f24e78 button');\n",
              "      quickchartButtonEl.style.display =\n",
              "        google.colab.kernel.accessAllowed ? 'block' : 'none';\n",
              "    })();\n",
              "  </script>\n",
              "</div>\n",
              "    </div>\n",
              "  </div>\n"
            ],
            "application/vnd.google.colaboratory.intrinsic+json": {
              "type": "dataframe",
              "variable_name": "df",
              "summary": "{\n  \"name\": \"df\",\n  \"rows\": 29664,\n  \"fields\": [\n    {\n      \"column\": \"Header\",\n      \"properties\": {\n        \"dtype\": \"string\",\n        \"num_unique_values\": 27352,\n        \"samples\": [\n          \"Arab Americans Face an Impossible Choice\",\n          \"Bolton's Offer to Testify Tests McConnell's Power\",\n          \"Big Tech Is Running National Security\"\n        ],\n        \"semantic_type\": \"\",\n        \"description\": \"\"\n      }\n    },\n    {\n      \"column\": \"Body\",\n      \"properties\": {\n        \"dtype\": \"string\",\n        \"num_unique_values\": 27391,\n        \"samples\": [\n          \"it\\u2019s available right now for PC version users. Minecraft maven Jens Bergensten (the game\\u2019s lead developer for the past four years) tweeted yesterday about a \\u201cdramatic feature, likely out in the next snapshot.\\u201d Snapshots are Minecraft-speak for PC version game features you can fiddle with early, if you opt to ride Minecraft\\u2018s \\u201cexperimental\\u201d update train. Bergensten followed with a shot of the new feature in motion, calling it a \\u201cwork in progress.\\u201d When you\\u2019re on the ground, the cape folds up, and you can\\u2019t craft it\\u2013it\\u2019s a finders-only thing. But if you do manage to unearth one, Bergensten teases you can use it to \\u201cfly past the bad guys who are all shooting you with surprisingly bad accuracy, swoop down and land flawlessly into a strategically placed boat and then paddle away at moderately high speeds with the stolen prize pig in the back.\\u201d \",\n          \"Cleveland Browns quarterback Johnny Manziel has been released from a drug and alcohol rehabilitation facility and will return to practice, according to multiple reports. ESPN and the Associated Press, citing anonymous sources, report that the 22-year-old Heisman Trophy winner is expected to start off-season workouts later this month. Manziel entered treatment at the end of January following his rookie season in the NFL. Browns left tackle Joe Thomas told ESPN this week that Manziel had lost the trust of his teammates through his behavior, but Thomas added that Manziel checking himself into rehab was a \\u201creally positive\\u201d step. Manziel will compete with veteran Josh McCown for the QB job this year. \\u201cI\\u2019m hoping when we come back in April we see a new Johnny and everybody\\u2019s blown away with his commitment,\\u201d said Thomas. \\u201cAnd I think he\\u2019s got the talent, so it\\u2019s just a matter of if he commits himself to it, we can have a really good quarterback on our hands.\\u201d \",\n          \"Mac users, rejoice: Apple has fixed one of the things that has been most annoying you about your computer. The new beta version of the latest version of Apple\\u2019s OS X has gotten rid of discoveryd, a process which many users complained caused them to lose Wi-Fi access, among other problems, 9to5Mac.com reports. Future versions of the system will revert to using a process from previous OS X versions. The final version of the new system, OS X 10.10.4, is expected to be released to the public in coming months. Apple is set to unveil more details about the new operating system at its Worldwide Developers\\u2019 Conference early next month. \"\n        ],\n        \"semantic_type\": \"\",\n        \"description\": \"\"\n      }\n    },\n    {\n      \"column\": \"Label\",\n      \"properties\": {\n        \"dtype\": \"category\",\n        \"num_unique_values\": 4,\n        \"samples\": [\n          \"Politics\",\n          \"Tech\",\n          \"Business\"\n        ],\n        \"semantic_type\": \"\",\n        \"description\": \"\"\n      }\n    }\n  ]\n}"
            }
          },
          "metadata": {},
          "execution_count": 15
        }
      ]
    },
    {
      "cell_type": "markdown",
      "source": [
        "#LSTM"
      ],
      "metadata": {
        "id": "Z78pm-fHoxdg"
      }
    },
    {
      "cell_type": "code",
      "source": [],
      "metadata": {
        "id": "eHHdyu9NjvCS"
      },
      "execution_count": 15,
      "outputs": []
    },
    {
      "cell_type": "code",
      "source": [
        "import tensorflow as tf\n",
        "from tensorflow.keras.preprocessing.text import Tokenizer\n",
        "from tensorflow.keras.preprocessing.sequence import pad_sequences\n",
        "from tensorflow.keras.callbacks import EarlyStopping\n",
        "from tensorflow.keras.models import Sequential\n",
        "from tensorflow.keras.layers import LSTM,Input, GRU, Dense, Embedding, Dropout, GlobalAveragePooling1D, Flatten, SpatialDropout1D, Bidirectional\n",
        "from tensorflow.keras.optimizers import Adam,SGD"
      ],
      "metadata": {
        "id": "Loz4uLsAquS5"
      },
      "execution_count": 16,
      "outputs": []
    },
    {
      "cell_type": "code",
      "source": [
        "df.info()"
      ],
      "metadata": {
        "colab": {
          "base_uri": "https://localhost:8080/"
        },
        "id": "YOvnYfK5o5yf",
        "outputId": "8d0c27ba-84b0-4f20-b64b-e0e608a6d95b"
      },
      "execution_count": 17,
      "outputs": [
        {
          "output_type": "stream",
          "name": "stdout",
          "text": [
            "<class 'pandas.core.frame.DataFrame'>\n",
            "Index: 29664 entries, 0 to 1149\n",
            "Data columns (total 3 columns):\n",
            " #   Column  Non-Null Count  Dtype \n",
            "---  ------  --------------  ----- \n",
            " 0   Header  29664 non-null  object\n",
            " 1   Body    29664 non-null  object\n",
            " 2   Label   29664 non-null  object\n",
            "dtypes: object(3)\n",
            "memory usage: 927.0+ KB\n"
          ]
        }
      ]
    },
    {
      "cell_type": "code",
      "source": [
        "df_train, df_val = train_test_split(df, test_size=0.2, random_state=42, shuffle=True)"
      ],
      "metadata": {
        "id": "I8BTc84Co8-1"
      },
      "execution_count": 18,
      "outputs": []
    },
    {
      "cell_type": "code",
      "source": [
        "# prepare train data\n",
        "df_train['CONTEXT'] = df_train['Header'] + \". \" + df_train['Body']\n",
        "# one-hot-encoding\n",
        "label_dummies = pd.get_dummies(df_train['Label'], prefix='Label').astype(int)\n",
        "df_train = pd.concat([df_train, label_dummies], axis=1)\n",
        "df_train.drop(['Header','Body','Label'], axis=1, inplace=True)\n",
        "df_train.info()\n",
        "\n",
        "\n",
        "# prepare validation data\n",
        "df_val['CONTEXT'] = df_val['Header'] + \". \" + df_val['Body']\n",
        "label_dummies = pd.get_dummies(df_val['Label'], prefix='Label').astype(int)\n",
        "df_val = pd.concat([df_val, label_dummies], axis=1)\n",
        "df_val.drop(['Header','Body','Label'], axis=1, inplace=True)"
      ],
      "metadata": {
        "colab": {
          "base_uri": "https://localhost:8080/"
        },
        "id": "pl1n7O5Tp9TL",
        "outputId": "b8089f18-297e-4952-d285-7ab8656a7f40"
      },
      "execution_count": 19,
      "outputs": [
        {
          "output_type": "stream",
          "name": "stdout",
          "text": [
            "<class 'pandas.core.frame.DataFrame'>\n",
            "Index: 23731 entries, 6620 to 23655\n",
            "Data columns (total 5 columns):\n",
            " #   Column          Non-Null Count  Dtype \n",
            "---  ------          --------------  ----- \n",
            " 0   CONTEXT         23731 non-null  object\n",
            " 1   Label_Business  23731 non-null  int64 \n",
            " 2   Label_Politics  23731 non-null  int64 \n",
            " 3   Label_Sport     23731 non-null  int64 \n",
            " 4   Label_Tech      23731 non-null  int64 \n",
            "dtypes: int64(4), object(1)\n",
            "memory usage: 1.1+ MB\n"
          ]
        }
      ]
    },
    {
      "cell_type": "code",
      "source": [
        "X_train=df_train[\"CONTEXT\"]\n",
        "y_train=df_train.drop(\"CONTEXT\",axis=1)\n",
        "\n",
        "X_val=df_val[\"CONTEXT\"]\n",
        "y_val=df_val.drop(\"CONTEXT\",axis=1)"
      ],
      "metadata": {
        "id": "wyd27LWvtsCp"
      },
      "execution_count": 20,
      "outputs": []
    },
    {
      "cell_type": "code",
      "source": [
        "# y_train"
      ],
      "metadata": {
        "id": "-BT9xUwsGsGg"
      },
      "execution_count": 21,
      "outputs": []
    },
    {
      "cell_type": "code",
      "source": [
        "max_len = 512\n",
        "trunc_type = 'post'\n",
        "padding_type = 'post'\n",
        "oov_tok = '<OOV>' # out of vocabulary token\n",
        "vocab_size = 1000"
      ],
      "metadata": {
        "id": "86xrj791qgYk"
      },
      "execution_count": 22,
      "outputs": []
    },
    {
      "cell_type": "code",
      "source": [
        "tokenizer1 = Tokenizer(num_words = vocab_size,\n",
        "                      char_level = False,\n",
        "                      oov_token = oov_tok)\n",
        "tokenizer1.fit_on_texts(X_train)"
      ],
      "metadata": {
        "id": "84p-XyjNrsbc"
      },
      "execution_count": 75,
      "outputs": []
    },
    {
      "cell_type": "code",
      "source": [
        "word_index = tokenizer.word_index\n",
        "total_words = len(word_index)\n",
        "total_words"
      ],
      "metadata": {
        "colab": {
          "base_uri": "https://localhost:8080/"
        },
        "id": "pjLjT4AjtDcl",
        "outputId": "2e9eebc0-eb61-44c3-93a6-0485ac58c266"
      },
      "execution_count": 24,
      "outputs": [
        {
          "output_type": "execute_result",
          "data": {
            "text/plain": [
              "167129"
            ]
          },
          "metadata": {},
          "execution_count": 24
        }
      ]
    },
    {
      "cell_type": "code",
      "source": [
        "training_sequences = tokenizer.texts_to_sequences(X_train)"
      ],
      "metadata": {
        "id": "2YROIIS6tK6a"
      },
      "execution_count": 25,
      "outputs": []
    },
    {
      "cell_type": "code",
      "source": [
        "# num_tokens_per_instance = [len(sequence) for sequence in training_sequences]\n",
        "# min(num_tokens_per_instance)"
      ],
      "metadata": {
        "id": "dRp9ooPrGUUp"
      },
      "execution_count": 26,
      "outputs": []
    },
    {
      "cell_type": "code",
      "source": [
        "training_padded = pad_sequences(training_sequences,\n",
        "                                maxlen = max_len,\n",
        "                                padding = padding_type,\n",
        "                                truncating = trunc_type)"
      ],
      "metadata": {
        "id": "tcDlSIn2uMep"
      },
      "execution_count": 27,
      "outputs": []
    },
    {
      "cell_type": "code",
      "source": [
        "# num_tokens_per_instance = [len(sequence) for sequence in training_padded]\n",
        "# max(num_tokens_per_instance)"
      ],
      "metadata": {
        "id": "evCrRsrBIZ5L"
      },
      "execution_count": 28,
      "outputs": []
    },
    {
      "cell_type": "code",
      "source": [
        "testing_sequences = tokenizer1.texts_to_sequences(X_val)\n",
        "testing_padded = pad_sequences(testing_sequences,\n",
        "                               maxlen = max_len,\n",
        "                               padding = padding_type,\n",
        "                               truncating = trunc_type)"
      ],
      "metadata": {
        "id": "AQC_C427uY8l"
      },
      "execution_count": 29,
      "outputs": []
    },
    {
      "cell_type": "code",
      "source": [
        "# Model\n",
        "embedding_dim = 16\n",
        "n_lstm = 128\n",
        "drop_lstm = 0.2\n",
        "\n",
        "model1 = Sequential()\n",
        "model1.add(Embedding(vocab_size, embedding_dim, input_length=max_len))\n",
        "model1.add(SpatialDropout1D(drop_lstm))\n",
        "model1.add(LSTM(n_lstm, return_sequences=False))\n",
        "model1.add(Dropout(drop_lstm))\n",
        "model1.add(Dense(4, activation='softmax'))"
      ],
      "metadata": {
        "id": "0aQ3hvAXuf7B"
      },
      "execution_count": 30,
      "outputs": []
    },
    {
      "cell_type": "code",
      "source": [
        "model1.summary()"
      ],
      "metadata": {
        "colab": {
          "base_uri": "https://localhost:8080/"
        },
        "id": "DWIVebiiytw2",
        "outputId": "63f452cd-c704-4304-cafe-8b72281dd13a"
      },
      "execution_count": 31,
      "outputs": [
        {
          "output_type": "stream",
          "name": "stdout",
          "text": [
            "Model: \"sequential\"\n",
            "_________________________________________________________________\n",
            " Layer (type)                Output Shape              Param #   \n",
            "=================================================================\n",
            " embedding (Embedding)       (None, 512, 16)           16000     \n",
            "                                                                 \n",
            " spatial_dropout1d (Spatial  (None, 512, 16)           0         \n",
            " Dropout1D)                                                      \n",
            "                                                                 \n",
            " lstm (LSTM)                 (None, 128)               74240     \n",
            "                                                                 \n",
            " dropout (Dropout)           (None, 128)               0         \n",
            "                                                                 \n",
            " dense (Dense)               (None, 4)                 516       \n",
            "                                                                 \n",
            "=================================================================\n",
            "Total params: 90756 (354.52 KB)\n",
            "Trainable params: 90756 (354.52 KB)\n",
            "Non-trainable params: 0 (0.00 Byte)\n",
            "_________________________________________________________________\n"
          ]
        }
      ]
    },
    {
      "cell_type": "code",
      "source": [
        "model1.compile(loss = 'categorical_crossentropy', optimizer =Adam(learning_rate=0.001), metrics = ['accuracy'])"
      ],
      "metadata": {
        "id": "wV4sPvXPyv6s"
      },
      "execution_count": 32,
      "outputs": []
    },
    {
      "cell_type": "code",
      "source": [
        "num_epochs = 100\n",
        "early_stop = EarlyStopping(monitor='val_accuracy',min_delta=0.01, patience=7)\n",
        "history = model1.fit(training_padded,\n",
        "                     y_train,\n",
        "                     epochs=num_epochs,\n",
        "                     validation_split=0.2,\n",
        "                     callbacks=[early_stop],\n",
        "                     verbose=2)"
      ],
      "metadata": {
        "colab": {
          "base_uri": "https://localhost:8080/"
        },
        "id": "wa_1GQplzfPO",
        "outputId": "d79f5d7c-211d-49a3-ae56-1fbe1bb590b0"
      },
      "execution_count": 33,
      "outputs": [
        {
          "output_type": "stream",
          "name": "stdout",
          "text": [
            "Epoch 1/100\n",
            "594/594 - 35s - loss: 1.2901 - accuracy: 0.3759 - val_loss: 1.2782 - val_accuracy: 0.3941 - 35s/epoch - 59ms/step\n",
            "Epoch 2/100\n",
            "594/594 - 16s - loss: 1.2551 - accuracy: 0.4070 - val_loss: 1.3402 - val_accuracy: 0.2949 - 16s/epoch - 27ms/step\n",
            "Epoch 3/100\n",
            "594/594 - 14s - loss: 1.1828 - accuracy: 0.4447 - val_loss: 1.0454 - val_accuracy: 0.4913 - 14s/epoch - 23ms/step\n",
            "Epoch 4/100\n",
            "594/594 - 13s - loss: 1.1068 - accuracy: 0.4875 - val_loss: 1.0302 - val_accuracy: 0.5001 - 13s/epoch - 22ms/step\n",
            "Epoch 5/100\n",
            "594/594 - 13s - loss: 1.0820 - accuracy: 0.5035 - val_loss: 1.1063 - val_accuracy: 0.5102 - 13s/epoch - 21ms/step\n",
            "Epoch 6/100\n",
            "594/594 - 12s - loss: 1.0838 - accuracy: 0.5094 - val_loss: 1.1137 - val_accuracy: 0.5277 - 12s/epoch - 20ms/step\n",
            "Epoch 7/100\n",
            "594/594 - 12s - loss: 1.0773 - accuracy: 0.4969 - val_loss: 0.9362 - val_accuracy: 0.5681 - 12s/epoch - 21ms/step\n",
            "Epoch 8/100\n",
            "594/594 - 13s - loss: 0.9838 - accuracy: 0.5359 - val_loss: 0.9151 - val_accuracy: 0.5559 - 13s/epoch - 23ms/step\n",
            "Epoch 9/100\n",
            "594/594 - 13s - loss: 0.8829 - accuracy: 0.5755 - val_loss: 0.8674 - val_accuracy: 0.5964 - 13s/epoch - 22ms/step\n",
            "Epoch 10/100\n",
            "594/594 - 13s - loss: 0.7888 - accuracy: 0.6276 - val_loss: 0.7664 - val_accuracy: 0.6130 - 13s/epoch - 22ms/step\n",
            "Epoch 11/100\n",
            "594/594 - 14s - loss: 0.7985 - accuracy: 0.6231 - val_loss: 0.7198 - val_accuracy: 0.6541 - 14s/epoch - 23ms/step\n",
            "Epoch 12/100\n",
            "594/594 - 12s - loss: 0.7054 - accuracy: 0.6525 - val_loss: 0.6630 - val_accuracy: 0.6899 - 12s/epoch - 21ms/step\n",
            "Epoch 13/100\n",
            "594/594 - 12s - loss: 0.6538 - accuracy: 0.6706 - val_loss: 0.6533 - val_accuracy: 0.6918 - 12s/epoch - 21ms/step\n",
            "Epoch 14/100\n",
            "594/594 - 12s - loss: 0.6403 - accuracy: 0.6761 - val_loss: 0.6251 - val_accuracy: 0.6964 - 12s/epoch - 20ms/step\n",
            "Epoch 15/100\n",
            "594/594 - 12s - loss: 0.6376 - accuracy: 0.6859 - val_loss: 0.6474 - val_accuracy: 0.6817 - 12s/epoch - 21ms/step\n",
            "Epoch 16/100\n",
            "594/594 - 12s - loss: 0.6011 - accuracy: 0.6955 - val_loss: 0.5995 - val_accuracy: 0.7059 - 12s/epoch - 21ms/step\n",
            "Epoch 17/100\n",
            "594/594 - 13s - loss: 0.5982 - accuracy: 0.7045 - val_loss: 0.6172 - val_accuracy: 0.7101 - 13s/epoch - 21ms/step\n",
            "Epoch 18/100\n",
            "594/594 - 12s - loss: 0.5949 - accuracy: 0.7053 - val_loss: 0.5892 - val_accuracy: 0.7230 - 12s/epoch - 21ms/step\n",
            "Epoch 19/100\n",
            "594/594 - 12s - loss: 0.5686 - accuracy: 0.7219 - val_loss: 0.5699 - val_accuracy: 0.7447 - 12s/epoch - 20ms/step\n",
            "Epoch 20/100\n",
            "594/594 - 13s - loss: 0.5699 - accuracy: 0.7257 - val_loss: 0.5574 - val_accuracy: 0.7440 - 13s/epoch - 22ms/step\n",
            "Epoch 21/100\n",
            "594/594 - 12s - loss: 0.5533 - accuracy: 0.7389 - val_loss: 0.5648 - val_accuracy: 0.7514 - 12s/epoch - 21ms/step\n",
            "Epoch 22/100\n",
            "594/594 - 12s - loss: 0.5481 - accuracy: 0.7491 - val_loss: 0.5484 - val_accuracy: 0.7670 - 12s/epoch - 21ms/step\n",
            "Epoch 23/100\n",
            "594/594 - 12s - loss: 0.5395 - accuracy: 0.7599 - val_loss: 0.5442 - val_accuracy: 0.7681 - 12s/epoch - 20ms/step\n",
            "Epoch 24/100\n",
            "594/594 - 12s - loss: 0.5251 - accuracy: 0.7715 - val_loss: 0.5390 - val_accuracy: 0.7601 - 12s/epoch - 21ms/step\n",
            "Epoch 25/100\n",
            "594/594 - 12s - loss: 0.5039 - accuracy: 0.7853 - val_loss: 0.5233 - val_accuracy: 0.7898 - 12s/epoch - 21ms/step\n",
            "Epoch 26/100\n",
            "594/594 - 12s - loss: 0.4955 - accuracy: 0.7910 - val_loss: 0.5057 - val_accuracy: 0.7973 - 12s/epoch - 21ms/step\n",
            "Epoch 27/100\n",
            "594/594 - 12s - loss: 0.5098 - accuracy: 0.7841 - val_loss: 0.5139 - val_accuracy: 0.7957 - 12s/epoch - 20ms/step\n",
            "Epoch 28/100\n",
            "594/594 - 13s - loss: 0.4821 - accuracy: 0.7990 - val_loss: 0.4975 - val_accuracy: 0.8013 - 13s/epoch - 22ms/step\n",
            "Epoch 29/100\n",
            "594/594 - 13s - loss: 0.4643 - accuracy: 0.8067 - val_loss: 0.4831 - val_accuracy: 0.8102 - 13s/epoch - 22ms/step\n",
            "Epoch 30/100\n",
            "594/594 - 13s - loss: 0.4535 - accuracy: 0.8093 - val_loss: 0.4783 - val_accuracy: 0.8098 - 13s/epoch - 22ms/step\n",
            "Epoch 31/100\n",
            "594/594 - 12s - loss: 0.4422 - accuracy: 0.8186 - val_loss: 0.4851 - val_accuracy: 0.8104 - 12s/epoch - 21ms/step\n",
            "Epoch 32/100\n",
            "594/594 - 13s - loss: 0.4349 - accuracy: 0.8186 - val_loss: 0.4902 - val_accuracy: 0.7948 - 13s/epoch - 22ms/step\n",
            "Epoch 33/100\n",
            "594/594 - 13s - loss: 0.4305 - accuracy: 0.8205 - val_loss: 0.4774 - val_accuracy: 0.8157 - 13s/epoch - 21ms/step\n",
            "Epoch 34/100\n",
            "594/594 - 12s - loss: 0.4236 - accuracy: 0.8223 - val_loss: 0.4735 - val_accuracy: 0.8180 - 12s/epoch - 20ms/step\n",
            "Epoch 35/100\n",
            "594/594 - 12s - loss: 0.4161 - accuracy: 0.8241 - val_loss: 0.4689 - val_accuracy: 0.8153 - 12s/epoch - 19ms/step\n",
            "Epoch 36/100\n",
            "594/594 - 12s - loss: 0.4066 - accuracy: 0.8288 - val_loss: 0.4686 - val_accuracy: 0.8138 - 12s/epoch - 20ms/step\n",
            "Epoch 37/100\n",
            "594/594 - 12s - loss: 0.4099 - accuracy: 0.8270 - val_loss: 0.4662 - val_accuracy: 0.8153 - 12s/epoch - 20ms/step\n",
            "Epoch 38/100\n",
            "594/594 - 12s - loss: 0.3982 - accuracy: 0.8284 - val_loss: 0.4690 - val_accuracy: 0.8108 - 12s/epoch - 20ms/step\n",
            "Epoch 39/100\n",
            "594/594 - 12s - loss: 0.3934 - accuracy: 0.8340 - val_loss: 0.4659 - val_accuracy: 0.8146 - 12s/epoch - 21ms/step\n",
            "Epoch 40/100\n",
            "594/594 - 12s - loss: 0.3900 - accuracy: 0.8324 - val_loss: 0.4821 - val_accuracy: 0.8094 - 12s/epoch - 20ms/step\n"
          ]
        }
      ]
    },
    {
      "cell_type": "code",
      "source": [],
      "metadata": {
        "id": "V_WZmWc8ipBi"
      },
      "execution_count": 33,
      "outputs": []
    },
    {
      "cell_type": "code",
      "source": [
        "import numpy as np\n",
        "y_val_true=np.argmax(y_val,axis=1)"
      ],
      "metadata": {
        "id": "3Ix5gNnlcpzp"
      },
      "execution_count": 34,
      "outputs": []
    },
    {
      "cell_type": "code",
      "source": [
        "y_pred=model1.predict(testing_padded)\n"
      ],
      "metadata": {
        "colab": {
          "base_uri": "https://localhost:8080/"
        },
        "id": "JgTZ-8QmcKY_",
        "outputId": "2a461c6f-4d7c-441e-9b4b-1da7c5265e62"
      },
      "execution_count": 35,
      "outputs": [
        {
          "output_type": "stream",
          "name": "stdout",
          "text": [
            "186/186 [==============================] - 2s 8ms/step\n"
          ]
        }
      ]
    },
    {
      "cell_type": "code",
      "source": [
        "y_pred=np.argmax(y_pred,axis=1)"
      ],
      "metadata": {
        "id": "73e4KT3cgcwP"
      },
      "execution_count": 36,
      "outputs": []
    },
    {
      "cell_type": "code",
      "source": [
        "from sklearn.metrics import accuracy_score, confusion_matrix,classification_report,f1_score,precision_score,recall_score\n",
        "\n",
        "print(\"accuracy for validation data:\",accuracy_score(y_val_true,y_pred))\n",
        "confusion_matrix(y_val_true,y_pred)\n",
        "print(classification_report(y_val_true,y_pred))\n",
        "\n"
      ],
      "metadata": {
        "colab": {
          "base_uri": "https://localhost:8080/"
        },
        "id": "APHFlbnac618",
        "outputId": "f527e4ae-469c-42b9-bf42-192b846b3e3c"
      },
      "execution_count": 37,
      "outputs": [
        {
          "output_type": "stream",
          "name": "stdout",
          "text": [
            "accuracy for validation data: 0.7906623967638632\n",
            "              precision    recall  f1-score   support\n",
            "\n",
            "           0       0.65      0.75      0.70      1621\n",
            "           1       0.91      0.93      0.92      1695\n",
            "           2       0.90      0.88      0.89       912\n",
            "           3       0.75      0.65      0.70      1705\n",
            "\n",
            "    accuracy                           0.79      5933\n",
            "   macro avg       0.81      0.80      0.80      5933\n",
            "weighted avg       0.79      0.79      0.79      5933\n",
            "\n"
          ]
        }
      ]
    },
    {
      "cell_type": "code",
      "source": [
        "tr_acc = history.history['accuracy']\n",
        "tr_loss = history.history['loss']\n",
        "val_acc = history.history['val_accuracy']\n",
        "val_loss = history.history['val_loss']\n",
        "\n",
        "epochs = [i+1 for i in range(len(tr_acc))]\n",
        "\n",
        "plt.figure(figsize=(20, 8))\n",
        "plt.subplot(1, 2, 1)\n",
        "plt.plot(epochs, tr_loss, 'r', label='Train Loss')\n",
        "plt.plot(epochs, val_loss, 'g', label='Valid Loss')\n",
        "plt.title('Loss')\n",
        "plt.legend()\n",
        "plt.xlabel('Epochs')\n",
        "plt.ylabel('Loss')\n",
        "\n",
        "plt.subplot(1, 2, 2)\n",
        "plt.plot(epochs, tr_acc, 'r', label='Train Accuracy')\n",
        "plt.plot(epochs, val_acc, 'g', label='Valid Accuracy')\n",
        "plt.title('Accuracy')\n",
        "plt.legend()\n",
        "plt.xlabel('Epochs')\n",
        "plt.ylabel('Accuracy')\n",
        "\n",
        "plt.tight_layout()\n",
        "plt.show()"
      ],
      "metadata": {
        "colab": {
          "base_uri": "https://localhost:8080/",
          "height": 508
        },
        "id": "mxFPQ5LdkltG",
        "outputId": "9753a4e6-e93d-4861-c396-b00618227ce4"
      },
      "execution_count": 38,
      "outputs": [
        {
          "output_type": "display_data",
          "data": {
            "text/plain": [
              "<Figure size 2000x800 with 2 Axes>"
            ],
            "image/png": "[encoded data removed]"
          },
          "metadata": {}
        }
      ]
    },
    {
      "cell_type": "code",
      "source": [
        "text=[\"\"\"Senator Tim Kaine, a former vice-presidential nominee and leading foreign policy voice in the Democratic party, has said Joe Biden now understands that Benjamin Netanyahu “played” him during the early months of the war in Gaza but “that ain’t going to happen any more”.\n",
        "\n",
        "In an interview with the Guardian on Tuesday, Kaine accused the prime minister of making Israel “dramatically less safe” and hurting its longstanding relationship with the US, and said the US president had come to realise the limits of his influence.\n",
        "\n",
        "The Democratic senator for Virginia is best known nationally as Hillary Clinton’s running mate in the 2016 presidential election, a race they lost to Republicans Donald Trump and Mike Pence. The Biden ally is a member of the Senate foreign relations and armed services committees.\n",
        "\n",
        "Kaine has repeatedly reiterated his backing for Israel’s right to defend itself against Hamas following the terrorist attack six months ago that killed 1,200 people, mostly civilians, and took about 250 people hostage. But he has joined other Democrats in expressing growing consternation over a hardline military response that has killed more than 33,000 Palestinians, according to the Gaza health ministry, and spurred a looming famine.\n",
        "\n",
        "Biden embraced Netanyahu early in the conflict but had little to show for it as Israel continued to rain bombs on Gaza, causing mass displacement, threats of famine and disease and, last week, the deaths of seven World Central Kitchen aid workers. Protesters have condemned Biden for miscalculating the extent of his sway over Netanyahu.\"\"\"]\n",
        "\n",
        "text_seq = tokenizer.texts_to_sequences(text)\n",
        "text_padded = pad_sequences(text_seq,\n",
        "                               maxlen = max_len,\n",
        "                               padding = padding_type,\n",
        "                               truncating = trunc_type)"
      ],
      "metadata": {
        "id": "QtzawHb6Pf-M"
      },
      "execution_count": 39,
      "outputs": []
    },
    {
      "cell_type": "code",
      "source": [
        "y_pred_text=model1.predict(text_padded)\n",
        "y_pred_text"
      ],
      "metadata": {
        "colab": {
          "base_uri": "https://localhost:8080/"
        },
        "id": "LZgPoy5IQ6Qw",
        "outputId": "65fb80fc-c89a-4ea5-fbe8-d2f27faaec74"
      },
      "execution_count": 40,
      "outputs": [
        {
          "output_type": "stream",
          "name": "stdout",
          "text": [
            "1/1 [==============================] - 0s 40ms/step\n"
          ]
        },
        {
          "output_type": "execute_result",
          "data": {
            "text/plain": [
              "array([[1.2097409e-03, 9.9834669e-01, 2.6877501e-04, 1.7477204e-04]],\n",
              "      dtype=float32)"
            ]
          },
          "metadata": {},
          "execution_count": 40
        }
      ]
    },
    {
      "cell_type": "markdown",
      "source": [
        "#testing model1 on okite data"
      ],
      "metadata": {
        "id": "8tqc5Rf52vw0"
      }
    },
    {
      "cell_type": "code",
      "source": [
        "from google.colab import drive\n",
        "\n",
        "drive.mount('/content/drive')"
      ],
      "metadata": {
        "colab": {
          "base_uri": "https://localhost:8080/"
        },
        "id": "Hgh7iWlU5kfl",
        "outputId": "58acc5ba-fe86-431b-85bb-186fa63df542"
      },
      "execution_count": null,
      "outputs": [
        {
          "output_type": "stream",
          "name": "stdout",
          "text": [
            "Drive already mounted at /content/drive; to attempt to forcibly remount, call drive.mount(\"/content/drive\", force_remount=True).\n"
          ]
        }
      ]
    },
    {
      "cell_type": "code",
      "source": [
        "okite_data = pd.DataFrame(pd.read_excel('/content/drive/MyDrive/last quera project/okite_data_cleaned.xlsx'))"
      ],
      "metadata": {
        "id": "2J28WQHP2zQ5"
      },
      "execution_count": null,
      "outputs": []
    },
    {
      "cell_type": "code",
      "source": [
        "okite_data.info()"
      ],
      "metadata": {
        "colab": {
          "base_uri": "https://localhost:8080/"
        },
        "id": "nNRGLdw15wjW",
        "outputId": "50768944-0b60-465a-fdbb-131494abc74a"
      },
      "execution_count": null,
      "outputs": [
        {
          "output_type": "stream",
          "name": "stdout",
          "text": [
            "<class 'pandas.core.frame.DataFrame'>\n",
            "RangeIndex: 4418 entries, 0 to 4417\n",
            "Data columns (total 5 columns):\n",
            " #   Column       Non-Null Count  Dtype \n",
            "---  ------       --------------  ----- \n",
            " 0   Unnamed: 0   4418 non-null   int64 \n",
            " 1   headline     4418 non-null   object\n",
            " 2   description  4418 non-null   object\n",
            " 3   label        4418 non-null   object\n",
            " 4   Label_split  4418 non-null   object\n",
            "dtypes: int64(1), object(4)\n",
            "memory usage: 172.7+ KB\n"
          ]
        }
      ]
    },
    {
      "cell_type": "code",
      "source": [
        "okite_data[\"CONTEXT\"]=okite_data[\"headline\"]+\". \"+okite_data[\"description\"]\n",
        "\n",
        "okite_data.drop([\"Unnamed: 0\",\"Label_split\",\"headline\",\"description\"],axis=1,inplace=True)\n",
        "okite_data.head()"
      ],
      "metadata": {
        "colab": {
          "base_uri": "https://localhost:8080/",
          "height": 206
        },
        "id": "7tOC10sy6Vo2",
        "outputId": "974045e8-1974-469e-b6be-c95d82b6f8eb"
      },
      "execution_count": null,
      "outputs": [
        {
          "output_type": "execute_result",
          "data": {
            "text/plain": [
              "      label                                            CONTEXT\n",
              "0     Sport  Uefa Opens Proceedings against Barcelona, Juve...\n",
              "1  Business  Amazon Blames Inflation as It Increases Cost o...\n",
              "2  Politics  Nigeria’s Parliament Passes Amended Electoral ...\n",
              "3  Politics  South Africa Calls For Calm as Electoral Refor...\n",
              "4     Sport  Guardiola To Leave Man City When Contract Expi..."
            ],
            "text/html": [
              "\n",
              "  <div id=\"df-7dcc5645-45b0-42a3-9cdd-f61a00b6434c\" class=\"colab-df-container\">\n",
              "    <div>\n",
              "<style scoped>\n",
              "    .dataframe tbody tr th:only-of-type {\n",
              "        vertical-align: middle;\n",
              "    }\n",
              "\n",
              "    .dataframe tbody tr th {\n",
              "        vertical-align: top;\n",
              "    }\n",
              "\n",
              "    .dataframe thead th {\n",
              "        text-align: right;\n",
              "    }\n",
              "</style>\n",
              "<table border=\"1\" class=\"dataframe\">\n",
              "  <thead>\n",
              "    <tr style=\"text-align: right;\">\n",
              "      <th></th>\n",
              "      <th>label</th>\n",
              "      <th>CONTEXT</th>\n",
              "    </tr>\n",
              "  </thead>\n",
              "  <tbody>\n",
              "    <tr>\n",
              "      <th>0</th>\n",
              "      <td>Sport</td>\n",
              "      <td>Uefa Opens Proceedings against Barcelona, Juve...</td>\n",
              "    </tr>\n",
              "    <tr>\n",
              "      <th>1</th>\n",
              "      <td>Business</td>\n",
              "      <td>Amazon Blames Inflation as It Increases Cost o...</td>\n",
              "    </tr>\n",
              "    <tr>\n",
              "      <th>2</th>\n",
              "      <td>Politics</td>\n",
              "      <td>Nigeria’s Parliament Passes Amended Electoral ...</td>\n",
              "    </tr>\n",
              "    <tr>\n",
              "      <th>3</th>\n",
              "      <td>Politics</td>\n",
              "      <td>South Africa Calls For Calm as Electoral Refor...</td>\n",
              "    </tr>\n",
              "    <tr>\n",
              "      <th>4</th>\n",
              "      <td>Sport</td>\n",
              "      <td>Guardiola To Leave Man City When Contract Expi...</td>\n",
              "    </tr>\n",
              "  </tbody>\n",
              "</table>\n",
              "</div>\n",
              "    <div class=\"colab-df-buttons\">\n",
              "\n",
              "  <div class=\"colab-df-container\">\n",
              "    <button class=\"colab-df-convert\" onclick=\"convertToInteractive('df-7dcc5645-45b0-42a3-9cdd-f61a00b6434c')\"\n",
              "            title=\"Convert this dataframe to an interactive table.\"\n",
              "            style=\"display:none;\">\n",
              "\n",
              "  <svg xmlns=\"http://www.w3.org/2000/svg\" height=\"24px\" viewBox=\"0 -960 960 960\">\n",
              "    <path d=\"M120-120v-720h720v720H120Zm60-500h600v-160H180v160Zm220 220h160v-160H400v160Zm0 220h160v-160H400v160ZM180-400h160v-160H180v160Zm440 0h160v-160H620v160ZM180-180h160v-160H180v160Zm440 0h160v-160H620v160Z\"/>\n",
              "  </svg>\n",
              "    </button>\n",
              "\n",
              "  <style>\n",
              "    .colab-df-container {\n",
              "      display:flex;\n",
              "      gap: 12px;\n",
              "    }\n",
              "\n",
              "    .colab-df-convert {\n",
              "      background-color: #E8F0FE;\n",
              "      border: none;\n",
              "      border-radius: 50%;\n",
              "      cursor: pointer;\n",
              "      display: none;\n",
              "      fill: #1967D2;\n",
              "      height: 32px;\n",
              "      padding: 0 0 0 0;\n",
              "      width: 32px;\n",
              "    }\n",
              "\n",
              "    .colab-df-convert:hover {\n",
              "      background-color: #E2EBFA;\n",
              "      box-shadow: 0px 1px 2px rgba(60, 64, 67, 0.3), 0px 1px 3px 1px rgba(60, 64, 67, 0.15);\n",
              "      fill: #174EA6;\n",
              "    }\n",
              "\n",
              "    .colab-df-buttons div {\n",
              "      margin-bottom: 4px;\n",
              "    }\n",
              "\n",
              "    [theme=dark] .colab-df-convert {\n",
              "      background-color: #3B4455;\n",
              "      fill: #D2E3FC;\n",
              "    }\n",
              "\n",
              "    [theme=dark] .colab-df-convert:hover {\n",
              "      background-color: #434B5C;\n",
              "      box-shadow: 0px 1px 3px 1px rgba(0, 0, 0, 0.15);\n",
              "      filter: drop-shadow(0px 1px 2px rgba(0, 0, 0, 0.3));\n",
              "      fill: #FFFFFF;\n",
              "    }\n",
              "  </style>\n",
              "\n",
              "    <script>\n",
              "      const buttonEl =\n",
              "        document.querySelector('#df-7dcc5645-45b0-42a3-9cdd-f61a00b6434c button.colab-df-convert');\n",
              "      buttonEl.style.display =\n",
              "        google.colab.kernel.accessAllowed ? 'block' : 'none';\n",
              "\n",
              "      async function convertToInteractive(key) {\n",
              "        const element = document.querySelector('#df-7dcc5645-45b0-42a3-9cdd-f61a00b6434c');\n",
              "        const dataTable =\n",
              "          await google.colab.kernel.invokeFunction('convertToInteractive',\n",
              "                                                    [key], {});\n",
              "        if (!dataTable) return;\n",
              "\n",
              "        const docLinkHtml = 'Like what you see? Visit the ' +\n",
              "          '<a target=\"_blank\" href=https://colab.research.google.com/notebooks/data_table.ipynb>data table notebook</a>'\n",
              "          + ' to learn more about interactive tables.';\n",
              "        element.innerHTML = '';\n",
              "        dataTable['output_type'] = 'display_data';\n",
              "        await google.colab.output.renderOutput(dataTable, element);\n",
              "        const docLink = document.createElement('div');\n",
              "        docLink.innerHTML = docLinkHtml;\n",
              "        element.appendChild(docLink);\n",
              "      }\n",
              "    </script>\n",
              "  </div>\n",
              "\n",
              "\n",
              "<div id=\"df-8f37c10c-7f37-41e9-9a7b-557ccd9d86b0\">\n",
              "  <button class=\"colab-df-quickchart\" onclick=\"quickchart('df-8f37c10c-7f37-41e9-9a7b-557ccd9d86b0')\"\n",
              "            title=\"Suggest charts\"\n",
              "            style=\"display:none;\">\n",
              "\n",
              "<svg xmlns=\"http://www.w3.org/2000/svg\" height=\"24px\"viewBox=\"0 0 24 24\"\n",
              "     width=\"24px\">\n",
              "    <g>\n",
              "        <path d=\"M19 3H5c-1.1 0-2 .9-2 2v14c0 1.1.9 2 2 2h14c1.1 0 2-.9 2-2V5c0-1.1-.9-2-2-2zM9 17H7v-7h2v7zm4 0h-2V7h2v10zm4 0h-2v-4h2v4z\"/>\n",
              "    </g>\n",
              "</svg>\n",
              "  </button>\n",
              "\n",
              "<style>\n",
              "  .colab-df-quickchart {\n",
              "      --bg-color: #E8F0FE;\n",
              "      --fill-color: #1967D2;\n",
              "      --hover-bg-color: #E2EBFA;\n",
              "      --hover-fill-color: #174EA6;\n",
              "      --disabled-fill-color: #AAA;\n",
              "      --disabled-bg-color: #DDD;\n",
              "  }\n",
              "\n",
              "  [theme=dark] .colab-df-quickchart {\n",
              "      --bg-color: #3B4455;\n",
              "      --fill-color: #D2E3FC;\n",
              "      --hover-bg-color: #434B5C;\n",
              "      --hover-fill-color: #FFFFFF;\n",
              "      --disabled-bg-color: #3B4455;\n",
              "      --disabled-fill-color: #666;\n",
              "  }\n",
              "\n",
              "  .colab-df-quickchart {\n",
              "    background-color: var(--bg-color);\n",
              "    border: none;\n",
              "    border-radius: 50%;\n",
              "    cursor: pointer;\n",
              "    display: none;\n",
              "    fill: var(--fill-color);\n",
              "    height: 32px;\n",
              "    padding: 0;\n",
              "    width: 32px;\n",
              "  }\n",
              "\n",
              "  .colab-df-quickchart:hover {\n",
              "    background-color: var(--hover-bg-color);\n",
              "    box-shadow: 0 1px 2px rgba(60, 64, 67, 0.3), 0 1px 3px 1px rgba(60, 64, 67, 0.15);\n",
              "    fill: var(--button-hover-fill-color);\n",
              "  }\n",
              "\n",
              "  .colab-df-quickchart-complete:disabled,\n",
              "  .colab-df-quickchart-complete:disabled:hover {\n",
              "    background-color: var(--disabled-bg-color);\n",
              "    fill: var(--disabled-fill-color);\n",
              "    box-shadow: none;\n",
              "  }\n",
              "\n",
              "  .colab-df-spinner {\n",
              "    border: 2px solid var(--fill-color);\n",
              "    border-color: transparent;\n",
              "    border-bottom-color: var(--fill-color);\n",
              "    animation:\n",
              "      spin 1s steps(1) infinite;\n",
              "  }\n",
              "\n",
              "  @keyframes spin {\n",
              "    0% {\n",
              "      border-color: transparent;\n",
              "      border-bottom-color: var(--fill-color);\n",
              "      border-left-color: var(--fill-color);\n",
              "    }\n",
              "    20% {\n",
              "      border-color: transparent;\n",
              "      border-left-color: var(--fill-color);\n",
              "      border-top-color: var(--fill-color);\n",
              "    }\n",
              "    30% {\n",
              "      border-color: transparent;\n",
              "      border-left-color: var(--fill-color);\n",
              "      border-top-color: var(--fill-color);\n",
              "      border-right-color: var(--fill-color);\n",
              "    }\n",
              "    40% {\n",
              "      border-color: transparent;\n",
              "      border-right-color: var(--fill-color);\n",
              "      border-top-color: var(--fill-color);\n",
              "    }\n",
              "    60% {\n",
              "      border-color: transparent;\n",
              "      border-right-color: var(--fill-color);\n",
              "    }\n",
              "    80% {\n",
              "      border-color: transparent;\n",
              "      border-right-color: var(--fill-color);\n",
              "      border-bottom-color: var(--fill-color);\n",
              "    }\n",
              "    90% {\n",
              "      border-color: transparent;\n",
              "      border-bottom-color: var(--fill-color);\n",
              "    }\n",
              "  }\n",
              "</style>\n",
              "\n",
              "  <script>\n",
              "    async function quickchart(key) {\n",
              "      const quickchartButtonEl =\n",
              "        document.querySelector('#' + key + ' button');\n",
              "      quickchartButtonEl.disabled = true;  // To prevent multiple clicks.\n",
              "      quickchartButtonEl.classList.add('colab-df-spinner');\n",
              "      try {\n",
              "        const charts = await google.colab.kernel.invokeFunction(\n",
              "            'suggestCharts', [key], {});\n",
              "      } catch (error) {\n",
              "        console.error('Error during call to suggestCharts:', error);\n",
              "      }\n",
              "      quickchartButtonEl.classList.remove('colab-df-spinner');\n",
              "      quickchartButtonEl.classList.add('colab-df-quickchart-complete');\n",
              "    }\n",
              "    (() => {\n",
              "      let quickchartButtonEl =\n",
              "        document.querySelector('#df-8f37c10c-7f37-41e9-9a7b-557ccd9d86b0 button');\n",
              "      quickchartButtonEl.style.display =\n",
              "        google.colab.kernel.accessAllowed ? 'block' : 'none';\n",
              "    })();\n",
              "  </script>\n",
              "</div>\n",
              "    </div>\n",
              "  </div>\n"
            ],
            "application/vnd.google.colaboratory.intrinsic+json": {
              "type": "dataframe",
              "variable_name": "okite_data",
              "summary": "{\n  \"name\": \"okite_data\",\n  \"rows\": 4418,\n  \"fields\": [\n    {\n      \"column\": \"label\",\n      \"properties\": {\n        \"dtype\": \"category\",\n        \"num_unique_values\": 4,\n        \"samples\": [\n          \"Business\",\n          \"Tech\",\n          \"Sport\"\n        ],\n        \"semantic_type\": \"\",\n        \"description\": \"\"\n      }\n    },\n    {\n      \"column\": \"CONTEXT\",\n      \"properties\": {\n        \"dtype\": \"string\",\n        \"num_unique_values\": 4272,\n        \"samples\": [\n          \"Champions League: Messi\\u2019s PSG to Face Man City, Champions Chelsea Play Ronaldo\\u2019s Juventus. Manchester City have been drawn against Paris Saint-Germain in group stages of the 2021-22 Champions League, setting up a possible\",\n          \"Airtel Africa to Publish Financial Statement October 23. In a notice posted on the Nigerian Stock Exchange, Airtel Africa, a leading provider of telecommunications and mobile money services,\",\n          \"Nigeria Can Earn $20bn Annually from Oil Palm: Edo Governor Obaseki. Edo State Governor, Mr. Godwin Obaseki, has reiterated the need for Nigeria to diversify its economy from crude oil, noting\"\n        ],\n        \"semantic_type\": \"\",\n        \"description\": \"\"\n      }\n    }\n  ]\n}"
            }
          },
          "metadata": {},
          "execution_count": 44
        }
      ]
    },
    {
      "cell_type": "code",
      "source": [
        "\n",
        "# one-hot-encoding\n",
        "label_dummies = pd.get_dummies(okite_data['label'], prefix='Label').astype(int)\n",
        "okite_data_clean = pd.concat([okite_data, label_dummies], axis=1)\n",
        "okite_data_clean.drop(['label'], axis=1, inplace=True)\n",
        "okite_data_clean.info()"
      ],
      "metadata": {
        "colab": {
          "base_uri": "https://localhost:8080/"
        },
        "id": "NN0svFhY5wLY",
        "outputId": "8ebca70c-eb32-4717-fe89-8e0966c5d061"
      },
      "execution_count": null,
      "outputs": [
        {
          "output_type": "stream",
          "name": "stdout",
          "text": [
            "<class 'pandas.core.frame.DataFrame'>\n",
            "RangeIndex: 4418 entries, 0 to 4417\n",
            "Data columns (total 5 columns):\n",
            " #   Column          Non-Null Count  Dtype \n",
            "---  ------          --------------  ----- \n",
            " 0   CONTEXT         4418 non-null   object\n",
            " 1   Label_Business  4418 non-null   int64 \n",
            " 2   Label_Politics  4418 non-null   int64 \n",
            " 3   Label_Sport     4418 non-null   int64 \n",
            " 4   Label_Tech      4418 non-null   int64 \n",
            "dtypes: int64(4), object(1)\n",
            "memory usage: 172.7+ KB\n"
          ]
        }
      ]
    },
    {
      "cell_type": "code",
      "source": [
        "okite_x=okite_data_clean[\"CONTEXT\"]\n",
        "okite_y=okite_data_clean.drop(\"CONTEXT\",axis=1)"
      ],
      "metadata": {
        "id": "IenSLtwx5wG8"
      },
      "execution_count": null,
      "outputs": []
    },
    {
      "cell_type": "code",
      "source": [
        "okite_sequences = tokenizer.texts_to_sequences(okite_x)\n",
        "okite_padded = pad_sequences(okite_sequences,\n",
        "                               maxlen = max_len,\n",
        "                               padding = padding_type,\n",
        "                               truncating = trunc_type)"
      ],
      "metadata": {
        "id": "qJydfjE168iV"
      },
      "execution_count": null,
      "outputs": []
    },
    {
      "cell_type": "code",
      "source": [
        "okite_y_pred=model1.predict(okite_padded)\n",
        "okite_y_pred=np.argmax(okite_y_pred,axis=1)"
      ],
      "metadata": {
        "colab": {
          "base_uri": "https://localhost:8080/"
        },
        "id": "_geWNZxD7YO-",
        "outputId": "14fecf6a-6b61-4515-a8f9-cfb554ed5665"
      },
      "execution_count": null,
      "outputs": [
        {
          "output_type": "stream",
          "name": "stdout",
          "text": [
            "139/139 [==============================] - 2s 13ms/step\n"
          ]
        }
      ]
    },
    {
      "cell_type": "code",
      "source": [
        "okite_y_true=np.argmax(okite_y,axis=1)"
      ],
      "metadata": {
        "id": "PAiIiO9y7lsq"
      },
      "execution_count": null,
      "outputs": []
    },
    {
      "cell_type": "code",
      "source": [
        "print(\"accuracy for okite data: \",accuracy_score(okite_y_true,okite_y_pred))\n",
        "print(classification_report(okite_y_true,okite_y_pred))"
      ],
      "metadata": {
        "colab": {
          "base_uri": "https://localhost:8080/"
        },
        "id": "rZ45yBZT7tAn",
        "outputId": "8df54988-7606-4f59-b8b9-cdb34005c6cd"
      },
      "execution_count": null,
      "outputs": [
        {
          "output_type": "stream",
          "name": "stdout",
          "text": [
            "accuracy for okite data:  0.7039384336803983\n",
            "              precision    recall  f1-score   support\n",
            "\n",
            "           0       0.73      0.58      0.65      1492\n",
            "           1       0.65      0.83      0.73      1263\n",
            "           2       0.78      0.81      0.79      1323\n",
            "           3       0.49      0.41      0.45       340\n",
            "\n",
            "    accuracy                           0.70      4418\n",
            "   macro avg       0.66      0.66      0.65      4418\n",
            "weighted avg       0.71      0.70      0.70      4418\n",
            "\n"
          ]
        }
      ]
    },
    {
      "cell_type": "markdown",
      "source": [
        "#testing model2 on okite data"
      ],
      "metadata": {
        "id": "RM0KNtG5-IB_"
      }
    },
    {
      "cell_type": "code",
      "source": [
        "okite_y_pred=model2.predict(okite_padded)\n",
        "okite_y_pred=np.argmax(okite_y_pred,axis=1)"
      ],
      "metadata": {
        "colab": {
          "base_uri": "https://localhost:8080/"
        },
        "outputId": "ccbe0d18-8de0-4543-f5e6-6d44d63f0c90",
        "id": "8x9XC_BE-TO-"
      },
      "execution_count": null,
      "outputs": [
        {
          "output_type": "stream",
          "name": "stdout",
          "text": [
            "139/139 [==============================] - 2s 14ms/step\n"
          ]
        }
      ]
    },
    {
      "cell_type": "code",
      "source": [
        "okite_y_true=np.argmax(okite_y,axis=1)"
      ],
      "metadata": {
        "id": "LEYLzJwG-TPC"
      },
      "execution_count": null,
      "outputs": []
    },
    {
      "cell_type": "code",
      "source": [
        "print(\"accuracy for okite data: \",accuracy_score(okite_y_true,okite_y_pred))\n",
        "print(classification_report(okite_y_true,okite_y_pred))"
      ],
      "metadata": {
        "colab": {
          "base_uri": "https://localhost:8080/"
        },
        "outputId": "4c905b0f-5231-48af-9fb1-c67f6d288dcd",
        "id": "CtWYgcIm-TPE"
      },
      "execution_count": null,
      "outputs": [
        {
          "output_type": "stream",
          "name": "stdout",
          "text": [
            "accuracy for okite data:  0.5153915799004074\n",
            "              precision    recall  f1-score   support\n",
            "\n",
            "           0       0.72      0.45      0.56      1492\n",
            "           1       0.89      0.34      0.49      1263\n",
            "           2       0.67      0.68      0.68      1323\n",
            "           3       0.17      0.81      0.27       340\n",
            "\n",
            "    accuracy                           0.52      4418\n",
            "   macro avg       0.61      0.57      0.50      4418\n",
            "weighted avg       0.71      0.52      0.55      4418\n",
            "\n"
          ]
        }
      ]
    },
    {
      "cell_type": "code",
      "source": [],
      "metadata": {
        "id": "9W4mPNcxM7cX"
      },
      "execution_count": null,
      "outputs": []
    },
    {
      "cell_type": "markdown",
      "source": [
        "# balanced +LSTM"
      ],
      "metadata": {
        "id": "IhOvU24IkNWQ"
      }
    },
    {
      "cell_type": "code",
      "source": [
        "df.head()"
      ],
      "metadata": {
        "colab": {
          "base_uri": "https://localhost:8080/",
          "height": 206
        },
        "id": "tY4IoEZFkZ2z",
        "outputId": "6d10e7f1-089f-484c-d328-2218a2396527"
      },
      "execution_count": null,
      "outputs": [
        {
          "output_type": "execute_result",
          "data": {
            "text/plain": [
              "                                              Header  \\\n",
              "0           Sam Bankman-Fried Faces 25 Years in Jail   \n",
              "1  Sam Bankman-Fried to be Sentenced for Defraudi...   \n",
              "2  India’s Income Inequality Is Now Worse Than Un...   \n",
              "3  Trump's Social Media Company Soars Nearly 50% ...   \n",
              "4            How Is Trump's New Firm Worth Billions?   \n",
              "\n",
              "                                                Body     Label  \n",
              "0  Sam Bankman-Fried, the former billionaire who ...  Business  \n",
              "1  Former crypto mogul Sam Bankman-Fried faces th...  Business  \n",
              "2  A new study from the World Inequality Lab find...  Business  \n",
              "3  Shares of Donald Trump’s social media company ...  Business  \n",
              "4  On the cusp of a financial crisis, Donald Trum...  Business  "
            ],
            "text/html": [
              "\n",
              "  <div id=\"df-7d130e82-4188-4cb3-9ea1-4391d8c6122f\" class=\"colab-df-container\">\n",
              "    <div>\n",
              "<style scoped>\n",
              "    .dataframe tbody tr th:only-of-type {\n",
              "        vertical-align: middle;\n",
              "    }\n",
              "\n",
              "    .dataframe tbody tr th {\n",
              "        vertical-align: top;\n",
              "    }\n",
              "\n",
              "    .dataframe thead th {\n",
              "        text-align: right;\n",
              "    }\n",
              "</style>\n",
              "<table border=\"1\" class=\"dataframe\">\n",
              "  <thead>\n",
              "    <tr style=\"text-align: right;\">\n",
              "      <th></th>\n",
              "      <th>Header</th>\n",
              "      <th>Body</th>\n",
              "      <th>Label</th>\n",
              "    </tr>\n",
              "  </thead>\n",
              "  <tbody>\n",
              "    <tr>\n",
              "      <th>0</th>\n",
              "      <td>Sam Bankman-Fried Faces 25 Years in Jail</td>\n",
              "      <td>Sam Bankman-Fried, the former billionaire who ...</td>\n",
              "      <td>Business</td>\n",
              "    </tr>\n",
              "    <tr>\n",
              "      <th>1</th>\n",
              "      <td>Sam Bankman-Fried to be Sentenced for Defraudi...</td>\n",
              "      <td>Former crypto mogul Sam Bankman-Fried faces th...</td>\n",
              "      <td>Business</td>\n",
              "    </tr>\n",
              "    <tr>\n",
              "      <th>2</th>\n",
              "      <td>India’s Income Inequality Is Now Worse Than Un...</td>\n",
              "      <td>A new study from the World Inequality Lab find...</td>\n",
              "      <td>Business</td>\n",
              "    </tr>\n",
              "    <tr>\n",
              "      <th>3</th>\n",
              "      <td>Trump's Social Media Company Soars Nearly 50% ...</td>\n",
              "      <td>Shares of Donald Trump’s social media company ...</td>\n",
              "      <td>Business</td>\n",
              "    </tr>\n",
              "    <tr>\n",
              "      <th>4</th>\n",
              "      <td>How Is Trump's New Firm Worth Billions?</td>\n",
              "      <td>On the cusp of a financial crisis, Donald Trum...</td>\n",
              "      <td>Business</td>\n",
              "    </tr>\n",
              "  </tbody>\n",
              "</table>\n",
              "</div>\n",
              "    <div class=\"colab-df-buttons\">\n",
              "\n",
              "  <div class=\"colab-df-container\">\n",
              "    <button class=\"colab-df-convert\" onclick=\"convertToInteractive('df-7d130e82-4188-4cb3-9ea1-4391d8c6122f')\"\n",
              "            title=\"Convert this dataframe to an interactive table.\"\n",
              "            style=\"display:none;\">\n",
              "\n",
              "  <svg xmlns=\"http://www.w3.org/2000/svg\" height=\"24px\" viewBox=\"0 -960 960 960\">\n",
              "    <path d=\"M120-120v-720h720v720H120Zm60-500h600v-160H180v160Zm220 220h160v-160H400v160Zm0 220h160v-160H400v160ZM180-400h160v-160H180v160Zm440 0h160v-160H620v160ZM180-180h160v-160H180v160Zm440 0h160v-160H620v160Z\"/>\n",
              "  </svg>\n",
              "    </button>\n",
              "\n",
              "  <style>\n",
              "    .colab-df-container {\n",
              "      display:flex;\n",
              "      gap: 12px;\n",
              "    }\n",
              "\n",
              "    .colab-df-convert {\n",
              "      background-color: #E8F0FE;\n",
              "      border: none;\n",
              "      border-radius: 50%;\n",
              "      cursor: pointer;\n",
              "      display: none;\n",
              "      fill: #1967D2;\n",
              "      height: 32px;\n",
              "      padding: 0 0 0 0;\n",
              "      width: 32px;\n",
              "    }\n",
              "\n",
              "    .colab-df-convert:hover {\n",
              "      background-color: #E2EBFA;\n",
              "      box-shadow: 0px 1px 2px rgba(60, 64, 67, 0.3), 0px 1px 3px 1px rgba(60, 64, 67, 0.15);\n",
              "      fill: #174EA6;\n",
              "    }\n",
              "\n",
              "    .colab-df-buttons div {\n",
              "      margin-bottom: 4px;\n",
              "    }\n",
              "\n",
              "    [theme=dark] .colab-df-convert {\n",
              "      background-color: #3B4455;\n",
              "      fill: #D2E3FC;\n",
              "    }\n",
              "\n",
              "    [theme=dark] .colab-df-convert:hover {\n",
              "      background-color: #434B5C;\n",
              "      box-shadow: 0px 1px 3px 1px rgba(0, 0, 0, 0.15);\n",
              "      filter: drop-shadow(0px 1px 2px rgba(0, 0, 0, 0.3));\n",
              "      fill: #FFFFFF;\n",
              "    }\n",
              "  </style>\n",
              "\n",
              "    <script>\n",
              "      const buttonEl =\n",
              "        document.querySelector('#df-7d130e82-4188-4cb3-9ea1-4391d8c6122f button.colab-df-convert');\n",
              "      buttonEl.style.display =\n",
              "        google.colab.kernel.accessAllowed ? 'block' : 'none';\n",
              "\n",
              "      async function convertToInteractive(key) {\n",
              "        const element = document.querySelector('#df-7d130e82-4188-4cb3-9ea1-4391d8c6122f');\n",
              "        const dataTable =\n",
              "          await google.colab.kernel.invokeFunction('convertToInteractive',\n",
              "                                                    [key], {});\n",
              "        if (!dataTable) return;\n",
              "\n",
              "        const docLinkHtml = 'Like what you see? Visit the ' +\n",
              "          '<a target=\"_blank\" href=https://colab.research.google.com/notebooks/data_table.ipynb>data table notebook</a>'\n",
              "          + ' to learn more about interactive tables.';\n",
              "        element.innerHTML = '';\n",
              "        dataTable['output_type'] = 'display_data';\n",
              "        await google.colab.output.renderOutput(dataTable, element);\n",
              "        const docLink = document.createElement('div');\n",
              "        docLink.innerHTML = docLinkHtml;\n",
              "        element.appendChild(docLink);\n",
              "      }\n",
              "    </script>\n",
              "  </div>\n",
              "\n",
              "\n",
              "<div id=\"df-87878750-14d7-42ec-8fe5-b860cf7c958e\">\n",
              "  <button class=\"colab-df-quickchart\" onclick=\"quickchart('df-87878750-14d7-42ec-8fe5-b860cf7c958e')\"\n",
              "            title=\"Suggest charts\"\n",
              "            style=\"display:none;\">\n",
              "\n",
              "<svg xmlns=\"http://www.w3.org/2000/svg\" height=\"24px\"viewBox=\"0 0 24 24\"\n",
              "     width=\"24px\">\n",
              "    <g>\n",
              "        <path d=\"M19 3H5c-1.1 0-2 .9-2 2v14c0 1.1.9 2 2 2h14c1.1 0 2-.9 2-2V5c0-1.1-.9-2-2-2zM9 17H7v-7h2v7zm4 0h-2V7h2v10zm4 0h-2v-4h2v4z\"/>\n",
              "    </g>\n",
              "</svg>\n",
              "  </button>\n",
              "\n",
              "<style>\n",
              "  .colab-df-quickchart {\n",
              "      --bg-color: #E8F0FE;\n",
              "      --fill-color: #1967D2;\n",
              "      --hover-bg-color: #E2EBFA;\n",
              "      --hover-fill-color: #174EA6;\n",
              "      --disabled-fill-color: #AAA;\n",
              "      --disabled-bg-color: #DDD;\n",
              "  }\n",
              "\n",
              "  [theme=dark] .colab-df-quickchart {\n",
              "      --bg-color: #3B4455;\n",
              "      --fill-color: #D2E3FC;\n",
              "      --hover-bg-color: #434B5C;\n",
              "      --hover-fill-color: #FFFFFF;\n",
              "      --disabled-bg-color: #3B4455;\n",
              "      --disabled-fill-color: #666;\n",
              "  }\n",
              "\n",
              "  .colab-df-quickchart {\n",
              "    background-color: var(--bg-color);\n",
              "    border: none;\n",
              "    border-radius: 50%;\n",
              "    cursor: pointer;\n",
              "    display: none;\n",
              "    fill: var(--fill-color);\n",
              "    height: 32px;\n",
              "    padding: 0;\n",
              "    width: 32px;\n",
              "  }\n",
              "\n",
              "  .colab-df-quickchart:hover {\n",
              "    background-color: var(--hover-bg-color);\n",
              "    box-shadow: 0 1px 2px rgba(60, 64, 67, 0.3), 0 1px 3px 1px rgba(60, 64, 67, 0.15);\n",
              "    fill: var(--button-hover-fill-color);\n",
              "  }\n",
              "\n",
              "  .colab-df-quickchart-complete:disabled,\n",
              "  .colab-df-quickchart-complete:disabled:hover {\n",
              "    background-color: var(--disabled-bg-color);\n",
              "    fill: var(--disabled-fill-color);\n",
              "    box-shadow: none;\n",
              "  }\n",
              "\n",
              "  .colab-df-spinner {\n",
              "    border: 2px solid var(--fill-color);\n",
              "    border-color: transparent;\n",
              "    border-bottom-color: var(--fill-color);\n",
              "    animation:\n",
              "      spin 1s steps(1) infinite;\n",
              "  }\n",
              "\n",
              "  @keyframes spin {\n",
              "    0% {\n",
              "      border-color: transparent;\n",
              "      border-bottom-color: var(--fill-color);\n",
              "      border-left-color: var(--fill-color);\n",
              "    }\n",
              "    20% {\n",
              "      border-color: transparent;\n",
              "      border-left-color: var(--fill-color);\n",
              "      border-top-color: var(--fill-color);\n",
              "    }\n",
              "    30% {\n",
              "      border-color: transparent;\n",
              "      border-left-color: var(--fill-color);\n",
              "      border-top-color: var(--fill-color);\n",
              "      border-right-color: var(--fill-color);\n",
              "    }\n",
              "    40% {\n",
              "      border-color: transparent;\n",
              "      border-right-color: var(--fill-color);\n",
              "      border-top-color: var(--fill-color);\n",
              "    }\n",
              "    60% {\n",
              "      border-color: transparent;\n",
              "      border-right-color: var(--fill-color);\n",
              "    }\n",
              "    80% {\n",
              "      border-color: transparent;\n",
              "      border-right-color: var(--fill-color);\n",
              "      border-bottom-color: var(--fill-color);\n",
              "    }\n",
              "    90% {\n",
              "      border-color: transparent;\n",
              "      border-bottom-color: var(--fill-color);\n",
              "    }\n",
              "  }\n",
              "</style>\n",
              "\n",
              "  <script>\n",
              "    async function quickchart(key) {\n",
              "      const quickchartButtonEl =\n",
              "        document.querySelector('#' + key + ' button');\n",
              "      quickchartButtonEl.disabled = true;  // To prevent multiple clicks.\n",
              "      quickchartButtonEl.classList.add('colab-df-spinner');\n",
              "      try {\n",
              "        const charts = await google.colab.kernel.invokeFunction(\n",
              "            'suggestCharts', [key], {});\n",
              "      } catch (error) {\n",
              "        console.error('Error during call to suggestCharts:', error);\n",
              "      }\n",
              "      quickchartButtonEl.classList.remove('colab-df-spinner');\n",
              "      quickchartButtonEl.classList.add('colab-df-quickchart-complete');\n",
              "    }\n",
              "    (() => {\n",
              "      let quickchartButtonEl =\n",
              "        document.querySelector('#df-87878750-14d7-42ec-8fe5-b860cf7c958e button');\n",
              "      quickchartButtonEl.style.display =\n",
              "        google.colab.kernel.accessAllowed ? 'block' : 'none';\n",
              "    })();\n",
              "  </script>\n",
              "</div>\n",
              "    </div>\n",
              "  </div>\n"
            ],
            "application/vnd.google.colaboratory.intrinsic+json": {
              "type": "dataframe",
              "variable_name": "df",
              "summary": "{\n  \"name\": \"df\",\n  \"rows\": 29664,\n  \"fields\": [\n    {\n      \"column\": \"Header\",\n      \"properties\": {\n        \"dtype\": \"string\",\n        \"num_unique_values\": 27352,\n        \"samples\": [\n          \"Arab Americans Face an Impossible Choice\",\n          \"Bolton's Offer to Testify Tests McConnell's Power\",\n          \"Big Tech Is Running National Security\"\n        ],\n        \"semantic_type\": \"\",\n        \"description\": \"\"\n      }\n    },\n    {\n      \"column\": \"Body\",\n      \"properties\": {\n        \"dtype\": \"string\",\n        \"num_unique_values\": 27391,\n        \"samples\": [\n          \"it\\u2019s available right now for PC version users. Minecraft maven Jens Bergensten (the game\\u2019s lead developer for the past four years) tweeted yesterday about a \\u201cdramatic feature, likely out in the next snapshot.\\u201d Snapshots are Minecraft-speak for PC version game features you can fiddle with early, if you opt to ride Minecraft\\u2018s \\u201cexperimental\\u201d update train. Bergensten followed with a shot of the new feature in motion, calling it a \\u201cwork in progress.\\u201d When you\\u2019re on the ground, the cape folds up, and you can\\u2019t craft it\\u2013it\\u2019s a finders-only thing. But if you do manage to unearth one, Bergensten teases you can use it to \\u201cfly past the bad guys who are all shooting you with surprisingly bad accuracy, swoop down and land flawlessly into a strategically placed boat and then paddle away at moderately high speeds with the stolen prize pig in the back.\\u201d \",\n          \"Cleveland Browns quarterback Johnny Manziel has been released from a drug and alcohol rehabilitation facility and will return to practice, according to multiple reports. ESPN and the Associated Press, citing anonymous sources, report that the 22-year-old Heisman Trophy winner is expected to start off-season workouts later this month. Manziel entered treatment at the end of January following his rookie season in the NFL. Browns left tackle Joe Thomas told ESPN this week that Manziel had lost the trust of his teammates through his behavior, but Thomas added that Manziel checking himself into rehab was a \\u201creally positive\\u201d step. Manziel will compete with veteran Josh McCown for the QB job this year. \\u201cI\\u2019m hoping when we come back in April we see a new Johnny and everybody\\u2019s blown away with his commitment,\\u201d said Thomas. \\u201cAnd I think he\\u2019s got the talent, so it\\u2019s just a matter of if he commits himself to it, we can have a really good quarterback on our hands.\\u201d \",\n          \"Mac users, rejoice: Apple has fixed one of the things that has been most annoying you about your computer. The new beta version of the latest version of Apple\\u2019s OS X has gotten rid of discoveryd, a process which many users complained caused them to lose Wi-Fi access, among other problems, 9to5Mac.com reports. Future versions of the system will revert to using a process from previous OS X versions. The final version of the new system, OS X 10.10.4, is expected to be released to the public in coming months. Apple is set to unveil more details about the new operating system at its Worldwide Developers\\u2019 Conference early next month. \"\n        ],\n        \"semantic_type\": \"\",\n        \"description\": \"\"\n      }\n    },\n    {\n      \"column\": \"Label\",\n      \"properties\": {\n        \"dtype\": \"category\",\n        \"num_unique_values\": 4,\n        \"samples\": [\n          \"Politics\",\n          \"Tech\",\n          \"Business\"\n        ],\n        \"semantic_type\": \"\",\n        \"description\": \"\"\n      }\n    }\n  ]\n}"
            }
          },
          "metadata": {},
          "execution_count": 62
        }
      ]
    },
    {
      "cell_type": "code",
      "source": [
        "categories_to_reduce = ['Business', 'Tech', 'Politics']\n",
        "\n",
        "# Separate the data\n",
        "df_to_reduce = df[df['Label'].isin(categories_to_reduce)]\n",
        "df_remain = df[~df['Label'].isin(categories_to_reduce)]\n",
        "\n",
        "# Drop 30% of samples from specified categories\n",
        "reduced_dfs = []\n",
        "for category in categories_to_reduce:\n",
        "    df_category = df_to_reduce[df_to_reduce['Label'] == category]\n",
        "    reduced_count = int(len(df_category) * 0.7)  # Keeping 70% means dropping 30%\n",
        "    df_reduced = df_category.sample(n=reduced_count)\n",
        "    reduced_dfs.append(df_reduced)\n",
        "\n",
        "# Concatenate the reduced datasets with the untouched dataset\n",
        "df_final = pd.concat([pd.concat(reduced_dfs), df_remain])\n",
        "\n",
        "# Shuffle the final DataFrame\n",
        "df_final = df_final.sample(frac=1).reset_index(drop=True)\n",
        "\n",
        "df_final['Label'].value_counts().plot.bar()"
      ],
      "metadata": {
        "colab": {
          "base_uri": "https://localhost:8080/",
          "height": 514
        },
        "id": "9CFrbGPQkW-k",
        "outputId": "8bffa089-896f-40da-e4e2-14c1c2432d44"
      },
      "execution_count": null,
      "outputs": [
        {
          "output_type": "execute_result",
          "data": {
            "text/plain": [
              "<Axes: xlabel='Label'>"
            ]
          },
          "metadata": {},
          "execution_count": 68
        },
        {
          "output_type": "display_data",
          "data": {
            "text/plain": [
              "<Figure size 640x480 with 1 Axes>"
            ],
            "image/png": "[encoded data removed]"
          },
          "metadata": {}
        }
      ]
    },
    {
      "cell_type": "code",
      "source": [
        "df_train.shape,df_val.shape"
      ],
      "metadata": {
        "colab": {
          "base_uri": "https://localhost:8080/"
        },
        "id": "yyBpEfnDmnPx",
        "outputId": "b7f7b004-ae51-4c8f-9a1d-14ff298cc603"
      },
      "execution_count": null,
      "outputs": [
        {
          "output_type": "execute_result",
          "data": {
            "text/plain": [
              "((17750, 5), (4438, 5))"
            ]
          },
          "metadata": {},
          "execution_count": 84
        }
      ]
    },
    {
      "cell_type": "code",
      "source": [
        "df_train, df_val = train_test_split(df_final, test_size=0.2, random_state=42, shuffle=True)"
      ],
      "metadata": {
        "id": "5UEosPKFmnod"
      },
      "execution_count": null,
      "outputs": []
    },
    {
      "cell_type": "code",
      "source": [
        "# prepare train data\n",
        "df_train['CONTEXT'] = df_train['Header'] + \". \" + df_train['Body']\n",
        "# one-hot-encoding\n",
        "label_dummies = pd.get_dummies(df_train['Label'], prefix='Label').astype(int)\n",
        "df_train = pd.concat([df_train, label_dummies], axis=1)\n",
        "df_train.drop(['Header','Body','Label'], axis=1, inplace=True)\n",
        "df_train.info()\n",
        "\n",
        "\n",
        "# prepare validation data\n",
        "df_val['CONTEXT'] = df_val['Header'] + \". \" + df_val['Body']\n",
        "label_dummies = pd.get_dummies(df_val['Label'], prefix='Label').astype(int)\n",
        "df_val = pd.concat([df_val, label_dummies], axis=1)\n",
        "df_val.drop(['Header','Body','Label'], axis=1, inplace=True)"
      ],
      "metadata": {
        "colab": {
          "base_uri": "https://localhost:8080/"
        },
        "outputId": "9a8f8e79-9226-4133-8eb3-bab867a00a5c",
        "id": "QBqL-hSlmnof"
      },
      "execution_count": null,
      "outputs": [
        {
          "output_type": "stream",
          "name": "stdout",
          "text": [
            "<class 'pandas.core.frame.DataFrame'>\n",
            "Index: 17750 entries, 11813 to 15795\n",
            "Data columns (total 5 columns):\n",
            " #   Column          Non-Null Count  Dtype \n",
            "---  ------          --------------  ----- \n",
            " 0   CONTEXT         17750 non-null  object\n",
            " 1   Label_Business  17750 non-null  int64 \n",
            " 2   Label_Politics  17750 non-null  int64 \n",
            " 3   Label_Sport     17750 non-null  int64 \n",
            " 4   Label_Tech      17750 non-null  int64 \n",
            "dtypes: int64(4), object(1)\n",
            "memory usage: 832.0+ KB\n"
          ]
        }
      ]
    },
    {
      "cell_type": "code",
      "source": [
        "X_train=df_train[\"CONTEXT\"]\n",
        "y_train=df_train.drop(\"CONTEXT\",axis=1)\n",
        "\n",
        "X_val=df_val[\"CONTEXT\"]\n",
        "y_val=df_val.drop(\"CONTEXT\",axis=1)"
      ],
      "metadata": {
        "id": "F8-RXtHKmnoh"
      },
      "execution_count": null,
      "outputs": []
    },
    {
      "cell_type": "code",
      "source": [
        "max_len = 512\n",
        "trunc_type = 'post'\n",
        "padding_type = 'post'\n",
        "oov_tok = '<OOV>' # out of vocabulary token\n",
        "vocab_size = 500"
      ],
      "metadata": {
        "id": "vYRwXxCUmnoi"
      },
      "execution_count": null,
      "outputs": []
    },
    {
      "cell_type": "code",
      "source": [
        "tokenizer = Tokenizer(num_words = vocab_size,\n",
        "                      char_level = False,\n",
        "                      oov_token = oov_tok)\n",
        "tokenizer.fit_on_texts(X_train)"
      ],
      "metadata": {
        "id": "HPtBGj9dmnoj"
      },
      "execution_count": null,
      "outputs": []
    },
    {
      "cell_type": "code",
      "source": [
        "training_sequences = tokenizer.texts_to_sequences(X_train)"
      ],
      "metadata": {
        "id": "lHBNChgamnok"
      },
      "execution_count": null,
      "outputs": []
    },
    {
      "cell_type": "code",
      "source": [
        "training_padded = pad_sequences(training_sequences,\n",
        "                                maxlen = max_len,\n",
        "                                padding = padding_type,\n",
        "                                truncating = trunc_type)"
      ],
      "metadata": {
        "id": "MSUt8p1omnol"
      },
      "execution_count": null,
      "outputs": []
    },
    {
      "cell_type": "code",
      "source": [
        "testing_sequences = tokenizer.texts_to_sequences(X_val)\n",
        "testing_padded = pad_sequences(testing_sequences,\n",
        "                               maxlen = max_len,\n",
        "                               padding = padding_type,\n",
        "                               truncating = trunc_type)"
      ],
      "metadata": {
        "id": "PX-gPzotmnol"
      },
      "execution_count": null,
      "outputs": []
    },
    {
      "cell_type": "code",
      "source": [
        "# Model\n",
        "embedding_dim = 16\n",
        "n_lstm = 128\n",
        "drop_lstm = 0.2\n",
        "\n",
        "model1 = Sequential()\n",
        "model1.add(Embedding(vocab_size, embedding_dim, input_length=max_len))\n",
        "model1.add(SpatialDropout1D(drop_lstm))\n",
        "model1.add(LSTM(n_lstm, return_sequences=False))\n",
        "model1.add(Dropout(drop_lstm))\n",
        "model1.add(Dense(4, activation='softmax'))"
      ],
      "metadata": {
        "id": "uH7B8K1DnDbc"
      },
      "execution_count": null,
      "outputs": []
    },
    {
      "cell_type": "code",
      "source": [
        "model1.summary()"
      ],
      "metadata": {
        "colab": {
          "base_uri": "https://localhost:8080/"
        },
        "outputId": "df595fa6-33b8-4428-eafe-e057f2bbdfe4",
        "id": "NhhaMMdJnDbf"
      },
      "execution_count": null,
      "outputs": [
        {
          "output_type": "stream",
          "name": "stdout",
          "text": [
            "Model: \"sequential_1\"\n",
            "_________________________________________________________________\n",
            " Layer (type)                Output Shape              Param #   \n",
            "=================================================================\n",
            " embedding_1 (Embedding)     (None, 512, 16)           8000      \n",
            "                                                                 \n",
            " spatial_dropout1d_1 (Spati  (None, 512, 16)           0         \n",
            " alDropout1D)                                                    \n",
            "                                                                 \n",
            " lstm_1 (LSTM)               (None, 128)               74240     \n",
            "                                                                 \n",
            " dropout_1 (Dropout)         (None, 128)               0         \n",
            "                                                                 \n",
            " dense_1 (Dense)             (None, 4)                 516       \n",
            "                                                                 \n",
            "=================================================================\n",
            "Total params: 82756 (323.27 KB)\n",
            "Trainable params: 82756 (323.27 KB)\n",
            "Non-trainable params: 0 (0.00 Byte)\n",
            "_________________________________________________________________\n"
          ]
        }
      ]
    },
    {
      "cell_type": "code",
      "source": [
        "model1.compile(loss = 'categorical_crossentropy', optimizer =Adam(learning_rate=0.001), metrics = ['accuracy'])"
      ],
      "metadata": {
        "id": "yWKKg_HmnDbi"
      },
      "execution_count": null,
      "outputs": []
    },
    {
      "cell_type": "code",
      "source": [
        "num_epochs = 100\n",
        "early_stop = EarlyStopping(monitor='val_accuracy',min_delta=0.01, patience=7)\n",
        "history = model1.fit(training_padded,\n",
        "                     y_train,\n",
        "                     epochs=num_epochs,\n",
        "                     validation_split=0.2,\n",
        "                     callbacks=[early_stop],\n",
        "                     verbose=2)"
      ],
      "metadata": {
        "colab": {
          "base_uri": "https://localhost:8080/"
        },
        "outputId": "75c5debf-399f-4bf3-9e73-ba61891a89d0",
        "id": "Um1K81IQnDbj"
      },
      "execution_count": null,
      "outputs": [
        {
          "output_type": "stream",
          "name": "stdout",
          "text": [
            "Epoch 1/100\n",
            "444/444 - 16s - loss: 1.3530 - accuracy: 0.3164 - val_loss: 1.1239 - val_accuracy: 0.4648 - 16s/epoch - 37ms/step\n",
            "Epoch 2/100\n",
            "444/444 - 10s - loss: 1.2129 - accuracy: 0.4067 - val_loss: 1.0602 - val_accuracy: 0.4997 - 10s/epoch - 22ms/step\n",
            "Epoch 3/100\n",
            "444/444 - 10s - loss: 1.2690 - accuracy: 0.3763 - val_loss: 1.1051 - val_accuracy: 0.4777 - 10s/epoch - 23ms/step\n",
            "Epoch 4/100\n",
            "444/444 - 10s - loss: 1.0925 - accuracy: 0.4708 - val_loss: 1.0616 - val_accuracy: 0.4952 - 10s/epoch - 23ms/step\n",
            "Epoch 5/100\n",
            "444/444 - 13s - loss: 1.1614 - accuracy: 0.4385 - val_loss: 1.3828 - val_accuracy: 0.2546 - 13s/epoch - 29ms/step\n",
            "Epoch 6/100\n",
            "444/444 - 9s - loss: 1.3830 - accuracy: 0.2794 - val_loss: 1.3753 - val_accuracy: 0.2924 - 9s/epoch - 20ms/step\n",
            "Epoch 7/100\n",
            "444/444 - 9s - loss: 1.2079 - accuracy: 0.3923 - val_loss: 0.9729 - val_accuracy: 0.5225 - 9s/epoch - 20ms/step\n",
            "Epoch 8/100\n",
            "444/444 - 10s - loss: 0.9204 - accuracy: 0.5751 - val_loss: 0.7884 - val_accuracy: 0.6456 - 10s/epoch - 21ms/step\n",
            "Epoch 9/100\n",
            "444/444 - 10s - loss: 0.8009 - accuracy: 0.6299 - val_loss: 0.9400 - val_accuracy: 0.6135 - 10s/epoch - 21ms/step\n",
            "Epoch 10/100\n",
            "444/444 - 8s - loss: 0.7684 - accuracy: 0.6423 - val_loss: 0.7661 - val_accuracy: 0.6544 - 8s/epoch - 19ms/step\n",
            "Epoch 11/100\n",
            "444/444 - 10s - loss: 0.7484 - accuracy: 0.6461 - val_loss: 0.7528 - val_accuracy: 0.6563 - 10s/epoch - 23ms/step\n",
            "Epoch 12/100\n",
            "444/444 - 10s - loss: 0.7345 - accuracy: 0.6613 - val_loss: 0.7438 - val_accuracy: 0.6315 - 10s/epoch - 22ms/step\n",
            "Epoch 13/100\n",
            "444/444 - 9s - loss: 0.8006 - accuracy: 0.6293 - val_loss: 0.7375 - val_accuracy: 0.6310 - 9s/epoch - 19ms/step\n",
            "Epoch 14/100\n",
            "444/444 - 9s - loss: 0.7196 - accuracy: 0.6559 - val_loss: 0.7323 - val_accuracy: 0.6583 - 9s/epoch - 20ms/step\n",
            "Epoch 15/100\n",
            "444/444 - 9s - loss: 0.7033 - accuracy: 0.6633 - val_loss: 0.7072 - val_accuracy: 0.6524 - 9s/epoch - 21ms/step\n",
            "Epoch 16/100\n",
            "444/444 - 9s - loss: 0.6984 - accuracy: 0.6693 - val_loss: 0.7278 - val_accuracy: 0.6445 - 9s/epoch - 21ms/step\n",
            "Epoch 17/100\n",
            "444/444 - 9s - loss: 0.7893 - accuracy: 0.6239 - val_loss: 0.7168 - val_accuracy: 0.6493 - 9s/epoch - 20ms/step\n",
            "Epoch 18/100\n",
            "444/444 - 10s - loss: 0.7015 - accuracy: 0.6663 - val_loss: 0.7195 - val_accuracy: 0.6414 - 10s/epoch - 22ms/step\n"
          ]
        }
      ]
    },
    {
      "cell_type": "code",
      "source": [],
      "metadata": {
        "id": "4dUVuAcYnPoc"
      },
      "execution_count": null,
      "outputs": []
    },
    {
      "cell_type": "code",
      "source": [
        "import numpy as np\n",
        "y_val_true=np.argmax(y_val,axis=1)"
      ],
      "metadata": {
        "id": "baoF0g7NnP3f"
      },
      "execution_count": null,
      "outputs": []
    },
    {
      "cell_type": "code",
      "source": [
        "y_pred=model1.predict(testing_padded)\n"
      ],
      "metadata": {
        "colab": {
          "base_uri": "https://localhost:8080/"
        },
        "outputId": "87b6a282-e781-48da-b8b0-f448d6ae4367",
        "id": "LRb2E87fnP3h"
      },
      "execution_count": null,
      "outputs": [
        {
          "output_type": "stream",
          "name": "stdout",
          "text": [
            "139/139 [==============================] - 2s 8ms/step\n"
          ]
        }
      ]
    },
    {
      "cell_type": "code",
      "source": [
        "y_pred=np.argmax(y_pred,axis=1)"
      ],
      "metadata": {
        "id": "RLU8DBfknP3i"
      },
      "execution_count": null,
      "outputs": []
    },
    {
      "cell_type": "code",
      "source": [
        "from sklearn.metrics import accuracy_score, confusion_matrix,classification_report,f1_score,precision_score,recall_score\n",
        "\n",
        "# print(\"f1 score is: \",f1_score(y_val_true,y_pred,average=None))\n",
        "# print(\"precision:\",precision_score(y_val_true,y_pred,average=None))\n",
        "# print(\"recall:\",recall_score(y_val_true,y_pred,average=None))\n",
        "\n",
        "print(\"accuracy for validation data:\",accuracy_score(y_val_true,y_pred))\n",
        "confusion_matrix(y_val_true,y_pred)\n",
        "print(classification_report(y_val_true,y_pred))\n",
        "\n"
      ],
      "metadata": {
        "colab": {
          "base_uri": "https://localhost:8080/"
        },
        "outputId": "746f658c-c51d-4d0d-e1f4-8ce09f1c4625",
        "id": "1eD2p9jCnP3j"
      },
      "execution_count": null,
      "outputs": [
        {
          "output_type": "stream",
          "name": "stdout",
          "text": [
            "accuracy for validation data: 0.6505182514646237\n",
            "              precision    recall  f1-score   support\n",
            "\n",
            "           0       0.46      0.86      0.60      1153\n",
            "           1       0.92      0.85      0.89      1199\n",
            "           2       0.78      0.84      0.81       924\n",
            "           3       0.61      0.08      0.15      1162\n",
            "\n",
            "    accuracy                           0.65      4438\n",
            "   macro avg       0.69      0.66      0.61      4438\n",
            "weighted avg       0.69      0.65      0.60      4438\n",
            "\n"
          ]
        }
      ]
    },
    {
      "cell_type": "code",
      "source": [
        "tr_acc = history.history['accuracy']\n",
        "tr_loss = history.history['loss']\n",
        "val_acc = history.history['val_accuracy']\n",
        "val_loss = history.history['val_loss']\n",
        "\n",
        "epochs = [i+1 for i in range(len(tr_acc))]\n",
        "\n",
        "plt.figure(figsize=(20, 8))\n",
        "plt.subplot(1, 2, 1)\n",
        "plt.plot(epochs, tr_loss, 'r', label='Train Loss')\n",
        "plt.plot(epochs, val_loss, 'g', label='Valid Loss')\n",
        "plt.title('Loss')\n",
        "plt.legend()\n",
        "plt.xlabel('Epochs')\n",
        "plt.ylabel('Loss')\n",
        "\n",
        "plt.subplot(1, 2, 2)\n",
        "plt.plot(epochs, tr_acc, 'r', label='Train Accuracy')\n",
        "plt.plot(epochs, val_acc, 'g', label='Valid Accuracy')\n",
        "plt.title('Accuracy')\n",
        "plt.legend()\n",
        "plt.xlabel('Epochs')\n",
        "plt.ylabel('Accuracy')\n",
        "\n",
        "plt.tight_layout()\n",
        "plt.show()"
      ],
      "metadata": {
        "colab": {
          "base_uri": "https://localhost:8080/",
          "height": 643
        },
        "outputId": "4a5d4c6c-d5b2-468d-ca19-2afbbff861c5",
        "id": "xjnHNaZLnP3l"
      },
      "execution_count": null,
      "outputs": [
        {
          "output_type": "display_data",
          "data": {
            "text/plain": [
              "<Figure size 2000x800 with 2 Axes>"
            ],
            "image/png": "[encoded data removed]"
          },
          "metadata": {}
        }
      ]
    },
    {
      "cell_type": "markdown",
      "source": [
        "# BiLSTM"
      ],
      "metadata": {
        "id": "5KOyk1pzr1IX"
      }
    },
    {
      "cell_type": "code",
      "source": [
        "df_train, df_val = train_test_split(df, test_size=0.2, random_state=42, shuffle=True)"
      ],
      "metadata": {
        "id": "FqOFcZHqt7jS"
      },
      "execution_count": 41,
      "outputs": []
    },
    {
      "cell_type": "code",
      "source": [
        "# prepare train data\n",
        "df_train['CONTEXT'] = df_train['Header'] + \". \" + df_train['Body']\n",
        "# one-hot-encoding\n",
        "label_dummies = pd.get_dummies(df_train['Label'], prefix='Label').astype(int)\n",
        "df_train = pd.concat([df_train, label_dummies], axis=1)\n",
        "df_train.drop(['Header','Body','Label'], axis=1, inplace=True)\n",
        "df_train.info()\n",
        "\n",
        "\n",
        "# prepare validation data\n",
        "df_val['CONTEXT'] = df_val['Header'] + \". \" + df_val['Body']\n",
        "label_dummies = pd.get_dummies(df_val['Label'], prefix='Label').astype(int)\n",
        "df_val = pd.concat([df_val, label_dummies], axis=1)\n",
        "df_val.drop(['Header','Body','Label'], axis=1, inplace=True)"
      ],
      "metadata": {
        "colab": {
          "base_uri": "https://localhost:8080/"
        },
        "outputId": "89e6f246-934a-4577-e9dc-dfd875cad88d",
        "id": "zYJGQvueU-h9"
      },
      "execution_count": 42,
      "outputs": [
        {
          "output_type": "stream",
          "name": "stdout",
          "text": [
            "<class 'pandas.core.frame.DataFrame'>\n",
            "Index: 23731 entries, 6620 to 23655\n",
            "Data columns (total 5 columns):\n",
            " #   Column          Non-Null Count  Dtype \n",
            "---  ------          --------------  ----- \n",
            " 0   CONTEXT         23731 non-null  object\n",
            " 1   Label_Business  23731 non-null  int64 \n",
            " 2   Label_Politics  23731 non-null  int64 \n",
            " 3   Label_Sport     23731 non-null  int64 \n",
            " 4   Label_Tech      23731 non-null  int64 \n",
            "dtypes: int64(4), object(1)\n",
            "memory usage: 1.1+ MB\n"
          ]
        }
      ]
    },
    {
      "cell_type": "code",
      "source": [
        "X_train=df_train[\"CONTEXT\"]\n",
        "y_train=df_train.drop(\"CONTEXT\",axis=1)\n",
        "\n",
        "X_val=df_val[\"CONTEXT\"]\n",
        "y_val=df_val.drop(\"CONTEXT\",axis=1)"
      ],
      "metadata": {
        "id": "TsC8mf17u54c"
      },
      "execution_count": 43,
      "outputs": []
    },
    {
      "cell_type": "code",
      "source": [
        "max_len = 512\n",
        "trunc_type = 'post'\n",
        "padding_type = 'post'\n",
        "oov_tok = '<OOV>' # out of vocabulary token\n",
        "vocab_size = 10000"
      ],
      "metadata": {
        "id": "pzhGtXYRr6kX"
      },
      "execution_count": 44,
      "outputs": []
    },
    {
      "cell_type": "code",
      "source": [
        "tokenizer = Tokenizer(num_words = vocab_size,\n",
        "                      char_level = False,\n",
        "                      oov_token = oov_tok)\n",
        "tokenizer.fit_on_texts(X_train)"
      ],
      "metadata": {
        "id": "gT7Q4GK4tI-m"
      },
      "execution_count": 45,
      "outputs": []
    },
    {
      "cell_type": "code",
      "source": [
        "training_sequences = tokenizer.texts_to_sequences(X_train)\n",
        "training_padded = pad_sequences(training_sequences,\n",
        "                                maxlen = max_len,\n",
        "                                padding = padding_type,\n",
        "                                truncating = trunc_type)"
      ],
      "metadata": {
        "id": "_rb7DrmyvcTS"
      },
      "execution_count": 46,
      "outputs": []
    },
    {
      "cell_type": "code",
      "source": [
        "testing_sequences = tokenizer.texts_to_sequences(X_val)\n",
        "testing_padded = pad_sequences(testing_sequences,\n",
        "                               maxlen = max_len,\n",
        "                               padding = padding_type,\n",
        "                               truncating = trunc_type)"
      ],
      "metadata": {
        "id": "-jFF74cdve59"
      },
      "execution_count": 47,
      "outputs": []
    },
    {
      "cell_type": "code",
      "source": [
        "# Model\n",
        "embedding_dim = 16\n",
        "n_lstm = 128\n",
        "drop_lstm = 0.2\n",
        "\n",
        "model2 = Sequential()\n",
        "model2.add(Embedding(vocab_size, embedding_dim, input_length=max_len))\n",
        "model2.add(SpatialDropout1D(drop_lstm))\n",
        "model2.add(Bidirectional(LSTM(units=n_lstm, return_sequences=False)))\n",
        "model2.add(Dropout(drop_lstm))\n",
        "model2.add(Dense(4, activation='softmax'))"
      ],
      "metadata": {
        "id": "rcfzqhCYvkvc"
      },
      "execution_count": 48,
      "outputs": []
    },
    {
      "cell_type": "code",
      "source": [
        "model2.compile(loss = 'categorical_crossentropy', optimizer =Adam(learning_rate=0.001), metrics = ['accuracy'])"
      ],
      "metadata": {
        "id": "jS9ep-DovwnW"
      },
      "execution_count": 49,
      "outputs": []
    },
    {
      "cell_type": "code",
      "source": [
        "num_epochs = 100\n",
        "early_stop = EarlyStopping(monitor='val_accuracy',min_delta=0.01, patience=7)\n",
        "history = model2.fit(training_padded,\n",
        "                     y_train,\n",
        "                     epochs=num_epochs,\n",
        "                     validation_split=0.2,\n",
        "                     callbacks=[early_stop],\n",
        "                     verbose=2)"
      ],
      "metadata": {
        "colab": {
          "base_uri": "https://localhost:8080/"
        },
        "id": "t-NQasxzwgUF",
        "outputId": "3e6ce630-3c1b-4c15-8dc6-72c90321845b"
      },
      "execution_count": 50,
      "outputs": [
        {
          "output_type": "stream",
          "name": "stdout",
          "text": [
            "Epoch 1/100\n",
            "594/594 - 93s - loss: 0.8424 - accuracy: 0.6039 - val_loss: 0.5975 - val_accuracy: 0.7312 - 93s/epoch - 157ms/step\n",
            "Epoch 2/100\n",
            "594/594 - 44s - loss: 0.5372 - accuracy: 0.7684 - val_loss: 0.5863 - val_accuracy: 0.7493 - 44s/epoch - 75ms/step\n",
            "Epoch 3/100\n",
            "594/594 - 36s - loss: 0.4335 - accuracy: 0.8229 - val_loss: 0.4737 - val_accuracy: 0.8096 - 36s/epoch - 61ms/step\n",
            "Epoch 4/100\n",
            "594/594 - 28s - loss: 0.3639 - accuracy: 0.8513 - val_loss: 0.4895 - val_accuracy: 0.8039 - 28s/epoch - 47ms/step\n",
            "Epoch 5/100\n",
            "594/594 - 28s - loss: 0.3164 - accuracy: 0.8692 - val_loss: 0.5073 - val_accuracy: 0.8094 - 28s/epoch - 47ms/step\n",
            "Epoch 6/100\n",
            "594/594 - 25s - loss: 0.3026 - accuracy: 0.8750 - val_loss: 0.5321 - val_accuracy: 0.7940 - 25s/epoch - 43ms/step\n",
            "Epoch 7/100\n",
            "594/594 - 25s - loss: 0.2657 - accuracy: 0.8888 - val_loss: 0.5900 - val_accuracy: 0.7775 - 25s/epoch - 42ms/step\n",
            "Epoch 8/100\n",
            "594/594 - 24s - loss: 0.2498 - accuracy: 0.8928 - val_loss: 0.5556 - val_accuracy: 0.7851 - 24s/epoch - 41ms/step\n",
            "Epoch 9/100\n",
            "594/594 - 26s - loss: 0.2433 - accuracy: 0.8964 - val_loss: 0.6772 - val_accuracy: 0.7535 - 26s/epoch - 44ms/step\n",
            "Epoch 10/100\n",
            "594/594 - 23s - loss: 0.2460 - accuracy: 0.8945 - val_loss: 0.6315 - val_accuracy: 0.7839 - 23s/epoch - 39ms/step\n"
          ]
        }
      ]
    },
    {
      "cell_type": "code",
      "source": [],
      "metadata": {
        "id": "DtK7Nl2fXrfY"
      },
      "execution_count": 50,
      "outputs": []
    },
    {
      "cell_type": "code",
      "source": [
        "import numpy as np\n",
        "y_val_true=np.argmax(y_val,axis=1)"
      ],
      "metadata": {
        "id": "LV_CU4lpXyM0"
      },
      "execution_count": 51,
      "outputs": []
    },
    {
      "cell_type": "code",
      "source": [
        "y_pred=model2.predict(testing_padded)\n"
      ],
      "metadata": {
        "colab": {
          "base_uri": "https://localhost:8080/"
        },
        "outputId": "34c4ac0e-90a8-4a31-d632-d82a582495bd",
        "id": "giPhhQO7XyM4"
      },
      "execution_count": 52,
      "outputs": [
        {
          "output_type": "stream",
          "name": "stdout",
          "text": [
            "186/186 [==============================] - 3s 14ms/step\n"
          ]
        }
      ]
    },
    {
      "cell_type": "code",
      "source": [
        "y_pred=np.argmax(y_pred,axis=1)"
      ],
      "metadata": {
        "id": "_XSEaeXJXyM6"
      },
      "execution_count": 53,
      "outputs": []
    },
    {
      "cell_type": "code",
      "source": [
        "from sklearn.metrics import accuracy_score, confusion_matrix,classification_report,f1_score,precision_score,recall_score\n",
        "\n",
        "print(\"accuracy for validation data:\",accuracy_score(y_val_true,y_pred))\n",
        "confusion_matrix(y_val_true,y_pred)\n",
        "print(classification_report(y_val_true,y_pred))\n",
        "\n"
      ],
      "metadata": {
        "colab": {
          "base_uri": "https://localhost:8080/"
        },
        "outputId": "3b5a451e-2b5a-4556-a92a-eaf8d265e21b",
        "id": "3SYiiGJJXyM8"
      },
      "execution_count": 54,
      "outputs": [
        {
          "output_type": "stream",
          "name": "stdout",
          "text": [
            "accuracy for validation data: 0.7647058823529411\n",
            "              precision    recall  f1-score   support\n",
            "\n",
            "           0       0.63      0.64      0.63      1621\n",
            "           1       0.89      0.92      0.90      1695\n",
            "           2       0.91      0.89      0.90       912\n",
            "           3       0.69      0.67      0.68      1705\n",
            "\n",
            "    accuracy                           0.76      5933\n",
            "   macro avg       0.78      0.78      0.78      5933\n",
            "weighted avg       0.76      0.76      0.76      5933\n",
            "\n"
          ]
        }
      ]
    },
    {
      "cell_type": "code",
      "source": [
        "tr_acc = history.history['accuracy']\n",
        "tr_loss = history.history['loss']\n",
        "val_acc = history.history['val_accuracy']\n",
        "val_loss = history.history['val_loss']\n",
        "\n",
        "epochs = [i+1 for i in range(len(tr_acc))]\n",
        "\n",
        "plt.figure(figsize=(20, 8))\n",
        "plt.subplot(1, 2, 1)\n",
        "plt.plot(epochs, tr_loss, 'r', label='Train Loss')\n",
        "plt.plot(epochs, val_loss, 'g', label='Valid Loss')\n",
        "plt.title('Loss')\n",
        "plt.legend()\n",
        "plt.xlabel('Epochs')\n",
        "plt.ylabel('Loss')\n",
        "\n",
        "plt.subplot(1, 2, 2)\n",
        "plt.plot(epochs, tr_acc, 'r', label='Train Accuracy')\n",
        "plt.plot(epochs, val_acc, 'g', label='Valid Accuracy')\n",
        "plt.title('Accuracy')\n",
        "plt.legend()\n",
        "plt.xlabel('Epochs')\n",
        "plt.ylabel('Accuracy')\n",
        "\n",
        "plt.tight_layout()\n",
        "plt.show()"
      ],
      "metadata": {
        "colab": {
          "base_uri": "https://localhost:8080/",
          "height": 508
        },
        "outputId": "bab34944-f15a-4634-9799-663484e89af2",
        "id": "nCveT4dBXyM_"
      },
      "execution_count": 55,
      "outputs": [
        {
          "output_type": "display_data",
          "data": {
            "text/plain": [
              "<Figure size 2000x800 with 2 Axes>"
            ],
            "image/png": "[encoded data removed]"
          },
          "metadata": {}
        }
      ]
    },
    {
      "cell_type": "markdown",
      "source": [
        "#deleting stopwords + preprocessing"
      ],
      "metadata": {
        "id": "TrWnkpvzTd9Q"
      }
    },
    {
      "cell_type": "code",
      "source": [
        "df5=df.copy()\n",
        "df5[\"CONTEXT\"]=df5[\"Header\"]+\". \"+df5[\"Body\"]"
      ],
      "metadata": {
        "id": "dY15rgk3XsGS"
      },
      "execution_count": 56,
      "outputs": []
    },
    {
      "cell_type": "code",
      "source": [
        "df5.info()"
      ],
      "metadata": {
        "colab": {
          "base_uri": "https://localhost:8080/"
        },
        "id": "yyyaHHXdTgWp",
        "outputId": "302a4b1c-a4c1-44b9-f408-c2b47b9bec04"
      },
      "execution_count": 57,
      "outputs": [
        {
          "output_type": "stream",
          "name": "stdout",
          "text": [
            "<class 'pandas.core.frame.DataFrame'>\n",
            "Index: 29664 entries, 0 to 1149\n",
            "Data columns (total 4 columns):\n",
            " #   Column   Non-Null Count  Dtype \n",
            "---  ------   --------------  ----- \n",
            " 0   Header   29664 non-null  object\n",
            " 1   Body     29664 non-null  object\n",
            " 2   Label    29664 non-null  object\n",
            " 3   CONTEXT  29664 non-null  object\n",
            "dtypes: object(4)\n",
            "memory usage: 1.1+ MB\n"
          ]
        }
      ]
    },
    {
      "cell_type": "code",
      "source": [
        "# df5.iloc[12,:]"
      ],
      "metadata": {
        "id": "giuyXn45YPZ6"
      },
      "execution_count": 58,
      "outputs": []
    },
    {
      "cell_type": "code",
      "source": [
        "import nltk\n",
        "from nltk.corpus import stopwords\n",
        "\n",
        "nltk.download('stopwords')\n",
        "stop_words = set(stopwords.words('english'))\n",
        "\n",
        "# Remove stopwords from each text in the DataFrame\n",
        "def remove_stopwords(text):\n",
        "    words = text.split()\n",
        "    filtered_words = [word for word in words if word.lower() not in stop_words]\n",
        "    return ' '.join(filtered_words)\n",
        "\n",
        "df5['CONTEXT_without_stopwords'] = df5['CONTEXT'].apply(remove_stopwords)\n"
      ],
      "metadata": {
        "colab": {
          "base_uri": "https://localhost:8080/"
        },
        "id": "fU-rrM8cXOOC",
        "outputId": "f8ab909c-4fa6-4701-d1fb-22b93879318c"
      },
      "execution_count": 141,
      "outputs": [
        {
          "output_type": "stream",
          "name": "stderr",
          "text": [
            "[nltk_data] Downloading package stopwords to /root/nltk_data...\n",
            "[nltk_data]   Package stopwords is already up-to-date!\n"
          ]
        }
      ]
    },
    {
      "cell_type": "code",
      "source": [
        "df5=df5.drop([\"Header\",\"Body\",\"CONTEXT\"],axis=1)"
      ],
      "metadata": {
        "id": "9M7P3NIPYc-T"
      },
      "execution_count": 60,
      "outputs": []
    },
    {
      "cell_type": "code",
      "source": [
        "df5.rename(columns={\"CONTEXT_without_stopwords\":\"CONTEXT\"},inplace=True)\n",
        "df5.info()"
      ],
      "metadata": {
        "colab": {
          "base_uri": "https://localhost:8080/"
        },
        "id": "pkMwH316ZPfr",
        "outputId": "c351d5d6-1c8e-4dba-c26c-893320c33f3b"
      },
      "execution_count": 61,
      "outputs": [
        {
          "output_type": "stream",
          "name": "stdout",
          "text": [
            "<class 'pandas.core.frame.DataFrame'>\n",
            "Index: 29664 entries, 0 to 1149\n",
            "Data columns (total 2 columns):\n",
            " #   Column   Non-Null Count  Dtype \n",
            "---  ------   --------------  ----- \n",
            " 0   Label    29664 non-null  object\n",
            " 1   CONTEXT  29664 non-null  object\n",
            "dtypes: object(2)\n",
            "memory usage: 695.2+ KB\n"
          ]
        }
      ]
    },
    {
      "cell_type": "code",
      "source": [],
      "metadata": {
        "id": "FMWe76kuZPZW"
      },
      "execution_count": 61,
      "outputs": []
    },
    {
      "cell_type": "code",
      "source": [],
      "metadata": {
        "id": "GXWmvvKdZPLu"
      },
      "execution_count": 61,
      "outputs": []
    },
    {
      "cell_type": "markdown",
      "source": [
        "#KNN"
      ],
      "metadata": {
        "id": "lGaxu9kAKbZw"
      }
    },
    {
      "cell_type": "code",
      "source": [
        "from sklearn.feature_extraction.text import TfidfVectorizer\n",
        "from sklearn.neighbors import KNeighborsClassifier\n",
        "from sklearn.model_selection import train_test_split\n",
        "from sklearn.metrics import classification_report"
      ],
      "metadata": {
        "id": "VqM_-rwGLt8F"
      },
      "execution_count": 119,
      "outputs": []
    },
    {
      "cell_type": "code",
      "source": [
        "df_train, df_val = train_test_split(df, test_size=0.2, random_state=42, shuffle=True)"
      ],
      "metadata": {
        "id": "PPsFr910Ltkl"
      },
      "execution_count": 120,
      "outputs": []
    },
    {
      "cell_type": "code",
      "source": [
        "df_train[\"CONTEXT\"]=df_train[\"Header\"]+\". \"+df_train[\"Body\"]\n",
        "X_train=df_train[\"CONTEXT\"]\n",
        "y_train=df_train[\"Label\"]\n",
        "\n",
        "df_val[\"CONTEXT\"]=df_val[\"Header\"]+\". \"+df_val[\"Body\"]\n",
        "X_val=df_val[\"CONTEXT\"]\n",
        "y_val=df_val[\"Label\"]"
      ],
      "metadata": {
        "id": "X1_0sM6bLzgC"
      },
      "execution_count": 121,
      "outputs": []
    },
    {
      "cell_type": "code",
      "source": [
        "from sklearn.preprocessing import LabelEncoder\n",
        "le = LabelEncoder()\n",
        "\n",
        "y_train=le.fit_transform(y_train)\n",
        "y_val=le.fit_transform(y_val)"
      ],
      "metadata": {
        "id": "8635r0a7NQhI"
      },
      "execution_count": 122,
      "outputs": []
    },
    {
      "cell_type": "code",
      "source": [
        "from sklearn.decomposition import TruncatedSVD\n",
        "\n",
        "tfidf_vectorizer = TfidfVectorizer(max_features=5000)\n",
        "X_train_tfidf = tfidf_vectorizer.fit_transform(X_train)\n",
        "\n",
        "svd = TruncatedSVD(n_components=1000)\n",
        "X_train_svd = svd.fit_transform(X_train_tfidf)\n",
        "\n",
        "X_val_tfidf = tfidf_vectorizer.transform(X_val)\n",
        "X_val_svd = svd.transform(X_val_tfidf)"
      ],
      "metadata": {
        "id": "k1e77PbHNm2H"
      },
      "execution_count": 127,
      "outputs": []
    },
    {
      "cell_type": "code",
      "source": [],
      "metadata": {
        "id": "NXvF7QttMUxb"
      },
      "execution_count": 66,
      "outputs": []
    },
    {
      "cell_type": "code",
      "source": [
        "X_train_tfidf.shape,X_train_svd.shape"
      ],
      "metadata": {
        "colab": {
          "base_uri": "https://localhost:8080/"
        },
        "id": "NJ8LkUo3Mgk6",
        "outputId": "74b25aa2-07e9-451f-9cbd-ac26cf862cec"
      },
      "execution_count": 128,
      "outputs": [
        {
          "output_type": "execute_result",
          "data": {
            "text/plain": [
              "((23731, 5000), (23731, 1000))"
            ]
          },
          "metadata": {},
          "execution_count": 128
        }
      ]
    },
    {
      "cell_type": "code",
      "source": [
        "k = 3\n",
        "knn_model = KNeighborsClassifier(n_neighbors=k)\n",
        "knn_model.fit(X_train_svd, y_train)"
      ],
      "metadata": {
        "colab": {
          "base_uri": "https://localhost:8080/",
          "height": 75
        },
        "id": "k8TyXPiRKcgE",
        "outputId": "ce14a5bd-87ef-4277-b838-1ca9f7239538"
      },
      "execution_count": 129,
      "outputs": [
        {
          "output_type": "execute_result",
          "data": {
            "text/plain": [
              "KNeighborsClassifier(n_neighbors=3)"
            ],
            "text/html": [
              "<style>#sk-container-id-5 {color: black;background-color: white;}#sk-container-id-5 pre{padding: 0;}#sk-container-id-5 div.sk-toggleable {background-color: white;}#sk-container-id-5 label.sk-toggleable__label {cursor: pointer;display: block;width: 100%;margin-bottom: 0;padding: 0.3em;box-sizing: border-box;text-align: center;}#sk-container-id-5 label.sk-toggleable__label-arrow:before {content: \"▸\";float: left;margin-right: 0.25em;color: #696969;}#sk-container-id-5 label.sk-toggleable__label-arrow:hover:before {color: black;}#sk-container-id-5 div.sk-estimator:hover label.sk-toggleable__label-arrow:before {color: black;}#sk-container-id-5 div.sk-toggleable__content {max-height: 0;max-width: 0;overflow: hidden;text-align: left;background-color: #f0f8ff;}#sk-container-id-5 div.sk-toggleable__content pre {margin: 0.2em;color: black;border-radius: 0.25em;background-color: #f0f8ff;}#sk-container-id-5 input.sk-toggleable__control:checked~div.sk-toggleable__content {max-height: 200px;max-width: 100%;overflow: auto;}#sk-container-id-5 input.sk-toggleable__control:checked~label.sk-toggleable__label-arrow:before {content: \"▾\";}#sk-container-id-5 div.sk-estimator input.sk-toggleable__control:checked~label.sk-toggleable__label {background-color: #d4ebff;}#sk-container-id-5 div.sk-label input.sk-toggleable__control:checked~label.sk-toggleable__label {background-color: #d4ebff;}#sk-container-id-5 input.sk-hidden--visually {border: 0;clip: rect(1px 1px 1px 1px);clip: rect(1px, 1px, 1px, 1px);height: 1px;margin: -1px;overflow: hidden;padding: 0;position: absolute;width: 1px;}#sk-container-id-5 div.sk-estimator {font-family: monospace;background-color: #f0f8ff;border: 1px dotted black;border-radius: 0.25em;box-sizing: border-box;margin-bottom: 0.5em;}#sk-container-id-5 div.sk-estimator:hover {background-color: #d4ebff;}#sk-container-id-5 div.sk-parallel-item::after {content: \"\";width: 100%;border-bottom: 1px solid gray;flex-grow: 1;}#sk-container-id-5 div.sk-label:hover label.sk-toggleable__label {background-color: #d4ebff;}#sk-container-id-5 div.sk-serial::before {content: \"\";position: absolute;border-left: 1px solid gray;box-sizing: border-box;top: 0;bottom: 0;left: 50%;z-index: 0;}#sk-container-id-5 div.sk-serial {display: flex;flex-direction: column;align-items: center;background-color: white;padding-right: 0.2em;padding-left: 0.2em;position: relative;}#sk-container-id-5 div.sk-item {position: relative;z-index: 1;}#sk-container-id-5 div.sk-parallel {display: flex;align-items: stretch;justify-content: center;background-color: white;position: relative;}#sk-container-id-5 div.sk-item::before, #sk-container-id-5 div.sk-parallel-item::before {content: \"\";position: absolute;border-left: 1px solid gray;box-sizing: border-box;top: 0;bottom: 0;left: 50%;z-index: -1;}#sk-container-id-5 div.sk-parallel-item {display: flex;flex-direction: column;z-index: 1;position: relative;background-color: white;}#sk-container-id-5 div.sk-parallel-item:first-child::after {align-self: flex-end;width: 50%;}#sk-container-id-5 div.sk-parallel-item:last-child::after {align-self: flex-start;width: 50%;}#sk-container-id-5 div.sk-parallel-item:only-child::after {width: 0;}#sk-container-id-5 div.sk-dashed-wrapped {border: 1px dashed gray;margin: 0 0.4em 0.5em 0.4em;box-sizing: border-box;padding-bottom: 0.4em;background-color: white;}#sk-container-id-5 div.sk-label label {font-family: monospace;font-weight: bold;display: inline-block;line-height: 1.2em;}#sk-container-id-5 div.sk-label-container {text-align: center;}#sk-container-id-5 div.sk-container {/* jupyter's `normalize.less` sets `[hidden] { display: none; }` but bootstrap.min.css set `[hidden] { display: none !important; }` so we also need the `!important` here to be able to override the default hidden behavior on the sphinx rendered scikit-learn.org. See: https://github.com/scikit-learn/scikit-learn/issues/21755 */display: inline-block !important;position: relative;}#sk-container-id-5 div.sk-text-repr-fallback {display: none;}</style><div id=\"sk-container-id-5\" class=\"sk-top-container\"><div class=\"sk-text-repr-fallback\"><pre>KNeighborsClassifier(n_neighbors=3)</pre><b>In a Jupyter environment, please rerun this cell to show the HTML representation or trust the notebook. <br />On GitHub, the HTML representation is unable to render, please try loading this page with nbviewer.org.</b></div><div class=\"sk-container\" hidden><div class=\"sk-item\"><div class=\"sk-estimator sk-toggleable\"><input class=\"sk-toggleable__control sk-hidden--visually\" id=\"sk-estimator-id-5\" type=\"checkbox\" checked><label for=\"sk-estimator-id-5\" class=\"sk-toggleable__label sk-toggleable__label-arrow\">KNeighborsClassifier</label><div class=\"sk-toggleable__content\"><pre>KNeighborsClassifier(n_neighbors=3)</pre></div></div></div></div></div>"
            ]
          },
          "metadata": {},
          "execution_count": 129
        }
      ]
    },
    {
      "cell_type": "code",
      "source": [
        "y_pred = knn_model.predict(X_val_svd)\n",
        "print(classification_report(y_val, y_pred))"
      ],
      "metadata": {
        "id": "Nr_mvfr8Nxm6",
        "colab": {
          "base_uri": "https://localhost:8080/"
        },
        "outputId": "a13c8851-ef9f-43a9-d853-f016eb9c46ad"
      },
      "execution_count": 130,
      "outputs": [
        {
          "output_type": "stream",
          "name": "stdout",
          "text": [
            "              precision    recall  f1-score   support\n",
            "\n",
            "           0       0.60      0.64      0.61      1621\n",
            "           1       0.89      0.90      0.90      1695\n",
            "           2       0.92      0.83      0.87       912\n",
            "           3       0.69      0.67      0.68      1705\n",
            "\n",
            "    accuracy                           0.75      5933\n",
            "   macro avg       0.77      0.76      0.77      5933\n",
            "weighted avg       0.76      0.75      0.75      5933\n",
            "\n"
          ]
        }
      ]
    },
    {
      "cell_type": "code",
      "source": [],
      "metadata": {
        "id": "hGDcfVVfN36J"
      },
      "execution_count": null,
      "outputs": []
    },
    {
      "cell_type": "markdown",
      "source": [
        "#naive bayes"
      ],
      "metadata": {
        "id": "QpNBFvLPRJ_A"
      }
    },
    {
      "cell_type": "code",
      "source": [
        "from sklearn.feature_extraction.text import TfidfVectorizer\n",
        "from sklearn.naive_bayes import MultinomialNB\n",
        "from sklearn.preprocessing import LabelEncoder\n",
        "from sklearn.metrics import classification_report"
      ],
      "metadata": {
        "id": "jxqvBiEpRLi0"
      },
      "execution_count": 150,
      "outputs": []
    },
    {
      "cell_type": "code",
      "source": [],
      "metadata": {
        "id": "XRavWAbZcE8I"
      },
      "execution_count": 150,
      "outputs": []
    },
    {
      "cell_type": "code",
      "source": [
        "df_train, df_val = train_test_split(df5, test_size=0.2, random_state=42, shuffle=True)"
      ],
      "metadata": {
        "id": "iU1IRnWYSjc5"
      },
      "execution_count": 151,
      "outputs": []
    },
    {
      "cell_type": "code",
      "source": [
        "X_train=df_train[\"CONTEXT\"]\n",
        "y_train=df_train[\"Label\"]\n",
        "\n",
        "X_val=df_val[\"CONTEXT\"]\n",
        "y_val=df_val[\"Label\"]"
      ],
      "metadata": {
        "id": "XwggaQoTaagn"
      },
      "execution_count": 152,
      "outputs": []
    },
    {
      "cell_type": "code",
      "source": [
        "le=LabelEncoder()\n",
        "y_train_encoded = le.fit_transform(y_train)\n",
        "y_val_encoded = le.transform(y_val)"
      ],
      "metadata": {
        "id": "u6Faj4WLSjc_"
      },
      "execution_count": 153,
      "outputs": []
    },
    {
      "cell_type": "code",
      "source": [
        "vectorizer_nb = TfidfVectorizer(max_features=5000)\n",
        "X_train_tfidf = vectorizer_nb.fit_transform(X_train)\n",
        "X_val_tfidf = vectorizer_nb.transform(X_val)"
      ],
      "metadata": {
        "id": "qKIi6TtbSjdB"
      },
      "execution_count": 159,
      "outputs": []
    },
    {
      "cell_type": "code",
      "source": [
        "nb_model = MultinomialNB()\n",
        "nb_model.fit(X_train_tfidf, y_train_encoded)"
      ],
      "metadata": {
        "colab": {
          "base_uri": "https://localhost:8080/",
          "height": 75
        },
        "id": "K3xldE5RbF4X",
        "outputId": "be257e4a-15a9-46fd-b303-97f4fdeddda2"
      },
      "execution_count": 160,
      "outputs": [
        {
          "output_type": "execute_result",
          "data": {
            "text/plain": [
              "MultinomialNB()"
            ],
            "text/html": [
              "<style>#sk-container-id-8 {color: black;background-color: white;}#sk-container-id-8 pre{padding: 0;}#sk-container-id-8 div.sk-toggleable {background-color: white;}#sk-container-id-8 label.sk-toggleable__label {cursor: pointer;display: block;width: 100%;margin-bottom: 0;padding: 0.3em;box-sizing: border-box;text-align: center;}#sk-container-id-8 label.sk-toggleable__label-arrow:before {content: \"▸\";float: left;margin-right: 0.25em;color: #696969;}#sk-container-id-8 label.sk-toggleable__label-arrow:hover:before {color: black;}#sk-container-id-8 div.sk-estimator:hover label.sk-toggleable__label-arrow:before {color: black;}#sk-container-id-8 div.sk-toggleable__content {max-height: 0;max-width: 0;overflow: hidden;text-align: left;background-color: #f0f8ff;}#sk-container-id-8 div.sk-toggleable__content pre {margin: 0.2em;color: black;border-radius: 0.25em;background-color: #f0f8ff;}#sk-container-id-8 input.sk-toggleable__control:checked~div.sk-toggleable__content {max-height: 200px;max-width: 100%;overflow: auto;}#sk-container-id-8 input.sk-toggleable__control:checked~label.sk-toggleable__label-arrow:before {content: \"▾\";}#sk-container-id-8 div.sk-estimator input.sk-toggleable__control:checked~label.sk-toggleable__label {background-color: #d4ebff;}#sk-container-id-8 div.sk-label input.sk-toggleable__control:checked~label.sk-toggleable__label {background-color: #d4ebff;}#sk-container-id-8 input.sk-hidden--visually {border: 0;clip: rect(1px 1px 1px 1px);clip: rect(1px, 1px, 1px, 1px);height: 1px;margin: -1px;overflow: hidden;padding: 0;position: absolute;width: 1px;}#sk-container-id-8 div.sk-estimator {font-family: monospace;background-color: #f0f8ff;border: 1px dotted black;border-radius: 0.25em;box-sizing: border-box;margin-bottom: 0.5em;}#sk-container-id-8 div.sk-estimator:hover {background-color: #d4ebff;}#sk-container-id-8 div.sk-parallel-item::after {content: \"\";width: 100%;border-bottom: 1px solid gray;flex-grow: 1;}#sk-container-id-8 div.sk-label:hover label.sk-toggleable__label {background-color: #d4ebff;}#sk-container-id-8 div.sk-serial::before {content: \"\";position: absolute;border-left: 1px solid gray;box-sizing: border-box;top: 0;bottom: 0;left: 50%;z-index: 0;}#sk-container-id-8 div.sk-serial {display: flex;flex-direction: column;align-items: center;background-color: white;padding-right: 0.2em;padding-left: 0.2em;position: relative;}#sk-container-id-8 div.sk-item {position: relative;z-index: 1;}#sk-container-id-8 div.sk-parallel {display: flex;align-items: stretch;justify-content: center;background-color: white;position: relative;}#sk-container-id-8 div.sk-item::before, #sk-container-id-8 div.sk-parallel-item::before {content: \"\";position: absolute;border-left: 1px solid gray;box-sizing: border-box;top: 0;bottom: 0;left: 50%;z-index: -1;}#sk-container-id-8 div.sk-parallel-item {display: flex;flex-direction: column;z-index: 1;position: relative;background-color: white;}#sk-container-id-8 div.sk-parallel-item:first-child::after {align-self: flex-end;width: 50%;}#sk-container-id-8 div.sk-parallel-item:last-child::after {align-self: flex-start;width: 50%;}#sk-container-id-8 div.sk-parallel-item:only-child::after {width: 0;}#sk-container-id-8 div.sk-dashed-wrapped {border: 1px dashed gray;margin: 0 0.4em 0.5em 0.4em;box-sizing: border-box;padding-bottom: 0.4em;background-color: white;}#sk-container-id-8 div.sk-label label {font-family: monospace;font-weight: bold;display: inline-block;line-height: 1.2em;}#sk-container-id-8 div.sk-label-container {text-align: center;}#sk-container-id-8 div.sk-container {/* jupyter's `normalize.less` sets `[hidden] { display: none; }` but bootstrap.min.css set `[hidden] { display: none !important; }` so we also need the `!important` here to be able to override the default hidden behavior on the sphinx rendered scikit-learn.org. See: https://github.com/scikit-learn/scikit-learn/issues/21755 */display: inline-block !important;position: relative;}#sk-container-id-8 div.sk-text-repr-fallback {display: none;}</style><div id=\"sk-container-id-8\" class=\"sk-top-container\"><div class=\"sk-text-repr-fallback\"><pre>MultinomialNB()</pre><b>In a Jupyter environment, please rerun this cell to show the HTML representation or trust the notebook. <br />On GitHub, the HTML representation is unable to render, please try loading this page with nbviewer.org.</b></div><div class=\"sk-container\" hidden><div class=\"sk-item\"><div class=\"sk-estimator sk-toggleable\"><input class=\"sk-toggleable__control sk-hidden--visually\" id=\"sk-estimator-id-8\" type=\"checkbox\" checked><label for=\"sk-estimator-id-8\" class=\"sk-toggleable__label sk-toggleable__label-arrow\">MultinomialNB</label><div class=\"sk-toggleable__content\"><pre>MultinomialNB()</pre></div></div></div></div></div>"
            ]
          },
          "metadata": {},
          "execution_count": 160
        }
      ]
    },
    {
      "cell_type": "code",
      "source": [
        "y_pred=nb_model.predict(X_val_tfidf)"
      ],
      "metadata": {
        "id": "Q2uZmMTQbgMs"
      },
      "execution_count": 161,
      "outputs": []
    },
    {
      "cell_type": "code",
      "source": [
        "print(classification_report(y_val_encoded,y_pred))"
      ],
      "metadata": {
        "colab": {
          "base_uri": "https://localhost:8080/"
        },
        "id": "zjbI-K01c77_",
        "outputId": "199d8ffa-e740-4d8b-94bb-856b5a98cdca"
      },
      "execution_count": 162,
      "outputs": [
        {
          "output_type": "stream",
          "name": "stdout",
          "text": [
            "              precision    recall  f1-score   support\n",
            "\n",
            "           0       0.73      0.71      0.72      1621\n",
            "           1       0.92      0.95      0.93      1695\n",
            "           2       0.93      0.93      0.93       912\n",
            "           3       0.76      0.76      0.76      1705\n",
            "\n",
            "    accuracy                           0.82      5933\n",
            "   macro avg       0.83      0.84      0.83      5933\n",
            "weighted avg       0.82      0.82      0.82      5933\n",
            "\n"
          ]
        }
      ]
    },
    {
      "cell_type": "code",
      "source": [
        "# save model\n",
        "import joblib\n",
        "\n",
        "joblib.dump(nb_model, 'naive_bayes_model.pkl')\n",
        "joblib.dump(vectorizer_nb, 'vectorizer_nb.pkl')"
      ],
      "metadata": {
        "id": "yHEvrXJZdOj3",
        "colab": {
          "base_uri": "https://localhost:8080/"
        },
        "outputId": "1c0e08aa-a6a8-4778-acb8-5515a4df2775"
      },
      "execution_count": 163,
      "outputs": [
        {
          "output_type": "execute_result",
          "data": {
            "text/plain": [
              "['vectorizer_nb.pkl']"
            ]
          },
          "metadata": {},
          "execution_count": 163
        }
      ]
    },
    {
      "cell_type": "markdown",
      "source": [
        "#Test"
      ],
      "metadata": {
        "id": "vleZi-EzLctW"
      }
    },
    {
      "cell_type": "code",
      "source": [
        "test=pd.read_csv(\"/content/drive/MyDrive/last quera project/test_data.csv\")"
      ],
      "metadata": {
        "id": "vovOoykxLdvT"
      },
      "execution_count": 92,
      "outputs": []
    },
    {
      "cell_type": "code",
      "source": [
        "test[\"CONTEXT\"]=test[\"Headline\"]+\". \"+test[\"Description\"]\n",
        "test.info()"
      ],
      "metadata": {
        "colab": {
          "base_uri": "https://localhost:8080/"
        },
        "id": "7AdGpQtXNRnB",
        "outputId": "002ea477-edb2-4eef-ae4c-a8a6e1f5b076"
      },
      "execution_count": 93,
      "outputs": [
        {
          "output_type": "stream",
          "name": "stdout",
          "text": [
            "<class 'pandas.core.frame.DataFrame'>\n",
            "RangeIndex: 340 entries, 0 to 339\n",
            "Data columns (total 3 columns):\n",
            " #   Column       Non-Null Count  Dtype \n",
            "---  ------       --------------  ----- \n",
            " 0   Headline     340 non-null    object\n",
            " 1   Description  340 non-null    object\n",
            " 2   CONTEXT      340 non-null    object\n",
            "dtypes: object(3)\n",
            "memory usage: 8.1+ KB\n"
          ]
        }
      ]
    },
    {
      "cell_type": "code",
      "source": [
        "test['CONTEXT'] = test['CONTEXT'].apply(remove_stopwords)\n"
      ],
      "metadata": {
        "id": "-DMGpeyyNUNz"
      },
      "execution_count": 94,
      "outputs": []
    },
    {
      "cell_type": "code",
      "source": [
        "X_test=test[\"CONTEXT\"]"
      ],
      "metadata": {
        "id": "YuC065HKTHOr"
      },
      "execution_count": 95,
      "outputs": []
    },
    {
      "cell_type": "code",
      "source": [
        "X_test_tfidf = vectorizer_nb.transform(X_test)"
      ],
      "metadata": {
        "id": "AEPyfu4VUCcg"
      },
      "execution_count": 112,
      "outputs": []
    },
    {
      "cell_type": "code",
      "source": [
        "y_pred_nb=nb_model.predict(X_test_tfidf)"
      ],
      "metadata": {
        "id": "HeKDXKNdOGJS"
      },
      "execution_count": 113,
      "outputs": []
    },
    {
      "cell_type": "code",
      "source": [
        "y_pred_nb\n"
      ],
      "metadata": {
        "colab": {
          "base_uri": "https://localhost:8080/"
        },
        "id": "sURleX49Nmjr",
        "outputId": "140f553a-b84b-4b31-a4eb-0bc5ab4554a9"
      },
      "execution_count": 114,
      "outputs": [
        {
          "output_type": "execute_result",
          "data": {
            "text/plain": [
              "array([0, 2, 2, 3, 0, 1, 0, 3, 2, 1, 1, 3, 2, 1, 1, 0, 2, 2, 0, 2, 2, 3,\n",
              "       2, 1, 0, 3, 2, 3, 0, 3, 0, 0, 0, 0, 1, 1, 1, 1, 3, 0, 0, 0, 0, 0,\n",
              "       1, 1, 2, 0, 2, 1, 0, 2, 0, 2, 0, 3, 1, 1, 1, 2, 2, 3, 0, 0, 1, 0,\n",
              "       0, 3, 0, 2, 0, 1, 2, 1, 1, 0, 3, 2, 0, 2, 2, 2, 0, 3, 0, 2, 3, 2,\n",
              "       2, 2, 1, 3, 2, 2, 0, 1, 0, 1, 0, 1, 3, 0, 1, 3, 0, 3, 0, 0, 1, 0,\n",
              "       1, 3, 2, 2, 0, 2, 0, 1, 1, 2, 1, 0, 3, 3, 0, 3, 2, 0, 1, 3, 0, 2,\n",
              "       1, 0, 0, 1, 3, 1, 3, 2, 3, 2, 1, 1, 3, 2, 3, 3, 1, 0, 3, 2, 1, 1,\n",
              "       3, 2, 0, 2, 3, 0, 2, 1, 3, 0, 1, 0, 1, 3, 1, 1, 0, 3, 1, 1, 2, 0,\n",
              "       0, 2, 0, 2, 0, 0, 0, 1, 0, 3, 1, 1, 0, 1, 0, 1, 2, 1, 3, 1, 3, 3,\n",
              "       1, 1, 0, 0, 2, 0, 1, 1, 3, 0, 2, 1, 1, 2, 2, 1, 1, 1, 1, 1, 1, 0,\n",
              "       3, 1, 1, 2, 1, 1, 1, 1, 3, 3, 3, 0, 3, 3, 0, 3, 1, 2, 1, 1, 3, 0,\n",
              "       2, 1, 2, 3, 0, 0, 1, 1, 2, 1, 1, 0, 2, 0, 1, 0, 2, 2, 0, 0, 1, 0,\n",
              "       2, 2, 1, 1, 0, 2, 3, 1, 2, 2, 1, 2, 2, 2, 3, 2, 2, 0, 0, 0, 1, 3,\n",
              "       2, 1, 1, 1, 3, 0, 0, 0, 1, 1, 0, 2, 0, 2, 0, 2, 2, 1, 0, 2, 1, 3,\n",
              "       1, 0, 0, 3, 1, 1, 2, 1, 2, 1, 0, 2, 3, 1, 1, 0, 2, 2, 1, 2, 3, 3,\n",
              "       0, 1, 2, 1, 3, 3, 2, 1, 2, 2])"
            ]
          },
          "metadata": {},
          "execution_count": 114
        }
      ]
    },
    {
      "cell_type": "code",
      "source": [
        "labels = {0: \"Business\",1: \"Politics\",2: \"Sport\",3: \"Tech\"}\n",
        "final=pd.DataFrame({\"predicted\":y_pred_nb})\n",
        "final[\"predicted\"]=final[\"predicted\"].apply(lambda x:labels[x])"
      ],
      "metadata": {
        "id": "lOYKTZAmPhmp"
      },
      "execution_count": 116,
      "outputs": []
    },
    {
      "cell_type": "code",
      "source": [
        "final.to_csv(\"q2_submission.csv\")"
      ],
      "metadata": {
        "id": "vPBWJhYlNu7A"
      },
      "execution_count": 118,
      "outputs": []
    },
    {
      "cell_type": "code",
      "source": [],
      "metadata": {
        "colab": {
          "base_uri": "https://localhost:8080/",
          "height": 53
        },
        "id": "lvYUcPe8PXoK",
        "outputId": "0363168c-e77d-4472-c304-55bc3b2963bd"
      },
      "execution_count": 137,
      "outputs": [
        {
          "output_type": "execute_result",
          "data": {
            "text/plain": [
              "\"Olympic Games Set Inspire Athletes Spectators Alike. Olympic Games promise showcase world's best athletes competing global stage, inspiring millions feats athleticism.\""
            ],
            "application/vnd.google.colaboratory.intrinsic+json": {
              "type": "string"
            }
          },
          "metadata": {},
          "execution_count": 137
        }
      ]
    },
    {
      "cell_type": "code",
      "source": [],
      "metadata": {
        "colab": {
          "base_uri": "https://localhost:8080/"
        },
        "id": "_CiFh4Gmc2bw",
        "outputId": "a18b597e-4cd1-4886-b1b8-38013abe7ddf"
      },
      "execution_count": 138,
      "outputs": [
        {
          "output_type": "execute_result",
          "data": {
            "text/plain": [
              "2"
            ]
          },
          "metadata": {},
          "execution_count": 138
        }
      ]
    },
    {
      "cell_type": "code",
      "source": [],
      "metadata": {
        "id": "CbSVtflnc4L_"
      },
      "execution_count": null,
      "outputs": []
    }
  ]
}