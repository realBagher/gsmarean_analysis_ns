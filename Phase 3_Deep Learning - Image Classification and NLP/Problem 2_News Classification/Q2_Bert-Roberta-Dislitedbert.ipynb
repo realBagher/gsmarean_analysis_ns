{
  "nbformat": 4,
  "nbformat_minor": 0,
  "metadata": {
    "colab": {
      "provenance": [],
      "collapsed_sections": [
        "dnYo_l4xJ_Sf",
        "DIFd8hJV-Sut",
        "HK4k_0pVNWQM",
        "x9KTslzGRdra",
        "8XDSHFGYgJgJ",
        "M89MvtSfI9HU",
        "_iJ8QIHf4wyl",
        "X483UYPVwlyG",
        "Cjv0Ew3EZ0mg",
        "Ufs9jf74Z5wC",
        "70T2xXjA-V-g",
        "QnflPh7O0MrB",
        "Z3eeJfzL6cjt",
        "hEY3XsLa0JY2"
      ]
    },
    "kernelspec": {
      "name": "python3",
      "display_name": "Python 3"
    },
    "language_info": {
      "name": "python"
    },
    "widgets": {
      "application/vnd.jupyter.widget-state+json": {
        "f1355b3c961f4cc4ab95b71f823d90ee": {
          "model_module": "@jupyter-widgets/controls",
          "model_name": "HBoxModel",
          "model_module_version": "1.5.0",
          "state": {
            "_dom_classes": [],
            "_model_module": "@jupyter-widgets/controls",
            "_model_module_version": "1.5.0",
            "_model_name": "HBoxModel",
            "_view_count": null,
            "_view_module": "@jupyter-widgets/controls",
            "_view_module_version": "1.5.0",
            "_view_name": "HBoxView",
            "box_style": "",
            "children": [
              "IPY_MODEL_6e63b09191b14feaa554e3c5d5b35f8c",
              "IPY_MODEL_3cf15ce556b442a9be4457a88a4ec9c9",
              "IPY_MODEL_269da7e451db422693bbfde3dd192e12"
            ],
            "layout": "IPY_MODEL_6cdfe20cc3d1495598e088f35907fcb1"
          }
        },
        "6e63b09191b14feaa554e3c5d5b35f8c": {
          "model_module": "@jupyter-widgets/controls",
          "model_name": "HTMLModel",
          "model_module_version": "1.5.0",
          "state": {
            "_dom_classes": [],
            "_model_module": "@jupyter-widgets/controls",
            "_model_module_version": "1.5.0",
            "_model_name": "HTMLModel",
            "_view_count": null,
            "_view_module": "@jupyter-widgets/controls",
            "_view_module_version": "1.5.0",
            "_view_name": "HTMLView",
            "description": "",
            "description_tooltip": null,
            "layout": "IPY_MODEL_8f0536203f7a4385a9ae86ef77454e4c",
            "placeholder": "​",
            "style": "IPY_MODEL_4b36e527d3934b1897545f61f10b32c5",
            "value": "vocab.json: 100%"
          }
        },
        "3cf15ce556b442a9be4457a88a4ec9c9": {
          "model_module": "@jupyter-widgets/controls",
          "model_name": "FloatProgressModel",
          "model_module_version": "1.5.0",
          "state": {
            "_dom_classes": [],
            "_model_module": "@jupyter-widgets/controls",
            "_model_module_version": "1.5.0",
            "_model_name": "FloatProgressModel",
            "_view_count": null,
            "_view_module": "@jupyter-widgets/controls",
            "_view_module_version": "1.5.0",
            "_view_name": "ProgressView",
            "bar_style": "success",
            "description": "",
            "description_tooltip": null,
            "layout": "IPY_MODEL_d056bee8e43746d5a21c0bac0b3966c2",
            "max": 898823,
            "min": 0,
            "orientation": "horizontal",
            "style": "IPY_MODEL_3766d1f75fc44152bf66857b47e62fec",
            "value": 898823
          }
        },
        "269da7e451db422693bbfde3dd192e12": {
          "model_module": "@jupyter-widgets/controls",
          "model_name": "HTMLModel",
          "model_module_version": "1.5.0",
          "state": {
            "_dom_classes": [],
            "_model_module": "@jupyter-widgets/controls",
            "_model_module_version": "1.5.0",
            "_model_name": "HTMLModel",
            "_view_count": null,
            "_view_module": "@jupyter-widgets/controls",
            "_view_module_version": "1.5.0",
            "_view_name": "HTMLView",
            "description": "",
            "description_tooltip": null,
            "layout": "IPY_MODEL_0d5aab9789224800950ab5c8e9916f0f",
            "placeholder": "​",
            "style": "IPY_MODEL_608765b74a2d4237aae4a58e3e3e8c27",
            "value": " 899k/899k [00:00&lt;00:00, 2.37MB/s]"
          }
        },
        "6cdfe20cc3d1495598e088f35907fcb1": {
          "model_module": "@jupyter-widgets/base",
          "model_name": "LayoutModel",
          "model_module_version": "1.2.0",
          "state": {
            "_model_module": "@jupyter-widgets/base",
            "_model_module_version": "1.2.0",
            "_model_name": "LayoutModel",
            "_view_count": null,
            "_view_module": "@jupyter-widgets/base",
            "_view_module_version": "1.2.0",
            "_view_name": "LayoutView",
            "align_content": null,
            "align_items": null,
            "align_self": null,
            "border": null,
            "bottom": null,
            "display": null,
            "flex": null,
            "flex_flow": null,
            "grid_area": null,
            "grid_auto_columns": null,
            "grid_auto_flow": null,
            "grid_auto_rows": null,
            "grid_column": null,
            "grid_gap": null,
            "grid_row": null,
            "grid_template_areas": null,
            "grid_template_columns": null,
            "grid_template_rows": null,
            "height": null,
            "justify_content": null,
            "justify_items": null,
            "left": null,
            "margin": null,
            "max_height": null,
            "max_width": null,
            "min_height": null,
            "min_width": null,
            "object_fit": null,
            "object_position": null,
            "order": null,
            "overflow": null,
            "overflow_x": null,
            "overflow_y": null,
            "padding": null,
            "right": null,
            "top": null,
            "visibility": null,
            "width": null
          }
        },
        "8f0536203f7a4385a9ae86ef77454e4c": {
          "model_module": "@jupyter-widgets/base",
          "model_name": "LayoutModel",
          "model_module_version": "1.2.0",
          "state": {
            "_model_module": "@jupyter-widgets/base",
            "_model_module_version": "1.2.0",
            "_model_name": "LayoutModel",
            "_view_count": null,
            "_view_module": "@jupyter-widgets/base",
            "_view_module_version": "1.2.0",
            "_view_name": "LayoutView",
            "align_content": null,
            "align_items": null,
            "align_self": null,
            "border": null,
            "bottom": null,
            "display": null,
            "flex": null,
            "flex_flow": null,
            "grid_area": null,
            "grid_auto_columns": null,
            "grid_auto_flow": null,
            "grid_auto_rows": null,
            "grid_column": null,
            "grid_gap": null,
            "grid_row": null,
            "grid_template_areas": null,
            "grid_template_columns": null,
            "grid_template_rows": null,
            "height": null,
            "justify_content": null,
            "justify_items": null,
            "left": null,
            "margin": null,
            "max_height": null,
            "max_width": null,
            "min_height": null,
            "min_width": null,
            "object_fit": null,
            "object_position": null,
            "order": null,
            "overflow": null,
            "overflow_x": null,
            "overflow_y": null,
            "padding": null,
            "right": null,
            "top": null,
            "visibility": null,
            "width": null
          }
        },
        "4b36e527d3934b1897545f61f10b32c5": {
          "model_module": "@jupyter-widgets/controls",
          "model_name": "DescriptionStyleModel",
          "model_module_version": "1.5.0",
          "state": {
            "_model_module": "@jupyter-widgets/controls",
            "_model_module_version": "1.5.0",
            "_model_name": "DescriptionStyleModel",
            "_view_count": null,
            "_view_module": "@jupyter-widgets/base",
            "_view_module_version": "1.2.0",
            "_view_name": "StyleView",
            "description_width": ""
          }
        },
        "d056bee8e43746d5a21c0bac0b3966c2": {
          "model_module": "@jupyter-widgets/base",
          "model_name": "LayoutModel",
          "model_module_version": "1.2.0",
          "state": {
            "_model_module": "@jupyter-widgets/base",
            "_model_module_version": "1.2.0",
            "_model_name": "LayoutModel",
            "_view_count": null,
            "_view_module": "@jupyter-widgets/base",
            "_view_module_version": "1.2.0",
            "_view_name": "LayoutView",
            "align_content": null,
            "align_items": null,
            "align_self": null,
            "border": null,
            "bottom": null,
            "display": null,
            "flex": null,
            "flex_flow": null,
            "grid_area": null,
            "grid_auto_columns": null,
            "grid_auto_flow": null,
            "grid_auto_rows": null,
            "grid_column": null,
            "grid_gap": null,
            "grid_row": null,
            "grid_template_areas": null,
            "grid_template_columns": null,
            "grid_template_rows": null,
            "height": null,
            "justify_content": null,
            "justify_items": null,
            "left": null,
            "margin": null,
            "max_height": null,
            "max_width": null,
            "min_height": null,
            "min_width": null,
            "object_fit": null,
            "object_position": null,
            "order": null,
            "overflow": null,
            "overflow_x": null,
            "overflow_y": null,
            "padding": null,
            "right": null,
            "top": null,
            "visibility": null,
            "width": null
          }
        },
        "3766d1f75fc44152bf66857b47e62fec": {
          "model_module": "@jupyter-widgets/controls",
          "model_name": "ProgressStyleModel",
          "model_module_version": "1.5.0",
          "state": {
            "_model_module": "@jupyter-widgets/controls",
            "_model_module_version": "1.5.0",
            "_model_name": "ProgressStyleModel",
            "_view_count": null,
            "_view_module": "@jupyter-widgets/base",
            "_view_module_version": "1.2.0",
            "_view_name": "StyleView",
            "bar_color": null,
            "description_width": ""
          }
        },
        "0d5aab9789224800950ab5c8e9916f0f": {
          "model_module": "@jupyter-widgets/base",
          "model_name": "LayoutModel",
          "model_module_version": "1.2.0",
          "state": {
            "_model_module": "@jupyter-widgets/base",
            "_model_module_version": "1.2.0",
            "_model_name": "LayoutModel",
            "_view_count": null,
            "_view_module": "@jupyter-widgets/base",
            "_view_module_version": "1.2.0",
            "_view_name": "LayoutView",
            "align_content": null,
            "align_items": null,
            "align_self": null,
            "border": null,
            "bottom": null,
            "display": null,
            "flex": null,
            "flex_flow": null,
            "grid_area": null,
            "grid_auto_columns": null,
            "grid_auto_flow": null,
            "grid_auto_rows": null,
            "grid_column": null,
            "grid_gap": null,
            "grid_row": null,
            "grid_template_areas": null,
            "grid_template_columns": null,
            "grid_template_rows": null,
            "height": null,
            "justify_content": null,
            "justify_items": null,
            "left": null,
            "margin": null,
            "max_height": null,
            "max_width": null,
            "min_height": null,
            "min_width": null,
            "object_fit": null,
            "object_position": null,
            "order": null,
            "overflow": null,
            "overflow_x": null,
            "overflow_y": null,
            "padding": null,
            "right": null,
            "top": null,
            "visibility": null,
            "width": null
          }
        },
        "608765b74a2d4237aae4a58e3e3e8c27": {
          "model_module": "@jupyter-widgets/controls",
          "model_name": "DescriptionStyleModel",
          "model_module_version": "1.5.0",
          "state": {
            "_model_module": "@jupyter-widgets/controls",
            "_model_module_version": "1.5.0",
            "_model_name": "DescriptionStyleModel",
            "_view_count": null,
            "_view_module": "@jupyter-widgets/base",
            "_view_module_version": "1.2.0",
            "_view_name": "StyleView",
            "description_width": ""
          }
        },
        "e4332a3299234eea937884b734e2ba3c": {
          "model_module": "@jupyter-widgets/controls",
          "model_name": "HBoxModel",
          "model_module_version": "1.5.0",
          "state": {
            "_dom_classes": [],
            "_model_module": "@jupyter-widgets/controls",
            "_model_module_version": "1.5.0",
            "_model_name": "HBoxModel",
            "_view_count": null,
            "_view_module": "@jupyter-widgets/controls",
            "_view_module_version": "1.5.0",
            "_view_name": "HBoxView",
            "box_style": "",
            "children": [
              "IPY_MODEL_acad733e4d5641c38d0de3c33edcde0b",
              "IPY_MODEL_343551fc31b642c6bb17912120db6fc5",
              "IPY_MODEL_a86bc72dc7ac4efab57bc3056e763ba2"
            ],
            "layout": "IPY_MODEL_ddd985bf900a40f28392deb34b695da3"
          }
        },
        "acad733e4d5641c38d0de3c33edcde0b": {
          "model_module": "@jupyter-widgets/controls",
          "model_name": "HTMLModel",
          "model_module_version": "1.5.0",
          "state": {
            "_dom_classes": [],
            "_model_module": "@jupyter-widgets/controls",
            "_model_module_version": "1.5.0",
            "_model_name": "HTMLModel",
            "_view_count": null,
            "_view_module": "@jupyter-widgets/controls",
            "_view_module_version": "1.5.0",
            "_view_name": "HTMLView",
            "description": "",
            "description_tooltip": null,
            "layout": "IPY_MODEL_a3e23473da834cbd8f7f8e2ec47430b7",
            "placeholder": "​",
            "style": "IPY_MODEL_b156bea0a5f941b6b9e933486d98ca58",
            "value": "merges.txt: 100%"
          }
        },
        "343551fc31b642c6bb17912120db6fc5": {
          "model_module": "@jupyter-widgets/controls",
          "model_name": "FloatProgressModel",
          "model_module_version": "1.5.0",
          "state": {
            "_dom_classes": [],
            "_model_module": "@jupyter-widgets/controls",
            "_model_module_version": "1.5.0",
            "_model_name": "FloatProgressModel",
            "_view_count": null,
            "_view_module": "@jupyter-widgets/controls",
            "_view_module_version": "1.5.0",
            "_view_name": "ProgressView",
            "bar_style": "success",
            "description": "",
            "description_tooltip": null,
            "layout": "IPY_MODEL_84d2c712c2834c26821d3790913b5af6",
            "max": 456318,
            "min": 0,
            "orientation": "horizontal",
            "style": "IPY_MODEL_07bc180d991d4469abc78adb1c5f9fd0",
            "value": 456318
          }
        },
        "a86bc72dc7ac4efab57bc3056e763ba2": {
          "model_module": "@jupyter-widgets/controls",
          "model_name": "HTMLModel",
          "model_module_version": "1.5.0",
          "state": {
            "_dom_classes": [],
            "_model_module": "@jupyter-widgets/controls",
            "_model_module_version": "1.5.0",
            "_model_name": "HTMLModel",
            "_view_count": null,
            "_view_module": "@jupyter-widgets/controls",
            "_view_module_version": "1.5.0",
            "_view_name": "HTMLView",
            "description": "",
            "description_tooltip": null,
            "layout": "IPY_MODEL_bb54bb3d81484f96bb9c16df74947b8c",
            "placeholder": "​",
            "style": "IPY_MODEL_344168f0e6a64cecbbad74a398bdefbe",
            "value": " 456k/456k [00:00&lt;00:00, 3.54MB/s]"
          }
        },
        "ddd985bf900a40f28392deb34b695da3": {
          "model_module": "@jupyter-widgets/base",
          "model_name": "LayoutModel",
          "model_module_version": "1.2.0",
          "state": {
            "_model_module": "@jupyter-widgets/base",
            "_model_module_version": "1.2.0",
            "_model_name": "LayoutModel",
            "_view_count": null,
            "_view_module": "@jupyter-widgets/base",
            "_view_module_version": "1.2.0",
            "_view_name": "LayoutView",
            "align_content": null,
            "align_items": null,
            "align_self": null,
            "border": null,
            "bottom": null,
            "display": null,
            "flex": null,
            "flex_flow": null,
            "grid_area": null,
            "grid_auto_columns": null,
            "grid_auto_flow": null,
            "grid_auto_rows": null,
            "grid_column": null,
            "grid_gap": null,
            "grid_row": null,
            "grid_template_areas": null,
            "grid_template_columns": null,
            "grid_template_rows": null,
            "height": null,
            "justify_content": null,
            "justify_items": null,
            "left": null,
            "margin": null,
            "max_height": null,
            "max_width": null,
            "min_height": null,
            "min_width": null,
            "object_fit": null,
            "object_position": null,
            "order": null,
            "overflow": null,
            "overflow_x": null,
            "overflow_y": null,
            "padding": null,
            "right": null,
            "top": null,
            "visibility": null,
            "width": null
          }
        },
        "a3e23473da834cbd8f7f8e2ec47430b7": {
          "model_module": "@jupyter-widgets/base",
          "model_name": "LayoutModel",
          "model_module_version": "1.2.0",
          "state": {
            "_model_module": "@jupyter-widgets/base",
            "_model_module_version": "1.2.0",
            "_model_name": "LayoutModel",
            "_view_count": null,
            "_view_module": "@jupyter-widgets/base",
            "_view_module_version": "1.2.0",
            "_view_name": "LayoutView",
            "align_content": null,
            "align_items": null,
            "align_self": null,
            "border": null,
            "bottom": null,
            "display": null,
            "flex": null,
            "flex_flow": null,
            "grid_area": null,
            "grid_auto_columns": null,
            "grid_auto_flow": null,
            "grid_auto_rows": null,
            "grid_column": null,
            "grid_gap": null,
            "grid_row": null,
            "grid_template_areas": null,
            "grid_template_columns": null,
            "grid_template_rows": null,
            "height": null,
            "justify_content": null,
            "justify_items": null,
            "left": null,
            "margin": null,
            "max_height": null,
            "max_width": null,
            "min_height": null,
            "min_width": null,
            "object_fit": null,
            "object_position": null,
            "order": null,
            "overflow": null,
            "overflow_x": null,
            "overflow_y": null,
            "padding": null,
            "right": null,
            "top": null,
            "visibility": null,
            "width": null
          }
        },
        "b156bea0a5f941b6b9e933486d98ca58": {
          "model_module": "@jupyter-widgets/controls",
          "model_name": "DescriptionStyleModel",
          "model_module_version": "1.5.0",
          "state": {
            "_model_module": "@jupyter-widgets/controls",
            "_model_module_version": "1.5.0",
            "_model_name": "DescriptionStyleModel",
            "_view_count": null,
            "_view_module": "@jupyter-widgets/base",
            "_view_module_version": "1.2.0",
            "_view_name": "StyleView",
            "description_width": ""
          }
        },
        "84d2c712c2834c26821d3790913b5af6": {
          "model_module": "@jupyter-widgets/base",
          "model_name": "LayoutModel",
          "model_module_version": "1.2.0",
          "state": {
            "_model_module": "@jupyter-widgets/base",
            "_model_module_version": "1.2.0",
            "_model_name": "LayoutModel",
            "_view_count": null,
            "_view_module": "@jupyter-widgets/base",
            "_view_module_version": "1.2.0",
            "_view_name": "LayoutView",
            "align_content": null,
            "align_items": null,
            "align_self": null,
            "border": null,
            "bottom": null,
            "display": null,
            "flex": null,
            "flex_flow": null,
            "grid_area": null,
            "grid_auto_columns": null,
            "grid_auto_flow": null,
            "grid_auto_rows": null,
            "grid_column": null,
            "grid_gap": null,
            "grid_row": null,
            "grid_template_areas": null,
            "grid_template_columns": null,
            "grid_template_rows": null,
            "height": null,
            "justify_content": null,
            "justify_items": null,
            "left": null,
            "margin": null,
            "max_height": null,
            "max_width": null,
            "min_height": null,
            "min_width": null,
            "object_fit": null,
            "object_position": null,
            "order": null,
            "overflow": null,
            "overflow_x": null,
            "overflow_y": null,
            "padding": null,
            "right": null,
            "top": null,
            "visibility": null,
            "width": null
          }
        },
        "07bc180d991d4469abc78adb1c5f9fd0": {
          "model_module": "@jupyter-widgets/controls",
          "model_name": "ProgressStyleModel",
          "model_module_version": "1.5.0",
          "state": {
            "_model_module": "@jupyter-widgets/controls",
            "_model_module_version": "1.5.0",
            "_model_name": "ProgressStyleModel",
            "_view_count": null,
            "_view_module": "@jupyter-widgets/base",
            "_view_module_version": "1.2.0",
            "_view_name": "StyleView",
            "bar_color": null,
            "description_width": ""
          }
        },
        "bb54bb3d81484f96bb9c16df74947b8c": {
          "model_module": "@jupyter-widgets/base",
          "model_name": "LayoutModel",
          "model_module_version": "1.2.0",
          "state": {
            "_model_module": "@jupyter-widgets/base",
            "_model_module_version": "1.2.0",
            "_model_name": "LayoutModel",
            "_view_count": null,
            "_view_module": "@jupyter-widgets/base",
            "_view_module_version": "1.2.0",
            "_view_name": "LayoutView",
            "align_content": null,
            "align_items": null,
            "align_self": null,
            "border": null,
            "bottom": null,
            "display": null,
            "flex": null,
            "flex_flow": null,
            "grid_area": null,
            "grid_auto_columns": null,
            "grid_auto_flow": null,
            "grid_auto_rows": null,
            "grid_column": null,
            "grid_gap": null,
            "grid_row": null,
            "grid_template_areas": null,
            "grid_template_columns": null,
            "grid_template_rows": null,
            "height": null,
            "justify_content": null,
            "justify_items": null,
            "left": null,
            "margin": null,
            "max_height": null,
            "max_width": null,
            "min_height": null,
            "min_width": null,
            "object_fit": null,
            "object_position": null,
            "order": null,
            "overflow": null,
            "overflow_x": null,
            "overflow_y": null,
            "padding": null,
            "right": null,
            "top": null,
            "visibility": null,
            "width": null
          }
        },
        "344168f0e6a64cecbbad74a398bdefbe": {
          "model_module": "@jupyter-widgets/controls",
          "model_name": "DescriptionStyleModel",
          "model_module_version": "1.5.0",
          "state": {
            "_model_module": "@jupyter-widgets/controls",
            "_model_module_version": "1.5.0",
            "_model_name": "DescriptionStyleModel",
            "_view_count": null,
            "_view_module": "@jupyter-widgets/base",
            "_view_module_version": "1.2.0",
            "_view_name": "StyleView",
            "description_width": ""
          }
        },
        "591181cdd4bf4b7286276ec3612c4043": {
          "model_module": "@jupyter-widgets/controls",
          "model_name": "HBoxModel",
          "model_module_version": "1.5.0",
          "state": {
            "_dom_classes": [],
            "_model_module": "@jupyter-widgets/controls",
            "_model_module_version": "1.5.0",
            "_model_name": "HBoxModel",
            "_view_count": null,
            "_view_module": "@jupyter-widgets/controls",
            "_view_module_version": "1.5.0",
            "_view_name": "HBoxView",
            "box_style": "",
            "children": [
              "IPY_MODEL_b4a87a84e1df4c7c82720ec8b0e4a36d",
              "IPY_MODEL_e8d3adfacda94f1aaaa7317c00c1d8d8",
              "IPY_MODEL_48b90520b45c485ebcef0004b67c2477"
            ],
            "layout": "IPY_MODEL_b9b26e62515046fa932a1ef509767814"
          }
        },
        "b4a87a84e1df4c7c82720ec8b0e4a36d": {
          "model_module": "@jupyter-widgets/controls",
          "model_name": "HTMLModel",
          "model_module_version": "1.5.0",
          "state": {
            "_dom_classes": [],
            "_model_module": "@jupyter-widgets/controls",
            "_model_module_version": "1.5.0",
            "_model_name": "HTMLModel",
            "_view_count": null,
            "_view_module": "@jupyter-widgets/controls",
            "_view_module_version": "1.5.0",
            "_view_name": "HTMLView",
            "description": "",
            "description_tooltip": null,
            "layout": "IPY_MODEL_5a907eff287344c79df0126fe07cb7e0",
            "placeholder": "​",
            "style": "IPY_MODEL_14aa940c6fdf45c39227024caad8ada3",
            "value": "tokenizer.json: 100%"
          }
        },
        "e8d3adfacda94f1aaaa7317c00c1d8d8": {
          "model_module": "@jupyter-widgets/controls",
          "model_name": "FloatProgressModel",
          "model_module_version": "1.5.0",
          "state": {
            "_dom_classes": [],
            "_model_module": "@jupyter-widgets/controls",
            "_model_module_version": "1.5.0",
            "_model_name": "FloatProgressModel",
            "_view_count": null,
            "_view_module": "@jupyter-widgets/controls",
            "_view_module_version": "1.5.0",
            "_view_name": "ProgressView",
            "bar_style": "success",
            "description": "",
            "description_tooltip": null,
            "layout": "IPY_MODEL_486a9e5539d44e9984fb2096e65d2977",
            "max": 1355863,
            "min": 0,
            "orientation": "horizontal",
            "style": "IPY_MODEL_1f2aba60ef724c868c0629ad79a1452c",
            "value": 1355863
          }
        },
        "48b90520b45c485ebcef0004b67c2477": {
          "model_module": "@jupyter-widgets/controls",
          "model_name": "HTMLModel",
          "model_module_version": "1.5.0",
          "state": {
            "_dom_classes": [],
            "_model_module": "@jupyter-widgets/controls",
            "_model_module_version": "1.5.0",
            "_model_name": "HTMLModel",
            "_view_count": null,
            "_view_module": "@jupyter-widgets/controls",
            "_view_module_version": "1.5.0",
            "_view_name": "HTMLView",
            "description": "",
            "description_tooltip": null,
            "layout": "IPY_MODEL_65a7358c63c54db6a84193e520621854",
            "placeholder": "​",
            "style": "IPY_MODEL_4ffc6447905e41278b95b804ce154ab1",
            "value": " 1.36M/1.36M [00:00&lt;00:00, 7.25MB/s]"
          }
        },
        "b9b26e62515046fa932a1ef509767814": {
          "model_module": "@jupyter-widgets/base",
          "model_name": "LayoutModel",
          "model_module_version": "1.2.0",
          "state": {
            "_model_module": "@jupyter-widgets/base",
            "_model_module_version": "1.2.0",
            "_model_name": "LayoutModel",
            "_view_count": null,
            "_view_module": "@jupyter-widgets/base",
            "_view_module_version": "1.2.0",
            "_view_name": "LayoutView",
            "align_content": null,
            "align_items": null,
            "align_self": null,
            "border": null,
            "bottom": null,
            "display": null,
            "flex": null,
            "flex_flow": null,
            "grid_area": null,
            "grid_auto_columns": null,
            "grid_auto_flow": null,
            "grid_auto_rows": null,
            "grid_column": null,
            "grid_gap": null,
            "grid_row": null,
            "grid_template_areas": null,
            "grid_template_columns": null,
            "grid_template_rows": null,
            "height": null,
            "justify_content": null,
            "justify_items": null,
            "left": null,
            "margin": null,
            "max_height": null,
            "max_width": null,
            "min_height": null,
            "min_width": null,
            "object_fit": null,
            "object_position": null,
            "order": null,
            "overflow": null,
            "overflow_x": null,
            "overflow_y": null,
            "padding": null,
            "right": null,
            "top": null,
            "visibility": null,
            "width": null
          }
        },
        "5a907eff287344c79df0126fe07cb7e0": {
          "model_module": "@jupyter-widgets/base",
          "model_name": "LayoutModel",
          "model_module_version": "1.2.0",
          "state": {
            "_model_module": "@jupyter-widgets/base",
            "_model_module_version": "1.2.0",
            "_model_name": "LayoutModel",
            "_view_count": null,
            "_view_module": "@jupyter-widgets/base",
            "_view_module_version": "1.2.0",
            "_view_name": "LayoutView",
            "align_content": null,
            "align_items": null,
            "align_self": null,
            "border": null,
            "bottom": null,
            "display": null,
            "flex": null,
            "flex_flow": null,
            "grid_area": null,
            "grid_auto_columns": null,
            "grid_auto_flow": null,
            "grid_auto_rows": null,
            "grid_column": null,
            "grid_gap": null,
            "grid_row": null,
            "grid_template_areas": null,
            "grid_template_columns": null,
            "grid_template_rows": null,
            "height": null,
            "justify_content": null,
            "justify_items": null,
            "left": null,
            "margin": null,
            "max_height": null,
            "max_width": null,
            "min_height": null,
            "min_width": null,
            "object_fit": null,
            "object_position": null,
            "order": null,
            "overflow": null,
            "overflow_x": null,
            "overflow_y": null,
            "padding": null,
            "right": null,
            "top": null,
            "visibility": null,
            "width": null
          }
        },
        "14aa940c6fdf45c39227024caad8ada3": {
          "model_module": "@jupyter-widgets/controls",
          "model_name": "DescriptionStyleModel",
          "model_module_version": "1.5.0",
          "state": {
            "_model_module": "@jupyter-widgets/controls",
            "_model_module_version": "1.5.0",
            "_model_name": "DescriptionStyleModel",
            "_view_count": null,
            "_view_module": "@jupyter-widgets/base",
            "_view_module_version": "1.2.0",
            "_view_name": "StyleView",
            "description_width": ""
          }
        },
        "486a9e5539d44e9984fb2096e65d2977": {
          "model_module": "@jupyter-widgets/base",
          "model_name": "LayoutModel",
          "model_module_version": "1.2.0",
          "state": {
            "_model_module": "@jupyter-widgets/base",
            "_model_module_version": "1.2.0",
            "_model_name": "LayoutModel",
            "_view_count": null,
            "_view_module": "@jupyter-widgets/base",
            "_view_module_version": "1.2.0",
            "_view_name": "LayoutView",
            "align_content": null,
            "align_items": null,
            "align_self": null,
            "border": null,
            "bottom": null,
            "display": null,
            "flex": null,
            "flex_flow": null,
            "grid_area": null,
            "grid_auto_columns": null,
            "grid_auto_flow": null,
            "grid_auto_rows": null,
            "grid_column": null,
            "grid_gap": null,
            "grid_row": null,
            "grid_template_areas": null,
            "grid_template_columns": null,
            "grid_template_rows": null,
            "height": null,
            "justify_content": null,
            "justify_items": null,
            "left": null,
            "margin": null,
            "max_height": null,
            "max_width": null,
            "min_height": null,
            "min_width": null,
            "object_fit": null,
            "object_position": null,
            "order": null,
            "overflow": null,
            "overflow_x": null,
            "overflow_y": null,
            "padding": null,
            "right": null,
            "top": null,
            "visibility": null,
            "width": null
          }
        },
        "1f2aba60ef724c868c0629ad79a1452c": {
          "model_module": "@jupyter-widgets/controls",
          "model_name": "ProgressStyleModel",
          "model_module_version": "1.5.0",
          "state": {
            "_model_module": "@jupyter-widgets/controls",
            "_model_module_version": "1.5.0",
            "_model_name": "ProgressStyleModel",
            "_view_count": null,
            "_view_module": "@jupyter-widgets/base",
            "_view_module_version": "1.2.0",
            "_view_name": "StyleView",
            "bar_color": null,
            "description_width": ""
          }
        },
        "65a7358c63c54db6a84193e520621854": {
          "model_module": "@jupyter-widgets/base",
          "model_name": "LayoutModel",
          "model_module_version": "1.2.0",
          "state": {
            "_model_module": "@jupyter-widgets/base",
            "_model_module_version": "1.2.0",
            "_model_name": "LayoutModel",
            "_view_count": null,
            "_view_module": "@jupyter-widgets/base",
            "_view_module_version": "1.2.0",
            "_view_name": "LayoutView",
            "align_content": null,
            "align_items": null,
            "align_self": null,
            "border": null,
            "bottom": null,
            "display": null,
            "flex": null,
            "flex_flow": null,
            "grid_area": null,
            "grid_auto_columns": null,
            "grid_auto_flow": null,
            "grid_auto_rows": null,
            "grid_column": null,
            "grid_gap": null,
            "grid_row": null,
            "grid_template_areas": null,
            "grid_template_columns": null,
            "grid_template_rows": null,
            "height": null,
            "justify_content": null,
            "justify_items": null,
            "left": null,
            "margin": null,
            "max_height": null,
            "max_width": null,
            "min_height": null,
            "min_width": null,
            "object_fit": null,
            "object_position": null,
            "order": null,
            "overflow": null,
            "overflow_x": null,
            "overflow_y": null,
            "padding": null,
            "right": null,
            "top": null,
            "visibility": null,
            "width": null
          }
        },
        "4ffc6447905e41278b95b804ce154ab1": {
          "model_module": "@jupyter-widgets/controls",
          "model_name": "DescriptionStyleModel",
          "model_module_version": "1.5.0",
          "state": {
            "_model_module": "@jupyter-widgets/controls",
            "_model_module_version": "1.5.0",
            "_model_name": "DescriptionStyleModel",
            "_view_count": null,
            "_view_module": "@jupyter-widgets/base",
            "_view_module_version": "1.2.0",
            "_view_name": "StyleView",
            "description_width": ""
          }
        },
        "8d934dd6f05948c886c10132b5b92d32": {
          "model_module": "@jupyter-widgets/controls",
          "model_name": "HBoxModel",
          "model_module_version": "1.5.0",
          "state": {
            "_dom_classes": [],
            "_model_module": "@jupyter-widgets/controls",
            "_model_module_version": "1.5.0",
            "_model_name": "HBoxModel",
            "_view_count": null,
            "_view_module": "@jupyter-widgets/controls",
            "_view_module_version": "1.5.0",
            "_view_name": "HBoxView",
            "box_style": "",
            "children": [
              "IPY_MODEL_4651ff821c8e4de69e1803fe071e5a8e",
              "IPY_MODEL_742a0670980649499df9cdab9b261104",
              "IPY_MODEL_4fefaa7998e9481595db43f9204ff470"
            ],
            "layout": "IPY_MODEL_8489cfe5b0e64b4fa16ab836af226d9b"
          }
        },
        "4651ff821c8e4de69e1803fe071e5a8e": {
          "model_module": "@jupyter-widgets/controls",
          "model_name": "HTMLModel",
          "model_module_version": "1.5.0",
          "state": {
            "_dom_classes": [],
            "_model_module": "@jupyter-widgets/controls",
            "_model_module_version": "1.5.0",
            "_model_name": "HTMLModel",
            "_view_count": null,
            "_view_module": "@jupyter-widgets/controls",
            "_view_module_version": "1.5.0",
            "_view_name": "HTMLView",
            "description": "",
            "description_tooltip": null,
            "layout": "IPY_MODEL_83fe4a32b86243e7a19f072be0d6f626",
            "placeholder": "​",
            "style": "IPY_MODEL_44c9e50ecc6c4631a9a542122d493eec",
            "value": "config.json: 100%"
          }
        },
        "742a0670980649499df9cdab9b261104": {
          "model_module": "@jupyter-widgets/controls",
          "model_name": "FloatProgressModel",
          "model_module_version": "1.5.0",
          "state": {
            "_dom_classes": [],
            "_model_module": "@jupyter-widgets/controls",
            "_model_module_version": "1.5.0",
            "_model_name": "FloatProgressModel",
            "_view_count": null,
            "_view_module": "@jupyter-widgets/controls",
            "_view_module_version": "1.5.0",
            "_view_name": "ProgressView",
            "bar_style": "success",
            "description": "",
            "description_tooltip": null,
            "layout": "IPY_MODEL_c6db56d52f6b457a8d094e4ba60470c8",
            "max": 694,
            "min": 0,
            "orientation": "horizontal",
            "style": "IPY_MODEL_511b5abc1a9a4b4fbcf7d9182f010832",
            "value": 694
          }
        },
        "4fefaa7998e9481595db43f9204ff470": {
          "model_module": "@jupyter-widgets/controls",
          "model_name": "HTMLModel",
          "model_module_version": "1.5.0",
          "state": {
            "_dom_classes": [],
            "_model_module": "@jupyter-widgets/controls",
            "_model_module_version": "1.5.0",
            "_model_name": "HTMLModel",
            "_view_count": null,
            "_view_module": "@jupyter-widgets/controls",
            "_view_module_version": "1.5.0",
            "_view_name": "HTMLView",
            "description": "",
            "description_tooltip": null,
            "layout": "IPY_MODEL_717cc06058d7409bbcad06b22e4abd61",
            "placeholder": "​",
            "style": "IPY_MODEL_6c1f1b7f47a342578b09d10d0c661522",
            "value": " 694/694 [00:00&lt;00:00, 53.7kB/s]"
          }
        },
        "8489cfe5b0e64b4fa16ab836af226d9b": {
          "model_module": "@jupyter-widgets/base",
          "model_name": "LayoutModel",
          "model_module_version": "1.2.0",
          "state": {
            "_model_module": "@jupyter-widgets/base",
            "_model_module_version": "1.2.0",
            "_model_name": "LayoutModel",
            "_view_count": null,
            "_view_module": "@jupyter-widgets/base",
            "_view_module_version": "1.2.0",
            "_view_name": "LayoutView",
            "align_content": null,
            "align_items": null,
            "align_self": null,
            "border": null,
            "bottom": null,
            "display": null,
            "flex": null,
            "flex_flow": null,
            "grid_area": null,
            "grid_auto_columns": null,
            "grid_auto_flow": null,
            "grid_auto_rows": null,
            "grid_column": null,
            "grid_gap": null,
            "grid_row": null,
            "grid_template_areas": null,
            "grid_template_columns": null,
            "grid_template_rows": null,
            "height": null,
            "justify_content": null,
            "justify_items": null,
            "left": null,
            "margin": null,
            "max_height": null,
            "max_width": null,
            "min_height": null,
            "min_width": null,
            "object_fit": null,
            "object_position": null,
            "order": null,
            "overflow": null,
            "overflow_x": null,
            "overflow_y": null,
            "padding": null,
            "right": null,
            "top": null,
            "visibility": null,
            "width": null
          }
        },
        "83fe4a32b86243e7a19f072be0d6f626": {
          "model_module": "@jupyter-widgets/base",
          "model_name": "LayoutModel",
          "model_module_version": "1.2.0",
          "state": {
            "_model_module": "@jupyter-widgets/base",
            "_model_module_version": "1.2.0",
            "_model_name": "LayoutModel",
            "_view_count": null,
            "_view_module": "@jupyter-widgets/base",
            "_view_module_version": "1.2.0",
            "_view_name": "LayoutView",
            "align_content": null,
            "align_items": null,
            "align_self": null,
            "border": null,
            "bottom": null,
            "display": null,
            "flex": null,
            "flex_flow": null,
            "grid_area": null,
            "grid_auto_columns": null,
            "grid_auto_flow": null,
            "grid_auto_rows": null,
            "grid_column": null,
            "grid_gap": null,
            "grid_row": null,
            "grid_template_areas": null,
            "grid_template_columns": null,
            "grid_template_rows": null,
            "height": null,
            "justify_content": null,
            "justify_items": null,
            "left": null,
            "margin": null,
            "max_height": null,
            "max_width": null,
            "min_height": null,
            "min_width": null,
            "object_fit": null,
            "object_position": null,
            "order": null,
            "overflow": null,
            "overflow_x": null,
            "overflow_y": null,
            "padding": null,
            "right": null,
            "top": null,
            "visibility": null,
            "width": null
          }
        },
        "44c9e50ecc6c4631a9a542122d493eec": {
          "model_module": "@jupyter-widgets/controls",
          "model_name": "DescriptionStyleModel",
          "model_module_version": "1.5.0",
          "state": {
            "_model_module": "@jupyter-widgets/controls",
            "_model_module_version": "1.5.0",
            "_model_name": "DescriptionStyleModel",
            "_view_count": null,
            "_view_module": "@jupyter-widgets/base",
            "_view_module_version": "1.2.0",
            "_view_name": "StyleView",
            "description_width": ""
          }
        },
        "c6db56d52f6b457a8d094e4ba60470c8": {
          "model_module": "@jupyter-widgets/base",
          "model_name": "LayoutModel",
          "model_module_version": "1.2.0",
          "state": {
            "_model_module": "@jupyter-widgets/base",
            "_model_module_version": "1.2.0",
            "_model_name": "LayoutModel",
            "_view_count": null,
            "_view_module": "@jupyter-widgets/base",
            "_view_module_version": "1.2.0",
            "_view_name": "LayoutView",
            "align_content": null,
            "align_items": null,
            "align_self": null,
            "border": null,
            "bottom": null,
            "display": null,
            "flex": null,
            "flex_flow": null,
            "grid_area": null,
            "grid_auto_columns": null,
            "grid_auto_flow": null,
            "grid_auto_rows": null,
            "grid_column": null,
            "grid_gap": null,
            "grid_row": null,
            "grid_template_areas": null,
            "grid_template_columns": null,
            "grid_template_rows": null,
            "height": null,
            "justify_content": null,
            "justify_items": null,
            "left": null,
            "margin": null,
            "max_height": null,
            "max_width": null,
            "min_height": null,
            "min_width": null,
            "object_fit": null,
            "object_position": null,
            "order": null,
            "overflow": null,
            "overflow_x": null,
            "overflow_y": null,
            "padding": null,
            "right": null,
            "top": null,
            "visibility": null,
            "width": null
          }
        },
        "511b5abc1a9a4b4fbcf7d9182f010832": {
          "model_module": "@jupyter-widgets/controls",
          "model_name": "ProgressStyleModel",
          "model_module_version": "1.5.0",
          "state": {
            "_model_module": "@jupyter-widgets/controls",
            "_model_module_version": "1.5.0",
            "_model_name": "ProgressStyleModel",
            "_view_count": null,
            "_view_module": "@jupyter-widgets/base",
            "_view_module_version": "1.2.0",
            "_view_name": "StyleView",
            "bar_color": null,
            "description_width": ""
          }
        },
        "717cc06058d7409bbcad06b22e4abd61": {
          "model_module": "@jupyter-widgets/base",
          "model_name": "LayoutModel",
          "model_module_version": "1.2.0",
          "state": {
            "_model_module": "@jupyter-widgets/base",
            "_model_module_version": "1.2.0",
            "_model_name": "LayoutModel",
            "_view_count": null,
            "_view_module": "@jupyter-widgets/base",
            "_view_module_version": "1.2.0",
            "_view_name": "LayoutView",
            "align_content": null,
            "align_items": null,
            "align_self": null,
            "border": null,
            "bottom": null,
            "display": null,
            "flex": null,
            "flex_flow": null,
            "grid_area": null,
            "grid_auto_columns": null,
            "grid_auto_flow": null,
            "grid_auto_rows": null,
            "grid_column": null,
            "grid_gap": null,
            "grid_row": null,
            "grid_template_areas": null,
            "grid_template_columns": null,
            "grid_template_rows": null,
            "height": null,
            "justify_content": null,
            "justify_items": null,
            "left": null,
            "margin": null,
            "max_height": null,
            "max_width": null,
            "min_height": null,
            "min_width": null,
            "object_fit": null,
            "object_position": null,
            "order": null,
            "overflow": null,
            "overflow_x": null,
            "overflow_y": null,
            "padding": null,
            "right": null,
            "top": null,
            "visibility": null,
            "width": null
          }
        },
        "6c1f1b7f47a342578b09d10d0c661522": {
          "model_module": "@jupyter-widgets/controls",
          "model_name": "DescriptionStyleModel",
          "model_module_version": "1.5.0",
          "state": {
            "_model_module": "@jupyter-widgets/controls",
            "_model_module_version": "1.5.0",
            "_model_name": "DescriptionStyleModel",
            "_view_count": null,
            "_view_module": "@jupyter-widgets/base",
            "_view_module_version": "1.2.0",
            "_view_name": "StyleView",
            "description_width": ""
          }
        },
        "e487023a24f74c678ea56f292eae6e9b": {
          "model_module": "@jupyter-widgets/controls",
          "model_name": "HBoxModel",
          "model_module_version": "1.5.0",
          "state": {
            "_dom_classes": [],
            "_model_module": "@jupyter-widgets/controls",
            "_model_module_version": "1.5.0",
            "_model_name": "HBoxModel",
            "_view_count": null,
            "_view_module": "@jupyter-widgets/controls",
            "_view_module_version": "1.5.0",
            "_view_name": "HBoxView",
            "box_style": "",
            "children": [
              "IPY_MODEL_ca5d4eda6c674399a25956e249df7213",
              "IPY_MODEL_15a5e44d96fd4492bc83582cf0e54ddf",
              "IPY_MODEL_9ff1592db87a4fa9b5e053ce4ed09176"
            ],
            "layout": "IPY_MODEL_f53afbbae57d4727a95116b196e1a262"
          }
        },
        "ca5d4eda6c674399a25956e249df7213": {
          "model_module": "@jupyter-widgets/controls",
          "model_name": "HTMLModel",
          "model_module_version": "1.5.0",
          "state": {
            "_dom_classes": [],
            "_model_module": "@jupyter-widgets/controls",
            "_model_module_version": "1.5.0",
            "_model_name": "HTMLModel",
            "_view_count": null,
            "_view_module": "@jupyter-widgets/controls",
            "_view_module_version": "1.5.0",
            "_view_name": "HTMLView",
            "description": "",
            "description_tooltip": null,
            "layout": "IPY_MODEL_39567d21cabf4e52bc5eee1b1c77d7bb",
            "placeholder": "​",
            "style": "IPY_MODEL_ced67b3e508c4ec3b291df4daacdee06",
            "value": "tf_model.h5: 100%"
          }
        },
        "15a5e44d96fd4492bc83582cf0e54ddf": {
          "model_module": "@jupyter-widgets/controls",
          "model_name": "FloatProgressModel",
          "model_module_version": "1.5.0",
          "state": {
            "_dom_classes": [],
            "_model_module": "@jupyter-widgets/controls",
            "_model_module_version": "1.5.0",
            "_model_name": "FloatProgressModel",
            "_view_count": null,
            "_view_module": "@jupyter-widgets/controls",
            "_view_module_version": "1.5.0",
            "_view_name": "ProgressView",
            "bar_style": "success",
            "description": "",
            "description_tooltip": null,
            "layout": "IPY_MODEL_28725a01b85342cdaab0a67dc3e75b17",
            "max": 764566772,
            "min": 0,
            "orientation": "horizontal",
            "style": "IPY_MODEL_18702959608f421fb7ff571ab5edc948",
            "value": 764566772
          }
        },
        "9ff1592db87a4fa9b5e053ce4ed09176": {
          "model_module": "@jupyter-widgets/controls",
          "model_name": "HTMLModel",
          "model_module_version": "1.5.0",
          "state": {
            "_dom_classes": [],
            "_model_module": "@jupyter-widgets/controls",
            "_model_module_version": "1.5.0",
            "_model_name": "HTMLModel",
            "_view_count": null,
            "_view_module": "@jupyter-widgets/controls",
            "_view_module_version": "1.5.0",
            "_view_name": "HTMLView",
            "description": "",
            "description_tooltip": null,
            "layout": "IPY_MODEL_cb5794a0dd5a450ba612fb0363262493",
            "placeholder": "​",
            "style": "IPY_MODEL_687583cafe98443989bb9ceef2b399af",
            "value": " 765M/765M [00:24&lt;00:00, 24.1MB/s]"
          }
        },
        "f53afbbae57d4727a95116b196e1a262": {
          "model_module": "@jupyter-widgets/base",
          "model_name": "LayoutModel",
          "model_module_version": "1.2.0",
          "state": {
            "_model_module": "@jupyter-widgets/base",
            "_model_module_version": "1.2.0",
            "_model_name": "LayoutModel",
            "_view_count": null,
            "_view_module": "@jupyter-widgets/base",
            "_view_module_version": "1.2.0",
            "_view_name": "LayoutView",
            "align_content": null,
            "align_items": null,
            "align_self": null,
            "border": null,
            "bottom": null,
            "display": null,
            "flex": null,
            "flex_flow": null,
            "grid_area": null,
            "grid_auto_columns": null,
            "grid_auto_flow": null,
            "grid_auto_rows": null,
            "grid_column": null,
            "grid_gap": null,
            "grid_row": null,
            "grid_template_areas": null,
            "grid_template_columns": null,
            "grid_template_rows": null,
            "height": null,
            "justify_content": null,
            "justify_items": null,
            "left": null,
            "margin": null,
            "max_height": null,
            "max_width": null,
            "min_height": null,
            "min_width": null,
            "object_fit": null,
            "object_position": null,
            "order": null,
            "overflow": null,
            "overflow_x": null,
            "overflow_y": null,
            "padding": null,
            "right": null,
            "top": null,
            "visibility": null,
            "width": null
          }
        },
        "39567d21cabf4e52bc5eee1b1c77d7bb": {
          "model_module": "@jupyter-widgets/base",
          "model_name": "LayoutModel",
          "model_module_version": "1.2.0",
          "state": {
            "_model_module": "@jupyter-widgets/base",
            "_model_module_version": "1.2.0",
            "_model_name": "LayoutModel",
            "_view_count": null,
            "_view_module": "@jupyter-widgets/base",
            "_view_module_version": "1.2.0",
            "_view_name": "LayoutView",
            "align_content": null,
            "align_items": null,
            "align_self": null,
            "border": null,
            "bottom": null,
            "display": null,
            "flex": null,
            "flex_flow": null,
            "grid_area": null,
            "grid_auto_columns": null,
            "grid_auto_flow": null,
            "grid_auto_rows": null,
            "grid_column": null,
            "grid_gap": null,
            "grid_row": null,
            "grid_template_areas": null,
            "grid_template_columns": null,
            "grid_template_rows": null,
            "height": null,
            "justify_content": null,
            "justify_items": null,
            "left": null,
            "margin": null,
            "max_height": null,
            "max_width": null,
            "min_height": null,
            "min_width": null,
            "object_fit": null,
            "object_position": null,
            "order": null,
            "overflow": null,
            "overflow_x": null,
            "overflow_y": null,
            "padding": null,
            "right": null,
            "top": null,
            "visibility": null,
            "width": null
          }
        },
        "ced67b3e508c4ec3b291df4daacdee06": {
          "model_module": "@jupyter-widgets/controls",
          "model_name": "DescriptionStyleModel",
          "model_module_version": "1.5.0",
          "state": {
            "_model_module": "@jupyter-widgets/controls",
            "_model_module_version": "1.5.0",
            "_model_name": "DescriptionStyleModel",
            "_view_count": null,
            "_view_module": "@jupyter-widgets/base",
            "_view_module_version": "1.2.0",
            "_view_name": "StyleView",
            "description_width": ""
          }
        },
        "28725a01b85342cdaab0a67dc3e75b17": {
          "model_module": "@jupyter-widgets/base",
          "model_name": "LayoutModel",
          "model_module_version": "1.2.0",
          "state": {
            "_model_module": "@jupyter-widgets/base",
            "_model_module_version": "1.2.0",
            "_model_name": "LayoutModel",
            "_view_count": null,
            "_view_module": "@jupyter-widgets/base",
            "_view_module_version": "1.2.0",
            "_view_name": "LayoutView",
            "align_content": null,
            "align_items": null,
            "align_self": null,
            "border": null,
            "bottom": null,
            "display": null,
            "flex": null,
            "flex_flow": null,
            "grid_area": null,
            "grid_auto_columns": null,
            "grid_auto_flow": null,
            "grid_auto_rows": null,
            "grid_column": null,
            "grid_gap": null,
            "grid_row": null,
            "grid_template_areas": null,
            "grid_template_columns": null,
            "grid_template_rows": null,
            "height": null,
            "justify_content": null,
            "justify_items": null,
            "left": null,
            "margin": null,
            "max_height": null,
            "max_width": null,
            "min_height": null,
            "min_width": null,
            "object_fit": null,
            "object_position": null,
            "order": null,
            "overflow": null,
            "overflow_x": null,
            "overflow_y": null,
            "padding": null,
            "right": null,
            "top": null,
            "visibility": null,
            "width": null
          }
        },
        "18702959608f421fb7ff571ab5edc948": {
          "model_module": "@jupyter-widgets/controls",
          "model_name": "ProgressStyleModel",
          "model_module_version": "1.5.0",
          "state": {
            "_model_module": "@jupyter-widgets/controls",
            "_model_module_version": "1.5.0",
            "_model_name": "ProgressStyleModel",
            "_view_count": null,
            "_view_module": "@jupyter-widgets/base",
            "_view_module_version": "1.2.0",
            "_view_name": "StyleView",
            "bar_color": null,
            "description_width": ""
          }
        },
        "cb5794a0dd5a450ba612fb0363262493": {
          "model_module": "@jupyter-widgets/base",
          "model_name": "LayoutModel",
          "model_module_version": "1.2.0",
          "state": {
            "_model_module": "@jupyter-widgets/base",
            "_model_module_version": "1.2.0",
            "_model_name": "LayoutModel",
            "_view_count": null,
            "_view_module": "@jupyter-widgets/base",
            "_view_module_version": "1.2.0",
            "_view_name": "LayoutView",
            "align_content": null,
            "align_items": null,
            "align_self": null,
            "border": null,
            "bottom": null,
            "display": null,
            "flex": null,
            "flex_flow": null,
            "grid_area": null,
            "grid_auto_columns": null,
            "grid_auto_flow": null,
            "grid_auto_rows": null,
            "grid_column": null,
            "grid_gap": null,
            "grid_row": null,
            "grid_template_areas": null,
            "grid_template_columns": null,
            "grid_template_rows": null,
            "height": null,
            "justify_content": null,
            "justify_items": null,
            "left": null,
            "margin": null,
            "max_height": null,
            "max_width": null,
            "min_height": null,
            "min_width": null,
            "object_fit": null,
            "object_position": null,
            "order": null,
            "overflow": null,
            "overflow_x": null,
            "overflow_y": null,
            "padding": null,
            "right": null,
            "top": null,
            "visibility": null,
            "width": null
          }
        },
        "687583cafe98443989bb9ceef2b399af": {
          "model_module": "@jupyter-widgets/controls",
          "model_name": "DescriptionStyleModel",
          "model_module_version": "1.5.0",
          "state": {
            "_model_module": "@jupyter-widgets/controls",
            "_model_module_version": "1.5.0",
            "_model_name": "DescriptionStyleModel",
            "_view_count": null,
            "_view_module": "@jupyter-widgets/base",
            "_view_module_version": "1.2.0",
            "_view_name": "StyleView",
            "description_width": ""
          }
        },
        "d300339e9c1d47bdb4847a0d3d14a4a7": {
          "model_module": "@jupyter-widgets/controls",
          "model_name": "HBoxModel",
          "model_module_version": "1.5.0",
          "state": {
            "_dom_classes": [],
            "_model_module": "@jupyter-widgets/controls",
            "_model_module_version": "1.5.0",
            "_model_name": "HBoxModel",
            "_view_count": null,
            "_view_module": "@jupyter-widgets/controls",
            "_view_module_version": "1.5.0",
            "_view_name": "HBoxView",
            "box_style": "",
            "children": [
              "IPY_MODEL_eff8eb75029d4ff5ab05df9ecc3b76c5",
              "IPY_MODEL_61fe4ed5354a438897dd94208863a157",
              "IPY_MODEL_e76134d36fbd4576bc342762a258dd4f"
            ],
            "layout": "IPY_MODEL_22271f490b15488f9e77a7e6e3240217"
          }
        },
        "eff8eb75029d4ff5ab05df9ecc3b76c5": {
          "model_module": "@jupyter-widgets/controls",
          "model_name": "HTMLModel",
          "model_module_version": "1.5.0",
          "state": {
            "_dom_classes": [],
            "_model_module": "@jupyter-widgets/controls",
            "_model_module_version": "1.5.0",
            "_model_name": "HTMLModel",
            "_view_count": null,
            "_view_module": "@jupyter-widgets/controls",
            "_view_module_version": "1.5.0",
            "_view_name": "HTMLView",
            "description": "",
            "description_tooltip": null,
            "layout": "IPY_MODEL_043faf462a094c1f82d1451075f2d53f",
            "placeholder": "​",
            "style": "IPY_MODEL_f93a181c24e5433abadddd5d4d8915da",
            "value": "tokenizer_config.json: 100%"
          }
        },
        "61fe4ed5354a438897dd94208863a157": {
          "model_module": "@jupyter-widgets/controls",
          "model_name": "FloatProgressModel",
          "model_module_version": "1.5.0",
          "state": {
            "_dom_classes": [],
            "_model_module": "@jupyter-widgets/controls",
            "_model_module_version": "1.5.0",
            "_model_name": "FloatProgressModel",
            "_view_count": null,
            "_view_module": "@jupyter-widgets/controls",
            "_view_module_version": "1.5.0",
            "_view_name": "ProgressView",
            "bar_style": "success",
            "description": "",
            "description_tooltip": null,
            "layout": "IPY_MODEL_da06c12df82741c2851c1f0d927dc113",
            "max": 1017,
            "min": 0,
            "orientation": "horizontal",
            "style": "IPY_MODEL_0750046d741a442c8d9f85edaf6324dc",
            "value": 1017
          }
        },
        "e76134d36fbd4576bc342762a258dd4f": {
          "model_module": "@jupyter-widgets/controls",
          "model_name": "HTMLModel",
          "model_module_version": "1.5.0",
          "state": {
            "_dom_classes": [],
            "_model_module": "@jupyter-widgets/controls",
            "_model_module_version": "1.5.0",
            "_model_name": "HTMLModel",
            "_view_count": null,
            "_view_module": "@jupyter-widgets/controls",
            "_view_module_version": "1.5.0",
            "_view_name": "HTMLView",
            "description": "",
            "description_tooltip": null,
            "layout": "IPY_MODEL_6cce397013264719907e02cae2a5dfcc",
            "placeholder": "​",
            "style": "IPY_MODEL_17d550adf2794fcf8148f8d5b20058c3",
            "value": " 1.02k/1.02k [00:00&lt;00:00, 49.9kB/s]"
          }
        },
        "22271f490b15488f9e77a7e6e3240217": {
          "model_module": "@jupyter-widgets/base",
          "model_name": "LayoutModel",
          "model_module_version": "1.2.0",
          "state": {
            "_model_module": "@jupyter-widgets/base",
            "_model_module_version": "1.2.0",
            "_model_name": "LayoutModel",
            "_view_count": null,
            "_view_module": "@jupyter-widgets/base",
            "_view_module_version": "1.2.0",
            "_view_name": "LayoutView",
            "align_content": null,
            "align_items": null,
            "align_self": null,
            "border": null,
            "bottom": null,
            "display": null,
            "flex": null,
            "flex_flow": null,
            "grid_area": null,
            "grid_auto_columns": null,
            "grid_auto_flow": null,
            "grid_auto_rows": null,
            "grid_column": null,
            "grid_gap": null,
            "grid_row": null,
            "grid_template_areas": null,
            "grid_template_columns": null,
            "grid_template_rows": null,
            "height": null,
            "justify_content": null,
            "justify_items": null,
            "left": null,
            "margin": null,
            "max_height": null,
            "max_width": null,
            "min_height": null,
            "min_width": null,
            "object_fit": null,
            "object_position": null,
            "order": null,
            "overflow": null,
            "overflow_x": null,
            "overflow_y": null,
            "padding": null,
            "right": null,
            "top": null,
            "visibility": null,
            "width": null
          }
        },
        "043faf462a094c1f82d1451075f2d53f": {
          "model_module": "@jupyter-widgets/base",
          "model_name": "LayoutModel",
          "model_module_version": "1.2.0",
          "state": {
            "_model_module": "@jupyter-widgets/base",
            "_model_module_version": "1.2.0",
            "_model_name": "LayoutModel",
            "_view_count": null,
            "_view_module": "@jupyter-widgets/base",
            "_view_module_version": "1.2.0",
            "_view_name": "LayoutView",
            "align_content": null,
            "align_items": null,
            "align_self": null,
            "border": null,
            "bottom": null,
            "display": null,
            "flex": null,
            "flex_flow": null,
            "grid_area": null,
            "grid_auto_columns": null,
            "grid_auto_flow": null,
            "grid_auto_rows": null,
            "grid_column": null,
            "grid_gap": null,
            "grid_row": null,
            "grid_template_areas": null,
            "grid_template_columns": null,
            "grid_template_rows": null,
            "height": null,
            "justify_content": null,
            "justify_items": null,
            "left": null,
            "margin": null,
            "max_height": null,
            "max_width": null,
            "min_height": null,
            "min_width": null,
            "object_fit": null,
            "object_position": null,
            "order": null,
            "overflow": null,
            "overflow_x": null,
            "overflow_y": null,
            "padding": null,
            "right": null,
            "top": null,
            "visibility": null,
            "width": null
          }
        },
        "f93a181c24e5433abadddd5d4d8915da": {
          "model_module": "@jupyter-widgets/controls",
          "model_name": "DescriptionStyleModel",
          "model_module_version": "1.5.0",
          "state": {
            "_model_module": "@jupyter-widgets/controls",
            "_model_module_version": "1.5.0",
            "_model_name": "DescriptionStyleModel",
            "_view_count": null,
            "_view_module": "@jupyter-widgets/base",
            "_view_module_version": "1.2.0",
            "_view_name": "StyleView",
            "description_width": ""
          }
        },
        "da06c12df82741c2851c1f0d927dc113": {
          "model_module": "@jupyter-widgets/base",
          "model_name": "LayoutModel",
          "model_module_version": "1.2.0",
          "state": {
            "_model_module": "@jupyter-widgets/base",
            "_model_module_version": "1.2.0",
            "_model_name": "LayoutModel",
            "_view_count": null,
            "_view_module": "@jupyter-widgets/base",
            "_view_module_version": "1.2.0",
            "_view_name": "LayoutView",
            "align_content": null,
            "align_items": null,
            "align_self": null,
            "border": null,
            "bottom": null,
            "display": null,
            "flex": null,
            "flex_flow": null,
            "grid_area": null,
            "grid_auto_columns": null,
            "grid_auto_flow": null,
            "grid_auto_rows": null,
            "grid_column": null,
            "grid_gap": null,
            "grid_row": null,
            "grid_template_areas": null,
            "grid_template_columns": null,
            "grid_template_rows": null,
            "height": null,
            "justify_content": null,
            "justify_items": null,
            "left": null,
            "margin": null,
            "max_height": null,
            "max_width": null,
            "min_height": null,
            "min_width": null,
            "object_fit": null,
            "object_position": null,
            "order": null,
            "overflow": null,
            "overflow_x": null,
            "overflow_y": null,
            "padding": null,
            "right": null,
            "top": null,
            "visibility": null,
            "width": null
          }
        },
        "0750046d741a442c8d9f85edaf6324dc": {
          "model_module": "@jupyter-widgets/controls",
          "model_name": "ProgressStyleModel",
          "model_module_version": "1.5.0",
          "state": {
            "_model_module": "@jupyter-widgets/controls",
            "_model_module_version": "1.5.0",
            "_model_name": "ProgressStyleModel",
            "_view_count": null,
            "_view_module": "@jupyter-widgets/base",
            "_view_module_version": "1.2.0",
            "_view_name": "StyleView",
            "bar_color": null,
            "description_width": ""
          }
        },
        "6cce397013264719907e02cae2a5dfcc": {
          "model_module": "@jupyter-widgets/base",
          "model_name": "LayoutModel",
          "model_module_version": "1.2.0",
          "state": {
            "_model_module": "@jupyter-widgets/base",
            "_model_module_version": "1.2.0",
            "_model_name": "LayoutModel",
            "_view_count": null,
            "_view_module": "@jupyter-widgets/base",
            "_view_module_version": "1.2.0",
            "_view_name": "LayoutView",
            "align_content": null,
            "align_items": null,
            "align_self": null,
            "border": null,
            "bottom": null,
            "display": null,
            "flex": null,
            "flex_flow": null,
            "grid_area": null,
            "grid_auto_columns": null,
            "grid_auto_flow": null,
            "grid_auto_rows": null,
            "grid_column": null,
            "grid_gap": null,
            "grid_row": null,
            "grid_template_areas": null,
            "grid_template_columns": null,
            "grid_template_rows": null,
            "height": null,
            "justify_content": null,
            "justify_items": null,
            "left": null,
            "margin": null,
            "max_height": null,
            "max_width": null,
            "min_height": null,
            "min_width": null,
            "object_fit": null,
            "object_position": null,
            "order": null,
            "overflow": null,
            "overflow_x": null,
            "overflow_y": null,
            "padding": null,
            "right": null,
            "top": null,
            "visibility": null,
            "width": null
          }
        },
        "17d550adf2794fcf8148f8d5b20058c3": {
          "model_module": "@jupyter-widgets/controls",
          "model_name": "DescriptionStyleModel",
          "model_module_version": "1.5.0",
          "state": {
            "_model_module": "@jupyter-widgets/controls",
            "_model_module_version": "1.5.0",
            "_model_name": "DescriptionStyleModel",
            "_view_count": null,
            "_view_module": "@jupyter-widgets/base",
            "_view_module_version": "1.2.0",
            "_view_name": "StyleView",
            "description_width": ""
          }
        },
        "25e29aae041e4abca00e6c00f2a9d673": {
          "model_module": "@jupyter-widgets/controls",
          "model_name": "HBoxModel",
          "model_module_version": "1.5.0",
          "state": {
            "_dom_classes": [],
            "_model_module": "@jupyter-widgets/controls",
            "_model_module_version": "1.5.0",
            "_model_name": "HBoxModel",
            "_view_count": null,
            "_view_module": "@jupyter-widgets/controls",
            "_view_module_version": "1.5.0",
            "_view_name": "HBoxView",
            "box_style": "",
            "children": [
              "IPY_MODEL_64160a3bc4e5407c9f15b3704d9a4b26",
              "IPY_MODEL_b6e81b4ae9e94ec6a83a30f18cc0118b",
              "IPY_MODEL_199fa6d74ca841a2ae59e007f79e1ca1"
            ],
            "layout": "IPY_MODEL_39085e86afba4c3ca62de9d28b71fc61"
          }
        },
        "64160a3bc4e5407c9f15b3704d9a4b26": {
          "model_module": "@jupyter-widgets/controls",
          "model_name": "HTMLModel",
          "model_module_version": "1.5.0",
          "state": {
            "_dom_classes": [],
            "_model_module": "@jupyter-widgets/controls",
            "_model_module_version": "1.5.0",
            "_model_name": "HTMLModel",
            "_view_count": null,
            "_view_module": "@jupyter-widgets/controls",
            "_view_module_version": "1.5.0",
            "_view_name": "HTMLView",
            "description": "",
            "description_tooltip": null,
            "layout": "IPY_MODEL_0b3c4a9c0dd940a5bff086a96dc8e6cb",
            "placeholder": "​",
            "style": "IPY_MODEL_85bb91f60ff44c35a35ebe6b4b098971",
            "value": "spiece.model: 100%"
          }
        },
        "b6e81b4ae9e94ec6a83a30f18cc0118b": {
          "model_module": "@jupyter-widgets/controls",
          "model_name": "FloatProgressModel",
          "model_module_version": "1.5.0",
          "state": {
            "_dom_classes": [],
            "_model_module": "@jupyter-widgets/controls",
            "_model_module_version": "1.5.0",
            "_model_name": "FloatProgressModel",
            "_view_count": null,
            "_view_module": "@jupyter-widgets/controls",
            "_view_module_version": "1.5.0",
            "_view_name": "ProgressView",
            "bar_style": "success",
            "description": "",
            "description_tooltip": null,
            "layout": "IPY_MODEL_035bb0921b4546e69941f5ddb83fd91a",
            "max": 845731,
            "min": 0,
            "orientation": "horizontal",
            "style": "IPY_MODEL_a054a0a4f3574d2bbde13570eee0d930",
            "value": 845731
          }
        },
        "199fa6d74ca841a2ae59e007f79e1ca1": {
          "model_module": "@jupyter-widgets/controls",
          "model_name": "HTMLModel",
          "model_module_version": "1.5.0",
          "state": {
            "_dom_classes": [],
            "_model_module": "@jupyter-widgets/controls",
            "_model_module_version": "1.5.0",
            "_model_name": "HTMLModel",
            "_view_count": null,
            "_view_module": "@jupyter-widgets/controls",
            "_view_module_version": "1.5.0",
            "_view_name": "HTMLView",
            "description": "",
            "description_tooltip": null,
            "layout": "IPY_MODEL_dd8495777c9a4b04bb69096f9cc90603",
            "placeholder": "​",
            "style": "IPY_MODEL_c8f7b9d594614bd99ed8976f1e340fa3",
            "value": " 846k/846k [00:00&lt;00:00, 45.7MB/s]"
          }
        },
        "39085e86afba4c3ca62de9d28b71fc61": {
          "model_module": "@jupyter-widgets/base",
          "model_name": "LayoutModel",
          "model_module_version": "1.2.0",
          "state": {
            "_model_module": "@jupyter-widgets/base",
            "_model_module_version": "1.2.0",
            "_model_name": "LayoutModel",
            "_view_count": null,
            "_view_module": "@jupyter-widgets/base",
            "_view_module_version": "1.2.0",
            "_view_name": "LayoutView",
            "align_content": null,
            "align_items": null,
            "align_self": null,
            "border": null,
            "bottom": null,
            "display": null,
            "flex": null,
            "flex_flow": null,
            "grid_area": null,
            "grid_auto_columns": null,
            "grid_auto_flow": null,
            "grid_auto_rows": null,
            "grid_column": null,
            "grid_gap": null,
            "grid_row": null,
            "grid_template_areas": null,
            "grid_template_columns": null,
            "grid_template_rows": null,
            "height": null,
            "justify_content": null,
            "justify_items": null,
            "left": null,
            "margin": null,
            "max_height": null,
            "max_width": null,
            "min_height": null,
            "min_width": null,
            "object_fit": null,
            "object_position": null,
            "order": null,
            "overflow": null,
            "overflow_x": null,
            "overflow_y": null,
            "padding": null,
            "right": null,
            "top": null,
            "visibility": null,
            "width": null
          }
        },
        "0b3c4a9c0dd940a5bff086a96dc8e6cb": {
          "model_module": "@jupyter-widgets/base",
          "model_name": "LayoutModel",
          "model_module_version": "1.2.0",
          "state": {
            "_model_module": "@jupyter-widgets/base",
            "_model_module_version": "1.2.0",
            "_model_name": "LayoutModel",
            "_view_count": null,
            "_view_module": "@jupyter-widgets/base",
            "_view_module_version": "1.2.0",
            "_view_name": "LayoutView",
            "align_content": null,
            "align_items": null,
            "align_self": null,
            "border": null,
            "bottom": null,
            "display": null,
            "flex": null,
            "flex_flow": null,
            "grid_area": null,
            "grid_auto_columns": null,
            "grid_auto_flow": null,
            "grid_auto_rows": null,
            "grid_column": null,
            "grid_gap": null,
            "grid_row": null,
            "grid_template_areas": null,
            "grid_template_columns": null,
            "grid_template_rows": null,
            "height": null,
            "justify_content": null,
            "justify_items": null,
            "left": null,
            "margin": null,
            "max_height": null,
            "max_width": null,
            "min_height": null,
            "min_width": null,
            "object_fit": null,
            "object_position": null,
            "order": null,
            "overflow": null,
            "overflow_x": null,
            "overflow_y": null,
            "padding": null,
            "right": null,
            "top": null,
            "visibility": null,
            "width": null
          }
        },
        "85bb91f60ff44c35a35ebe6b4b098971": {
          "model_module": "@jupyter-widgets/controls",
          "model_name": "DescriptionStyleModel",
          "model_module_version": "1.5.0",
          "state": {
            "_model_module": "@jupyter-widgets/controls",
            "_model_module_version": "1.5.0",
            "_model_name": "DescriptionStyleModel",
            "_view_count": null,
            "_view_module": "@jupyter-widgets/base",
            "_view_module_version": "1.2.0",
            "_view_name": "StyleView",
            "description_width": ""
          }
        },
        "035bb0921b4546e69941f5ddb83fd91a": {
          "model_module": "@jupyter-widgets/base",
          "model_name": "LayoutModel",
          "model_module_version": "1.2.0",
          "state": {
            "_model_module": "@jupyter-widgets/base",
            "_model_module_version": "1.2.0",
            "_model_name": "LayoutModel",
            "_view_count": null,
            "_view_module": "@jupyter-widgets/base",
            "_view_module_version": "1.2.0",
            "_view_name": "LayoutView",
            "align_content": null,
            "align_items": null,
            "align_self": null,
            "border": null,
            "bottom": null,
            "display": null,
            "flex": null,
            "flex_flow": null,
            "grid_area": null,
            "grid_auto_columns": null,
            "grid_auto_flow": null,
            "grid_auto_rows": null,
            "grid_column": null,
            "grid_gap": null,
            "grid_row": null,
            "grid_template_areas": null,
            "grid_template_columns": null,
            "grid_template_rows": null,
            "height": null,
            "justify_content": null,
            "justify_items": null,
            "left": null,
            "margin": null,
            "max_height": null,
            "max_width": null,
            "min_height": null,
            "min_width": null,
            "object_fit": null,
            "object_position": null,
            "order": null,
            "overflow": null,
            "overflow_x": null,
            "overflow_y": null,
            "padding": null,
            "right": null,
            "top": null,
            "visibility": null,
            "width": null
          }
        },
        "a054a0a4f3574d2bbde13570eee0d930": {
          "model_module": "@jupyter-widgets/controls",
          "model_name": "ProgressStyleModel",
          "model_module_version": "1.5.0",
          "state": {
            "_model_module": "@jupyter-widgets/controls",
            "_model_module_version": "1.5.0",
            "_model_name": "ProgressStyleModel",
            "_view_count": null,
            "_view_module": "@jupyter-widgets/base",
            "_view_module_version": "1.2.0",
            "_view_name": "StyleView",
            "bar_color": null,
            "description_width": ""
          }
        },
        "dd8495777c9a4b04bb69096f9cc90603": {
          "model_module": "@jupyter-widgets/base",
          "model_name": "LayoutModel",
          "model_module_version": "1.2.0",
          "state": {
            "_model_module": "@jupyter-widgets/base",
            "_model_module_version": "1.2.0",
            "_model_name": "LayoutModel",
            "_view_count": null,
            "_view_module": "@jupyter-widgets/base",
            "_view_module_version": "1.2.0",
            "_view_name": "LayoutView",
            "align_content": null,
            "align_items": null,
            "align_self": null,
            "border": null,
            "bottom": null,
            "display": null,
            "flex": null,
            "flex_flow": null,
            "grid_area": null,
            "grid_auto_columns": null,
            "grid_auto_flow": null,
            "grid_auto_rows": null,
            "grid_column": null,
            "grid_gap": null,
            "grid_row": null,
            "grid_template_areas": null,
            "grid_template_columns": null,
            "grid_template_rows": null,
            "height": null,
            "justify_content": null,
            "justify_items": null,
            "left": null,
            "margin": null,
            "max_height": null,
            "max_width": null,
            "min_height": null,
            "min_width": null,
            "object_fit": null,
            "object_position": null,
            "order": null,
            "overflow": null,
            "overflow_x": null,
            "overflow_y": null,
            "padding": null,
            "right": null,
            "top": null,
            "visibility": null,
            "width": null
          }
        },
        "c8f7b9d594614bd99ed8976f1e340fa3": {
          "model_module": "@jupyter-widgets/controls",
          "model_name": "DescriptionStyleModel",
          "model_module_version": "1.5.0",
          "state": {
            "_model_module": "@jupyter-widgets/controls",
            "_model_module_version": "1.5.0",
            "_model_name": "DescriptionStyleModel",
            "_view_count": null,
            "_view_module": "@jupyter-widgets/base",
            "_view_module_version": "1.2.0",
            "_view_name": "StyleView",
            "description_width": ""
          }
        },
        "15925255261b4988923c3295da7f7d61": {
          "model_module": "@jupyter-widgets/controls",
          "model_name": "HBoxModel",
          "model_module_version": "1.5.0",
          "state": {
            "_dom_classes": [],
            "_model_module": "@jupyter-widgets/controls",
            "_model_module_version": "1.5.0",
            "_model_name": "HBoxModel",
            "_view_count": null,
            "_view_module": "@jupyter-widgets/controls",
            "_view_module_version": "1.5.0",
            "_view_name": "HBoxView",
            "box_style": "",
            "children": [
              "IPY_MODEL_11b7f0a969784cb3936715aa8b6a0b1c",
              "IPY_MODEL_ed5fd005192b47f6a0e5f29794a2ae17",
              "IPY_MODEL_c58a628125154e5d92c6cfae42a36289"
            ],
            "layout": "IPY_MODEL_f06d3bb9e5b04bf8b0160cf46c07ed11"
          }
        },
        "11b7f0a969784cb3936715aa8b6a0b1c": {
          "model_module": "@jupyter-widgets/controls",
          "model_name": "HTMLModel",
          "model_module_version": "1.5.0",
          "state": {
            "_dom_classes": [],
            "_model_module": "@jupyter-widgets/controls",
            "_model_module_version": "1.5.0",
            "_model_name": "HTMLModel",
            "_view_count": null,
            "_view_module": "@jupyter-widgets/controls",
            "_view_module_version": "1.5.0",
            "_view_name": "HTMLView",
            "description": "",
            "description_tooltip": null,
            "layout": "IPY_MODEL_091975f644434edcac2e868288fdd30d",
            "placeholder": "​",
            "style": "IPY_MODEL_84ed8d7308034d4fa824dec66ee29af1",
            "value": "special_tokens_map.json: 100%"
          }
        },
        "ed5fd005192b47f6a0e5f29794a2ae17": {
          "model_module": "@jupyter-widgets/controls",
          "model_name": "FloatProgressModel",
          "model_module_version": "1.5.0",
          "state": {
            "_dom_classes": [],
            "_model_module": "@jupyter-widgets/controls",
            "_model_module_version": "1.5.0",
            "_model_name": "FloatProgressModel",
            "_view_count": null,
            "_view_module": "@jupyter-widgets/controls",
            "_view_module_version": "1.5.0",
            "_view_name": "ProgressView",
            "bar_style": "success",
            "description": "",
            "description_tooltip": null,
            "layout": "IPY_MODEL_0bf93a3cecc046b2ae2a6959e184972b",
            "max": 775,
            "min": 0,
            "orientation": "horizontal",
            "style": "IPY_MODEL_589018e8d3b243dfadd83e60b56f9ed0",
            "value": 775
          }
        },
        "c58a628125154e5d92c6cfae42a36289": {
          "model_module": "@jupyter-widgets/controls",
          "model_name": "HTMLModel",
          "model_module_version": "1.5.0",
          "state": {
            "_dom_classes": [],
            "_model_module": "@jupyter-widgets/controls",
            "_model_module_version": "1.5.0",
            "_model_name": "HTMLModel",
            "_view_count": null,
            "_view_module": "@jupyter-widgets/controls",
            "_view_module_version": "1.5.0",
            "_view_name": "HTMLView",
            "description": "",
            "description_tooltip": null,
            "layout": "IPY_MODEL_928ca15038804674bd0cf67ff4a5650f",
            "placeholder": "​",
            "style": "IPY_MODEL_43a9a44b446a435ab6b138ff58a3a9a3",
            "value": " 775/775 [00:00&lt;00:00, 56.6kB/s]"
          }
        },
        "f06d3bb9e5b04bf8b0160cf46c07ed11": {
          "model_module": "@jupyter-widgets/base",
          "model_name": "LayoutModel",
          "model_module_version": "1.2.0",
          "state": {
            "_model_module": "@jupyter-widgets/base",
            "_model_module_version": "1.2.0",
            "_model_name": "LayoutModel",
            "_view_count": null,
            "_view_module": "@jupyter-widgets/base",
            "_view_module_version": "1.2.0",
            "_view_name": "LayoutView",
            "align_content": null,
            "align_items": null,
            "align_self": null,
            "border": null,
            "bottom": null,
            "display": null,
            "flex": null,
            "flex_flow": null,
            "grid_area": null,
            "grid_auto_columns": null,
            "grid_auto_flow": null,
            "grid_auto_rows": null,
            "grid_column": null,
            "grid_gap": null,
            "grid_row": null,
            "grid_template_areas": null,
            "grid_template_columns": null,
            "grid_template_rows": null,
            "height": null,
            "justify_content": null,
            "justify_items": null,
            "left": null,
            "margin": null,
            "max_height": null,
            "max_width": null,
            "min_height": null,
            "min_width": null,
            "object_fit": null,
            "object_position": null,
            "order": null,
            "overflow": null,
            "overflow_x": null,
            "overflow_y": null,
            "padding": null,
            "right": null,
            "top": null,
            "visibility": null,
            "width": null
          }
        },
        "091975f644434edcac2e868288fdd30d": {
          "model_module": "@jupyter-widgets/base",
          "model_name": "LayoutModel",
          "model_module_version": "1.2.0",
          "state": {
            "_model_module": "@jupyter-widgets/base",
            "_model_module_version": "1.2.0",
            "_model_name": "LayoutModel",
            "_view_count": null,
            "_view_module": "@jupyter-widgets/base",
            "_view_module_version": "1.2.0",
            "_view_name": "LayoutView",
            "align_content": null,
            "align_items": null,
            "align_self": null,
            "border": null,
            "bottom": null,
            "display": null,
            "flex": null,
            "flex_flow": null,
            "grid_area": null,
            "grid_auto_columns": null,
            "grid_auto_flow": null,
            "grid_auto_rows": null,
            "grid_column": null,
            "grid_gap": null,
            "grid_row": null,
            "grid_template_areas": null,
            "grid_template_columns": null,
            "grid_template_rows": null,
            "height": null,
            "justify_content": null,
            "justify_items": null,
            "left": null,
            "margin": null,
            "max_height": null,
            "max_width": null,
            "min_height": null,
            "min_width": null,
            "object_fit": null,
            "object_position": null,
            "order": null,
            "overflow": null,
            "overflow_x": null,
            "overflow_y": null,
            "padding": null,
            "right": null,
            "top": null,
            "visibility": null,
            "width": null
          }
        },
        "84ed8d7308034d4fa824dec66ee29af1": {
          "model_module": "@jupyter-widgets/controls",
          "model_name": "DescriptionStyleModel",
          "model_module_version": "1.5.0",
          "state": {
            "_model_module": "@jupyter-widgets/controls",
            "_model_module_version": "1.5.0",
            "_model_name": "DescriptionStyleModel",
            "_view_count": null,
            "_view_module": "@jupyter-widgets/base",
            "_view_module_version": "1.2.0",
            "_view_name": "StyleView",
            "description_width": ""
          }
        },
        "0bf93a3cecc046b2ae2a6959e184972b": {
          "model_module": "@jupyter-widgets/base",
          "model_name": "LayoutModel",
          "model_module_version": "1.2.0",
          "state": {
            "_model_module": "@jupyter-widgets/base",
            "_model_module_version": "1.2.0",
            "_model_name": "LayoutModel",
            "_view_count": null,
            "_view_module": "@jupyter-widgets/base",
            "_view_module_version": "1.2.0",
            "_view_name": "LayoutView",
            "align_content": null,
            "align_items": null,
            "align_self": null,
            "border": null,
            "bottom": null,
            "display": null,
            "flex": null,
            "flex_flow": null,
            "grid_area": null,
            "grid_auto_columns": null,
            "grid_auto_flow": null,
            "grid_auto_rows": null,
            "grid_column": null,
            "grid_gap": null,
            "grid_row": null,
            "grid_template_areas": null,
            "grid_template_columns": null,
            "grid_template_rows": null,
            "height": null,
            "justify_content": null,
            "justify_items": null,
            "left": null,
            "margin": null,
            "max_height": null,
            "max_width": null,
            "min_height": null,
            "min_width": null,
            "object_fit": null,
            "object_position": null,
            "order": null,
            "overflow": null,
            "overflow_x": null,
            "overflow_y": null,
            "padding": null,
            "right": null,
            "top": null,
            "visibility": null,
            "width": null
          }
        },
        "589018e8d3b243dfadd83e60b56f9ed0": {
          "model_module": "@jupyter-widgets/controls",
          "model_name": "ProgressStyleModel",
          "model_module_version": "1.5.0",
          "state": {
            "_model_module": "@jupyter-widgets/controls",
            "_model_module_version": "1.5.0",
            "_model_name": "ProgressStyleModel",
            "_view_count": null,
            "_view_module": "@jupyter-widgets/base",
            "_view_module_version": "1.2.0",
            "_view_name": "StyleView",
            "bar_color": null,
            "description_width": ""
          }
        },
        "928ca15038804674bd0cf67ff4a5650f": {
          "model_module": "@jupyter-widgets/base",
          "model_name": "LayoutModel",
          "model_module_version": "1.2.0",
          "state": {
            "_model_module": "@jupyter-widgets/base",
            "_model_module_version": "1.2.0",
            "_model_name": "LayoutModel",
            "_view_count": null,
            "_view_module": "@jupyter-widgets/base",
            "_view_module_version": "1.2.0",
            "_view_name": "LayoutView",
            "align_content": null,
            "align_items": null,
            "align_self": null,
            "border": null,
            "bottom": null,
            "display": null,
            "flex": null,
            "flex_flow": null,
            "grid_area": null,
            "grid_auto_columns": null,
            "grid_auto_flow": null,
            "grid_auto_rows": null,
            "grid_column": null,
            "grid_gap": null,
            "grid_row": null,
            "grid_template_areas": null,
            "grid_template_columns": null,
            "grid_template_rows": null,
            "height": null,
            "justify_content": null,
            "justify_items": null,
            "left": null,
            "margin": null,
            "max_height": null,
            "max_width": null,
            "min_height": null,
            "min_width": null,
            "object_fit": null,
            "object_position": null,
            "order": null,
            "overflow": null,
            "overflow_x": null,
            "overflow_y": null,
            "padding": null,
            "right": null,
            "top": null,
            "visibility": null,
            "width": null
          }
        },
        "43a9a44b446a435ab6b138ff58a3a9a3": {
          "model_module": "@jupyter-widgets/controls",
          "model_name": "DescriptionStyleModel",
          "model_module_version": "1.5.0",
          "state": {
            "_model_module": "@jupyter-widgets/controls",
            "_model_module_version": "1.5.0",
            "_model_name": "DescriptionStyleModel",
            "_view_count": null,
            "_view_module": "@jupyter-widgets/base",
            "_view_module_version": "1.2.0",
            "_view_name": "StyleView",
            "description_width": ""
          }
        },
        "1f96981c665b4780b04cbab3edfdd3e4": {
          "model_module": "@jupyter-widgets/controls",
          "model_name": "HBoxModel",
          "model_module_version": "1.5.0",
          "state": {
            "_dom_classes": [],
            "_model_module": "@jupyter-widgets/controls",
            "_model_module_version": "1.5.0",
            "_model_name": "HBoxModel",
            "_view_count": null,
            "_view_module": "@jupyter-widgets/controls",
            "_view_module_version": "1.5.0",
            "_view_name": "HBoxView",
            "box_style": "",
            "children": [
              "IPY_MODEL_52336efd508d4d80afd0fcad571b5611",
              "IPY_MODEL_57827f9d7fea458baf1bdddec6b7b808",
              "IPY_MODEL_53b9be5a5d794556b5720ce434abb88f"
            ],
            "layout": "IPY_MODEL_d5c939303a4942e8abdab55a83934929"
          }
        },
        "52336efd508d4d80afd0fcad571b5611": {
          "model_module": "@jupyter-widgets/controls",
          "model_name": "HTMLModel",
          "model_module_version": "1.5.0",
          "state": {
            "_dom_classes": [],
            "_model_module": "@jupyter-widgets/controls",
            "_model_module_version": "1.5.0",
            "_model_name": "HTMLModel",
            "_view_count": null,
            "_view_module": "@jupyter-widgets/controls",
            "_view_module_version": "1.5.0",
            "_view_name": "HTMLView",
            "description": "",
            "description_tooltip": null,
            "layout": "IPY_MODEL_896c845e38d543d1a9c10e240b74a5a7",
            "placeholder": "​",
            "style": "IPY_MODEL_e029ba2c0d984978b1824b10ad480de4",
            "value": "config.json: 100%"
          }
        },
        "57827f9d7fea458baf1bdddec6b7b808": {
          "model_module": "@jupyter-widgets/controls",
          "model_name": "FloatProgressModel",
          "model_module_version": "1.5.0",
          "state": {
            "_dom_classes": [],
            "_model_module": "@jupyter-widgets/controls",
            "_model_module_version": "1.5.0",
            "_model_name": "FloatProgressModel",
            "_view_count": null,
            "_view_module": "@jupyter-widgets/controls",
            "_view_module_version": "1.5.0",
            "_view_name": "ProgressView",
            "bar_style": "success",
            "description": "",
            "description_tooltip": null,
            "layout": "IPY_MODEL_a7ae2b4624e44b4daf3c9e47d7a7c3b1",
            "max": 760,
            "min": 0,
            "orientation": "horizontal",
            "style": "IPY_MODEL_ff811557376d49f6a39611d6d62045c8",
            "value": 760
          }
        },
        "53b9be5a5d794556b5720ce434abb88f": {
          "model_module": "@jupyter-widgets/controls",
          "model_name": "HTMLModel",
          "model_module_version": "1.5.0",
          "state": {
            "_dom_classes": [],
            "_model_module": "@jupyter-widgets/controls",
            "_model_module_version": "1.5.0",
            "_model_name": "HTMLModel",
            "_view_count": null,
            "_view_module": "@jupyter-widgets/controls",
            "_view_module_version": "1.5.0",
            "_view_name": "HTMLView",
            "description": "",
            "description_tooltip": null,
            "layout": "IPY_MODEL_0471e4e3204c49599062ae78ef9ef56f",
            "placeholder": "​",
            "style": "IPY_MODEL_5c84942d316e4a40998e8c740561ca4f",
            "value": " 760/760 [00:00&lt;00:00, 57.4kB/s]"
          }
        },
        "d5c939303a4942e8abdab55a83934929": {
          "model_module": "@jupyter-widgets/base",
          "model_name": "LayoutModel",
          "model_module_version": "1.2.0",
          "state": {
            "_model_module": "@jupyter-widgets/base",
            "_model_module_version": "1.2.0",
            "_model_name": "LayoutModel",
            "_view_count": null,
            "_view_module": "@jupyter-widgets/base",
            "_view_module_version": "1.2.0",
            "_view_name": "LayoutView",
            "align_content": null,
            "align_items": null,
            "align_self": null,
            "border": null,
            "bottom": null,
            "display": null,
            "flex": null,
            "flex_flow": null,
            "grid_area": null,
            "grid_auto_columns": null,
            "grid_auto_flow": null,
            "grid_auto_rows": null,
            "grid_column": null,
            "grid_gap": null,
            "grid_row": null,
            "grid_template_areas": null,
            "grid_template_columns": null,
            "grid_template_rows": null,
            "height": null,
            "justify_content": null,
            "justify_items": null,
            "left": null,
            "margin": null,
            "max_height": null,
            "max_width": null,
            "min_height": null,
            "min_width": null,
            "object_fit": null,
            "object_position": null,
            "order": null,
            "overflow": null,
            "overflow_x": null,
            "overflow_y": null,
            "padding": null,
            "right": null,
            "top": null,
            "visibility": null,
            "width": null
          }
        },
        "896c845e38d543d1a9c10e240b74a5a7": {
          "model_module": "@jupyter-widgets/base",
          "model_name": "LayoutModel",
          "model_module_version": "1.2.0",
          "state": {
            "_model_module": "@jupyter-widgets/base",
            "_model_module_version": "1.2.0",
            "_model_name": "LayoutModel",
            "_view_count": null,
            "_view_module": "@jupyter-widgets/base",
            "_view_module_version": "1.2.0",
            "_view_name": "LayoutView",
            "align_content": null,
            "align_items": null,
            "align_self": null,
            "border": null,
            "bottom": null,
            "display": null,
            "flex": null,
            "flex_flow": null,
            "grid_area": null,
            "grid_auto_columns": null,
            "grid_auto_flow": null,
            "grid_auto_rows": null,
            "grid_column": null,
            "grid_gap": null,
            "grid_row": null,
            "grid_template_areas": null,
            "grid_template_columns": null,
            "grid_template_rows": null,
            "height": null,
            "justify_content": null,
            "justify_items": null,
            "left": null,
            "margin": null,
            "max_height": null,
            "max_width": null,
            "min_height": null,
            "min_width": null,
            "object_fit": null,
            "object_position": null,
            "order": null,
            "overflow": null,
            "overflow_x": null,
            "overflow_y": null,
            "padding": null,
            "right": null,
            "top": null,
            "visibility": null,
            "width": null
          }
        },
        "e029ba2c0d984978b1824b10ad480de4": {
          "model_module": "@jupyter-widgets/controls",
          "model_name": "DescriptionStyleModel",
          "model_module_version": "1.5.0",
          "state": {
            "_model_module": "@jupyter-widgets/controls",
            "_model_module_version": "1.5.0",
            "_model_name": "DescriptionStyleModel",
            "_view_count": null,
            "_view_module": "@jupyter-widgets/base",
            "_view_module_version": "1.2.0",
            "_view_name": "StyleView",
            "description_width": ""
          }
        },
        "a7ae2b4624e44b4daf3c9e47d7a7c3b1": {
          "model_module": "@jupyter-widgets/base",
          "model_name": "LayoutModel",
          "model_module_version": "1.2.0",
          "state": {
            "_model_module": "@jupyter-widgets/base",
            "_model_module_version": "1.2.0",
            "_model_name": "LayoutModel",
            "_view_count": null,
            "_view_module": "@jupyter-widgets/base",
            "_view_module_version": "1.2.0",
            "_view_name": "LayoutView",
            "align_content": null,
            "align_items": null,
            "align_self": null,
            "border": null,
            "bottom": null,
            "display": null,
            "flex": null,
            "flex_flow": null,
            "grid_area": null,
            "grid_auto_columns": null,
            "grid_auto_flow": null,
            "grid_auto_rows": null,
            "grid_column": null,
            "grid_gap": null,
            "grid_row": null,
            "grid_template_areas": null,
            "grid_template_columns": null,
            "grid_template_rows": null,
            "height": null,
            "justify_content": null,
            "justify_items": null,
            "left": null,
            "margin": null,
            "max_height": null,
            "max_width": null,
            "min_height": null,
            "min_width": null,
            "object_fit": null,
            "object_position": null,
            "order": null,
            "overflow": null,
            "overflow_x": null,
            "overflow_y": null,
            "padding": null,
            "right": null,
            "top": null,
            "visibility": null,
            "width": null
          }
        },
        "ff811557376d49f6a39611d6d62045c8": {
          "model_module": "@jupyter-widgets/controls",
          "model_name": "ProgressStyleModel",
          "model_module_version": "1.5.0",
          "state": {
            "_model_module": "@jupyter-widgets/controls",
            "_model_module_version": "1.5.0",
            "_model_name": "ProgressStyleModel",
            "_view_count": null,
            "_view_module": "@jupyter-widgets/base",
            "_view_module_version": "1.2.0",
            "_view_name": "StyleView",
            "bar_color": null,
            "description_width": ""
          }
        },
        "0471e4e3204c49599062ae78ef9ef56f": {
          "model_module": "@jupyter-widgets/base",
          "model_name": "LayoutModel",
          "model_module_version": "1.2.0",
          "state": {
            "_model_module": "@jupyter-widgets/base",
            "_model_module_version": "1.2.0",
            "_model_name": "LayoutModel",
            "_view_count": null,
            "_view_module": "@jupyter-widgets/base",
            "_view_module_version": "1.2.0",
            "_view_name": "LayoutView",
            "align_content": null,
            "align_items": null,
            "align_self": null,
            "border": null,
            "bottom": null,
            "display": null,
            "flex": null,
            "flex_flow": null,
            "grid_area": null,
            "grid_auto_columns": null,
            "grid_auto_flow": null,
            "grid_auto_rows": null,
            "grid_column": null,
            "grid_gap": null,
            "grid_row": null,
            "grid_template_areas": null,
            "grid_template_columns": null,
            "grid_template_rows": null,
            "height": null,
            "justify_content": null,
            "justify_items": null,
            "left": null,
            "margin": null,
            "max_height": null,
            "max_width": null,
            "min_height": null,
            "min_width": null,
            "object_fit": null,
            "object_position": null,
            "order": null,
            "overflow": null,
            "overflow_x": null,
            "overflow_y": null,
            "padding": null,
            "right": null,
            "top": null,
            "visibility": null,
            "width": null
          }
        },
        "5c84942d316e4a40998e8c740561ca4f": {
          "model_module": "@jupyter-widgets/controls",
          "model_name": "DescriptionStyleModel",
          "model_module_version": "1.5.0",
          "state": {
            "_model_module": "@jupyter-widgets/controls",
            "_model_module_version": "1.5.0",
            "_model_name": "DescriptionStyleModel",
            "_view_count": null,
            "_view_module": "@jupyter-widgets/base",
            "_view_module_version": "1.2.0",
            "_view_name": "StyleView",
            "description_width": ""
          }
        }
      }
    }
  },
  "cells": [
    {
      "cell_type": "markdown",
      "source": [
        "# library"
      ],
      "metadata": {
        "id": "dnYo_l4xJ_Sf"
      }
    },
    {
      "cell_type": "code",
      "source": [
        "import numpy as np\n",
        "import pandas as pd\n",
        "import matplotlib.pyplot as plt\n",
        "import seaborn as sns\n",
        "from sklearn.model_selection import train_test_split"
      ],
      "metadata": {
        "id": "SyDrALdgKJyO"
      },
      "execution_count": 2,
      "outputs": []
    },
    {
      "cell_type": "code",
      "source": [
        "from google.colab import drive\n",
        "drive.mount('/content/drive')"
      ],
      "metadata": {
        "colab": {
          "base_uri": "https://localhost:8080/"
        },
        "id": "XCSzU5ZTV4U1",
        "outputId": "520ada74-99b0-412e-dec6-2396b3952e00"
      },
      "execution_count": 3,
      "outputs": [
        {
          "output_type": "stream",
          "name": "stdout",
          "text": [
            "Drive already mounted at /content/drive; to attempt to forcibly remount, call drive.mount(\"/content/drive\", force_remount=True).\n"
          ]
        }
      ]
    },
    {
      "cell_type": "markdown",
      "source": [
        "# data"
      ],
      "metadata": {
        "id": "95cfyqmqKGTu"
      }
    },
    {
      "cell_type": "markdown",
      "source": [
        "## step1 --> collect"
      ],
      "metadata": {
        "id": "9px7bczzzqKv"
      }
    },
    {
      "cell_type": "markdown",
      "source": [
        "### data1 -- Times -- complete"
      ],
      "metadata": {
        "id": "DIFd8hJV-Sut"
      }
    },
    {
      "cell_type": "code",
      "source": [
        "bussines = pd.read_excel('/content/business.xlsx')\n",
        "politics = pd.read_excel('/content/politics.xlsx')\n",
        "sports = pd.read_excel('/content/sports.xlsx')\n",
        "tech1 = pd.read_excel('/content/tech1.xlsx')\n",
        "tech2 = pd.read_excel('/content/tech2.xlsx')\n",
        "tech3 = pd.read_excel('/content/tech3.xlsx')\n",
        "tech4 = pd.read_excel('/content/tech4.xlsx')"
      ],
      "metadata": {
        "id": "GGTNJX3VqJ5w",
        "colab": {
          "base_uri": "https://localhost:8080/",
          "height": 373
        },
        "outputId": "a95e7f8b-3b7e-4182-9a62-ddb0956c6541"
      },
      "execution_count": null,
      "outputs": [
        {
          "output_type": "error",
          "ename": "FileNotFoundError",
          "evalue": "[Errno 2] No such file or directory: '/content/business.xlsx'",
          "traceback": [
            "\u001b[0;31m---------------------------------------------------------------------------\u001b[0m",
            "\u001b[0;31mFileNotFoundError\u001b[0m                         Traceback (most recent call last)",
            "\u001b[0;32m<ipython-input-56-ccf98f4de332>\u001b[0m in \u001b[0;36m<cell line: 1>\u001b[0;34m()\u001b[0m\n\u001b[0;32m----> 1\u001b[0;31m \u001b[0mbussines\u001b[0m \u001b[0;34m=\u001b[0m \u001b[0mpd\u001b[0m\u001b[0;34m.\u001b[0m\u001b[0mread_excel\u001b[0m\u001b[0;34m(\u001b[0m\u001b[0;34m'/content/business.xlsx'\u001b[0m\u001b[0;34m)\u001b[0m\u001b[0;34m\u001b[0m\u001b[0;34m\u001b[0m\u001b[0m\n\u001b[0m\u001b[1;32m      2\u001b[0m \u001b[0mpolitics\u001b[0m \u001b[0;34m=\u001b[0m \u001b[0mpd\u001b[0m\u001b[0;34m.\u001b[0m\u001b[0mread_excel\u001b[0m\u001b[0;34m(\u001b[0m\u001b[0;34m'/content/politics.xlsx'\u001b[0m\u001b[0;34m)\u001b[0m\u001b[0;34m\u001b[0m\u001b[0;34m\u001b[0m\u001b[0m\n\u001b[1;32m      3\u001b[0m \u001b[0msports\u001b[0m \u001b[0;34m=\u001b[0m \u001b[0mpd\u001b[0m\u001b[0;34m.\u001b[0m\u001b[0mread_excel\u001b[0m\u001b[0;34m(\u001b[0m\u001b[0;34m'/content/sports.xlsx'\u001b[0m\u001b[0;34m)\u001b[0m\u001b[0;34m\u001b[0m\u001b[0;34m\u001b[0m\u001b[0m\n\u001b[1;32m      4\u001b[0m \u001b[0mtech1\u001b[0m \u001b[0;34m=\u001b[0m \u001b[0mpd\u001b[0m\u001b[0;34m.\u001b[0m\u001b[0mread_excel\u001b[0m\u001b[0;34m(\u001b[0m\u001b[0;34m'/content/tech1.xlsx'\u001b[0m\u001b[0;34m)\u001b[0m\u001b[0;34m\u001b[0m\u001b[0;34m\u001b[0m\u001b[0m\n\u001b[1;32m      5\u001b[0m \u001b[0mtech2\u001b[0m \u001b[0;34m=\u001b[0m \u001b[0mpd\u001b[0m\u001b[0;34m.\u001b[0m\u001b[0mread_excel\u001b[0m\u001b[0;34m(\u001b[0m\u001b[0;34m'/content/tech2.xlsx'\u001b[0m\u001b[0;34m)\u001b[0m\u001b[0;34m\u001b[0m\u001b[0;34m\u001b[0m\u001b[0m\n",
            "\u001b[0;32m/usr/local/lib/python3.10/dist-packages/pandas/io/excel/_base.py\u001b[0m in \u001b[0;36mread_excel\u001b[0;34m(io, sheet_name, header, names, index_col, usecols, dtype, engine, converters, true_values, false_values, skiprows, nrows, na_values, keep_default_na, na_filter, verbose, parse_dates, date_parser, date_format, thousands, decimal, comment, skipfooter, storage_options, dtype_backend)\u001b[0m\n\u001b[1;32m    476\u001b[0m     \u001b[0;32mif\u001b[0m \u001b[0;32mnot\u001b[0m \u001b[0misinstance\u001b[0m\u001b[0;34m(\u001b[0m\u001b[0mio\u001b[0m\u001b[0;34m,\u001b[0m \u001b[0mExcelFile\u001b[0m\u001b[0;34m)\u001b[0m\u001b[0;34m:\u001b[0m\u001b[0;34m\u001b[0m\u001b[0;34m\u001b[0m\u001b[0m\n\u001b[1;32m    477\u001b[0m         \u001b[0mshould_close\u001b[0m \u001b[0;34m=\u001b[0m \u001b[0;32mTrue\u001b[0m\u001b[0;34m\u001b[0m\u001b[0;34m\u001b[0m\u001b[0m\n\u001b[0;32m--> 478\u001b[0;31m         \u001b[0mio\u001b[0m \u001b[0;34m=\u001b[0m \u001b[0mExcelFile\u001b[0m\u001b[0;34m(\u001b[0m\u001b[0mio\u001b[0m\u001b[0;34m,\u001b[0m \u001b[0mstorage_options\u001b[0m\u001b[0;34m=\u001b[0m\u001b[0mstorage_options\u001b[0m\u001b[0;34m,\u001b[0m \u001b[0mengine\u001b[0m\u001b[0;34m=\u001b[0m\u001b[0mengine\u001b[0m\u001b[0;34m)\u001b[0m\u001b[0;34m\u001b[0m\u001b[0;34m\u001b[0m\u001b[0m\n\u001b[0m\u001b[1;32m    479\u001b[0m     \u001b[0;32melif\u001b[0m \u001b[0mengine\u001b[0m \u001b[0;32mand\u001b[0m \u001b[0mengine\u001b[0m \u001b[0;34m!=\u001b[0m \u001b[0mio\u001b[0m\u001b[0;34m.\u001b[0m\u001b[0mengine\u001b[0m\u001b[0;34m:\u001b[0m\u001b[0;34m\u001b[0m\u001b[0;34m\u001b[0m\u001b[0m\n\u001b[1;32m    480\u001b[0m         raise ValueError(\n",
            "\u001b[0;32m/usr/local/lib/python3.10/dist-packages/pandas/io/excel/_base.py\u001b[0m in \u001b[0;36m__init__\u001b[0;34m(self, path_or_buffer, engine, storage_options)\u001b[0m\n\u001b[1;32m   1494\u001b[0m                 \u001b[0mext\u001b[0m \u001b[0;34m=\u001b[0m \u001b[0;34m\"xls\"\u001b[0m\u001b[0;34m\u001b[0m\u001b[0;34m\u001b[0m\u001b[0m\n\u001b[1;32m   1495\u001b[0m             \u001b[0;32melse\u001b[0m\u001b[0;34m:\u001b[0m\u001b[0;34m\u001b[0m\u001b[0;34m\u001b[0m\u001b[0m\n\u001b[0;32m-> 1496\u001b[0;31m                 ext = inspect_excel_format(\n\u001b[0m\u001b[1;32m   1497\u001b[0m                     \u001b[0mcontent_or_path\u001b[0m\u001b[0;34m=\u001b[0m\u001b[0mpath_or_buffer\u001b[0m\u001b[0;34m,\u001b[0m \u001b[0mstorage_options\u001b[0m\u001b[0;34m=\u001b[0m\u001b[0mstorage_options\u001b[0m\u001b[0;34m\u001b[0m\u001b[0;34m\u001b[0m\u001b[0m\n\u001b[1;32m   1498\u001b[0m                 )\n",
            "\u001b[0;32m/usr/local/lib/python3.10/dist-packages/pandas/io/excel/_base.py\u001b[0m in \u001b[0;36minspect_excel_format\u001b[0;34m(content_or_path, storage_options)\u001b[0m\n\u001b[1;32m   1369\u001b[0m         \u001b[0mcontent_or_path\u001b[0m \u001b[0;34m=\u001b[0m \u001b[0mBytesIO\u001b[0m\u001b[0;34m(\u001b[0m\u001b[0mcontent_or_path\u001b[0m\u001b[0;34m)\u001b[0m\u001b[0;34m\u001b[0m\u001b[0;34m\u001b[0m\u001b[0m\n\u001b[1;32m   1370\u001b[0m \u001b[0;34m\u001b[0m\u001b[0m\n\u001b[0;32m-> 1371\u001b[0;31m     with get_handle(\n\u001b[0m\u001b[1;32m   1372\u001b[0m         \u001b[0mcontent_or_path\u001b[0m\u001b[0;34m,\u001b[0m \u001b[0;34m\"rb\"\u001b[0m\u001b[0;34m,\u001b[0m \u001b[0mstorage_options\u001b[0m\u001b[0;34m=\u001b[0m\u001b[0mstorage_options\u001b[0m\u001b[0;34m,\u001b[0m \u001b[0mis_text\u001b[0m\u001b[0;34m=\u001b[0m\u001b[0;32mFalse\u001b[0m\u001b[0;34m\u001b[0m\u001b[0;34m\u001b[0m\u001b[0m\n\u001b[1;32m   1373\u001b[0m     ) as handle:\n",
            "\u001b[0;32m/usr/local/lib/python3.10/dist-packages/pandas/io/common.py\u001b[0m in \u001b[0;36mget_handle\u001b[0;34m(path_or_buf, mode, encoding, compression, memory_map, is_text, errors, storage_options)\u001b[0m\n\u001b[1;32m    866\u001b[0m         \u001b[0;32melse\u001b[0m\u001b[0;34m:\u001b[0m\u001b[0;34m\u001b[0m\u001b[0;34m\u001b[0m\u001b[0m\n\u001b[1;32m    867\u001b[0m             \u001b[0;31m# Binary mode\u001b[0m\u001b[0;34m\u001b[0m\u001b[0;34m\u001b[0m\u001b[0m\n\u001b[0;32m--> 868\u001b[0;31m             \u001b[0mhandle\u001b[0m \u001b[0;34m=\u001b[0m \u001b[0mopen\u001b[0m\u001b[0;34m(\u001b[0m\u001b[0mhandle\u001b[0m\u001b[0;34m,\u001b[0m \u001b[0mioargs\u001b[0m\u001b[0;34m.\u001b[0m\u001b[0mmode\u001b[0m\u001b[0;34m)\u001b[0m\u001b[0;34m\u001b[0m\u001b[0;34m\u001b[0m\u001b[0m\n\u001b[0m\u001b[1;32m    869\u001b[0m         \u001b[0mhandles\u001b[0m\u001b[0;34m.\u001b[0m\u001b[0mappend\u001b[0m\u001b[0;34m(\u001b[0m\u001b[0mhandle\u001b[0m\u001b[0;34m)\u001b[0m\u001b[0;34m\u001b[0m\u001b[0;34m\u001b[0m\u001b[0m\n\u001b[1;32m    870\u001b[0m \u001b[0;34m\u001b[0m\u001b[0m\n",
            "\u001b[0;31mFileNotFoundError\u001b[0m: [Errno 2] No such file or directory: '/content/business.xlsx'"
          ]
        }
      ]
    },
    {
      "cell_type": "code",
      "source": [
        "print(f'bussines : {bussines.shape}')\n",
        "print(f'politics : {politics.shape}')\n",
        "print(f'sports : {sports.shape}')\n",
        "print(f'tech1 : {tech1.shape}')\n",
        "print(f'tech2 : {tech2.shape}')\n",
        "print(f'tech3 : {tech3.shape}')\n",
        "print(f'tech4 : {tech4.shape}')"
      ],
      "metadata": {
        "id": "DkMW4egHr8_f"
      },
      "execution_count": null,
      "outputs": []
    },
    {
      "cell_type": "code",
      "source": [
        "df_news = pd.concat([bussines,politics,sports,tech1,tech2,tech3,tech4], axis=0)"
      ],
      "metadata": {
        "id": "mbvV5WnDvRtJ"
      },
      "execution_count": null,
      "outputs": []
    },
    {
      "cell_type": "code",
      "source": [
        "df_news.shape"
      ],
      "metadata": {
        "id": "QO4KNGygv8JQ"
      },
      "execution_count": null,
      "outputs": []
    },
    {
      "cell_type": "code",
      "source": [
        "df_news.to_excel('data_times_news.xlsx')"
      ],
      "metadata": {
        "id": "EFkG1D2Qv-IS"
      },
      "execution_count": null,
      "outputs": []
    },
    {
      "cell_type": "markdown",
      "source": [
        "### data2 --labelled_newscatcher --"
      ],
      "metadata": {
        "id": "HK4k_0pVNWQM"
      }
    },
    {
      "cell_type": "code",
      "source": [
        "import os\n",
        "import zipfile\n",
        "\n",
        "zip_file_path = '/content/labelled_newscatcher_dataset.csv.zip'\n",
        "extraction_directory ='/content/'\n",
        "\n",
        "with zipfile.ZipFile(zip_file_path, 'r') as zip_ref :\n",
        "    print(zip_ref)\n",
        "    zip_ref.extractall(extraction_directory)"
      ],
      "metadata": {
        "id": "g0j71JuRNYcF"
      },
      "execution_count": null,
      "outputs": []
    },
    {
      "cell_type": "code",
      "source": [
        "with open('/content/labelled_newscatcher_dataset.csv', 'r') as file:\n",
        "    for _ in range(5):\n",
        "        print(file.readline())"
      ],
      "metadata": {
        "id": "NA6QD_6MPg7E"
      },
      "execution_count": null,
      "outputs": []
    },
    {
      "cell_type": "code",
      "source": [
        "#csv_file_name = '/content/labelled_newscatcher_dataset.csv'\n",
        "#csv_file_path = os.path.join(extraction_directory, csv_file_name)\n",
        "\n",
        "data2 = pd.read_csv('/content/labelled_newscatcher_dataset.csv', delimiter=';')"
      ],
      "metadata": {
        "id": "Vj8ztQg8OqGn"
      },
      "execution_count": null,
      "outputs": []
    },
    {
      "cell_type": "code",
      "source": [
        "data2.shape"
      ],
      "metadata": {
        "id": "if1dCFqzPpPN"
      },
      "execution_count": null,
      "outputs": []
    },
    {
      "cell_type": "code",
      "source": [
        "data2.iloc[0:3]['link']"
      ],
      "metadata": {
        "id": "tdYdX71AK2B8"
      },
      "execution_count": null,
      "outputs": []
    },
    {
      "cell_type": "code",
      "source": [
        "data2.to_excel('labell_newcatcher.xlsx')"
      ],
      "metadata": {
        "id": "P1xzUgyoL9t5"
      },
      "execution_count": null,
      "outputs": []
    },
    {
      "cell_type": "markdown",
      "source": [
        "### data3 -- okite97 --uncomplete"
      ],
      "metadata": {
        "id": "x9KTslzGRdra"
      }
    },
    {
      "cell_type": "code",
      "source": [
        "!pip install datasets ;\n",
        "from datasets import load_dataset;"
      ],
      "metadata": {
        "id": "JPD8O5BGTESm"
      },
      "execution_count": null,
      "outputs": []
    },
    {
      "cell_type": "code",
      "source": [
        "\n",
        "# using  API\n",
        "'''\n",
        "import requests\n",
        "\n",
        "# The URL from which to fetch the data\n",
        "url =  \"https://datasets-server.huggingface.co/splits?dataset=ag_news\"\n",
        "# Make a GET request to the URL\n",
        "response = requests.get(url)\n",
        "\n",
        "if response.status_code == 200:\n",
        "    data3 = response.json()\n",
        "\n",
        "else:\n",
        "    print(f\"Failed to fetch data: status code {response.status_code}\")\n",
        "    data3 = []\n",
        "\n",
        "try:\n",
        "    df3 = pd.json_normalize(data3)\n",
        "    print(df3.head())  # To see the first few rows of the DataFrame\n",
        "except Exception as e:\n",
        "    print(f\"An error occurred: {e}\")\n",
        "df3 = pd.DataFrame(df3)\n",
        "\n",
        "'''"
      ],
      "metadata": {
        "id": "20gRrOFeRfon"
      },
      "execution_count": null,
      "outputs": []
    },
    {
      "cell_type": "code",
      "source": [
        "data3 = load_dataset('okite97/news-data')"
      ],
      "metadata": {
        "id": "Tm8PR_2YUk1Y"
      },
      "execution_count": null,
      "outputs": []
    },
    {
      "cell_type": "code",
      "source": [
        "type(data3)\n",
        "data3\n",
        "train = load_dataset('okite97/news-data' , split='train')\n",
        "test = load_dataset('okite97/news-data' , split='test')"
      ],
      "metadata": {
        "id": "NxsA65A7U2ml"
      },
      "execution_count": null,
      "outputs": []
    },
    {
      "cell_type": "code",
      "source": [
        "train = pd.DataFrame(train)\n",
        "test = pd.DataFrame(test)"
      ],
      "metadata": {
        "id": "_jUo9ZAHe4VT"
      },
      "execution_count": null,
      "outputs": []
    },
    {
      "cell_type": "code",
      "source": [
        "print(len(train.iloc[0]['Title']))\n",
        "print(len(train.iloc[0]['Excerpt']))"
      ],
      "metadata": {
        "id": "8Cl-ILyCfBt9"
      },
      "execution_count": null,
      "outputs": []
    },
    {
      "cell_type": "code",
      "source": [
        "print(train.shape)\n",
        "print(test.shape)"
      ],
      "metadata": {
        "id": "EVdn5kBuPtXQ"
      },
      "execution_count": null,
      "outputs": []
    },
    {
      "cell_type": "code",
      "source": [
        "train['Label_split']='Train'"
      ],
      "metadata": {
        "id": "g9RZ0_bvPo1K"
      },
      "execution_count": null,
      "outputs": []
    },
    {
      "cell_type": "code",
      "source": [
        "test['Label_split']='test'"
      ],
      "metadata": {
        "id": "i0OfH8G_QQrQ"
      },
      "execution_count": null,
      "outputs": []
    },
    {
      "cell_type": "code",
      "source": [
        "data3 = pd.concat([train,test], axis=0)\n",
        "print(data3.shape)\n",
        "print(data3['Label_split'].value_counts())"
      ],
      "metadata": {
        "id": "LgMYNwGDQU-E"
      },
      "execution_count": null,
      "outputs": []
    },
    {
      "cell_type": "code",
      "source": [
        "data3.to_excel('okite97_news.xlsx')"
      ],
      "metadata": {
        "id": "_P_uXhGuQmCg"
      },
      "execution_count": null,
      "outputs": []
    },
    {
      "cell_type": "markdown",
      "source": [
        "### data4 -- ag_news -- uncomplete"
      ],
      "metadata": {
        "id": "8XDSHFGYgJgJ"
      }
    },
    {
      "cell_type": "code",
      "source": [
        "! git lfs install\n",
        "!pip install datasets ;\n",
        "from datasets import load_dataset;"
      ],
      "metadata": {
        "id": "0uut30chgM2p"
      },
      "execution_count": null,
      "outputs": []
    },
    {
      "cell_type": "code",
      "source": [
        "!git clone 'https://huggingface.co/datasets/ag_news'"
      ],
      "metadata": {
        "id": "hrQybJSJgUZf"
      },
      "execution_count": null,
      "outputs": []
    },
    {
      "cell_type": "code",
      "source": [
        "ag_news = load_dataset('/content/ag_news/data')"
      ],
      "metadata": {
        "id": "R4y9Vw3wgneZ"
      },
      "execution_count": null,
      "outputs": []
    },
    {
      "cell_type": "code",
      "source": [
        "train = load_dataset('/content/ag_news/data' , split='train')\n",
        "test = load_dataset('/content/ag_news/data' , split='test')\n",
        "\n",
        "print(type(train))\n",
        "print(train.shape)\n",
        "print(test.shape)\n",
        "\n",
        "train = pd.DataFrame(train)\n",
        "test = pd.DataFrame(test)\n"
      ],
      "metadata": {
        "id": "s4kKpDC8g8b0"
      },
      "execution_count": null,
      "outputs": []
    },
    {
      "cell_type": "code",
      "source": [
        "train['Label_split'] = 'Train'\n",
        "test['Label_split'] = 'Test'\n",
        "data4 = pd.concat([train,test], axis=0)"
      ],
      "metadata": {
        "id": "Pnnhbr5yhW39"
      },
      "execution_count": null,
      "outputs": []
    },
    {
      "cell_type": "code",
      "source": [
        "data4.shape"
      ],
      "metadata": {
        "id": "Cs70SWNZQDx7"
      },
      "execution_count": null,
      "outputs": []
    },
    {
      "cell_type": "code",
      "source": [
        "data4.to_excel('Ag_news.xlsx')"
      ],
      "metadata": {
        "id": "kzxuYxexvFY5"
      },
      "execution_count": null,
      "outputs": []
    },
    {
      "cell_type": "markdown",
      "source": [
        "### data5 -- BBC -- dont let to download"
      ],
      "metadata": {
        "id": "M89MvtSfI9HU"
      }
    },
    {
      "cell_type": "code",
      "source": [
        "!pip install opendatasets --upgrade --quiet;\n",
        "import os\n",
        "import opendatasets as od"
      ],
      "metadata": {
        "id": "j7FBp7m9I_GV"
      },
      "execution_count": null,
      "outputs": []
    },
    {
      "cell_type": "code",
      "source": [
        "# Assign the Kaggle data set URL into variable\n",
        "dataset = 'https://www.kaggle.com/competitions/learn-ai-bbc/data'\n",
        "# Using opendatasets let's download the data sets\n",
        "od.download(dataset)"
      ],
      "metadata": {
        "id": "JJBbdoiZJEoB"
      },
      "execution_count": null,
      "outputs": []
    },
    {
      "cell_type": "markdown",
      "source": [
        "### data6 -- NewsApiClient -- just get 20 news per a day"
      ],
      "metadata": {
        "id": "_iJ8QIHf4wyl"
      }
    },
    {
      "cell_type": "code",
      "source": [
        "!pip install newsapi-python\n"
      ],
      "metadata": {
        "id": "A3_RqxHpUhlk"
      },
      "execution_count": null,
      "outputs": []
    },
    {
      "cell_type": "code",
      "source": [
        "from newsapi import NewsApiClient\n",
        "\n",
        "# Initialize the client with your API key.\n",
        "newsapi = NewsApiClient(api_key='ba594ccba107426691a006eb0dcbdbe8')\n",
        "\n",
        "# Define the categories you're interested in.\n",
        "categories = ['business', 'technology', 'general', 'sports']\n",
        "\n",
        "# This dictionary will hold the top headlines for each category.\n",
        "category_headlines = {}\n",
        "\n",
        "# Fetch and store the top headlines for each category.\n",
        "for category in categories:\n",
        "    # Fetch top headlines for the current category.\n",
        "    top_headlines = newsapi.get_top_headlines(category=category,\n",
        "                                              language='en',\n",
        "                                              country='us')\n",
        "    # Store the headlines in the dictionary.\n",
        "    category_headlines[category] = top_headlines\n",
        "\n",
        "# At this point, 'category_headlines' contains the top headlines for each category.\n",
        "# You can process these headlines as needed. For demonstration, let's print the titles of the first few headlines in each category.\n",
        "for category, headlines in category_headlines.items():\n",
        "    print(f\"Category: {category}\")\n",
        "    for article in headlines['articles'][:5]:  # Just printing the first 5 articles for brevity\n",
        "        print(f\"- {article['title']}\")\n",
        "    print(\"\\n\")"
      ],
      "metadata": {
        "id": "ooQB04HiPyrh"
      },
      "execution_count": null,
      "outputs": []
    },
    {
      "cell_type": "code",
      "source": [
        "\n",
        "print(type(headlines))\n",
        "for article in headlines :\n",
        "    print(article)\n",
        "\n",
        "print(len(headlines))\n",
        "#print(len(status))\n",
        "#print(len(totalResults))\n",
        "\n",
        "\n",
        "for articel in headlines['articles'] :\n",
        "    print(articel)"
      ],
      "metadata": {
        "id": "npt2UOtxU70c"
      },
      "execution_count": null,
      "outputs": []
    },
    {
      "cell_type": "code",
      "source": [
        "print(headlines)"
      ],
      "metadata": {
        "id": "OIJ1DcK3z_Fw"
      },
      "execution_count": null,
      "outputs": []
    },
    {
      "cell_type": "code",
      "source": [
        "from newsapi import NewsApiClient\n",
        "\n",
        "headlines_list = []\n",
        "data66 = pd.DataFrame()\n",
        "for _ in range(1000) :\n",
        "    newsapi = NewsApiClient(api_key='ba594ccba107426691a006eb0dcbdbe8')\n",
        "    headlines = newsapi.get_top_headlines(category='sports', language='en')\n",
        "\n",
        "    if headlines['status'] == 'ok' and headlines['totalResults'] > 0 :\n",
        "        headlines_df = pd.DataFrame(headlines['articles'])\n",
        "        data66 = pd.concat([data66, headlines_df], axis=0, ignore_index=True)\n",
        "\n",
        "    else:\n",
        "        print(\"No more headlines fetched or an error occurred!!\")\n",
        "\n",
        "#data66 = data66.drop_duplicates(subset=['url'])"
      ],
      "metadata": {
        "id": "zUrLxJdMVS42"
      },
      "execution_count": null,
      "outputs": []
    },
    {
      "cell_type": "code",
      "source": [
        "data66.shape"
      ],
      "metadata": {
        "id": "8FV2Kn6w0LNn"
      },
      "execution_count": null,
      "outputs": []
    },
    {
      "cell_type": "markdown",
      "source": [
        "### data7 -- WOW-- 1151 sport news"
      ],
      "metadata": {
        "id": "X483UYPVwlyG"
      }
    },
    {
      "cell_type": "markdown",
      "source": [
        "selnium"
      ],
      "metadata": {
        "id": "Cjv0Ew3EZ0mg"
      }
    },
    {
      "cell_type": "code",
      "source": [
        "\n",
        "from selenium import webdriver\n",
        "from selenium.webdriver.chrome.options import Options\n",
        "from selenium.webdriver.common.by import By\n",
        "import time\n",
        "import pandas as pd"
      ],
      "metadata": {
        "id": "KAXJ_13BZqTr"
      },
      "execution_count": null,
      "outputs": []
    },
    {
      "cell_type": "code",
      "execution_count": null,
      "metadata": {
        "id": "96eac30a"
      },
      "outputs": [],
      "source": [
        "options=Options()\n",
        "\n",
        "options.add_experimental_option('prefs', {'intl.accept_languages': 'en,en_US'})\n",
        "\n",
        "driver=webdriver.Chrome(options=options)\n",
        "driver.get(\"https://www.wowt.com/sports/\")"
      ]
    },
    {
      "cell_type": "code",
      "execution_count": null,
      "metadata": {
        "id": "1e7f1c21"
      },
      "outputs": [],
      "source": [
        "# load more news\n",
        "for i in range(10):\n",
        "    load_more=driver.find_element(By.CLASS_NAME,\"btn-outline-dark\")\n",
        "    load_more.click()\n",
        "    time.sleep(5)"
      ]
    },
    {
      "cell_type": "code",
      "execution_count": null,
      "metadata": {
        "id": "b51e2495"
      },
      "outputs": [],
      "source": [
        "# saving all links\n",
        "cards=driver.find_elements(By.CLASS_NAME,\"card-body\")\n",
        "# print(len(cards))\n",
        "all_links=[]\n",
        "for card in cards:\n",
        "    p=card.find_element(By.TAG_NAME,\"a\")\n",
        "\n",
        "    all_links.append(p.get_attribute(\"href\"))\n",
        "len(all_links)\n"
      ]
    },
    {
      "cell_type": "markdown",
      "source": [
        "bs4"
      ],
      "metadata": {
        "id": "Ufs9jf74Z5wC"
      }
    },
    {
      "cell_type": "code",
      "execution_count": null,
      "metadata": {
        "id": "79fbc3bc"
      },
      "outputs": [],
      "source": [
        "import requests\n",
        "from bs4 import BeautifulSoup\n",
        "import numpy as np\n",
        "import json\n",
        "import re\n",
        "import time\n",
        "import pandas as pd\n",
        "\n",
        "headers={'authority': 'www.google.com',\n",
        "    'accept-language': 'en-US,en;q=0.9',\n",
        "    'cache-control': 'max-age=0',\n",
        "    'user-agent': 'Mozilla/5.0 (Windows NT 10.0; Win64; x64)'}\n"
      ]
    },
    {
      "cell_type": "code",
      "execution_count": null,
      "metadata": {
        "id": "f78615d2"
      },
      "outputs": [],
      "source": [
        "# len(headlines_s),len(descriptions_s),len(labels_s)"
      ]
    },
    {
      "cell_type": "code",
      "source": [
        "all_links = pd.DataFrame(pd.read_excel('/content/links.xlsx') )\n",
        "all_links = all_links.iloc[:,-1].to_list()"
      ],
      "metadata": {
        "id": "Z0ubOyeAcfxM"
      },
      "execution_count": null,
      "outputs": []
    },
    {
      "cell_type": "code",
      "execution_count": null,
      "metadata": {
        "id": "5b33c48b"
      },
      "outputs": [],
      "source": [
        "headlines_s=[]\n",
        "descriptions_s=[]\n",
        "labels_s=[]\n",
        "count=0\n",
        "for link in all_links:\n",
        "    page = requests.get(link,headers=headers)\n",
        "    soup = BeautifulSoup(page.content, 'html.parser')\n",
        "    try:\n",
        "\n",
        "        title=soup.find('h1',class_='headline | font-weight-bold col').text\n",
        "        headlines_s.append(title)\n",
        "    except:\n",
        "        headlines_s.append(\"None\")\n",
        "    try:\n",
        "        desc=\"\"\n",
        "        pars=soup.find_all(\"p\",class_=\"text | article-text\")\n",
        "\n",
        "        for i in pars:\n",
        "            desc+=i.text+\" \"\n",
        "        descriptions_s.append(desc)\n",
        "    except:\n",
        "        descriptions_s.append(\"None\")\n",
        "    labels_s.append(\"Sport\")\n",
        "    count+=1\n",
        "    print(count)\n",
        "    if count%10==0:\n",
        "        time.sleep(10)"
      ]
    },
    {
      "cell_type": "code",
      "execution_count": null,
      "metadata": {
        "id": "55ca31cf"
      },
      "outputs": [],
      "source": [
        "print(len(headlines_s))\n",
        "print(len(descriptions_s) )\n",
        "print(len(labels_s))\n",
        "\n",
        "data = {\n",
        "    'Headlines': headlines_s,\n",
        "    'Descriptions': descriptions_s,\n",
        "    'Labels': labels_s\n",
        "}\n",
        "\n",
        "# Now, create the DataFrame using the dictionary\n",
        "wow_df = pd.DataFrame(data)\n",
        "wow_df.head()"
      ]
    },
    {
      "cell_type": "code",
      "source": [
        "wow_df.to_excel('wow_df.xlsx')"
      ],
      "metadata": {
        "id": "rvd1FQfYnb9p"
      },
      "execution_count": null,
      "outputs": []
    },
    {
      "cell_type": "code",
      "execution_count": null,
      "metadata": {
        "id": "50315847"
      },
      "outputs": [],
      "source": [
        "wow = pd.read_excel('wow_df.xlsx')\n",
        "print(wow.shape)\n",
        "wow.info()"
      ]
    },
    {
      "cell_type": "code",
      "source": [
        "wow2 = wow.drop_duplicates(subset=['Descriptions'])\n",
        "wow.shape"
      ],
      "metadata": {
        "id": "PrZYVgiQDuId"
      },
      "execution_count": null,
      "outputs": []
    },
    {
      "cell_type": "markdown",
      "source": [
        "### data8 __ BBC_ just 170 news in 5 category"
      ],
      "metadata": {
        "id": "70T2xXjA-V-g"
      }
    },
    {
      "cell_type": "code",
      "source": [
        "!pip install bbc-news\n"
      ],
      "metadata": {
        "id": "4rjAvCeXJD9O"
      },
      "execution_count": null,
      "outputs": []
    },
    {
      "cell_type": "code",
      "source": [
        "import bbc\n",
        "\n",
        "# Get the News for Bengali\n",
        "news = bbc.news.get_news(bbc.Languages.English)\n",
        "\n",
        "# Get the Category Titles\n",
        "categories = news.news_categories()\n",
        "\n",
        "total =[]\n",
        "# Loop through the category titles\n",
        "for category in categories:\n",
        "    # Get the Category News\n",
        "    section_news = news.news_category(category)\n",
        "\n",
        "    # Loop through the news dictionary\n",
        "    for news_dict in section_news:\n",
        "        # Print the Title\n",
        "        print(news_dict['title'])\n",
        "        total.append(news_dict['title'])\n",
        "        # Print the Image Link\n",
        "        #print(news_dict['image_link'])\n",
        "\n",
        "        # Print the News Link\n",
        "        print(news_dict[\"news_link\"])\n",
        "\n",
        "        # Print a Blank Line\n",
        "        print(\"---\")"
      ],
      "metadata": {
        "id": "3-kntI8Exp1B"
      },
      "execution_count": null,
      "outputs": []
    },
    {
      "cell_type": "code",
      "source": [
        "type(section_news)\n",
        "len(total)"
      ],
      "metadata": {
        "id": "h2Dywemax-Os"
      },
      "execution_count": null,
      "outputs": []
    },
    {
      "cell_type": "markdown",
      "source": [
        "## create unique data"
      ],
      "metadata": {
        "id": "QnflPh7O0MrB"
      }
    },
    {
      "cell_type": "code",
      "source": [
        "df2 = pd.DataFrame(pd.read_excel('/content/data3_okite97_news.xlsx') )\n"
      ],
      "metadata": {
        "id": "_GHCrRYZyAnO"
      },
      "execution_count": null,
      "outputs": []
    },
    {
      "cell_type": "code",
      "source": [
        "df2.info()"
      ],
      "metadata": {
        "id": "UuAuRGA_gShx"
      },
      "execution_count": null,
      "outputs": []
    },
    {
      "cell_type": "code",
      "source": [
        "df2 = df2.drop('Unnamed: 0' ,axis=1)"
      ],
      "metadata": {
        "id": "lg5HewDQPUOE"
      },
      "execution_count": null,
      "outputs": []
    },
    {
      "cell_type": "code",
      "source": [
        "df2['Category'].value_counts()"
      ],
      "metadata": {
        "id": "RHoHIJoqRJwV"
      },
      "execution_count": null,
      "outputs": []
    },
    {
      "cell_type": "code",
      "source": [
        "df2 = df2[df2['Category'].isin(['business','sports','politics','tech'])]"
      ],
      "metadata": {
        "id": "xm_y0BDtQfl9"
      },
      "execution_count": null,
      "outputs": []
    },
    {
      "cell_type": "code",
      "source": [
        "df2.drop('Label_split', axis=1, inplace=True)"
      ],
      "metadata": {
        "id": "Dk4ycjCZR_79"
      },
      "execution_count": null,
      "outputs": []
    },
    {
      "cell_type": "code",
      "source": [
        "data = pd.read_excel('')\n",
        "#bussines : (8355, 4)\n",
        "#politics : (8448, 4)\n",
        "#sports : (3698, 4)\n",
        "#tech : (8381, 4)"
      ],
      "metadata": {
        "id": "KRXJkOag-faS"
      },
      "execution_count": null,
      "outputs": []
    },
    {
      "cell_type": "markdown",
      "source": [
        "# preprocessing\n"
      ],
      "metadata": {
        "id": "Z3eeJfzL6cjt"
      }
    },
    {
      "cell_type": "code",
      "source": [
        "df1 = pd.DataFrame(pd.read_excel('/content/drive/MyDrive/time_cleaned.xlsx'))\n",
        "df2 = pd.DataFrame(pd.read_excel('/content/drive/MyDrive/wow_data_cleaned.xlsx') )"
      ],
      "metadata": {
        "id": "sMYnkfhP6hsr"
      },
      "execution_count": 4,
      "outputs": []
    },
    {
      "cell_type": "code",
      "source": [
        "df1.info()\n",
        "df1 = df1.drop(['Unnamed: 0.2','Unnamed: 0.1','Unnamed: 0'], axis=1)\n",
        "df1.rename(columns={'headline':'Header' , \"description\":'Body' , \"label\":'Label'}, inplace=True)"
      ],
      "metadata": {
        "colab": {
          "base_uri": "https://localhost:8080/"
        },
        "id": "aSmswymE66wf",
        "outputId": "eec501c4-1f48-4da5-945c-bd75a9b92e5e"
      },
      "execution_count": 5,
      "outputs": [
        {
          "output_type": "stream",
          "name": "stdout",
          "text": [
            "<class 'pandas.core.frame.DataFrame'>\n",
            "RangeIndex: 28516 entries, 0 to 28515\n",
            "Data columns (total 6 columns):\n",
            " #   Column        Non-Null Count  Dtype \n",
            "---  ------        --------------  ----- \n",
            " 0   Unnamed: 0.2  28516 non-null  int64 \n",
            " 1   Unnamed: 0.1  28516 non-null  int64 \n",
            " 2   Unnamed: 0    28516 non-null  int64 \n",
            " 3   headline      28515 non-null  object\n",
            " 4   description   28516 non-null  object\n",
            " 5   label         28516 non-null  object\n",
            "dtypes: int64(3), object(3)\n",
            "memory usage: 1.3+ MB\n"
          ]
        }
      ]
    },
    {
      "cell_type": "code",
      "source": [
        "df2.info()\n",
        "df2 = df2.drop(['Unnamed: 0.1','Unnamed: 0'], axis=1)\n",
        "df2.rename(columns={'Headlines': 'Header', 'Descriptions': 'Body', 'Labels': 'Label'}, inplace=True)\n"
      ],
      "metadata": {
        "colab": {
          "base_uri": "https://localhost:8080/"
        },
        "id": "8lVx3Y0y-t24",
        "outputId": "b3c8532c-c175-41e5-91d4-4ed35611b0db"
      },
      "execution_count": 6,
      "outputs": [
        {
          "output_type": "stream",
          "name": "stdout",
          "text": [
            "<class 'pandas.core.frame.DataFrame'>\n",
            "RangeIndex: 1150 entries, 0 to 1149\n",
            "Data columns (total 5 columns):\n",
            " #   Column        Non-Null Count  Dtype \n",
            "---  ------        --------------  ----- \n",
            " 0   Unnamed: 0.1  1150 non-null   int64 \n",
            " 1   Unnamed: 0    1150 non-null   int64 \n",
            " 2   Headlines     1149 non-null   object\n",
            " 3   Descriptions  1150 non-null   object\n",
            " 4   Labels        1150 non-null   object\n",
            "dtypes: int64(2), object(3)\n",
            "memory usage: 45.0+ KB\n"
          ]
        }
      ]
    },
    {
      "cell_type": "code",
      "source": [
        "df1['Label'].value_counts()"
      ],
      "metadata": {
        "colab": {
          "base_uri": "https://localhost:8080/"
        },
        "id": "Zc8GLVbE_fMX",
        "outputId": "68606265-6aad-48e2-e9bd-5cf633882ad3"
      },
      "execution_count": 7,
      "outputs": [
        {
          "output_type": "execute_result",
          "data": {
            "text/plain": [
              "Label\n",
              "Politics    8379\n",
              "Tech        8281\n",
              "Business    8256\n",
              "Sport       3600\n",
              "Name: count, dtype: int64"
            ]
          },
          "metadata": {},
          "execution_count": 7
        }
      ]
    },
    {
      "cell_type": "code",
      "source": [
        "df2['Label'].value_counts()"
      ],
      "metadata": {
        "colab": {
          "base_uri": "https://localhost:8080/"
        },
        "id": "vpcvbQIY_vMu",
        "outputId": "a171e0f9-b3aa-4b9c-be10-5a5f8871f60c"
      },
      "execution_count": 8,
      "outputs": [
        {
          "output_type": "execute_result",
          "data": {
            "text/plain": [
              "Label\n",
              "Sport    1150\n",
              "Name: count, dtype: int64"
            ]
          },
          "metadata": {},
          "execution_count": 8
        }
      ]
    },
    {
      "cell_type": "code",
      "source": [
        "df = pd.concat([df1,df2], axis=0)"
      ],
      "metadata": {
        "id": "CMD-EvjPA4gQ"
      },
      "execution_count": 9,
      "outputs": []
    },
    {
      "cell_type": "code",
      "source": [
        "df['Label'].value_counts()"
      ],
      "metadata": {
        "colab": {
          "base_uri": "https://localhost:8080/"
        },
        "id": "KUUUQLNpBBsw",
        "outputId": "44d7829b-0bfa-4bf2-b857-80b0b71fa313"
      },
      "execution_count": 10,
      "outputs": [
        {
          "output_type": "execute_result",
          "data": {
            "text/plain": [
              "Label\n",
              "Politics    8379\n",
              "Tech        8281\n",
              "Business    8256\n",
              "Sport       4750\n",
              "Name: count, dtype: int64"
            ]
          },
          "metadata": {},
          "execution_count": 10
        }
      ]
    },
    {
      "cell_type": "code",
      "source": [
        "df.info()"
      ],
      "metadata": {
        "colab": {
          "base_uri": "https://localhost:8080/"
        },
        "id": "h1FGurNUBDtA",
        "outputId": "7012f409-8ec7-4438-83cd-6f51b8d223f8"
      },
      "execution_count": 11,
      "outputs": [
        {
          "output_type": "stream",
          "name": "stdout",
          "text": [
            "<class 'pandas.core.frame.DataFrame'>\n",
            "Index: 29666 entries, 0 to 1149\n",
            "Data columns (total 3 columns):\n",
            " #   Column  Non-Null Count  Dtype \n",
            "---  ------  --------------  ----- \n",
            " 0   Header  29664 non-null  object\n",
            " 1   Body    29666 non-null  object\n",
            " 2   Label   29666 non-null  object\n",
            "dtypes: object(3)\n",
            "memory usage: 927.1+ KB\n"
          ]
        }
      ]
    },
    {
      "cell_type": "code",
      "source": [
        "df = df.dropna()"
      ],
      "metadata": {
        "id": "pcDaVjbVBXd4"
      },
      "execution_count": 12,
      "outputs": []
    },
    {
      "cell_type": "code",
      "source": [
        "df.info()"
      ],
      "metadata": {
        "colab": {
          "base_uri": "https://localhost:8080/"
        },
        "id": "QK3DDyMkBo73",
        "outputId": "b4328f48-5cd0-44e5-d845-d3b9e6748918"
      },
      "execution_count": 13,
      "outputs": [
        {
          "output_type": "stream",
          "name": "stdout",
          "text": [
            "<class 'pandas.core.frame.DataFrame'>\n",
            "Index: 29664 entries, 0 to 1149\n",
            "Data columns (total 3 columns):\n",
            " #   Column  Non-Null Count  Dtype \n",
            "---  ------  --------------  ----- \n",
            " 0   Header  29664 non-null  object\n",
            " 1   Body    29664 non-null  object\n",
            " 2   Label   29664 non-null  object\n",
            "dtypes: object(3)\n",
            "memory usage: 927.0+ KB\n"
          ]
        }
      ]
    },
    {
      "cell_type": "code",
      "source": [
        "df['Label'].value_counts()"
      ],
      "metadata": {
        "colab": {
          "base_uri": "https://localhost:8080/"
        },
        "id": "l4fNExszB5KH",
        "outputId": "df3a6dda-3f8b-448d-dcf8-a9a894189843"
      },
      "execution_count": 14,
      "outputs": [
        {
          "output_type": "execute_result",
          "data": {
            "text/plain": [
              "Label\n",
              "Politics    8378\n",
              "Tech        8281\n",
              "Business    8256\n",
              "Sport       4749\n",
              "Name: count, dtype: int64"
            ]
          },
          "metadata": {},
          "execution_count": 14
        }
      ]
    },
    {
      "cell_type": "code",
      "source": [
        "df['Label'].value_counts().plot.bar()\n"
      ],
      "metadata": {
        "colab": {
          "base_uri": "https://localhost:8080/",
          "height": 514
        },
        "id": "BlgHkzPwCA7C",
        "outputId": "1ff631c1-7ff0-43e1-a9fc-824352f0a2ea"
      },
      "execution_count": 15,
      "outputs": [
        {
          "output_type": "execute_result",
          "data": {
            "text/plain": [
              "<Axes: xlabel='Label'>"
            ]
          },
          "metadata": {},
          "execution_count": 15
        },
        {
          "output_type": "display_data",
          "data": {
            "text/plain": [
              "<Figure size 640x480 with 1 Axes>"
            ],
            "image/png": "[encoded data removed]"
          },
          "metadata": {}
        }
      ]
    },
    {
      "cell_type": "code",
      "source": [
        "df.head()"
      ],
      "metadata": {
        "colab": {
          "base_uri": "https://localhost:8080/",
          "height": 293
        },
        "id": "A14mx5dBCOm4",
        "outputId": "8ec88909-c040-4edc-e0ae-3e1d73d3bea0"
      },
      "execution_count": 16,
      "outputs": [
        {
          "output_type": "execute_result",
          "data": {
            "text/plain": [
              "                                              Header  \\\n",
              "0           Sam Bankman-Fried Faces 25 Years in Jail   \n",
              "1  Sam Bankman-Fried to be Sentenced for Defraudi...   \n",
              "2  India’s Income Inequality Is Now Worse Than Un...   \n",
              "3  Trump's Social Media Company Soars Nearly 50% ...   \n",
              "4            How Is Trump's New Firm Worth Billions?   \n",
              "\n",
              "                                                Body     Label  \n",
              "0  Sam Bankman-Fried, the former billionaire who ...  Business  \n",
              "1  Former crypto mogul Sam Bankman-Fried faces th...  Business  \n",
              "2  A new study from the World Inequality Lab find...  Business  \n",
              "3  Shares of Donald Trump’s social media company ...  Business  \n",
              "4  On the cusp of a financial crisis, Donald Trum...  Business  "
            ],
            "text/html": [
              "\n",
              "  <div id=\"df-74dc24e5-905b-4ad1-902b-94479dc2b52e\" class=\"colab-df-container\">\n",
              "    <div>\n",
              "<style scoped>\n",
              "    .dataframe tbody tr th:only-of-type {\n",
              "        vertical-align: middle;\n",
              "    }\n",
              "\n",
              "    .dataframe tbody tr th {\n",
              "        vertical-align: top;\n",
              "    }\n",
              "\n",
              "    .dataframe thead th {\n",
              "        text-align: right;\n",
              "    }\n",
              "</style>\n",
              "<table border=\"1\" class=\"dataframe\">\n",
              "  <thead>\n",
              "    <tr style=\"text-align: right;\">\n",
              "      <th></th>\n",
              "      <th>Header</th>\n",
              "      <th>Body</th>\n",
              "      <th>Label</th>\n",
              "    </tr>\n",
              "  </thead>\n",
              "  <tbody>\n",
              "    <tr>\n",
              "      <th>0</th>\n",
              "      <td>Sam Bankman-Fried Faces 25 Years in Jail</td>\n",
              "      <td>Sam Bankman-Fried, the former billionaire who ...</td>\n",
              "      <td>Business</td>\n",
              "    </tr>\n",
              "    <tr>\n",
              "      <th>1</th>\n",
              "      <td>Sam Bankman-Fried to be Sentenced for Defraudi...</td>\n",
              "      <td>Former crypto mogul Sam Bankman-Fried faces th...</td>\n",
              "      <td>Business</td>\n",
              "    </tr>\n",
              "    <tr>\n",
              "      <th>2</th>\n",
              "      <td>India’s Income Inequality Is Now Worse Than Un...</td>\n",
              "      <td>A new study from the World Inequality Lab find...</td>\n",
              "      <td>Business</td>\n",
              "    </tr>\n",
              "    <tr>\n",
              "      <th>3</th>\n",
              "      <td>Trump's Social Media Company Soars Nearly 50% ...</td>\n",
              "      <td>Shares of Donald Trump’s social media company ...</td>\n",
              "      <td>Business</td>\n",
              "    </tr>\n",
              "    <tr>\n",
              "      <th>4</th>\n",
              "      <td>How Is Trump's New Firm Worth Billions?</td>\n",
              "      <td>On the cusp of a financial crisis, Donald Trum...</td>\n",
              "      <td>Business</td>\n",
              "    </tr>\n",
              "  </tbody>\n",
              "</table>\n",
              "</div>\n",
              "    <div class=\"colab-df-buttons\">\n",
              "\n",
              "  <div class=\"colab-df-container\">\n",
              "    <button class=\"colab-df-convert\" onclick=\"convertToInteractive('df-74dc24e5-905b-4ad1-902b-94479dc2b52e')\"\n",
              "            title=\"Convert this dataframe to an interactive table.\"\n",
              "            style=\"display:none;\">\n",
              "\n",
              "  <svg xmlns=\"http://www.w3.org/2000/svg\" height=\"24px\" viewBox=\"0 -960 960 960\">\n",
              "    <path d=\"M120-120v-720h720v720H120Zm60-500h600v-160H180v160Zm220 220h160v-160H400v160Zm0 220h160v-160H400v160ZM180-400h160v-160H180v160Zm440 0h160v-160H620v160ZM180-180h160v-160H180v160Zm440 0h160v-160H620v160Z\"/>\n",
              "  </svg>\n",
              "    </button>\n",
              "\n",
              "  <style>\n",
              "    .colab-df-container {\n",
              "      display:flex;\n",
              "      gap: 12px;\n",
              "    }\n",
              "\n",
              "    .colab-df-convert {\n",
              "      background-color: #E8F0FE;\n",
              "      border: none;\n",
              "      border-radius: 50%;\n",
              "      cursor: pointer;\n",
              "      display: none;\n",
              "      fill: #1967D2;\n",
              "      height: 32px;\n",
              "      padding: 0 0 0 0;\n",
              "      width: 32px;\n",
              "    }\n",
              "\n",
              "    .colab-df-convert:hover {\n",
              "      background-color: #E2EBFA;\n",
              "      box-shadow: 0px 1px 2px rgba(60, 64, 67, 0.3), 0px 1px 3px 1px rgba(60, 64, 67, 0.15);\n",
              "      fill: #174EA6;\n",
              "    }\n",
              "\n",
              "    .colab-df-buttons div {\n",
              "      margin-bottom: 4px;\n",
              "    }\n",
              "\n",
              "    [theme=dark] .colab-df-convert {\n",
              "      background-color: #3B4455;\n",
              "      fill: #D2E3FC;\n",
              "    }\n",
              "\n",
              "    [theme=dark] .colab-df-convert:hover {\n",
              "      background-color: #434B5C;\n",
              "      box-shadow: 0px 1px 3px 1px rgba(0, 0, 0, 0.15);\n",
              "      filter: drop-shadow(0px 1px 2px rgba(0, 0, 0, 0.3));\n",
              "      fill: #FFFFFF;\n",
              "    }\n",
              "  </style>\n",
              "\n",
              "    <script>\n",
              "      const buttonEl =\n",
              "        document.querySelector('#df-74dc24e5-905b-4ad1-902b-94479dc2b52e button.colab-df-convert');\n",
              "      buttonEl.style.display =\n",
              "        google.colab.kernel.accessAllowed ? 'block' : 'none';\n",
              "\n",
              "      async function convertToInteractive(key) {\n",
              "        const element = document.querySelector('#df-74dc24e5-905b-4ad1-902b-94479dc2b52e');\n",
              "        const dataTable =\n",
              "          await google.colab.kernel.invokeFunction('convertToInteractive',\n",
              "                                                    [key], {});\n",
              "        if (!dataTable) return;\n",
              "\n",
              "        const docLinkHtml = 'Like what you see? Visit the ' +\n",
              "          '<a target=\"_blank\" href=https://colab.research.google.com/notebooks/data_table.ipynb>data table notebook</a>'\n",
              "          + ' to learn more about interactive tables.';\n",
              "        element.innerHTML = '';\n",
              "        dataTable['output_type'] = 'display_data';\n",
              "        await google.colab.output.renderOutput(dataTable, element);\n",
              "        const docLink = document.createElement('div');\n",
              "        docLink.innerHTML = docLinkHtml;\n",
              "        element.appendChild(docLink);\n",
              "      }\n",
              "    </script>\n",
              "  </div>\n",
              "\n",
              "\n",
              "<div id=\"df-21d5d5c4-8865-46a1-b04c-4458be935bf8\">\n",
              "  <button class=\"colab-df-quickchart\" onclick=\"quickchart('df-21d5d5c4-8865-46a1-b04c-4458be935bf8')\"\n",
              "            title=\"Suggest charts\"\n",
              "            style=\"display:none;\">\n",
              "\n",
              "<svg xmlns=\"http://www.w3.org/2000/svg\" height=\"24px\"viewBox=\"0 0 24 24\"\n",
              "     width=\"24px\">\n",
              "    <g>\n",
              "        <path d=\"M19 3H5c-1.1 0-2 .9-2 2v14c0 1.1.9 2 2 2h14c1.1 0 2-.9 2-2V5c0-1.1-.9-2-2-2zM9 17H7v-7h2v7zm4 0h-2V7h2v10zm4 0h-2v-4h2v4z\"/>\n",
              "    </g>\n",
              "</svg>\n",
              "  </button>\n",
              "\n",
              "<style>\n",
              "  .colab-df-quickchart {\n",
              "      --bg-color: #E8F0FE;\n",
              "      --fill-color: #1967D2;\n",
              "      --hover-bg-color: #E2EBFA;\n",
              "      --hover-fill-color: #174EA6;\n",
              "      --disabled-fill-color: #AAA;\n",
              "      --disabled-bg-color: #DDD;\n",
              "  }\n",
              "\n",
              "  [theme=dark] .colab-df-quickchart {\n",
              "      --bg-color: #3B4455;\n",
              "      --fill-color: #D2E3FC;\n",
              "      --hover-bg-color: #434B5C;\n",
              "      --hover-fill-color: #FFFFFF;\n",
              "      --disabled-bg-color: #3B4455;\n",
              "      --disabled-fill-color: #666;\n",
              "  }\n",
              "\n",
              "  .colab-df-quickchart {\n",
              "    background-color: var(--bg-color);\n",
              "    border: none;\n",
              "    border-radius: 50%;\n",
              "    cursor: pointer;\n",
              "    display: none;\n",
              "    fill: var(--fill-color);\n",
              "    height: 32px;\n",
              "    padding: 0;\n",
              "    width: 32px;\n",
              "  }\n",
              "\n",
              "  .colab-df-quickchart:hover {\n",
              "    background-color: var(--hover-bg-color);\n",
              "    box-shadow: 0 1px 2px rgba(60, 64, 67, 0.3), 0 1px 3px 1px rgba(60, 64, 67, 0.15);\n",
              "    fill: var(--button-hover-fill-color);\n",
              "  }\n",
              "\n",
              "  .colab-df-quickchart-complete:disabled,\n",
              "  .colab-df-quickchart-complete:disabled:hover {\n",
              "    background-color: var(--disabled-bg-color);\n",
              "    fill: var(--disabled-fill-color);\n",
              "    box-shadow: none;\n",
              "  }\n",
              "\n",
              "  .colab-df-spinner {\n",
              "    border: 2px solid var(--fill-color);\n",
              "    border-color: transparent;\n",
              "    border-bottom-color: var(--fill-color);\n",
              "    animation:\n",
              "      spin 1s steps(1) infinite;\n",
              "  }\n",
              "\n",
              "  @keyframes spin {\n",
              "    0% {\n",
              "      border-color: transparent;\n",
              "      border-bottom-color: var(--fill-color);\n",
              "      border-left-color: var(--fill-color);\n",
              "    }\n",
              "    20% {\n",
              "      border-color: transparent;\n",
              "      border-left-color: var(--fill-color);\n",
              "      border-top-color: var(--fill-color);\n",
              "    }\n",
              "    30% {\n",
              "      border-color: transparent;\n",
              "      border-left-color: var(--fill-color);\n",
              "      border-top-color: var(--fill-color);\n",
              "      border-right-color: var(--fill-color);\n",
              "    }\n",
              "    40% {\n",
              "      border-color: transparent;\n",
              "      border-right-color: var(--fill-color);\n",
              "      border-top-color: var(--fill-color);\n",
              "    }\n",
              "    60% {\n",
              "      border-color: transparent;\n",
              "      border-right-color: var(--fill-color);\n",
              "    }\n",
              "    80% {\n",
              "      border-color: transparent;\n",
              "      border-right-color: var(--fill-color);\n",
              "      border-bottom-color: var(--fill-color);\n",
              "    }\n",
              "    90% {\n",
              "      border-color: transparent;\n",
              "      border-bottom-color: var(--fill-color);\n",
              "    }\n",
              "  }\n",
              "</style>\n",
              "\n",
              "  <script>\n",
              "    async function quickchart(key) {\n",
              "      const quickchartButtonEl =\n",
              "        document.querySelector('#' + key + ' button');\n",
              "      quickchartButtonEl.disabled = true;  // To prevent multiple clicks.\n",
              "      quickchartButtonEl.classList.add('colab-df-spinner');\n",
              "      try {\n",
              "        const charts = await google.colab.kernel.invokeFunction(\n",
              "            'suggestCharts', [key], {});\n",
              "      } catch (error) {\n",
              "        console.error('Error during call to suggestCharts:', error);\n",
              "      }\n",
              "      quickchartButtonEl.classList.remove('colab-df-spinner');\n",
              "      quickchartButtonEl.classList.add('colab-df-quickchart-complete');\n",
              "    }\n",
              "    (() => {\n",
              "      let quickchartButtonEl =\n",
              "        document.querySelector('#df-21d5d5c4-8865-46a1-b04c-4458be935bf8 button');\n",
              "      quickchartButtonEl.style.display =\n",
              "        google.colab.kernel.accessAllowed ? 'block' : 'none';\n",
              "    })();\n",
              "  </script>\n",
              "</div>\n",
              "    </div>\n",
              "  </div>\n"
            ],
            "application/vnd.google.colaboratory.intrinsic+json": {
              "type": "dataframe",
              "variable_name": "df",
              "summary": "{\n  \"name\": \"df\",\n  \"rows\": 29664,\n  \"fields\": [\n    {\n      \"column\": \"Header\",\n      \"properties\": {\n        \"dtype\": \"string\",\n        \"num_unique_values\": 27352,\n        \"samples\": [\n          \"Arab Americans Face an Impossible Choice\",\n          \"Bolton's Offer to Testify Tests McConnell's Power\",\n          \"Big Tech Is Running National Security\"\n        ],\n        \"semantic_type\": \"\",\n        \"description\": \"\"\n      }\n    },\n    {\n      \"column\": \"Body\",\n      \"properties\": {\n        \"dtype\": \"string\",\n        \"num_unique_values\": 27391,\n        \"samples\": [\n          \"it\\u2019s available right now for PC version users. Minecraft maven Jens Bergensten (the game\\u2019s lead developer for the past four years) tweeted yesterday about a \\u201cdramatic feature, likely out in the next snapshot.\\u201d Snapshots are Minecraft-speak for PC version game features you can fiddle with early, if you opt to ride Minecraft\\u2018s \\u201cexperimental\\u201d update train. Bergensten followed with a shot of the new feature in motion, calling it a \\u201cwork in progress.\\u201d When you\\u2019re on the ground, the cape folds up, and you can\\u2019t craft it\\u2013it\\u2019s a finders-only thing. But if you do manage to unearth one, Bergensten teases you can use it to \\u201cfly past the bad guys who are all shooting you with surprisingly bad accuracy, swoop down and land flawlessly into a strategically placed boat and then paddle away at moderately high speeds with the stolen prize pig in the back.\\u201d \",\n          \"Cleveland Browns quarterback Johnny Manziel has been released from a drug and alcohol rehabilitation facility and will return to practice, according to multiple reports. ESPN and the Associated Press, citing anonymous sources, report that the 22-year-old Heisman Trophy winner is expected to start off-season workouts later this month. Manziel entered treatment at the end of January following his rookie season in the NFL. Browns left tackle Joe Thomas told ESPN this week that Manziel had lost the trust of his teammates through his behavior, but Thomas added that Manziel checking himself into rehab was a \\u201creally positive\\u201d step. Manziel will compete with veteran Josh McCown for the QB job this year. \\u201cI\\u2019m hoping when we come back in April we see a new Johnny and everybody\\u2019s blown away with his commitment,\\u201d said Thomas. \\u201cAnd I think he\\u2019s got the talent, so it\\u2019s just a matter of if he commits himself to it, we can have a really good quarterback on our hands.\\u201d \",\n          \"Mac users, rejoice: Apple has fixed one of the things that has been most annoying you about your computer. The new beta version of the latest version of Apple\\u2019s OS X has gotten rid of discoveryd, a process which many users complained caused them to lose Wi-Fi access, among other problems, 9to5Mac.com reports. Future versions of the system will revert to using a process from previous OS X versions. The final version of the new system, OS X 10.10.4, is expected to be released to the public in coming months. Apple is set to unveil more details about the new operating system at its Worldwide Developers\\u2019 Conference early next month. \"\n        ],\n        \"semantic_type\": \"\",\n        \"description\": \"\"\n      }\n    },\n    {\n      \"column\": \"Label\",\n      \"properties\": {\n        \"dtype\": \"category\",\n        \"num_unique_values\": 4,\n        \"samples\": [\n          \"Politics\",\n          \"Tech\",\n          \"Business\"\n        ],\n        \"semantic_type\": \"\",\n        \"description\": \"\"\n      }\n    }\n  ]\n}"
            }
          },
          "metadata": {},
          "execution_count": 16
        }
      ]
    },
    {
      "cell_type": "code",
      "source": [
        "'''\n",
        "categories_to_reduce = ['Business', 'Tech', 'Politics']\n",
        "\n",
        "# Separate the data\n",
        "df_to_reduce = df[df['Label'].isin(categories_to_reduce)]\n",
        "df_remain = df[~df['Label'].isin(categories_to_reduce)]\n",
        "\n",
        "# Drop 30% of samples from specified categories\n",
        "reduced_dfs = []\n",
        "for category in categories_to_reduce:\n",
        "    df_category = df_to_reduce[df_to_reduce['Label'] == category]\n",
        "    reduced_count = int(len(df_category) * 0.7)  # Keeping 70% means dropping 30%\n",
        "    df_reduced = df_category.sample(n=reduced_count)\n",
        "    reduced_dfs.append(df_reduced)\n",
        "\n",
        "# Concatenate the reduced datasets with the untouched dataset\n",
        "df_final = pd.concat([pd.concat(reduced_dfs), df_remain])\n",
        "\n",
        "# Shuffle the final DataFrame\n",
        "df_final = df_final.sample(frac=1).reset_index(drop=True)\n",
        "\n",
        "df_final['Label'].value_counts().plot.bar()\n",
        "'''"
      ],
      "metadata": {
        "colab": {
          "base_uri": "https://localhost:8080/",
          "height": 199
        },
        "id": "7dx9sraLYJ25",
        "outputId": "9341a2d5-569f-4c6f-d54f-6e86ff6a1b2d"
      },
      "execution_count": 17,
      "outputs": [
        {
          "output_type": "execute_result",
          "data": {
            "text/plain": [
              "\"\\ncategories_to_reduce = ['Business', 'Tech', 'Politics']\\n\\n# Separate the data\\ndf_to_reduce = df[df['Label'].isin(categories_to_reduce)]\\ndf_remain = df[~df['Label'].isin(categories_to_reduce)]\\n\\n# Drop 30% of samples from specified categories\\nreduced_dfs = []\\nfor category in categories_to_reduce:\\n    df_category = df_to_reduce[df_to_reduce['Label'] == category]\\n    reduced_count = int(len(df_category) * 0.7)  # Keeping 70% means dropping 30%\\n    df_reduced = df_category.sample(n=reduced_count)\\n    reduced_dfs.append(df_reduced)\\n\\n# Concatenate the reduced datasets with the untouched dataset\\ndf_final = pd.concat([pd.concat(reduced_dfs), df_remain])\\n\\n# Shuffle the final DataFrame\\ndf_final = df_final.sample(frac=1).reset_index(drop=True)\\n\\ndf_final['Label'].value_counts().plot.bar()\\n\""
            ],
            "application/vnd.google.colaboratory.intrinsic+json": {
              "type": "string"
            }
          },
          "metadata": {},
          "execution_count": 17
        }
      ]
    },
    {
      "cell_type": "markdown",
      "source": [
        "# tokenize to select best model"
      ],
      "metadata": {
        "id": "hEY3XsLa0JY2"
      }
    },
    {
      "cell_type": "code",
      "source": [
        "max_header = 0\n",
        "j = 0\n",
        "max_body = 0\n",
        "\n",
        "for index , rows in df.iterrows() :\n",
        "    max_header = max(len(df.iloc[index]['Header']), max_header)\n",
        "    max_body = max(len(df.iloc[index]['Body']), max_body)\n",
        "\n",
        "print(max_header)\n",
        "print(max_body)"
      ],
      "metadata": {
        "id": "VSzeGeVQCTz3",
        "colab": {
          "base_uri": "https://localhost:8080/"
        },
        "outputId": "f530c0ed-b298-4e41-b502-b92b2eb04a38"
      },
      "execution_count": null,
      "outputs": [
        {
          "output_type": "stream",
          "name": "stdout",
          "text": [
            "153\n",
            "32767\n"
          ]
        }
      ]
    },
    {
      "cell_type": "code",
      "source": [
        "max_header_length = 0\n",
        "max_body_length = 0\n",
        "max_header_index = None\n",
        "max_body_index = None\n",
        "count_more_10000 = 0\n",
        "\n",
        "for index, row in df.iterrows():\n",
        "    header_length = len(row['Header'])\n",
        "    body_length = len(row['Body'])\n",
        "\n",
        "    if header_length > max_header_length:\n",
        "        max_header_length = header_length\n",
        "        max_header_index = index\n",
        "\n",
        "    if body_length > max_body_length:\n",
        "        max_body_length = body_length\n",
        "        max_body_index = index\n",
        "\n",
        "    if max_body_length>10000 :\n",
        "       count_more_10000+=1\n",
        "\n",
        "print(\"Max Header Length:\", max_header_length, \"at index\", max_header_index)\n",
        "print(\"Max Body Length:\", max_body_length, \"at index\", max_body_index)\n",
        "print(count_more_10000)"
      ],
      "metadata": {
        "id": "2veD37Kxcdxc",
        "colab": {
          "base_uri": "https://localhost:8080/"
        },
        "outputId": "ec2b42a5-87e4-4f20-fc4b-cc6ad42e6b2d"
      },
      "execution_count": null,
      "outputs": [
        {
          "output_type": "stream",
          "name": "stdout",
          "text": [
            "Max Header Length: 153 at index 10923\n",
            "Max Body Length: 32767 at index 278\n",
            "29653\n"
          ]
        }
      ]
    },
    {
      "cell_type": "code",
      "source": [
        "! pip install tensorflow transformers ;\n",
        "from transformers import BertTokenizer\n"
      ],
      "metadata": {
        "id": "nprSXba7emmb",
        "colab": {
          "base_uri": "https://localhost:8080/"
        },
        "outputId": "3f711c0b-7db3-455c-f57e-1256eb61e2a4"
      },
      "execution_count": null,
      "outputs": [
        {
          "output_type": "stream",
          "name": "stdout",
          "text": [
            "Requirement already satisfied: tensorflow in /usr/local/lib/python3.10/dist-packages (2.15.0)\n",
            "Requirement already satisfied: transformers in /usr/local/lib/python3.10/dist-packages (4.38.2)\n",
            "Requirement already satisfied: absl-py>=1.0.0 in /usr/local/lib/python3.10/dist-packages (from tensorflow) (1.4.0)\n",
            "Requirement already satisfied: astunparse>=1.6.0 in /usr/local/lib/python3.10/dist-packages (from tensorflow) (1.6.3)\n",
            "Requirement already satisfied: flatbuffers>=23.5.26 in /usr/local/lib/python3.10/dist-packages (from tensorflow) (24.3.25)\n",
            "Requirement already satisfied: gast!=0.5.0,!=0.5.1,!=0.5.2,>=0.2.1 in /usr/local/lib/python3.10/dist-packages (from tensorflow) (0.5.4)\n",
            "Requirement already satisfied: google-pasta>=0.1.1 in /usr/local/lib/python3.10/dist-packages (from tensorflow) (0.2.0)\n",
            "Requirement already satisfied: h5py>=2.9.0 in /usr/local/lib/python3.10/dist-packages (from tensorflow) (3.9.0)\n",
            "Requirement already satisfied: libclang>=13.0.0 in /usr/local/lib/python3.10/dist-packages (from tensorflow) (18.1.1)\n",
            "Requirement already satisfied: ml-dtypes~=0.2.0 in /usr/local/lib/python3.10/dist-packages (from tensorflow) (0.2.0)\n",
            "Requirement already satisfied: numpy<2.0.0,>=1.23.5 in /usr/local/lib/python3.10/dist-packages (from tensorflow) (1.25.2)\n",
            "Requirement already satisfied: opt-einsum>=2.3.2 in /usr/local/lib/python3.10/dist-packages (from tensorflow) (3.3.0)\n",
            "Requirement already satisfied: packaging in /usr/local/lib/python3.10/dist-packages (from tensorflow) (24.0)\n",
            "Requirement already satisfied: protobuf!=4.21.0,!=4.21.1,!=4.21.2,!=4.21.3,!=4.21.4,!=4.21.5,<5.0.0dev,>=3.20.3 in /usr/local/lib/python3.10/dist-packages (from tensorflow) (3.20.3)\n",
            "Requirement already satisfied: setuptools in /usr/local/lib/python3.10/dist-packages (from tensorflow) (67.7.2)\n",
            "Requirement already satisfied: six>=1.12.0 in /usr/local/lib/python3.10/dist-packages (from tensorflow) (1.16.0)\n",
            "Requirement already satisfied: termcolor>=1.1.0 in /usr/local/lib/python3.10/dist-packages (from tensorflow) (2.4.0)\n",
            "Requirement already satisfied: typing-extensions>=3.6.6 in /usr/local/lib/python3.10/dist-packages (from tensorflow) (4.10.0)\n",
            "Requirement already satisfied: wrapt<1.15,>=1.11.0 in /usr/local/lib/python3.10/dist-packages (from tensorflow) (1.14.1)\n",
            "Requirement already satisfied: tensorflow-io-gcs-filesystem>=0.23.1 in /usr/local/lib/python3.10/dist-packages (from tensorflow) (0.36.0)\n",
            "Requirement already satisfied: grpcio<2.0,>=1.24.3 in /usr/local/lib/python3.10/dist-packages (from tensorflow) (1.62.1)\n",
            "Requirement already satisfied: tensorboard<2.16,>=2.15 in /usr/local/lib/python3.10/dist-packages (from tensorflow) (2.15.2)\n",
            "Requirement already satisfied: tensorflow-estimator<2.16,>=2.15.0 in /usr/local/lib/python3.10/dist-packages (from tensorflow) (2.15.0)\n",
            "Requirement already satisfied: keras<2.16,>=2.15.0 in /usr/local/lib/python3.10/dist-packages (from tensorflow) (2.15.0)\n",
            "Requirement already satisfied: filelock in /usr/local/lib/python3.10/dist-packages (from transformers) (3.13.3)\n",
            "Requirement already satisfied: huggingface-hub<1.0,>=0.19.3 in /usr/local/lib/python3.10/dist-packages (from transformers) (0.20.3)\n",
            "Requirement already satisfied: pyyaml>=5.1 in /usr/local/lib/python3.10/dist-packages (from transformers) (6.0.1)\n",
            "Requirement already satisfied: regex!=2019.12.17 in /usr/local/lib/python3.10/dist-packages (from transformers) (2023.12.25)\n",
            "Requirement already satisfied: requests in /usr/local/lib/python3.10/dist-packages (from transformers) (2.31.0)\n",
            "Requirement already satisfied: tokenizers<0.19,>=0.14 in /usr/local/lib/python3.10/dist-packages (from transformers) (0.15.2)\n",
            "Requirement already satisfied: safetensors>=0.4.1 in /usr/local/lib/python3.10/dist-packages (from transformers) (0.4.2)\n",
            "Requirement already satisfied: tqdm>=4.27 in /usr/local/lib/python3.10/dist-packages (from transformers) (4.66.2)\n",
            "Requirement already satisfied: wheel<1.0,>=0.23.0 in /usr/local/lib/python3.10/dist-packages (from astunparse>=1.6.0->tensorflow) (0.43.0)\n",
            "Requirement already satisfied: fsspec>=2023.5.0 in /usr/local/lib/python3.10/dist-packages (from huggingface-hub<1.0,>=0.19.3->transformers) (2023.6.0)\n",
            "Requirement already satisfied: google-auth<3,>=1.6.3 in /usr/local/lib/python3.10/dist-packages (from tensorboard<2.16,>=2.15->tensorflow) (2.27.0)\n",
            "Requirement already satisfied: google-auth-oauthlib<2,>=0.5 in /usr/local/lib/python3.10/dist-packages (from tensorboard<2.16,>=2.15->tensorflow) (1.2.0)\n",
            "Requirement already satisfied: markdown>=2.6.8 in /usr/local/lib/python3.10/dist-packages (from tensorboard<2.16,>=2.15->tensorflow) (3.6)\n",
            "Requirement already satisfied: tensorboard-data-server<0.8.0,>=0.7.0 in /usr/local/lib/python3.10/dist-packages (from tensorboard<2.16,>=2.15->tensorflow) (0.7.2)\n",
            "Requirement already satisfied: werkzeug>=1.0.1 in /usr/local/lib/python3.10/dist-packages (from tensorboard<2.16,>=2.15->tensorflow) (3.0.2)\n",
            "Requirement already satisfied: charset-normalizer<4,>=2 in /usr/local/lib/python3.10/dist-packages (from requests->transformers) (3.3.2)\n",
            "Requirement already satisfied: idna<4,>=2.5 in /usr/local/lib/python3.10/dist-packages (from requests->transformers) (3.6)\n",
            "Requirement already satisfied: urllib3<3,>=1.21.1 in /usr/local/lib/python3.10/dist-packages (from requests->transformers) (2.0.7)\n",
            "Requirement already satisfied: certifi>=2017.4.17 in /usr/local/lib/python3.10/dist-packages (from requests->transformers) (2024.2.2)\n",
            "Requirement already satisfied: cachetools<6.0,>=2.0.0 in /usr/local/lib/python3.10/dist-packages (from google-auth<3,>=1.6.3->tensorboard<2.16,>=2.15->tensorflow) (5.3.3)\n",
            "Requirement already satisfied: pyasn1-modules>=0.2.1 in /usr/local/lib/python3.10/dist-packages (from google-auth<3,>=1.6.3->tensorboard<2.16,>=2.15->tensorflow) (0.4.0)\n",
            "Requirement already satisfied: rsa<5,>=3.1.4 in /usr/local/lib/python3.10/dist-packages (from google-auth<3,>=1.6.3->tensorboard<2.16,>=2.15->tensorflow) (4.9)\n",
            "Requirement already satisfied: requests-oauthlib>=0.7.0 in /usr/local/lib/python3.10/dist-packages (from google-auth-oauthlib<2,>=0.5->tensorboard<2.16,>=2.15->tensorflow) (1.3.1)\n",
            "Requirement already satisfied: MarkupSafe>=2.1.1 in /usr/local/lib/python3.10/dist-packages (from werkzeug>=1.0.1->tensorboard<2.16,>=2.15->tensorflow) (2.1.5)\n",
            "Requirement already satisfied: pyasn1<0.7.0,>=0.4.6 in /usr/local/lib/python3.10/dist-packages (from pyasn1-modules>=0.2.1->google-auth<3,>=1.6.3->tensorboard<2.16,>=2.15->tensorflow) (0.6.0)\n",
            "Requirement already satisfied: oauthlib>=3.0.0 in /usr/local/lib/python3.10/dist-packages (from requests-oauthlib>=0.7.0->google-auth-oauthlib<2,>=0.5->tensorboard<2.16,>=2.15->tensorflow) (3.2.2)\n"
          ]
        }
      ]
    },
    {
      "cell_type": "code",
      "source": [
        "tokenizer = BertTokenizer.from_pretrained('bert-base-uncased')\n",
        "header_example = df.iloc[278]['Header']\n",
        "body_example = df.iloc[278]['Body']\n",
        "\n",
        "tokenizer(header_example,body_example, padding=True, truncation=True, return_tensors='tf')\n",
        "# Tokenize and calculate lengths\n",
        "header_tokens = tokenizer.tokenize(header_example)\n",
        "body_tokens = tokenizer.tokenize(body_example)\n",
        "\n",
        "print(len(header_tokens))  #length of the header\n",
        "print(len(body_tokens))  #length of the body"
      ],
      "metadata": {
        "id": "kMODzlTHeUZn",
        "colab": {
          "base_uri": "https://localhost:8080/"
        },
        "outputId": "d7789c10-89dd-42fc-d4b0-15792c01242d"
      },
      "execution_count": null,
      "outputs": [
        {
          "output_type": "stream",
          "name": "stderr",
          "text": [
            "Be aware, overflowing tokens are not returned for the setting you have chosen, i.e. sequence pairs with the 'longest_first' truncation strategy. So the returned list will always be empty even if some tokens have been removed.\n"
          ]
        },
        {
          "output_type": "stream",
          "name": "stdout",
          "text": [
            "7\n",
            "6737\n"
          ]
        }
      ]
    },
    {
      "cell_type": "code",
      "source": [
        "from transformers import LongformerTokenizer, TFLongformerForSequenceClassification\n",
        "\n",
        "tokenizer2 = LongformerTokenizer.from_pretrained('allenai/longformer-base-4096')\n",
        "model = TFLongformerForSequenceClassification.from_pretrained('allenai/longformer-base-4096')\n",
        "\n",
        "# Tokenize and calculate lengths\n",
        "header_tokens2 = tokenizer2.tokenize(header_example)\n",
        "body_tokens2 = tokenizer2.tokenize(body_example)\n",
        "\n",
        "print(len(header_tokens2))  #length of the header\n",
        "print(len(body_tokens2))  #length of the body"
      ],
      "metadata": {
        "id": "CCRcYsUKgmzb",
        "colab": {
          "base_uri": "https://localhost:8080/",
          "height": 358,
          "referenced_widgets": [
            "f1355b3c961f4cc4ab95b71f823d90ee",
            "6e63b09191b14feaa554e3c5d5b35f8c",
            "3cf15ce556b442a9be4457a88a4ec9c9",
            "269da7e451db422693bbfde3dd192e12",
            "6cdfe20cc3d1495598e088f35907fcb1",
            "8f0536203f7a4385a9ae86ef77454e4c",
            "4b36e527d3934b1897545f61f10b32c5",
            "d056bee8e43746d5a21c0bac0b3966c2",
            "3766d1f75fc44152bf66857b47e62fec",
            "0d5aab9789224800950ab5c8e9916f0f",
            "608765b74a2d4237aae4a58e3e3e8c27",
            "e4332a3299234eea937884b734e2ba3c",
            "acad733e4d5641c38d0de3c33edcde0b",
            "343551fc31b642c6bb17912120db6fc5",
            "a86bc72dc7ac4efab57bc3056e763ba2",
            "ddd985bf900a40f28392deb34b695da3",
            "a3e23473da834cbd8f7f8e2ec47430b7",
            "b156bea0a5f941b6b9e933486d98ca58",
            "84d2c712c2834c26821d3790913b5af6",
            "07bc180d991d4469abc78adb1c5f9fd0",
            "bb54bb3d81484f96bb9c16df74947b8c",
            "344168f0e6a64cecbbad74a398bdefbe",
            "591181cdd4bf4b7286276ec3612c4043",
            "b4a87a84e1df4c7c82720ec8b0e4a36d",
            "e8d3adfacda94f1aaaa7317c00c1d8d8",
            "48b90520b45c485ebcef0004b67c2477",
            "b9b26e62515046fa932a1ef509767814",
            "5a907eff287344c79df0126fe07cb7e0",
            "14aa940c6fdf45c39227024caad8ada3",
            "486a9e5539d44e9984fb2096e65d2977",
            "1f2aba60ef724c868c0629ad79a1452c",
            "65a7358c63c54db6a84193e520621854",
            "4ffc6447905e41278b95b804ce154ab1",
            "8d934dd6f05948c886c10132b5b92d32",
            "4651ff821c8e4de69e1803fe071e5a8e",
            "742a0670980649499df9cdab9b261104",
            "4fefaa7998e9481595db43f9204ff470",
            "8489cfe5b0e64b4fa16ab836af226d9b",
            "83fe4a32b86243e7a19f072be0d6f626",
            "44c9e50ecc6c4631a9a542122d493eec",
            "c6db56d52f6b457a8d094e4ba60470c8",
            "511b5abc1a9a4b4fbcf7d9182f010832",
            "717cc06058d7409bbcad06b22e4abd61",
            "6c1f1b7f47a342578b09d10d0c661522",
            "e487023a24f74c678ea56f292eae6e9b",
            "ca5d4eda6c674399a25956e249df7213",
            "15a5e44d96fd4492bc83582cf0e54ddf",
            "9ff1592db87a4fa9b5e053ce4ed09176",
            "f53afbbae57d4727a95116b196e1a262",
            "39567d21cabf4e52bc5eee1b1c77d7bb",
            "ced67b3e508c4ec3b291df4daacdee06",
            "28725a01b85342cdaab0a67dc3e75b17",
            "18702959608f421fb7ff571ab5edc948",
            "cb5794a0dd5a450ba612fb0363262493",
            "687583cafe98443989bb9ceef2b399af"
          ]
        },
        "outputId": "4aabb5c3-128c-412d-dc2d-7c4b211675e4"
      },
      "execution_count": null,
      "outputs": [
        {
          "output_type": "display_data",
          "data": {
            "text/plain": [
              "vocab.json:   0%|          | 0.00/899k [00:00<?, ?B/s]"
            ],
            "application/vnd.jupyter.widget-view+json": {
              "version_major": 2,
              "version_minor": 0,
              "model_id": "f1355b3c961f4cc4ab95b71f823d90ee"
            }
          },
          "metadata": {}
        },
        {
          "output_type": "display_data",
          "data": {
            "text/plain": [
              "merges.txt:   0%|          | 0.00/456k [00:00<?, ?B/s]"
            ],
            "application/vnd.jupyter.widget-view+json": {
              "version_major": 2,
              "version_minor": 0,
              "model_id": "e4332a3299234eea937884b734e2ba3c"
            }
          },
          "metadata": {}
        },
        {
          "output_type": "display_data",
          "data": {
            "text/plain": [
              "tokenizer.json:   0%|          | 0.00/1.36M [00:00<?, ?B/s]"
            ],
            "application/vnd.jupyter.widget-view+json": {
              "version_major": 2,
              "version_minor": 0,
              "model_id": "591181cdd4bf4b7286276ec3612c4043"
            }
          },
          "metadata": {}
        },
        {
          "output_type": "display_data",
          "data": {
            "text/plain": [
              "config.json:   0%|          | 0.00/694 [00:00<?, ?B/s]"
            ],
            "application/vnd.jupyter.widget-view+json": {
              "version_major": 2,
              "version_minor": 0,
              "model_id": "8d934dd6f05948c886c10132b5b92d32"
            }
          },
          "metadata": {}
        },
        {
          "output_type": "display_data",
          "data": {
            "text/plain": [
              "tf_model.h5:   0%|          | 0.00/765M [00:00<?, ?B/s]"
            ],
            "application/vnd.jupyter.widget-view+json": {
              "version_major": 2,
              "version_minor": 0,
              "model_id": "e487023a24f74c678ea56f292eae6e9b"
            }
          },
          "metadata": {}
        },
        {
          "output_type": "stream",
          "name": "stderr",
          "text": [
            "/usr/local/lib/python3.10/dist-packages/tf_keras/src/initializers/initializers.py:121: UserWarning: The initializer TruncatedNormal is unseeded and being called multiple times, which will return identical values each time (even if the initializer is unseeded). Please update your code to provide a seed to the initializer, or avoid using the same initializer instance more than once.\n",
            "  warnings.warn(\n",
            "Some layers from the model checkpoint at allenai/longformer-base-4096 were not used when initializing TFLongformerForSequenceClassification: ['lm_head']\n",
            "- This IS expected if you are initializing TFLongformerForSequenceClassification from the checkpoint of a model trained on another task or with another architecture (e.g. initializing a BertForSequenceClassification model from a BertForPreTraining model).\n",
            "- This IS NOT expected if you are initializing TFLongformerForSequenceClassification from the checkpoint of a model that you expect to be exactly identical (initializing a BertForSequenceClassification model from a BertForSequenceClassification model).\n",
            "Some layers of TFLongformerForSequenceClassification were not initialized from the model checkpoint at allenai/longformer-base-4096 and are newly initialized: ['classifier']\n",
            "You should probably TRAIN this model on a down-stream task to be able to use it for predictions and inference.\n"
          ]
        },
        {
          "output_type": "stream",
          "name": "stdout",
          "text": [
            "7\n",
            "6668\n"
          ]
        }
      ]
    },
    {
      "cell_type": "code",
      "source": [
        "!pip install transformers ;\n"
      ],
      "metadata": {
        "id": "WgMrlDsufLGk"
      },
      "execution_count": null,
      "outputs": []
    },
    {
      "cell_type": "code",
      "source": [
        "from transformers import BigBirdTokenizer, BigBirdForSequenceClassification\n",
        "\n",
        "tokenizer3 = BigBirdTokenizer.from_pretrained(\"google/bigbird-roberta-base\")\n",
        "\n",
        "# Tokenize and calculate lengths\n",
        "header_tokens3 = tokenizer3.tokenize(header_example)\n",
        "body_tokens3 = tokenizer3.tokenize(body_example)\n",
        "\n",
        "print(len(header_tokens3))  #length of the header\n",
        "print(len(body_tokens3))  #length of the body"
      ],
      "metadata": {
        "id": "AkusDWNxvO9C",
        "colab": {
          "base_uri": "https://localhost:8080/",
          "height": 181,
          "referenced_widgets": [
            "d300339e9c1d47bdb4847a0d3d14a4a7",
            "eff8eb75029d4ff5ab05df9ecc3b76c5",
            "61fe4ed5354a438897dd94208863a157",
            "e76134d36fbd4576bc342762a258dd4f",
            "22271f490b15488f9e77a7e6e3240217",
            "043faf462a094c1f82d1451075f2d53f",
            "f93a181c24e5433abadddd5d4d8915da",
            "da06c12df82741c2851c1f0d927dc113",
            "0750046d741a442c8d9f85edaf6324dc",
            "6cce397013264719907e02cae2a5dfcc",
            "17d550adf2794fcf8148f8d5b20058c3",
            "25e29aae041e4abca00e6c00f2a9d673",
            "64160a3bc4e5407c9f15b3704d9a4b26",
            "b6e81b4ae9e94ec6a83a30f18cc0118b",
            "199fa6d74ca841a2ae59e007f79e1ca1",
            "39085e86afba4c3ca62de9d28b71fc61",
            "0b3c4a9c0dd940a5bff086a96dc8e6cb",
            "85bb91f60ff44c35a35ebe6b4b098971",
            "035bb0921b4546e69941f5ddb83fd91a",
            "a054a0a4f3574d2bbde13570eee0d930",
            "dd8495777c9a4b04bb69096f9cc90603",
            "c8f7b9d594614bd99ed8976f1e340fa3",
            "15925255261b4988923c3295da7f7d61",
            "11b7f0a969784cb3936715aa8b6a0b1c",
            "ed5fd005192b47f6a0e5f29794a2ae17",
            "c58a628125154e5d92c6cfae42a36289",
            "f06d3bb9e5b04bf8b0160cf46c07ed11",
            "091975f644434edcac2e868288fdd30d",
            "84ed8d7308034d4fa824dec66ee29af1",
            "0bf93a3cecc046b2ae2a6959e184972b",
            "589018e8d3b243dfadd83e60b56f9ed0",
            "928ca15038804674bd0cf67ff4a5650f",
            "43a9a44b446a435ab6b138ff58a3a9a3",
            "1f96981c665b4780b04cbab3edfdd3e4",
            "52336efd508d4d80afd0fcad571b5611",
            "57827f9d7fea458baf1bdddec6b7b808",
            "53b9be5a5d794556b5720ce434abb88f",
            "d5c939303a4942e8abdab55a83934929",
            "896c845e38d543d1a9c10e240b74a5a7",
            "e029ba2c0d984978b1824b10ad480de4",
            "a7ae2b4624e44b4daf3c9e47d7a7c3b1",
            "ff811557376d49f6a39611d6d62045c8",
            "0471e4e3204c49599062ae78ef9ef56f",
            "5c84942d316e4a40998e8c740561ca4f"
          ]
        },
        "outputId": "9200e195-2852-4fb9-a493-649590d7c4d7"
      },
      "execution_count": null,
      "outputs": [
        {
          "output_type": "display_data",
          "data": {
            "text/plain": [
              "tokenizer_config.json:   0%|          | 0.00/1.02k [00:00<?, ?B/s]"
            ],
            "application/vnd.jupyter.widget-view+json": {
              "version_major": 2,
              "version_minor": 0,
              "model_id": "d300339e9c1d47bdb4847a0d3d14a4a7"
            }
          },
          "metadata": {}
        },
        {
          "output_type": "display_data",
          "data": {
            "text/plain": [
              "spiece.model:   0%|          | 0.00/846k [00:00<?, ?B/s]"
            ],
            "application/vnd.jupyter.widget-view+json": {
              "version_major": 2,
              "version_minor": 0,
              "model_id": "25e29aae041e4abca00e6c00f2a9d673"
            }
          },
          "metadata": {}
        },
        {
          "output_type": "display_data",
          "data": {
            "text/plain": [
              "special_tokens_map.json:   0%|          | 0.00/775 [00:00<?, ?B/s]"
            ],
            "application/vnd.jupyter.widget-view+json": {
              "version_major": 2,
              "version_minor": 0,
              "model_id": "15925255261b4988923c3295da7f7d61"
            }
          },
          "metadata": {}
        },
        {
          "output_type": "display_data",
          "data": {
            "text/plain": [
              "config.json:   0%|          | 0.00/760 [00:00<?, ?B/s]"
            ],
            "application/vnd.jupyter.widget-view+json": {
              "version_major": 2,
              "version_minor": 0,
              "model_id": "1f96981c665b4780b04cbab3edfdd3e4"
            }
          },
          "metadata": {}
        },
        {
          "output_type": "stream",
          "name": "stdout",
          "text": [
            "7\n",
            "6594\n"
          ]
        }
      ]
    },
    {
      "cell_type": "code",
      "source": [
        "from transformers import BigBirdTokenizer, TFBigBirdForSequenceClassification\n",
        "import tensorflow as tf\n",
        "import pandas as pd\n",
        "\n",
        "df[\"text_to_classify\"] = df['Header'] + \" [SEP] \" + df['Body']\n",
        "\n",
        "tokenizer3 = BigBirdTokenizer.from_pretrained('google/bigbird-roberta-base')\n",
        "\n",
        "# Initialize the model\n",
        "model = TFBigBirdForSequenceClassification.from_pretrained('google/bigbird-roberta-base', num_labels=4)\n",
        "\n",
        "example_texts = df[\"text_to_classify\"].iloc[0]  # This should be adjusted to batch processing for real use\n",
        "\n",
        "inputs = tokenizer3(example_texts, return_tensors=\"tf\", max_length=4096, truncation=True, padding=\"max_length\")\n",
        "\n",
        "input_ids = inputs[\"input_ids\"]\n",
        "attention_mask = inputs[\"attention_mask\"]\n",
        "\n",
        "# Predict\n",
        "outputs = model(input_ids, attention_mask=attention_mask)\n",
        "logits = outputs.logits\n",
        "\n",
        "# Softmax to convert logits to probabilities\n",
        "predictions = tf.nn.softmax(logits, axis=-1)\n",
        "print(predictions)"
      ],
      "metadata": {
        "id": "-cdzFz1bvx-X",
        "colab": {
          "base_uri": "https://localhost:8080/",
          "height": 411
        },
        "outputId": "9d60d0bc-ff56-424a-9b38-79d0170fb89d"
      },
      "execution_count": null,
      "outputs": [
        {
          "output_type": "error",
          "ename": "ImportError",
          "evalue": "cannot import name 'TFBigBirdForSequenceClassification' from 'transformers' (/usr/local/lib/python3.10/dist-packages/transformers/__init__.py)",
          "traceback": [
            "\u001b[0;31m---------------------------------------------------------------------------\u001b[0m",
            "\u001b[0;31mImportError\u001b[0m                               Traceback (most recent call last)",
            "\u001b[0;32m<ipython-input-37-0b29a8a1844b>\u001b[0m in \u001b[0;36m<cell line: 1>\u001b[0;34m()\u001b[0m\n\u001b[0;32m----> 1\u001b[0;31m \u001b[0;32mfrom\u001b[0m \u001b[0mtransformers\u001b[0m \u001b[0;32mimport\u001b[0m \u001b[0mBigBirdTokenizer\u001b[0m\u001b[0;34m,\u001b[0m \u001b[0mTFBigBirdForSequenceClassification\u001b[0m\u001b[0;34m\u001b[0m\u001b[0;34m\u001b[0m\u001b[0m\n\u001b[0m\u001b[1;32m      2\u001b[0m \u001b[0;32mimport\u001b[0m \u001b[0mtensorflow\u001b[0m \u001b[0;32mas\u001b[0m \u001b[0mtf\u001b[0m\u001b[0;34m\u001b[0m\u001b[0;34m\u001b[0m\u001b[0m\n\u001b[1;32m      3\u001b[0m \u001b[0;32mimport\u001b[0m \u001b[0mpandas\u001b[0m \u001b[0;32mas\u001b[0m \u001b[0mpd\u001b[0m\u001b[0;34m\u001b[0m\u001b[0;34m\u001b[0m\u001b[0m\n\u001b[1;32m      4\u001b[0m \u001b[0;34m\u001b[0m\u001b[0m\n\u001b[1;32m      5\u001b[0m \u001b[0mdf\u001b[0m\u001b[0;34m[\u001b[0m\u001b[0;34m\"text_to_classify\"\u001b[0m\u001b[0;34m]\u001b[0m \u001b[0;34m=\u001b[0m \u001b[0mdf\u001b[0m\u001b[0;34m[\u001b[0m\u001b[0;34m'Header'\u001b[0m\u001b[0;34m]\u001b[0m \u001b[0;34m+\u001b[0m \u001b[0;34m\" [SEP] \"\u001b[0m \u001b[0;34m+\u001b[0m \u001b[0mdf\u001b[0m\u001b[0;34m[\u001b[0m\u001b[0;34m'Body'\u001b[0m\u001b[0;34m]\u001b[0m\u001b[0;34m\u001b[0m\u001b[0;34m\u001b[0m\u001b[0m\n",
            "\u001b[0;31mImportError\u001b[0m: cannot import name 'TFBigBirdForSequenceClassification' from 'transformers' (/usr/local/lib/python3.10/dist-packages/transformers/__init__.py)",
            "",
            "\u001b[0;31m---------------------------------------------------------------------------\u001b[0;32m\nNOTE: If your import is failing due to a missing package, you can\nmanually install dependencies using either !pip or !apt.\n\nTo view examples of installing some common dependencies, click the\n\"Open Examples\" button below.\n\u001b[0;31m---------------------------------------------------------------------------\u001b[0m\n"
          ],
          "errorDetails": {
            "actions": [
              {
                "action": "open_url",
                "actionText": "Open Examples",
                "url": "/notebooks/snippets/importing_libraries.ipynb"
              }
            ]
          }
        }
      ]
    },
    {
      "cell_type": "markdown",
      "source": [
        "# bert and roberta"
      ],
      "metadata": {
        "id": "37y7MLE50NdR"
      }
    },
    {
      "cell_type": "code",
      "source": [
        "!pip install transformers"
      ],
      "metadata": {
        "colab": {
          "base_uri": "https://localhost:8080/"
        },
        "id": "HbwG27t0xmuX",
        "outputId": "a06600ca-8a1b-415c-8ab2-123a83e2ec62"
      },
      "execution_count": null,
      "outputs": [
        {
          "output_type": "stream",
          "name": "stdout",
          "text": [
            "Requirement already satisfied: transformers in /usr/local/lib/python3.10/dist-packages (4.38.2)\n",
            "Requirement already satisfied: filelock in /usr/local/lib/python3.10/dist-packages (from transformers) (3.13.3)\n",
            "Requirement already satisfied: huggingface-hub<1.0,>=0.19.3 in /usr/local/lib/python3.10/dist-packages (from transformers) (0.20.3)\n",
            "Requirement already satisfied: numpy>=1.17 in /usr/local/lib/python3.10/dist-packages (from transformers) (1.25.2)\n",
            "Requirement already satisfied: packaging>=20.0 in /usr/local/lib/python3.10/dist-packages (from transformers) (24.0)\n",
            "Requirement already satisfied: pyyaml>=5.1 in /usr/local/lib/python3.10/dist-packages (from transformers) (6.0.1)\n",
            "Requirement already satisfied: regex!=2019.12.17 in /usr/local/lib/python3.10/dist-packages (from transformers) (2023.12.25)\n",
            "Requirement already satisfied: requests in /usr/local/lib/python3.10/dist-packages (from transformers) (2.31.0)\n",
            "Requirement already satisfied: tokenizers<0.19,>=0.14 in /usr/local/lib/python3.10/dist-packages (from transformers) (0.15.2)\n",
            "Requirement already satisfied: safetensors>=0.4.1 in /usr/local/lib/python3.10/dist-packages (from transformers) (0.4.2)\n",
            "Requirement already satisfied: tqdm>=4.27 in /usr/local/lib/python3.10/dist-packages (from transformers) (4.66.2)\n",
            "Requirement already satisfied: fsspec>=2023.5.0 in /usr/local/lib/python3.10/dist-packages (from huggingface-hub<1.0,>=0.19.3->transformers) (2023.6.0)\n",
            "Requirement already satisfied: typing-extensions>=3.7.4.3 in /usr/local/lib/python3.10/dist-packages (from huggingface-hub<1.0,>=0.19.3->transformers) (4.10.0)\n",
            "Requirement already satisfied: charset-normalizer<4,>=2 in /usr/local/lib/python3.10/dist-packages (from requests->transformers) (3.3.2)\n",
            "Requirement already satisfied: idna<4,>=2.5 in /usr/local/lib/python3.10/dist-packages (from requests->transformers) (3.6)\n",
            "Requirement already satisfied: urllib3<3,>=1.21.1 in /usr/local/lib/python3.10/dist-packages (from requests->transformers) (2.0.7)\n",
            "Requirement already satisfied: certifi>=2017.4.17 in /usr/local/lib/python3.10/dist-packages (from requests->transformers) (2024.2.2)\n"
          ]
        }
      ]
    },
    {
      "cell_type": "code",
      "source": [
        "import torch\n",
        "import torch.nn as nn\n",
        "import shutil\n",
        "import sys\n",
        "#Import these two transformer libraries\n",
        "from transformers import BertForSequenceClassification, BertTokenizer, BertConfig\n",
        "from transformers import RobertaForSequenceClassification, RobertaTokenizer, RobertaConfig\n",
        "from sklearn.model_selection import train_test_split\n",
        "import gc\n",
        "\n"
      ],
      "metadata": {
        "id": "IDRDxsZE8IUO"
      },
      "execution_count": null,
      "outputs": []
    },
    {
      "cell_type": "code",
      "source": [
        "torch.cuda.empty_cache()\n",
        "gc.collect()"
      ],
      "metadata": {
        "colab": {
          "base_uri": "https://localhost:8080/"
        },
        "id": "upAlF6_QNqlu",
        "outputId": "34bc06c0-cdb7-4348-a814-9becdec98677"
      },
      "execution_count": null,
      "outputs": [
        {
          "output_type": "execute_result",
          "data": {
            "text/plain": [
              "0"
            ]
          },
          "metadata": {},
          "execution_count": 136
        }
      ]
    },
    {
      "cell_type": "code",
      "source": [
        "df_train, df_val = train_test_split(df, test_size=0.2, random_state=42, shuffle=True)"
      ],
      "metadata": {
        "id": "2Z7CBySf8zXO"
      },
      "execution_count": null,
      "outputs": []
    },
    {
      "cell_type": "code",
      "source": [
        "df_train.info()"
      ],
      "metadata": {
        "colab": {
          "base_uri": "https://localhost:8080/"
        },
        "id": "QrC0tF97_LVf",
        "outputId": "ebc72b46-cce3-4a8d-c174-fd7421d71c7d"
      },
      "execution_count": null,
      "outputs": [
        {
          "output_type": "stream",
          "name": "stdout",
          "text": [
            "<class 'pandas.core.frame.DataFrame'>\n",
            "Index: 23731 entries, 6620 to 23655\n",
            "Data columns (total 3 columns):\n",
            " #   Column  Non-Null Count  Dtype \n",
            "---  ------  --------------  ----- \n",
            " 0   Header  23731 non-null  object\n",
            " 1   Body    23731 non-null  object\n",
            " 2   Label   23731 non-null  object\n",
            "dtypes: object(3)\n",
            "memory usage: 741.6+ KB\n"
          ]
        }
      ]
    },
    {
      "cell_type": "code",
      "source": [
        "# prepare train data\n",
        "df_train['CONTEXT'] = df_train['Header'] + \". \" + df_train['Body']\n",
        "# one-hot-encoding\n",
        "label_dummies = pd.get_dummies(df_train['Label'], prefix='Label').astype(int)\n",
        "df_train = pd.concat([df_train, label_dummies], axis=1)\n",
        "df_train.drop(['Header','Body','Label'], axis=1, inplace=True)\n",
        "df_train.info()\n",
        "\n",
        "\n",
        "# prepare validation data\n",
        "df_val['CONTEXT'] = df_val['Header'] + \". \" + df_val['Body']\n",
        "label_dummies = pd.get_dummies(df_val['Label'], prefix='Label').astype(int)\n",
        "df_val = pd.concat([df_val, label_dummies], axis=1)\n",
        "df_val.drop(['Header','Body','Label'], axis=1, inplace=True)"
      ],
      "metadata": {
        "colab": {
          "base_uri": "https://localhost:8080/"
        },
        "id": "vHScyVic8ldv",
        "outputId": "7bd1927b-9138-464f-df07-acf6f9030b88"
      },
      "execution_count": null,
      "outputs": [
        {
          "output_type": "stream",
          "name": "stdout",
          "text": [
            "<class 'pandas.core.frame.DataFrame'>\n",
            "Index: 23731 entries, 6620 to 23655\n",
            "Data columns (total 5 columns):\n",
            " #   Column          Non-Null Count  Dtype \n",
            "---  ------          --------------  ----- \n",
            " 0   CONTEXT         23731 non-null  object\n",
            " 1   Label_Business  23731 non-null  int64 \n",
            " 2   Label_Politics  23731 non-null  int64 \n",
            " 3   Label_Sport     23731 non-null  int64 \n",
            " 4   Label_Tech      23731 non-null  int64 \n",
            "dtypes: int64(4), object(1)\n",
            "memory usage: 1.1+ MB\n"
          ]
        }
      ]
    },
    {
      "cell_type": "code",
      "source": [
        "target_list = ['Label_Business' , 'Label_Politics' , 'Label_Sport' , 'Label_Tech']"
      ],
      "metadata": {
        "id": "48WHAnelJ0P5"
      },
      "execution_count": null,
      "outputs": []
    },
    {
      "cell_type": "code",
      "source": [
        "# hyperparameters\n",
        "MAX_LEN = 512\n",
        "TRAIN_BATCH_SIZE = 32\n",
        "VALID_BATCH_SIZE = 32\n",
        "EPOCHS = 2\n",
        "LEARNING_RATE = 0.001"
      ],
      "metadata": {
        "id": "OtcR2MjV_Hyk"
      },
      "execution_count": null,
      "outputs": []
    },
    {
      "cell_type": "code",
      "source": [
        "from transformers import RobertaConfig, RobertaModel, RobertaTokenizer"
      ],
      "metadata": {
        "id": "hS3DDNKeAsez"
      },
      "execution_count": null,
      "outputs": []
    },
    {
      "cell_type": "code",
      "source": [
        "tokenizer = RobertaTokenizer.from_pretrained('roberta-base')"
      ],
      "metadata": {
        "id": "6KIUveFsIVVO"
      },
      "execution_count": null,
      "outputs": []
    },
    {
      "cell_type": "code",
      "source": [
        "class CustomDataset (torch.utils.data.Dataset):\n",
        "    def __init__(self, df, tokenizer, max_len):\n",
        "        self.tokenizer = tokenizer\n",
        "        self.df = df\n",
        "        self.title = df['CONTEXT']\n",
        "        self.targets =  self.df[target_list].values\n",
        "        self.max_len = max_len\n",
        "        #print(len(self.title))\n",
        "        #print(len(self.targets))\n",
        "\n",
        "\n",
        "    def __len__(self):\n",
        "        return len(self.title)\n",
        "\n",
        "\n",
        "    def __getitem__(self, index):\n",
        "        try:\n",
        "            #print(f\"Accessing index: {index}\")\n",
        "            title = str(self.title[index])\n",
        "            title = \"\".join(title.split())\n",
        "\n",
        "            inputs = self.tokenizer.encode_plus(\n",
        "            title,\n",
        "            None,\n",
        "            add_special_tokens= True,\n",
        "            max_length= self.max_len,\n",
        "            padding= \"max_length\",\n",
        "            return_token_type_ids= True,\n",
        "            truncation= True,\n",
        "            return_attention_mask= True,\n",
        "            return_tensors= 'pt'\n",
        "            )\n",
        "\n",
        "            return {\n",
        "            'input_ids': inputs['input_ids'].flatten(),\n",
        "            'attention_mask': inputs['attention_mask']. flatten(),\n",
        "            'token_type_ids': inputs[\"token_type_ids\"]. flatten(),\n",
        "            'targets': torch.FloatTensor(self.targets[index])\n",
        "            }\n",
        "\n",
        "        except KeyError:\n",
        "            print(f\"KeyError accessing index: {index}\")\n",
        "            raise"
      ],
      "metadata": {
        "id": "_ltcamdyI0iR"
      },
      "execution_count": null,
      "outputs": []
    },
    {
      "cell_type": "code",
      "source": [
        "# reset index\n",
        "df_train = df_train.reset_index(drop=True)\n",
        "df_val = df_val.reset_index(drop=True)"
      ],
      "metadata": {
        "id": "Q5v7vkxbLDa4"
      },
      "execution_count": null,
      "outputs": []
    },
    {
      "cell_type": "code",
      "source": [
        "df_train.head()"
      ],
      "metadata": {
        "colab": {
          "base_uri": "https://localhost:8080/",
          "height": 206
        },
        "id": "kvgU-y_RLfzt",
        "outputId": "4c80b528-ebee-4ee0-c85b-756bec759225"
      },
      "execution_count": null,
      "outputs": [
        {
          "output_type": "execute_result",
          "data": {
            "text/plain": [
              "                                             CONTEXT  Label_Business  \\\n",
              "0  Marriott Urges Hotel Guests to Tip Housekeeper...               1   \n",
              "1  This Is the Coolest Drone Photo in the World. ...               0   \n",
              "2  Peak Pizza Is Here: American Appetite for Pizz...               1   \n",
              "3  Review: The Samsung Galaxy S10+ Is Perfectly F...               0   \n",
              "4  Lemke repeats as BIG EAST champion, headed bac...               0   \n",
              "\n",
              "   Label_Politics  Label_Sport  Label_Tech  \n",
              "0               0            0           0  \n",
              "1               0            0           1  \n",
              "2               0            0           0  \n",
              "3               0            0           1  \n",
              "4               0            1           0  "
            ],
            "text/html": [
              "\n",
              "  <div id=\"df-e311c69a-774b-43f0-a946-d67c74039713\" class=\"colab-df-container\">\n",
              "    <div>\n",
              "<style scoped>\n",
              "    .dataframe tbody tr th:only-of-type {\n",
              "        vertical-align: middle;\n",
              "    }\n",
              "\n",
              "    .dataframe tbody tr th {\n",
              "        vertical-align: top;\n",
              "    }\n",
              "\n",
              "    .dataframe thead th {\n",
              "        text-align: right;\n",
              "    }\n",
              "</style>\n",
              "<table border=\"1\" class=\"dataframe\">\n",
              "  <thead>\n",
              "    <tr style=\"text-align: right;\">\n",
              "      <th></th>\n",
              "      <th>CONTEXT</th>\n",
              "      <th>Label_Business</th>\n",
              "      <th>Label_Politics</th>\n",
              "      <th>Label_Sport</th>\n",
              "      <th>Label_Tech</th>\n",
              "    </tr>\n",
              "  </thead>\n",
              "  <tbody>\n",
              "    <tr>\n",
              "      <th>0</th>\n",
              "      <td>Marriott Urges Hotel Guests to Tip Housekeeper...</td>\n",
              "      <td>1</td>\n",
              "      <td>0</td>\n",
              "      <td>0</td>\n",
              "      <td>0</td>\n",
              "    </tr>\n",
              "    <tr>\n",
              "      <th>1</th>\n",
              "      <td>This Is the Coolest Drone Photo in the World. ...</td>\n",
              "      <td>0</td>\n",
              "      <td>0</td>\n",
              "      <td>0</td>\n",
              "      <td>1</td>\n",
              "    </tr>\n",
              "    <tr>\n",
              "      <th>2</th>\n",
              "      <td>Peak Pizza Is Here: American Appetite for Pizz...</td>\n",
              "      <td>1</td>\n",
              "      <td>0</td>\n",
              "      <td>0</td>\n",
              "      <td>0</td>\n",
              "    </tr>\n",
              "    <tr>\n",
              "      <th>3</th>\n",
              "      <td>Review: The Samsung Galaxy S10+ Is Perfectly F...</td>\n",
              "      <td>0</td>\n",
              "      <td>0</td>\n",
              "      <td>0</td>\n",
              "      <td>1</td>\n",
              "    </tr>\n",
              "    <tr>\n",
              "      <th>4</th>\n",
              "      <td>Lemke repeats as BIG EAST champion, headed bac...</td>\n",
              "      <td>0</td>\n",
              "      <td>0</td>\n",
              "      <td>1</td>\n",
              "      <td>0</td>\n",
              "    </tr>\n",
              "  </tbody>\n",
              "</table>\n",
              "</div>\n",
              "    <div class=\"colab-df-buttons\">\n",
              "\n",
              "  <div class=\"colab-df-container\">\n",
              "    <button class=\"colab-df-convert\" onclick=\"convertToInteractive('df-e311c69a-774b-43f0-a946-d67c74039713')\"\n",
              "            title=\"Convert this dataframe to an interactive table.\"\n",
              "            style=\"display:none;\">\n",
              "\n",
              "  <svg xmlns=\"http://www.w3.org/2000/svg\" height=\"24px\" viewBox=\"0 -960 960 960\">\n",
              "    <path d=\"M120-120v-720h720v720H120Zm60-500h600v-160H180v160Zm220 220h160v-160H400v160Zm0 220h160v-160H400v160ZM180-400h160v-160H180v160Zm440 0h160v-160H620v160ZM180-180h160v-160H180v160Zm440 0h160v-160H620v160Z\"/>\n",
              "  </svg>\n",
              "    </button>\n",
              "\n",
              "  <style>\n",
              "    .colab-df-container {\n",
              "      display:flex;\n",
              "      gap: 12px;\n",
              "    }\n",
              "\n",
              "    .colab-df-convert {\n",
              "      background-color: #E8F0FE;\n",
              "      border: none;\n",
              "      border-radius: 50%;\n",
              "      cursor: pointer;\n",
              "      display: none;\n",
              "      fill: #1967D2;\n",
              "      height: 32px;\n",
              "      padding: 0 0 0 0;\n",
              "      width: 32px;\n",
              "    }\n",
              "\n",
              "    .colab-df-convert:hover {\n",
              "      background-color: #E2EBFA;\n",
              "      box-shadow: 0px 1px 2px rgba(60, 64, 67, 0.3), 0px 1px 3px 1px rgba(60, 64, 67, 0.15);\n",
              "      fill: #174EA6;\n",
              "    }\n",
              "\n",
              "    .colab-df-buttons div {\n",
              "      margin-bottom: 4px;\n",
              "    }\n",
              "\n",
              "    [theme=dark] .colab-df-convert {\n",
              "      background-color: #3B4455;\n",
              "      fill: #D2E3FC;\n",
              "    }\n",
              "\n",
              "    [theme=dark] .colab-df-convert:hover {\n",
              "      background-color: #434B5C;\n",
              "      box-shadow: 0px 1px 3px 1px rgba(0, 0, 0, 0.15);\n",
              "      filter: drop-shadow(0px 1px 2px rgba(0, 0, 0, 0.3));\n",
              "      fill: #FFFFFF;\n",
              "    }\n",
              "  </style>\n",
              "\n",
              "    <script>\n",
              "      const buttonEl =\n",
              "        document.querySelector('#df-e311c69a-774b-43f0-a946-d67c74039713 button.colab-df-convert');\n",
              "      buttonEl.style.display =\n",
              "        google.colab.kernel.accessAllowed ? 'block' : 'none';\n",
              "\n",
              "      async function convertToInteractive(key) {\n",
              "        const element = document.querySelector('#df-e311c69a-774b-43f0-a946-d67c74039713');\n",
              "        const dataTable =\n",
              "          await google.colab.kernel.invokeFunction('convertToInteractive',\n",
              "                                                    [key], {});\n",
              "        if (!dataTable) return;\n",
              "\n",
              "        const docLinkHtml = 'Like what you see? Visit the ' +\n",
              "          '<a target=\"_blank\" href=https://colab.research.google.com/notebooks/data_table.ipynb>data table notebook</a>'\n",
              "          + ' to learn more about interactive tables.';\n",
              "        element.innerHTML = '';\n",
              "        dataTable['output_type'] = 'display_data';\n",
              "        await google.colab.output.renderOutput(dataTable, element);\n",
              "        const docLink = document.createElement('div');\n",
              "        docLink.innerHTML = docLinkHtml;\n",
              "        element.appendChild(docLink);\n",
              "      }\n",
              "    </script>\n",
              "  </div>\n",
              "\n",
              "\n",
              "<div id=\"df-3507a33d-86d6-4b0a-8d0f-0fa1dbf4d1de\">\n",
              "  <button class=\"colab-df-quickchart\" onclick=\"quickchart('df-3507a33d-86d6-4b0a-8d0f-0fa1dbf4d1de')\"\n",
              "            title=\"Suggest charts\"\n",
              "            style=\"display:none;\">\n",
              "\n",
              "<svg xmlns=\"http://www.w3.org/2000/svg\" height=\"24px\"viewBox=\"0 0 24 24\"\n",
              "     width=\"24px\">\n",
              "    <g>\n",
              "        <path d=\"M19 3H5c-1.1 0-2 .9-2 2v14c0 1.1.9 2 2 2h14c1.1 0 2-.9 2-2V5c0-1.1-.9-2-2-2zM9 17H7v-7h2v7zm4 0h-2V7h2v10zm4 0h-2v-4h2v4z\"/>\n",
              "    </g>\n",
              "</svg>\n",
              "  </button>\n",
              "\n",
              "<style>\n",
              "  .colab-df-quickchart {\n",
              "      --bg-color: #E8F0FE;\n",
              "      --fill-color: #1967D2;\n",
              "      --hover-bg-color: #E2EBFA;\n",
              "      --hover-fill-color: #174EA6;\n",
              "      --disabled-fill-color: #AAA;\n",
              "      --disabled-bg-color: #DDD;\n",
              "  }\n",
              "\n",
              "  [theme=dark] .colab-df-quickchart {\n",
              "      --bg-color: #3B4455;\n",
              "      --fill-color: #D2E3FC;\n",
              "      --hover-bg-color: #434B5C;\n",
              "      --hover-fill-color: #FFFFFF;\n",
              "      --disabled-bg-color: #3B4455;\n",
              "      --disabled-fill-color: #666;\n",
              "  }\n",
              "\n",
              "  .colab-df-quickchart {\n",
              "    background-color: var(--bg-color);\n",
              "    border: none;\n",
              "    border-radius: 50%;\n",
              "    cursor: pointer;\n",
              "    display: none;\n",
              "    fill: var(--fill-color);\n",
              "    height: 32px;\n",
              "    padding: 0;\n",
              "    width: 32px;\n",
              "  }\n",
              "\n",
              "  .colab-df-quickchart:hover {\n",
              "    background-color: var(--hover-bg-color);\n",
              "    box-shadow: 0 1px 2px rgba(60, 64, 67, 0.3), 0 1px 3px 1px rgba(60, 64, 67, 0.15);\n",
              "    fill: var(--button-hover-fill-color);\n",
              "  }\n",
              "\n",
              "  .colab-df-quickchart-complete:disabled,\n",
              "  .colab-df-quickchart-complete:disabled:hover {\n",
              "    background-color: var(--disabled-bg-color);\n",
              "    fill: var(--disabled-fill-color);\n",
              "    box-shadow: none;\n",
              "  }\n",
              "\n",
              "  .colab-df-spinner {\n",
              "    border: 2px solid var(--fill-color);\n",
              "    border-color: transparent;\n",
              "    border-bottom-color: var(--fill-color);\n",
              "    animation:\n",
              "      spin 1s steps(1) infinite;\n",
              "  }\n",
              "\n",
              "  @keyframes spin {\n",
              "    0% {\n",
              "      border-color: transparent;\n",
              "      border-bottom-color: var(--fill-color);\n",
              "      border-left-color: var(--fill-color);\n",
              "    }\n",
              "    20% {\n",
              "      border-color: transparent;\n",
              "      border-left-color: var(--fill-color);\n",
              "      border-top-color: var(--fill-color);\n",
              "    }\n",
              "    30% {\n",
              "      border-color: transparent;\n",
              "      border-left-color: var(--fill-color);\n",
              "      border-top-color: var(--fill-color);\n",
              "      border-right-color: var(--fill-color);\n",
              "    }\n",
              "    40% {\n",
              "      border-color: transparent;\n",
              "      border-right-color: var(--fill-color);\n",
              "      border-top-color: var(--fill-color);\n",
              "    }\n",
              "    60% {\n",
              "      border-color: transparent;\n",
              "      border-right-color: var(--fill-color);\n",
              "    }\n",
              "    80% {\n",
              "      border-color: transparent;\n",
              "      border-right-color: var(--fill-color);\n",
              "      border-bottom-color: var(--fill-color);\n",
              "    }\n",
              "    90% {\n",
              "      border-color: transparent;\n",
              "      border-bottom-color: var(--fill-color);\n",
              "    }\n",
              "  }\n",
              "</style>\n",
              "\n",
              "  <script>\n",
              "    async function quickchart(key) {\n",
              "      const quickchartButtonEl =\n",
              "        document.querySelector('#' + key + ' button');\n",
              "      quickchartButtonEl.disabled = true;  // To prevent multiple clicks.\n",
              "      quickchartButtonEl.classList.add('colab-df-spinner');\n",
              "      try {\n",
              "        const charts = await google.colab.kernel.invokeFunction(\n",
              "            'suggestCharts', [key], {});\n",
              "      } catch (error) {\n",
              "        console.error('Error during call to suggestCharts:', error);\n",
              "      }\n",
              "      quickchartButtonEl.classList.remove('colab-df-spinner');\n",
              "      quickchartButtonEl.classList.add('colab-df-quickchart-complete');\n",
              "    }\n",
              "    (() => {\n",
              "      let quickchartButtonEl =\n",
              "        document.querySelector('#df-3507a33d-86d6-4b0a-8d0f-0fa1dbf4d1de button');\n",
              "      quickchartButtonEl.style.display =\n",
              "        google.colab.kernel.accessAllowed ? 'block' : 'none';\n",
              "    })();\n",
              "  </script>\n",
              "</div>\n",
              "    </div>\n",
              "  </div>\n"
            ],
            "application/vnd.google.colaboratory.intrinsic+json": {
              "type": "dataframe",
              "variable_name": "df_train",
              "summary": "{\n  \"name\": \"df_train\",\n  \"rows\": 23731,\n  \"fields\": [\n    {\n      \"column\": \"CONTEXT\",\n      \"properties\": {\n        \"dtype\": \"string\",\n        \"num_unique_values\": 22304,\n        \"samples\": [\n          \"Owners of Nearly 8 Million Cars Warned to Replace Airbags Immediately. The National Highway and Traffic Safety Administration on Tuesday warned owners of nearly 8 million cars with potentially faulty airbags to \\u201cact immediately\\u201d on notices to replace the defective parts, in an alert sent over fears that car owners weren\\u2019t getting defective airbags replaced, leaving them at risk of injury or death. \\u00a0 The NHTSA has recommended that owners of 7.8 million Toyota, Honda, Mazda, BMW, Nissan, Mitsubishi, Subaru, Chrysler, Ford and General Motors models replace air bags supplied by Takata. The airbags, which can explode in a flurry of shrapnel even after a minor accident, have caused at least three deaths and more than 100 injuries. \\u201cResponding to these recalls, whether old or new, is essential to personal safety and it will help aid our ongoing investigation into Takata airbags and what appears to be a problem related to extended exposure to consistently high humidity and temperatures,\\u201d NHTSA Deputy Administrator David Friedman said in a statement. A total of more than 14 million vehicles from 11 automakers have been recalled over Takata airbags, most in the last two years, the New York Times reports. \",\n          \"Google Is Making a Big Change to Its Search Results. Google has let the world in on a recent change to its carefully protected search algorithm. Starting Tuesday, the company is boosting the ranking for mobile-friendly websites and demoting those pages that don\\u2019t load well on smartphones. The search giant first announced the change back in February, and the move has earned the moniker \\u201cMobilegeddon\\u201d as anxiety over the algorithm tweak has grown in recent weeks. The end result should benefit users, who will less often be sent to hard-to-navigate websites designed for desktop computers. The shift will also help Google, which is fiercely competing with apps dedicated to specific services (think Amazon for shopping, Yelp for restaurant reviews) that are siphoning away inquiries users could be typing into a Google search bar. \",\n          \"Here's How to Watch Every Wimbledon 2019 Match for Free. Cori \\u201cCoco\\u201d Gauff beat her idol, Venus Williams while Naomi Osaka, the No. 2 ranked female tennis player in the world, lost in straight sets against Yulia Putintseva in the first round. On Friday, Rafael Nadal lost to Federer in an intense semifinals match. But big name players are still in the running. On the men\\u2019s side, Djokovic and Federer have held on tight to their No. 1 and No. 2 seeds, and will face off for the men\\u2019s singles trophy on July 14. On the women\\u2019s side, Halep defeated Serena Williams to win her first Wimbledon title in the women\\u2019s singles finals on July 13. Although Serena Williams had been battling a persistent knee injury earlier this year, she pushed through to victory throughout the tournament, but fell short of winning her career 24th Grand Slam singles title to tie Margaret Court\\u2019s record. The remaining players will face off on the courts at the All England Club in Wimbledon, London. Among those who could watch the final matches are members of the royal family. Catherine, Duchess of Cambridge is patron of Wimbledon and watched England\\u2019s Harriet Dart battle U.S. player Christina McHale. Meghan, Duchess of Sussex made a surprise appearance on July 4 to watch her friend Williams defeat Slovenia\\u2019s Kaja Juvan in a second-round match. The 142-year-old tournament is one of four Grand Slam tournaments, along with the U.S. Open, the French Open, and the Australian Open. Final matches will be played on the famed Centre Court. Here are some easy ways to watch the iconic tennis tournament in real time. This year, Wimbledon has announced a new streaming service: The Wimbledon Channel. This livestream can be accessed through Wimbledon\\u2019s official website and offers live coverage of select matches. For the first time ever, this streaming service will enable viewers to see footage from all 18 courts at the same time. Click here to watch the livestream of the tournament\\u2019s most important anticipated match-ups. There is also the option to listen to the event live via The Wimbledon Channel radio. A live twitter feed from The Wimbledon Channel will also be running underneath the streaming window so that you can see live results from other matches. Additionally, the video library on the website allows you to rewatch game-winning points, ridiculous returns, and post-game interviews with the players. You can also watch old highlight reels like this epic rally compilation between Nadal and Federer at Wimbledon back in 2008. Watch livestreams, recaps, memorable moments, interviews, and more by going to the Wimbledon Channel on YouTube. This option is completely free. Use your ESPN+ account to stream live matches from your computer, FireTV or tablet, or from the ESPN app on your mobile devices. Don\\u2019t have an account? You can create one and get a week-long free trial. With a SlingTV account, you can watch the matches live via ESPN and ESPN2. In the U.S., Wimbledon matches will be televised live on ESPN, ESPN2 and the Tennis Channel. You can stay organized with this upcoming match schedule here. Federer (SUI) vs Djokovic (SRB): Roger Federer will be playing Novak Djokovic in the final round of the men\\u2019s singles tournament on Sunday, July 14. They will play on Centre Court. On Friday, Federer beat out Nadal for a spot in the championship game. The last time the two faced off in Wimbledon was in 2008\\u2014 Nadal won. This is Federer\\u2019s 12th time in the Wimbledon finals, and could be his 9th Wimbledon singles victory. This is Djokovic\\u2019s 6th Wimbledon final. He is the men\\u2019s singles defending champion at Wimbledon, and holds four tournament singles trophies. Correction, July 8 The original version of this story misstated that FuboTV would be live streaming Wimbledon matches. FuboTV is not live streaming Wimbledon matches.  \"\n        ],\n        \"semantic_type\": \"\",\n        \"description\": \"\"\n      }\n    },\n    {\n      \"column\": \"Label_Business\",\n      \"properties\": {\n        \"dtype\": \"number\",\n        \"std\": 0,\n        \"min\": 0,\n        \"max\": 1,\n        \"num_unique_values\": 2,\n        \"samples\": [\n          0,\n          1\n        ],\n        \"semantic_type\": \"\",\n        \"description\": \"\"\n      }\n    },\n    {\n      \"column\": \"Label_Politics\",\n      \"properties\": {\n        \"dtype\": \"number\",\n        \"std\": 0,\n        \"min\": 0,\n        \"max\": 1,\n        \"num_unique_values\": 2,\n        \"samples\": [\n          1,\n          0\n        ],\n        \"semantic_type\": \"\",\n        \"description\": \"\"\n      }\n    },\n    {\n      \"column\": \"Label_Sport\",\n      \"properties\": {\n        \"dtype\": \"number\",\n        \"std\": 0,\n        \"min\": 0,\n        \"max\": 1,\n        \"num_unique_values\": 2,\n        \"samples\": [\n          1,\n          0\n        ],\n        \"semantic_type\": \"\",\n        \"description\": \"\"\n      }\n    },\n    {\n      \"column\": \"Label_Tech\",\n      \"properties\": {\n        \"dtype\": \"number\",\n        \"std\": 0,\n        \"min\": 0,\n        \"max\": 1,\n        \"num_unique_values\": 2,\n        \"samples\": [\n          1,\n          0\n        ],\n        \"semantic_type\": \"\",\n        \"description\": \"\"\n      }\n    }\n  ]\n}"
            }
          },
          "metadata": {},
          "execution_count": 146
        }
      ]
    },
    {
      "cell_type": "code",
      "source": [
        "train_dataset = CustomDataset(df_train.iloc[0:1000], tokenizer, MAX_LEN)\n",
        "val_dataset = CustomDataset(df_val.iloc[0:1000], tokenizer, MAX_LEN)"
      ],
      "metadata": {
        "id": "FY6C9odeLtEV"
      },
      "execution_count": null,
      "outputs": []
    },
    {
      "cell_type": "code",
      "source": [
        "# determine data loader\n",
        "\n",
        "train_data_loader = torch.utils.data.DataLoader(\n",
        "    train_dataset,\n",
        "    batch_size=TRAIN_BATCH_SIZE,\n",
        "    shuffle=True,\n",
        "    num_workers=0\n",
        ")\n",
        "\n",
        "val_data_loader = torch.utils.data.DataLoader(\n",
        "    val_dataset,\n",
        "    batch_size= VALID_BATCH_SIZE,\n",
        "    shuffle= True,\n",
        "    num_workers=0\n",
        ")"
      ],
      "metadata": {
        "id": "KWqrLOHJLhQl"
      },
      "execution_count": null,
      "outputs": []
    },
    {
      "cell_type": "code",
      "source": [
        "'''\n",
        "for i, batch in enumerate(train_data_loader):\n",
        "    if i > 1:  # Just to limit the number of prints\n",
        "        break\n",
        "'''"
      ],
      "metadata": {
        "colab": {
          "base_uri": "https://localhost:8080/",
          "height": 35
        },
        "id": "ekGrR7soLNku",
        "outputId": "ddd57084-b70c-4584-8581-d1cb5a035222"
      },
      "execution_count": null,
      "outputs": [
        {
          "output_type": "execute_result",
          "data": {
            "text/plain": [
              "'\\nfor i, batch in enumerate(train_data_loader):\\n    if i > 1:  # Just to limit the number of prints\\n        break\\n'"
            ],
            "application/vnd.google.colaboratory.intrinsic+json": {
              "type": "string"
            }
          },
          "metadata": {},
          "execution_count": 149
        }
      ]
    },
    {
      "cell_type": "code",
      "source": [
        "# check type of devices\n",
        "device = torch.device('cuda') if torch.cuda.is_available() else torch.device('cpu')"
      ],
      "metadata": {
        "id": "iEdgVPABNNC-"
      },
      "execution_count": null,
      "outputs": []
    },
    {
      "cell_type": "code",
      "source": [
        "device"
      ],
      "metadata": {
        "colab": {
          "base_uri": "https://localhost:8080/"
        },
        "id": "5lFrt7j-N8rc",
        "outputId": "40a95b9c-4ab2-49e4-d003-6075adfafdc2"
      },
      "execution_count": null,
      "outputs": [
        {
          "output_type": "execute_result",
          "data": {
            "text/plain": [
              "device(type='cuda')"
            ]
          },
          "metadata": {},
          "execution_count": 151
        }
      ]
    },
    {
      "cell_type": "code",
      "source": [
        "# define checkpoint and use it after training\n",
        "\n",
        "def load_ckp(checkpoint_fpath, model, optimizer):\n",
        "    '''\n",
        "    checkpoint_path: path to save checkpoint\n",
        "    model: model that we want to load checkpoint parameters into\n",
        "    optimizer: optimizer we defined in previous training\n",
        "    '''\n",
        "    # load check point\n",
        "    checkpoint = torch.load(checkpoint_fpath)\n",
        "    # initialize state_dict from checkpoint to model\n",
        "    model.load_state_dict (checkpoint ['state_dict'])\n",
        "    # initialize optimizer from checkpoint to optimizer\n",
        "    optimizer.load_state_dict (checkpoint ['optimizer'])\n",
        "    # initialize valid_loss_min from checkpoint to valid_loss_min\n",
        "    valid_loss_min = checkpoint ['valid_loss_min']\n",
        "    # return model, optimizer, epoch value, min validation loss\n",
        "    return model, optimizer, checkpoint ['epoch'], valid_loss_min.item()\n",
        "\n",
        "\n",
        "def save_ckp(state, is_best, checkpoint_path, best_model_path):\n",
        "    '''\n",
        "    state: checkpoint we want to save\n",
        "    is_best: is this the best checkpoint; min validation loss\n",
        "    checkpoint path: path to save checkpoint\n",
        "    best_model_path: path to save best model\n",
        "    '''\n",
        "    f_path = checkpoint_path\n",
        "    # save checkpoint data to the path given, checkpoint_path\n",
        "    torch.save(state, f_path)\n",
        "    # if it is a best model, min validation loss\n",
        "    if is_best:\n",
        "        best_fpath= best_model_path\n",
        "        # copy that checkpoint file to best path given, best_model_path\n",
        "        shutil.copyfile(f_path, best_fpath)"
      ],
      "metadata": {
        "id": "ieqKrikSN9rp"
      },
      "execution_count": null,
      "outputs": []
    },
    {
      "cell_type": "code",
      "source": [
        "# train data\n",
        "\n",
        "class BERTClass (torch.nn.Module):\n",
        "    def __init__(self):\n",
        "        super (BERTClass, self).__init__()\n",
        "        self.bert_model = RobertaModel.from_pretrained('roberta-base', return_dict=True)\n",
        "\n",
        "        # want to freeze the layer\n",
        "        for param in self.bert_model.parameters():\n",
        "            param.requires_grad = False\n",
        "\n",
        "        self.dropout = torch.nn.Dropout(0.2)\n",
        "        self.linear = torch.nn.Linear(768, 4)\n",
        "\n",
        "    def forward(self, input_ids, attn_mask, token_type_ids):\n",
        "        output = self.bert_model(\n",
        "            input_ids,\n",
        "            attention_mask=attn_mask,\n",
        "            token_type_ids=token_type_ids\n",
        "        )\n",
        "        output_dropout = self.dropout(output.pooler_output)\n",
        "        output = self.linear(output_dropout)\n",
        "        return output\n",
        "\n",
        "model = BERTClass()\n",
        "model.to(device)"
      ],
      "metadata": {
        "colab": {
          "base_uri": "https://localhost:8080/"
        },
        "id": "DBr5f7-bPSwA",
        "outputId": "05cb57a5-4f24-4be6-f3c2-bc5abf2174b9"
      },
      "execution_count": null,
      "outputs": [
        {
          "output_type": "stream",
          "name": "stderr",
          "text": [
            "Some weights of RobertaModel were not initialized from the model checkpoint at roberta-base and are newly initialized: ['roberta.pooler.dense.bias', 'roberta.pooler.dense.weight']\n",
            "You should probably TRAIN this model on a down-stream task to be able to use it for predictions and inference.\n"
          ]
        },
        {
          "output_type": "execute_result",
          "data": {
            "text/plain": [
              "BERTClass(\n",
              "  (bert_model): RobertaModel(\n",
              "    (embeddings): RobertaEmbeddings(\n",
              "      (word_embeddings): Embedding(50265, 768, padding_idx=1)\n",
              "      (position_embeddings): Embedding(514, 768, padding_idx=1)\n",
              "      (token_type_embeddings): Embedding(1, 768)\n",
              "      (LayerNorm): LayerNorm((768,), eps=1e-05, elementwise_affine=True)\n",
              "      (dropout): Dropout(p=0.1, inplace=False)\n",
              "    )\n",
              "    (encoder): RobertaEncoder(\n",
              "      (layer): ModuleList(\n",
              "        (0-11): 12 x RobertaLayer(\n",
              "          (attention): RobertaAttention(\n",
              "            (self): RobertaSelfAttention(\n",
              "              (query): Linear(in_features=768, out_features=768, bias=True)\n",
              "              (key): Linear(in_features=768, out_features=768, bias=True)\n",
              "              (value): Linear(in_features=768, out_features=768, bias=True)\n",
              "              (dropout): Dropout(p=0.1, inplace=False)\n",
              "            )\n",
              "            (output): RobertaSelfOutput(\n",
              "              (dense): Linear(in_features=768, out_features=768, bias=True)\n",
              "              (LayerNorm): LayerNorm((768,), eps=1e-05, elementwise_affine=True)\n",
              "              (dropout): Dropout(p=0.1, inplace=False)\n",
              "            )\n",
              "          )\n",
              "          (intermediate): RobertaIntermediate(\n",
              "            (dense): Linear(in_features=768, out_features=3072, bias=True)\n",
              "            (intermediate_act_fn): GELUActivation()\n",
              "          )\n",
              "          (output): RobertaOutput(\n",
              "            (dense): Linear(in_features=3072, out_features=768, bias=True)\n",
              "            (LayerNorm): LayerNorm((768,), eps=1e-05, elementwise_affine=True)\n",
              "            (dropout): Dropout(p=0.1, inplace=False)\n",
              "          )\n",
              "        )\n",
              "      )\n",
              "    )\n",
              "    (pooler): RobertaPooler(\n",
              "      (dense): Linear(in_features=768, out_features=768, bias=True)\n",
              "      (activation): Tanh()\n",
              "    )\n",
              "  )\n",
              "  (dropout): Dropout(p=0.2, inplace=False)\n",
              "  (linear): Linear(in_features=768, out_features=4, bias=True)\n",
              ")"
            ]
          },
          "metadata": {},
          "execution_count": 159
        }
      ]
    },
    {
      "cell_type": "code",
      "source": [
        "# loss function using BCEwithlogistsloss >> (cross entropy loss with sigmoid)\n",
        "# optimizer using adam\n",
        "\n",
        "def loss_fn(outputs, targets):\n",
        "    return torch.nn.BCEWithLogitsLoss()(outputs, targets)\n",
        "\n",
        "optimizer = torch.optim.Adam(params= model.parameters(), lr= LEARNING_RATE)\n"
      ],
      "metadata": {
        "id": "9NOlVJqDQd7l"
      },
      "execution_count": null,
      "outputs": []
    },
    {
      "cell_type": "code",
      "source": [
        "val_targets=[]\n",
        "val_outputs=[]\n",
        "\n",
        "def train_model(n_epochs, training_loader, validation_loader, model,\n",
        "                optimizer, checkpoint_path, best_model_path):\n",
        "\n",
        "    valid_loss_min = np.Inf\n",
        "\n",
        "    for epoch in range(1, n_epochs+1):\n",
        "        train_loss = 0\n",
        "        valid_loss = 0\n",
        "\n",
        "        model.train()\n",
        "        print(f'###### #### Epoch {epoch}: Training Start ####')\n",
        "        for batch_idx, data in enumerate(training_loader):\n",
        "            print(batch_idx)\n",
        "            ids = data['input_ids'].to(device, dtype = torch.long)\n",
        "            mask = data['attention_mask'].to(device, dtype = torch. long)\n",
        "            token_type_ids = data['token_type_ids'].to(device, dtype = torch.long)\n",
        "            targets = data['targets'].to(device, dtype = torch.float)\n",
        "            outputs = modelrd()\n",
        "            optimizer.step()\n",
        "            train_loss = train_loss + ((1 (batch_idx + 1))*(loss.item()-train_loss))\n",
        "\n",
        "(ids, mask, token_type_ids)\n",
        "            optimizer.zero_grad()\n",
        "            loss = loss_fn(outputs, targets)\n",
        "            loss.backwa\n",
        "        model.eval()\n",
        "        print(f'############# Epoch (epoch): Validation Start')\n",
        "        with torch.no_grad():\n",
        "            for batch_idx, data in enumerate(validation_loader, 0):\n",
        "                ids = data['input_ids'].to(device, dtype=torch.long)\n",
        "                mask = data['attention_mask'].to(device, dtype = torch.long)\n",
        "                token_type_ids = data['token_type_ids'].to(device, dtype = torch.long)\n",
        "                targets = data['targets'].to(device, dtype = torch.float)\n",
        "                outputs = model(ids, mask, token_type_ids)\n",
        "                loss= loss_fn(outputs, targets)\n",
        "                valid_loss= valid_loss + ((1 / (batch_idx + 1)) * (loss.item() - valid_loss))\n",
        "                val_targets.extend(targets.cpu().detach().numpy().tolist())\n",
        "                val_outputs.extend(torch.sigmoid(outputs).cpu().detach().numpy().tolist())\n",
        "\n",
        "    # calculate average losses\n",
        "    train_loss= train_loss/len(training_loader)\n",
        "    valid_loss= valid_loss/len(validation_loader)\n",
        "    print('Epoch:{} \\tAvgerage Training Loss:{:.4f} \\tAverage Validation Loss:{:.4f}'.format(\n",
        "        epoch, train_loss, valid_loss) )\n",
        "\n",
        "\n",
        "    checkpoint = {\n",
        "        'epoch': epoch + 1,\n",
        "        'valid_loss_min': valid_loss,\n",
        "        'state_dict': model.state_dict(),\n",
        "        'optimizer': optimizer.state_dict()\n",
        "    }\n",
        "    # save checkpoint\n",
        "    save_ckp(checkpoint, True, checkpoint_path, best_model_path)\n",
        "\n",
        "    if valid_loss <= valid_loss_min:\n",
        "        print('validation loss decreased ((:.4f) -> {:.4f)). Saving model' .format(valid_loss_min,valid_loss))\n",
        "\n",
        "        save_ckp(checkpoint, True, checkpoint_path, best_model_path)\n",
        "        valid_loss_min = valid_loss\n",
        "        print('*********** Epoch () Done #*#*\\n'.format(epoch))\n",
        "\n",
        "    return model"
      ],
      "metadata": {
        "colab": {
          "base_uri": "https://localhost:8080/"
        },
        "id": "oVxyk4XBP36e",
        "outputId": "0526c710-28cb-43b5-c021-0160765b35cd"
      },
      "execution_count": null,
      "outputs": [
        {
          "output_type": "stream",
          "name": "stderr",
          "text": [
            "<>:26: SyntaxWarning: 'int' object is not callable; perhaps you missed a comma?\n",
            "<>:26: SyntaxWarning: 'int' object is not callable; perhaps you missed a comma?\n",
            "<ipython-input-161-911097aa7487>:26: SyntaxWarning: 'int' object is not callable; perhaps you missed a comma?\n",
            "  train_loss = train_loss + ((1 (batch_idx + 1))*(loss.item()-train_loss))\n"
          ]
        }
      ]
    },
    {
      "cell_type": "code",
      "source": [
        "ckpt_path = '/content/'\n",
        "best_model_path = '/content/'"
      ],
      "metadata": {
        "id": "RZVzIglj_3Z5"
      },
      "execution_count": null,
      "outputs": []
    },
    {
      "cell_type": "code",
      "source": [
        "torch.cuda.empty_cache()\n",
        "gc.collect()"
      ],
      "metadata": {
        "colab": {
          "base_uri": "https://localhost:8080/"
        },
        "id": "BRajbAusXQq0",
        "outputId": "ff4db28c-8346-454e-e441-5353ba05f706"
      },
      "execution_count": null,
      "outputs": [
        {
          "output_type": "execute_result",
          "data": {
            "text/plain": [
              "0"
            ]
          },
          "metadata": {},
          "execution_count": 157
        }
      ]
    },
    {
      "cell_type": "code",
      "source": [
        "trained_model = train_model(EPOCHS, train_data_loader, val_data_loader, model, optimizer, ckpt_path, best_model_path)\n"
      ],
      "metadata": {
        "colab": {
          "base_uri": "https://localhost:8080/",
          "height": 315
        },
        "id": "qLJBFpEdAd2X",
        "outputId": "7afc39d0-a272-4d96-c3d8-bb8d96011d3c"
      },
      "execution_count": null,
      "outputs": [
        {
          "output_type": "stream",
          "name": "stdout",
          "text": [
            "###### #### Epoch 1: Training Start ####\n",
            "0\n"
          ]
        },
        {
          "output_type": "error",
          "ename": "TypeError",
          "evalue": "'int' object is not callable",
          "traceback": [
            "\u001b[0;31m---------------------------------------------------------------------------\u001b[0m",
            "\u001b[0;31mTypeError\u001b[0m                                 Traceback (most recent call last)",
            "\u001b[0;32m<ipython-input-162-a8cfdc080e1c>\u001b[0m in \u001b[0;36m<cell line: 1>\u001b[0;34m()\u001b[0m\n\u001b[0;32m----> 1\u001b[0;31m \u001b[0mtrained_model\u001b[0m \u001b[0;34m=\u001b[0m \u001b[0mtrain_model\u001b[0m\u001b[0;34m(\u001b[0m\u001b[0mEPOCHS\u001b[0m\u001b[0;34m,\u001b[0m \u001b[0mtrain_data_loader\u001b[0m\u001b[0;34m,\u001b[0m \u001b[0mval_data_loader\u001b[0m\u001b[0;34m,\u001b[0m \u001b[0mmodel\u001b[0m\u001b[0;34m,\u001b[0m \u001b[0moptimizer\u001b[0m\u001b[0;34m,\u001b[0m \u001b[0mckpt_path\u001b[0m\u001b[0;34m,\u001b[0m \u001b[0mbest_model_path\u001b[0m\u001b[0;34m)\u001b[0m\u001b[0;34m\u001b[0m\u001b[0;34m\u001b[0m\u001b[0m\n\u001b[0m",
            "\u001b[0;32m<ipython-input-161-911097aa7487>\u001b[0m in \u001b[0;36mtrain_model\u001b[0;34m(n_epochs, training_loader, validation_loader, model, optimizer, checkpoint_path, best_model_path)\u001b[0m\n\u001b[1;32m     24\u001b[0m             \u001b[0mloss\u001b[0m\u001b[0;34m.\u001b[0m\u001b[0mbackward\u001b[0m\u001b[0;34m(\u001b[0m\u001b[0;34m)\u001b[0m\u001b[0;34m\u001b[0m\u001b[0;34m\u001b[0m\u001b[0m\n\u001b[1;32m     25\u001b[0m             \u001b[0moptimizer\u001b[0m\u001b[0;34m.\u001b[0m\u001b[0mstep\u001b[0m\u001b[0;34m(\u001b[0m\u001b[0;34m)\u001b[0m\u001b[0;34m\u001b[0m\u001b[0;34m\u001b[0m\u001b[0m\n\u001b[0;32m---> 26\u001b[0;31m             \u001b[0mtrain_loss\u001b[0m \u001b[0;34m=\u001b[0m \u001b[0mtrain_loss\u001b[0m \u001b[0;34m+\u001b[0m \u001b[0;34m(\u001b[0m\u001b[0;34m(\u001b[0m\u001b[0;36m1\u001b[0m \u001b[0;34m(\u001b[0m\u001b[0mbatch_idx\u001b[0m \u001b[0;34m+\u001b[0m \u001b[0;36m1\u001b[0m\u001b[0;34m)\u001b[0m\u001b[0;34m)\u001b[0m\u001b[0;34m*\u001b[0m\u001b[0;34m(\u001b[0m\u001b[0mloss\u001b[0m\u001b[0;34m.\u001b[0m\u001b[0mitem\u001b[0m\u001b[0;34m(\u001b[0m\u001b[0;34m)\u001b[0m\u001b[0;34m-\u001b[0m\u001b[0mtrain_loss\u001b[0m\u001b[0;34m)\u001b[0m\u001b[0;34m)\u001b[0m\u001b[0;34m\u001b[0m\u001b[0;34m\u001b[0m\u001b[0m\n\u001b[0m\u001b[1;32m     27\u001b[0m \u001b[0;34m\u001b[0m\u001b[0m\n\u001b[1;32m     28\u001b[0m \u001b[0;34m\u001b[0m\u001b[0m\n",
            "\u001b[0;31mTypeError\u001b[0m: 'int' object is not callable"
          ]
        }
      ]
    },
    {
      "cell_type": "code",
      "source": [],
      "metadata": {
        "id": "Md68-NLColh7"
      },
      "execution_count": null,
      "outputs": []
    },
    {
      "cell_type": "markdown",
      "source": [
        "# Distiibert-tf. should change some library >> use pytorch"
      ],
      "metadata": {
        "id": "gee00_zgODIP"
      }
    },
    {
      "cell_type": "code",
      "source": [
        "#!pip uninstall -y transformers\n",
        "!pip install transformers\n",
        "#!pip install transformers==4.22.1"
      ],
      "metadata": {
        "id": "8gI0qd7keEWp",
        "outputId": "a551aed2-1a28-4933-b8a2-d850b8bfd75d",
        "colab": {
          "base_uri": "https://localhost:8080/"
        }
      },
      "execution_count": 20,
      "outputs": [
        {
          "output_type": "stream",
          "name": "stdout",
          "text": [
            "Requirement already satisfied: transformers in /usr/local/lib/python3.10/dist-packages (4.38.2)\n",
            "Requirement already satisfied: filelock in /usr/local/lib/python3.10/dist-packages (from transformers) (3.13.4)\n",
            "Requirement already satisfied: huggingface-hub<1.0,>=0.19.3 in /usr/local/lib/python3.10/dist-packages (from transformers) (0.20.3)\n",
            "Requirement already satisfied: numpy>=1.17 in /usr/local/lib/python3.10/dist-packages (from transformers) (1.25.2)\n",
            "Requirement already satisfied: packaging>=20.0 in /usr/local/lib/python3.10/dist-packages (from transformers) (24.0)\n",
            "Requirement already satisfied: pyyaml>=5.1 in /usr/local/lib/python3.10/dist-packages (from transformers) (6.0.1)\n",
            "Requirement already satisfied: regex!=2019.12.17 in /usr/local/lib/python3.10/dist-packages (from transformers) (2023.12.25)\n",
            "Requirement already satisfied: requests in /usr/local/lib/python3.10/dist-packages (from transformers) (2.31.0)\n",
            "Requirement already satisfied: tokenizers<0.19,>=0.14 in /usr/local/lib/python3.10/dist-packages (from transformers) (0.15.2)\n",
            "Requirement already satisfied: safetensors>=0.4.1 in /usr/local/lib/python3.10/dist-packages (from transformers) (0.4.2)\n",
            "Requirement already satisfied: tqdm>=4.27 in /usr/local/lib/python3.10/dist-packages (from transformers) (4.66.2)\n",
            "Requirement already satisfied: fsspec>=2023.5.0 in /usr/local/lib/python3.10/dist-packages (from huggingface-hub<1.0,>=0.19.3->transformers) (2023.6.0)\n",
            "Requirement already satisfied: typing-extensions>=3.7.4.3 in /usr/local/lib/python3.10/dist-packages (from huggingface-hub<1.0,>=0.19.3->transformers) (4.11.0)\n",
            "Requirement already satisfied: charset-normalizer<4,>=2 in /usr/local/lib/python3.10/dist-packages (from requests->transformers) (3.3.2)\n",
            "Requirement already satisfied: idna<4,>=2.5 in /usr/local/lib/python3.10/dist-packages (from requests->transformers) (3.6)\n",
            "Requirement already satisfied: urllib3<3,>=1.21.1 in /usr/local/lib/python3.10/dist-packages (from requests->transformers) (2.0.7)\n",
            "Requirement already satisfied: certifi>=2017.4.17 in /usr/local/lib/python3.10/dist-packages (from requests->transformers) (2024.2.2)\n"
          ]
        }
      ]
    },
    {
      "cell_type": "code",
      "source": [
        "import transformers\n",
        "print(transformers.__version__)"
      ],
      "metadata": {
        "id": "ws_YKebSdwxb",
        "outputId": "4ee81700-d0fe-4995-f45c-29d089e45761",
        "colab": {
          "base_uri": "https://localhost:8080/"
        }
      },
      "execution_count": null,
      "outputs": [
        {
          "output_type": "stream",
          "name": "stdout",
          "text": [
            "4.39.3\n"
          ]
        }
      ]
    },
    {
      "cell_type": "code",
      "source": [
        "from transformers import DistilBertTokenizer\n",
        "from transformers import TFDistilBertForSequenceClassification\n",
        "from transformers import TextClassificationPipeline\n",
        "\n",
        "import tensorflow as tf\n",
        "import pandas as pd\n",
        "import json\n",
        "import gc\n",
        "\n",
        "from sklearn.model_selection import train_test_split\n",
        "\n",
        "import re\n",
        "import nltk\n",
        "from nltk.corpus import stopwords\n",
        "nltk.download('stopwords')\n",
        "stopw = stopwords.words('english')\n",
        "\n",
        "import seaborn as sns\n",
        "import matplotlib.pyplot as plt\n",
        "from plotly.offline import iplot\n",
        "\n",
        "from tqdm import tqdm"
      ],
      "metadata": {
        "colab": {
          "base_uri": "https://localhost:8080/"
        },
        "id": "IoJhtLnrOHGL",
        "outputId": "6376462e-d826-47dd-f3d0-754cd0a243ce"
      },
      "execution_count": null,
      "outputs": [
        {
          "output_type": "stream",
          "name": "stderr",
          "text": [
            "[nltk_data] Downloading package stopwords to /root/nltk_data...\n",
            "[nltk_data]   Package stopwords is already up-to-date!\n"
          ]
        }
      ]
    },
    {
      "cell_type": "code",
      "source": [
        "df.shape"
      ],
      "metadata": {
        "colab": {
          "base_uri": "https://localhost:8080/"
        },
        "id": "4O8i6vUHOxrl",
        "outputId": "0d5acba0-fcab-438c-c716-c06a226f3bd8"
      },
      "execution_count": null,
      "outputs": [
        {
          "output_type": "execute_result",
          "data": {
            "text/plain": [
              "(29664, 3)"
            ]
          },
          "metadata": {},
          "execution_count": 18
        }
      ]
    },
    {
      "cell_type": "code",
      "source": [
        "df.head()"
      ],
      "metadata": {
        "colab": {
          "base_uri": "https://localhost:8080/",
          "height": 206
        },
        "id": "BTuWx02tO35b",
        "outputId": "e39293d4-82d8-4655-8781-4788691d9aea"
      },
      "execution_count": null,
      "outputs": [
        {
          "output_type": "execute_result",
          "data": {
            "text/plain": [
              "                                              Header  \\\n",
              "0           Sam Bankman-Fried Faces 25 Years in Jail   \n",
              "1  Sam Bankman-Fried to be Sentenced for Defraudi...   \n",
              "2  India’s Income Inequality Is Now Worse Than Un...   \n",
              "3  Trump's Social Media Company Soars Nearly 50% ...   \n",
              "4            How Is Trump's New Firm Worth Billions?   \n",
              "\n",
              "                                                Body     Label  \n",
              "0  Sam Bankman-Fried, the former billionaire who ...  Business  \n",
              "1  Former crypto mogul Sam Bankman-Fried faces th...  Business  \n",
              "2  A new study from the World Inequality Lab find...  Business  \n",
              "3  Shares of Donald Trump’s social media company ...  Business  \n",
              "4  On the cusp of a financial crisis, Donald Trum...  Business  "
            ],
            "text/html": [
              "\n",
              "  <div id=\"df-8739b90f-6fd2-41db-bc18-6646394b16fa\" class=\"colab-df-container\">\n",
              "    <div>\n",
              "<style scoped>\n",
              "    .dataframe tbody tr th:only-of-type {\n",
              "        vertical-align: middle;\n",
              "    }\n",
              "\n",
              "    .dataframe tbody tr th {\n",
              "        vertical-align: top;\n",
              "    }\n",
              "\n",
              "    .dataframe thead th {\n",
              "        text-align: right;\n",
              "    }\n",
              "</style>\n",
              "<table border=\"1\" class=\"dataframe\">\n",
              "  <thead>\n",
              "    <tr style=\"text-align: right;\">\n",
              "      <th></th>\n",
              "      <th>Header</th>\n",
              "      <th>Body</th>\n",
              "      <th>Label</th>\n",
              "    </tr>\n",
              "  </thead>\n",
              "  <tbody>\n",
              "    <tr>\n",
              "      <th>0</th>\n",
              "      <td>Sam Bankman-Fried Faces 25 Years in Jail</td>\n",
              "      <td>Sam Bankman-Fried, the former billionaire who ...</td>\n",
              "      <td>Business</td>\n",
              "    </tr>\n",
              "    <tr>\n",
              "      <th>1</th>\n",
              "      <td>Sam Bankman-Fried to be Sentenced for Defraudi...</td>\n",
              "      <td>Former crypto mogul Sam Bankman-Fried faces th...</td>\n",
              "      <td>Business</td>\n",
              "    </tr>\n",
              "    <tr>\n",
              "      <th>2</th>\n",
              "      <td>India’s Income Inequality Is Now Worse Than Un...</td>\n",
              "      <td>A new study from the World Inequality Lab find...</td>\n",
              "      <td>Business</td>\n",
              "    </tr>\n",
              "    <tr>\n",
              "      <th>3</th>\n",
              "      <td>Trump's Social Media Company Soars Nearly 50% ...</td>\n",
              "      <td>Shares of Donald Trump’s social media company ...</td>\n",
              "      <td>Business</td>\n",
              "    </tr>\n",
              "    <tr>\n",
              "      <th>4</th>\n",
              "      <td>How Is Trump's New Firm Worth Billions?</td>\n",
              "      <td>On the cusp of a financial crisis, Donald Trum...</td>\n",
              "      <td>Business</td>\n",
              "    </tr>\n",
              "  </tbody>\n",
              "</table>\n",
              "</div>\n",
              "    <div class=\"colab-df-buttons\">\n",
              "\n",
              "  <div class=\"colab-df-container\">\n",
              "    <button class=\"colab-df-convert\" onclick=\"convertToInteractive('df-8739b90f-6fd2-41db-bc18-6646394b16fa')\"\n",
              "            title=\"Convert this dataframe to an interactive table.\"\n",
              "            style=\"display:none;\">\n",
              "\n",
              "  <svg xmlns=\"http://www.w3.org/2000/svg\" height=\"24px\" viewBox=\"0 -960 960 960\">\n",
              "    <path d=\"M120-120v-720h720v720H120Zm60-500h600v-160H180v160Zm220 220h160v-160H400v160Zm0 220h160v-160H400v160ZM180-400h160v-160H180v160Zm440 0h160v-160H620v160ZM180-180h160v-160H180v160Zm440 0h160v-160H620v160Z\"/>\n",
              "  </svg>\n",
              "    </button>\n",
              "\n",
              "  <style>\n",
              "    .colab-df-container {\n",
              "      display:flex;\n",
              "      gap: 12px;\n",
              "    }\n",
              "\n",
              "    .colab-df-convert {\n",
              "      background-color: #E8F0FE;\n",
              "      border: none;\n",
              "      border-radius: 50%;\n",
              "      cursor: pointer;\n",
              "      display: none;\n",
              "      fill: #1967D2;\n",
              "      height: 32px;\n",
              "      padding: 0 0 0 0;\n",
              "      width: 32px;\n",
              "    }\n",
              "\n",
              "    .colab-df-convert:hover {\n",
              "      background-color: #E2EBFA;\n",
              "      box-shadow: 0px 1px 2px rgba(60, 64, 67, 0.3), 0px 1px 3px 1px rgba(60, 64, 67, 0.15);\n",
              "      fill: #174EA6;\n",
              "    }\n",
              "\n",
              "    .colab-df-buttons div {\n",
              "      margin-bottom: 4px;\n",
              "    }\n",
              "\n",
              "    [theme=dark] .colab-df-convert {\n",
              "      background-color: #3B4455;\n",
              "      fill: #D2E3FC;\n",
              "    }\n",
              "\n",
              "    [theme=dark] .colab-df-convert:hover {\n",
              "      background-color: #434B5C;\n",
              "      box-shadow: 0px 1px 3px 1px rgba(0, 0, 0, 0.15);\n",
              "      filter: drop-shadow(0px 1px 2px rgba(0, 0, 0, 0.3));\n",
              "      fill: #FFFFFF;\n",
              "    }\n",
              "  </style>\n",
              "\n",
              "    <script>\n",
              "      const buttonEl =\n",
              "        document.querySelector('#df-8739b90f-6fd2-41db-bc18-6646394b16fa button.colab-df-convert');\n",
              "      buttonEl.style.display =\n",
              "        google.colab.kernel.accessAllowed ? 'block' : 'none';\n",
              "\n",
              "      async function convertToInteractive(key) {\n",
              "        const element = document.querySelector('#df-8739b90f-6fd2-41db-bc18-6646394b16fa');\n",
              "        const dataTable =\n",
              "          await google.colab.kernel.invokeFunction('convertToInteractive',\n",
              "                                                    [key], {});\n",
              "        if (!dataTable) return;\n",
              "\n",
              "        const docLinkHtml = 'Like what you see? Visit the ' +\n",
              "          '<a target=\"_blank\" href=https://colab.research.google.com/notebooks/data_table.ipynb>data table notebook</a>'\n",
              "          + ' to learn more about interactive tables.';\n",
              "        element.innerHTML = '';\n",
              "        dataTable['output_type'] = 'display_data';\n",
              "        await google.colab.output.renderOutput(dataTable, element);\n",
              "        const docLink = document.createElement('div');\n",
              "        docLink.innerHTML = docLinkHtml;\n",
              "        element.appendChild(docLink);\n",
              "      }\n",
              "    </script>\n",
              "  </div>\n",
              "\n",
              "\n",
              "<div id=\"df-d911755a-8403-4d9b-b465-45c7c0404513\">\n",
              "  <button class=\"colab-df-quickchart\" onclick=\"quickchart('df-d911755a-8403-4d9b-b465-45c7c0404513')\"\n",
              "            title=\"Suggest charts\"\n",
              "            style=\"display:none;\">\n",
              "\n",
              "<svg xmlns=\"http://www.w3.org/2000/svg\" height=\"24px\"viewBox=\"0 0 24 24\"\n",
              "     width=\"24px\">\n",
              "    <g>\n",
              "        <path d=\"M19 3H5c-1.1 0-2 .9-2 2v14c0 1.1.9 2 2 2h14c1.1 0 2-.9 2-2V5c0-1.1-.9-2-2-2zM9 17H7v-7h2v7zm4 0h-2V7h2v10zm4 0h-2v-4h2v4z\"/>\n",
              "    </g>\n",
              "</svg>\n",
              "  </button>\n",
              "\n",
              "<style>\n",
              "  .colab-df-quickchart {\n",
              "      --bg-color: #E8F0FE;\n",
              "      --fill-color: #1967D2;\n",
              "      --hover-bg-color: #E2EBFA;\n",
              "      --hover-fill-color: #174EA6;\n",
              "      --disabled-fill-color: #AAA;\n",
              "      --disabled-bg-color: #DDD;\n",
              "  }\n",
              "\n",
              "  [theme=dark] .colab-df-quickchart {\n",
              "      --bg-color: #3B4455;\n",
              "      --fill-color: #D2E3FC;\n",
              "      --hover-bg-color: #434B5C;\n",
              "      --hover-fill-color: #FFFFFF;\n",
              "      --disabled-bg-color: #3B4455;\n",
              "      --disabled-fill-color: #666;\n",
              "  }\n",
              "\n",
              "  .colab-df-quickchart {\n",
              "    background-color: var(--bg-color);\n",
              "    border: none;\n",
              "    border-radius: 50%;\n",
              "    cursor: pointer;\n",
              "    display: none;\n",
              "    fill: var(--fill-color);\n",
              "    height: 32px;\n",
              "    padding: 0;\n",
              "    width: 32px;\n",
              "  }\n",
              "\n",
              "  .colab-df-quickchart:hover {\n",
              "    background-color: var(--hover-bg-color);\n",
              "    box-shadow: 0 1px 2px rgba(60, 64, 67, 0.3), 0 1px 3px 1px rgba(60, 64, 67, 0.15);\n",
              "    fill: var(--button-hover-fill-color);\n",
              "  }\n",
              "\n",
              "  .colab-df-quickchart-complete:disabled,\n",
              "  .colab-df-quickchart-complete:disabled:hover {\n",
              "    background-color: var(--disabled-bg-color);\n",
              "    fill: var(--disabled-fill-color);\n",
              "    box-shadow: none;\n",
              "  }\n",
              "\n",
              "  .colab-df-spinner {\n",
              "    border: 2px solid var(--fill-color);\n",
              "    border-color: transparent;\n",
              "    border-bottom-color: var(--fill-color);\n",
              "    animation:\n",
              "      spin 1s steps(1) infinite;\n",
              "  }\n",
              "\n",
              "  @keyframes spin {\n",
              "    0% {\n",
              "      border-color: transparent;\n",
              "      border-bottom-color: var(--fill-color);\n",
              "      border-left-color: var(--fill-color);\n",
              "    }\n",
              "    20% {\n",
              "      border-color: transparent;\n",
              "      border-left-color: var(--fill-color);\n",
              "      border-top-color: var(--fill-color);\n",
              "    }\n",
              "    30% {\n",
              "      border-color: transparent;\n",
              "      border-left-color: var(--fill-color);\n",
              "      border-top-color: var(--fill-color);\n",
              "      border-right-color: var(--fill-color);\n",
              "    }\n",
              "    40% {\n",
              "      border-color: transparent;\n",
              "      border-right-color: var(--fill-color);\n",
              "      border-top-color: var(--fill-color);\n",
              "    }\n",
              "    60% {\n",
              "      border-color: transparent;\n",
              "      border-right-color: var(--fill-color);\n",
              "    }\n",
              "    80% {\n",
              "      border-color: transparent;\n",
              "      border-right-color: var(--fill-color);\n",
              "      border-bottom-color: var(--fill-color);\n",
              "    }\n",
              "    90% {\n",
              "      border-color: transparent;\n",
              "      border-bottom-color: var(--fill-color);\n",
              "    }\n",
              "  }\n",
              "</style>\n",
              "\n",
              "  <script>\n",
              "    async function quickchart(key) {\n",
              "      const quickchartButtonEl =\n",
              "        document.querySelector('#' + key + ' button');\n",
              "      quickchartButtonEl.disabled = true;  // To prevent multiple clicks.\n",
              "      quickchartButtonEl.classList.add('colab-df-spinner');\n",
              "      try {\n",
              "        const charts = await google.colab.kernel.invokeFunction(\n",
              "            'suggestCharts', [key], {});\n",
              "      } catch (error) {\n",
              "        console.error('Error during call to suggestCharts:', error);\n",
              "      }\n",
              "      quickchartButtonEl.classList.remove('colab-df-spinner');\n",
              "      quickchartButtonEl.classList.add('colab-df-quickchart-complete');\n",
              "    }\n",
              "    (() => {\n",
              "      let quickchartButtonEl =\n",
              "        document.querySelector('#df-d911755a-8403-4d9b-b465-45c7c0404513 button');\n",
              "      quickchartButtonEl.style.display =\n",
              "        google.colab.kernel.accessAllowed ? 'block' : 'none';\n",
              "    })();\n",
              "  </script>\n",
              "</div>\n",
              "\n",
              "    </div>\n",
              "  </div>\n"
            ],
            "application/vnd.google.colaboratory.intrinsic+json": {
              "type": "dataframe",
              "variable_name": "df",
              "summary": "{\n  \"name\": \"df\",\n  \"rows\": 29664,\n  \"fields\": [\n    {\n      \"column\": \"Header\",\n      \"properties\": {\n        \"dtype\": \"string\",\n        \"num_unique_values\": 27352,\n        \"samples\": [\n          \"Arab Americans Face an Impossible Choice\",\n          \"Bolton's Offer to Testify Tests McConnell's Power\",\n          \"Big Tech Is Running National Security\"\n        ],\n        \"semantic_type\": \"\",\n        \"description\": \"\"\n      }\n    },\n    {\n      \"column\": \"Body\",\n      \"properties\": {\n        \"dtype\": \"string\",\n        \"num_unique_values\": 27391,\n        \"samples\": [\n          \"it\\u2019s available right now for PC version users. Minecraft maven Jens Bergensten (the game\\u2019s lead developer for the past four years) tweeted yesterday about a \\u201cdramatic feature, likely out in the next snapshot.\\u201d Snapshots are Minecraft-speak for PC version game features you can fiddle with early, if you opt to ride Minecraft\\u2018s \\u201cexperimental\\u201d update train. Bergensten followed with a shot of the new feature in motion, calling it a \\u201cwork in progress.\\u201d When you\\u2019re on the ground, the cape folds up, and you can\\u2019t craft it\\u2013it\\u2019s a finders-only thing. But if you do manage to unearth one, Bergensten teases you can use it to \\u201cfly past the bad guys who are all shooting you with surprisingly bad accuracy, swoop down and land flawlessly into a strategically placed boat and then paddle away at moderately high speeds with the stolen prize pig in the back.\\u201d \",\n          \"Cleveland Browns quarterback Johnny Manziel has been released from a drug and alcohol rehabilitation facility and will return to practice, according to multiple reports. ESPN and the Associated Press, citing anonymous sources, report that the 22-year-old Heisman Trophy winner is expected to start off-season workouts later this month. Manziel entered treatment at the end of January following his rookie season in the NFL. Browns left tackle Joe Thomas told ESPN this week that Manziel had lost the trust of his teammates through his behavior, but Thomas added that Manziel checking himself into rehab was a \\u201creally positive\\u201d step. Manziel will compete with veteran Josh McCown for the QB job this year. \\u201cI\\u2019m hoping when we come back in April we see a new Johnny and everybody\\u2019s blown away with his commitment,\\u201d said Thomas. \\u201cAnd I think he\\u2019s got the talent, so it\\u2019s just a matter of if he commits himself to it, we can have a really good quarterback on our hands.\\u201d \",\n          \"Mac users, rejoice: Apple has fixed one of the things that has been most annoying you about your computer. The new beta version of the latest version of Apple\\u2019s OS X has gotten rid of discoveryd, a process which many users complained caused them to lose Wi-Fi access, among other problems, 9to5Mac.com reports. Future versions of the system will revert to using a process from previous OS X versions. The final version of the new system, OS X 10.10.4, is expected to be released to the public in coming months. Apple is set to unveil more details about the new operating system at its Worldwide Developers\\u2019 Conference early next month. \"\n        ],\n        \"semantic_type\": \"\",\n        \"description\": \"\"\n      }\n    },\n    {\n      \"column\": \"Label\",\n      \"properties\": {\n        \"dtype\": \"category\",\n        \"num_unique_values\": 4,\n        \"samples\": [\n          \"Politics\",\n          \"Tech\",\n          \"Business\"\n        ],\n        \"semantic_type\": \"\",\n        \"description\": \"\"\n      }\n    }\n  ]\n}"
            }
          },
          "metadata": {},
          "execution_count": 19
        }
      ]
    },
    {
      "cell_type": "code",
      "source": [
        "df_DI = df.copy()"
      ],
      "metadata": {
        "id": "JA49L-AfP2Tt"
      },
      "execution_count": null,
      "outputs": []
    },
    {
      "cell_type": "code",
      "source": [
        "df_DI['TEXT'] = df_DI['Header'] + \". \" + df_DI['Body']\n",
        "\n",
        "df_DI['count'] = df_DI['TEXT'].apply(lambda x: len(x.split()))\n",
        "\n",
        "df_DI.head()"
      ],
      "metadata": {
        "colab": {
          "base_uri": "https://localhost:8080/",
          "height": 293
        },
        "id": "E364USvVO7Tu",
        "outputId": "86a9a320-bb97-4f4d-bc49-b5f03bf227f2"
      },
      "execution_count": null,
      "outputs": [
        {
          "output_type": "execute_result",
          "data": {
            "text/plain": [
              "                                              Header  \\\n",
              "0           Sam Bankman-Fried Faces 25 Years in Jail   \n",
              "1  Sam Bankman-Fried to be Sentenced for Defraudi...   \n",
              "2  India’s Income Inequality Is Now Worse Than Un...   \n",
              "3  Trump's Social Media Company Soars Nearly 50% ...   \n",
              "4            How Is Trump's New Firm Worth Billions?   \n",
              "\n",
              "                                                Body     Label  \\\n",
              "0  Sam Bankman-Fried, the former billionaire who ...  Business   \n",
              "1  Former crypto mogul Sam Bankman-Fried faces th...  Business   \n",
              "2  A new study from the World Inequality Lab find...  Business   \n",
              "3  Shares of Donald Trump’s social media company ...  Business   \n",
              "4  On the cusp of a financial crisis, Donald Trum...  Business   \n",
              "\n",
              "                                                TEXT  count  \n",
              "0  Sam Bankman-Fried Faces 25 Years in Jail. Sam ...   1449  \n",
              "1  Sam Bankman-Fried to be Sentenced for Defraudi...    570  \n",
              "2  India’s Income Inequality Is Now Worse Than Un...    746  \n",
              "3  Trump's Social Media Company Soars Nearly 50% ...    692  \n",
              "4  How Is Trump's New Firm Worth Billions?. On th...    842  "
            ],
            "text/html": [
              "\n",
              "  <div id=\"df-64a5a008-259b-495d-bb57-05866e21ba0a\" class=\"colab-df-container\">\n",
              "    <div>\n",
              "<style scoped>\n",
              "    .dataframe tbody tr th:only-of-type {\n",
              "        vertical-align: middle;\n",
              "    }\n",
              "\n",
              "    .dataframe tbody tr th {\n",
              "        vertical-align: top;\n",
              "    }\n",
              "\n",
              "    .dataframe thead th {\n",
              "        text-align: right;\n",
              "    }\n",
              "</style>\n",
              "<table border=\"1\" class=\"dataframe\">\n",
              "  <thead>\n",
              "    <tr style=\"text-align: right;\">\n",
              "      <th></th>\n",
              "      <th>Header</th>\n",
              "      <th>Body</th>\n",
              "      <th>Label</th>\n",
              "      <th>TEXT</th>\n",
              "      <th>count</th>\n",
              "    </tr>\n",
              "  </thead>\n",
              "  <tbody>\n",
              "    <tr>\n",
              "      <th>0</th>\n",
              "      <td>Sam Bankman-Fried Faces 25 Years in Jail</td>\n",
              "      <td>Sam Bankman-Fried, the former billionaire who ...</td>\n",
              "      <td>Business</td>\n",
              "      <td>Sam Bankman-Fried Faces 25 Years in Jail. Sam ...</td>\n",
              "      <td>1449</td>\n",
              "    </tr>\n",
              "    <tr>\n",
              "      <th>1</th>\n",
              "      <td>Sam Bankman-Fried to be Sentenced for Defraudi...</td>\n",
              "      <td>Former crypto mogul Sam Bankman-Fried faces th...</td>\n",
              "      <td>Business</td>\n",
              "      <td>Sam Bankman-Fried to be Sentenced for Defraudi...</td>\n",
              "      <td>570</td>\n",
              "    </tr>\n",
              "    <tr>\n",
              "      <th>2</th>\n",
              "      <td>India’s Income Inequality Is Now Worse Than Un...</td>\n",
              "      <td>A new study from the World Inequality Lab find...</td>\n",
              "      <td>Business</td>\n",
              "      <td>India’s Income Inequality Is Now Worse Than Un...</td>\n",
              "      <td>746</td>\n",
              "    </tr>\n",
              "    <tr>\n",
              "      <th>3</th>\n",
              "      <td>Trump's Social Media Company Soars Nearly 50% ...</td>\n",
              "      <td>Shares of Donald Trump’s social media company ...</td>\n",
              "      <td>Business</td>\n",
              "      <td>Trump's Social Media Company Soars Nearly 50% ...</td>\n",
              "      <td>692</td>\n",
              "    </tr>\n",
              "    <tr>\n",
              "      <th>4</th>\n",
              "      <td>How Is Trump's New Firm Worth Billions?</td>\n",
              "      <td>On the cusp of a financial crisis, Donald Trum...</td>\n",
              "      <td>Business</td>\n",
              "      <td>How Is Trump's New Firm Worth Billions?. On th...</td>\n",
              "      <td>842</td>\n",
              "    </tr>\n",
              "  </tbody>\n",
              "</table>\n",
              "</div>\n",
              "    <div class=\"colab-df-buttons\">\n",
              "\n",
              "  <div class=\"colab-df-container\">\n",
              "    <button class=\"colab-df-convert\" onclick=\"convertToInteractive('df-64a5a008-259b-495d-bb57-05866e21ba0a')\"\n",
              "            title=\"Convert this dataframe to an interactive table.\"\n",
              "            style=\"display:none;\">\n",
              "\n",
              "  <svg xmlns=\"http://www.w3.org/2000/svg\" height=\"24px\" viewBox=\"0 -960 960 960\">\n",
              "    <path d=\"M120-120v-720h720v720H120Zm60-500h600v-160H180v160Zm220 220h160v-160H400v160Zm0 220h160v-160H400v160ZM180-400h160v-160H180v160Zm440 0h160v-160H620v160ZM180-180h160v-160H180v160Zm440 0h160v-160H620v160Z\"/>\n",
              "  </svg>\n",
              "    </button>\n",
              "\n",
              "  <style>\n",
              "    .colab-df-container {\n",
              "      display:flex;\n",
              "      gap: 12px;\n",
              "    }\n",
              "\n",
              "    .colab-df-convert {\n",
              "      background-color: #E8F0FE;\n",
              "      border: none;\n",
              "      border-radius: 50%;\n",
              "      cursor: pointer;\n",
              "      display: none;\n",
              "      fill: #1967D2;\n",
              "      height: 32px;\n",
              "      padding: 0 0 0 0;\n",
              "      width: 32px;\n",
              "    }\n",
              "\n",
              "    .colab-df-convert:hover {\n",
              "      background-color: #E2EBFA;\n",
              "      box-shadow: 0px 1px 2px rgba(60, 64, 67, 0.3), 0px 1px 3px 1px rgba(60, 64, 67, 0.15);\n",
              "      fill: #174EA6;\n",
              "    }\n",
              "\n",
              "    .colab-df-buttons div {\n",
              "      margin-bottom: 4px;\n",
              "    }\n",
              "\n",
              "    [theme=dark] .colab-df-convert {\n",
              "      background-color: #3B4455;\n",
              "      fill: #D2E3FC;\n",
              "    }\n",
              "\n",
              "    [theme=dark] .colab-df-convert:hover {\n",
              "      background-color: #434B5C;\n",
              "      box-shadow: 0px 1px 3px 1px rgba(0, 0, 0, 0.15);\n",
              "      filter: drop-shadow(0px 1px 2px rgba(0, 0, 0, 0.3));\n",
              "      fill: #FFFFFF;\n",
              "    }\n",
              "  </style>\n",
              "\n",
              "    <script>\n",
              "      const buttonEl =\n",
              "        document.querySelector('#df-64a5a008-259b-495d-bb57-05866e21ba0a button.colab-df-convert');\n",
              "      buttonEl.style.display =\n",
              "        google.colab.kernel.accessAllowed ? 'block' : 'none';\n",
              "\n",
              "      async function convertToInteractive(key) {\n",
              "        const element = document.querySelector('#df-64a5a008-259b-495d-bb57-05866e21ba0a');\n",
              "        const dataTable =\n",
              "          await google.colab.kernel.invokeFunction('convertToInteractive',\n",
              "                                                    [key], {});\n",
              "        if (!dataTable) return;\n",
              "\n",
              "        const docLinkHtml = 'Like what you see? Visit the ' +\n",
              "          '<a target=\"_blank\" href=https://colab.research.google.com/notebooks/data_table.ipynb>data table notebook</a>'\n",
              "          + ' to learn more about interactive tables.';\n",
              "        element.innerHTML = '';\n",
              "        dataTable['output_type'] = 'display_data';\n",
              "        await google.colab.output.renderOutput(dataTable, element);\n",
              "        const docLink = document.createElement('div');\n",
              "        docLink.innerHTML = docLinkHtml;\n",
              "        element.appendChild(docLink);\n",
              "      }\n",
              "    </script>\n",
              "  </div>\n",
              "\n",
              "\n",
              "<div id=\"df-1215db3c-5758-4ae7-8679-a47674632ba6\">\n",
              "  <button class=\"colab-df-quickchart\" onclick=\"quickchart('df-1215db3c-5758-4ae7-8679-a47674632ba6')\"\n",
              "            title=\"Suggest charts\"\n",
              "            style=\"display:none;\">\n",
              "\n",
              "<svg xmlns=\"http://www.w3.org/2000/svg\" height=\"24px\"viewBox=\"0 0 24 24\"\n",
              "     width=\"24px\">\n",
              "    <g>\n",
              "        <path d=\"M19 3H5c-1.1 0-2 .9-2 2v14c0 1.1.9 2 2 2h14c1.1 0 2-.9 2-2V5c0-1.1-.9-2-2-2zM9 17H7v-7h2v7zm4 0h-2V7h2v10zm4 0h-2v-4h2v4z\"/>\n",
              "    </g>\n",
              "</svg>\n",
              "  </button>\n",
              "\n",
              "<style>\n",
              "  .colab-df-quickchart {\n",
              "      --bg-color: #E8F0FE;\n",
              "      --fill-color: #1967D2;\n",
              "      --hover-bg-color: #E2EBFA;\n",
              "      --hover-fill-color: #174EA6;\n",
              "      --disabled-fill-color: #AAA;\n",
              "      --disabled-bg-color: #DDD;\n",
              "  }\n",
              "\n",
              "  [theme=dark] .colab-df-quickchart {\n",
              "      --bg-color: #3B4455;\n",
              "      --fill-color: #D2E3FC;\n",
              "      --hover-bg-color: #434B5C;\n",
              "      --hover-fill-color: #FFFFFF;\n",
              "      --disabled-bg-color: #3B4455;\n",
              "      --disabled-fill-color: #666;\n",
              "  }\n",
              "\n",
              "  .colab-df-quickchart {\n",
              "    background-color: var(--bg-color);\n",
              "    border: none;\n",
              "    border-radius: 50%;\n",
              "    cursor: pointer;\n",
              "    display: none;\n",
              "    fill: var(--fill-color);\n",
              "    height: 32px;\n",
              "    padding: 0;\n",
              "    width: 32px;\n",
              "  }\n",
              "\n",
              "  .colab-df-quickchart:hover {\n",
              "    background-color: var(--hover-bg-color);\n",
              "    box-shadow: 0 1px 2px rgba(60, 64, 67, 0.3), 0 1px 3px 1px rgba(60, 64, 67, 0.15);\n",
              "    fill: var(--button-hover-fill-color);\n",
              "  }\n",
              "\n",
              "  .colab-df-quickchart-complete:disabled,\n",
              "  .colab-df-quickchart-complete:disabled:hover {\n",
              "    background-color: var(--disabled-bg-color);\n",
              "    fill: var(--disabled-fill-color);\n",
              "    box-shadow: none;\n",
              "  }\n",
              "\n",
              "  .colab-df-spinner {\n",
              "    border: 2px solid var(--fill-color);\n",
              "    border-color: transparent;\n",
              "    border-bottom-color: var(--fill-color);\n",
              "    animation:\n",
              "      spin 1s steps(1) infinite;\n",
              "  }\n",
              "\n",
              "  @keyframes spin {\n",
              "    0% {\n",
              "      border-color: transparent;\n",
              "      border-bottom-color: var(--fill-color);\n",
              "      border-left-color: var(--fill-color);\n",
              "    }\n",
              "    20% {\n",
              "      border-color: transparent;\n",
              "      border-left-color: var(--fill-color);\n",
              "      border-top-color: var(--fill-color);\n",
              "    }\n",
              "    30% {\n",
              "      border-color: transparent;\n",
              "      border-left-color: var(--fill-color);\n",
              "      border-top-color: var(--fill-color);\n",
              "      border-right-color: var(--fill-color);\n",
              "    }\n",
              "    40% {\n",
              "      border-color: transparent;\n",
              "      border-right-color: var(--fill-color);\n",
              "      border-top-color: var(--fill-color);\n",
              "    }\n",
              "    60% {\n",
              "      border-color: transparent;\n",
              "      border-right-color: var(--fill-color);\n",
              "    }\n",
              "    80% {\n",
              "      border-color: transparent;\n",
              "      border-right-color: var(--fill-color);\n",
              "      border-bottom-color: var(--fill-color);\n",
              "    }\n",
              "    90% {\n",
              "      border-color: transparent;\n",
              "      border-bottom-color: var(--fill-color);\n",
              "    }\n",
              "  }\n",
              "</style>\n",
              "\n",
              "  <script>\n",
              "    async function quickchart(key) {\n",
              "      const quickchartButtonEl =\n",
              "        document.querySelector('#' + key + ' button');\n",
              "      quickchartButtonEl.disabled = true;  // To prevent multiple clicks.\n",
              "      quickchartButtonEl.classList.add('colab-df-spinner');\n",
              "      try {\n",
              "        const charts = await google.colab.kernel.invokeFunction(\n",
              "            'suggestCharts', [key], {});\n",
              "      } catch (error) {\n",
              "        console.error('Error during call to suggestCharts:', error);\n",
              "      }\n",
              "      quickchartButtonEl.classList.remove('colab-df-spinner');\n",
              "      quickchartButtonEl.classList.add('colab-df-quickchart-complete');\n",
              "    }\n",
              "    (() => {\n",
              "      let quickchartButtonEl =\n",
              "        document.querySelector('#df-1215db3c-5758-4ae7-8679-a47674632ba6 button');\n",
              "      quickchartButtonEl.style.display =\n",
              "        google.colab.kernel.accessAllowed ? 'block' : 'none';\n",
              "    })();\n",
              "  </script>\n",
              "</div>\n",
              "\n",
              "    </div>\n",
              "  </div>\n"
            ],
            "application/vnd.google.colaboratory.intrinsic+json": {
              "type": "dataframe",
              "variable_name": "df_DI",
              "summary": "{\n  \"name\": \"df_DI\",\n  \"rows\": 29664,\n  \"fields\": [\n    {\n      \"column\": \"Header\",\n      \"properties\": {\n        \"dtype\": \"string\",\n        \"num_unique_values\": 27352,\n        \"samples\": [\n          \"Arab Americans Face an Impossible Choice\",\n          \"Bolton's Offer to Testify Tests McConnell's Power\",\n          \"Big Tech Is Running National Security\"\n        ],\n        \"semantic_type\": \"\",\n        \"description\": \"\"\n      }\n    },\n    {\n      \"column\": \"Body\",\n      \"properties\": {\n        \"dtype\": \"string\",\n        \"num_unique_values\": 27391,\n        \"samples\": [\n          \"it\\u2019s available right now for PC version users. Minecraft maven Jens Bergensten (the game\\u2019s lead developer for the past four years) tweeted yesterday about a \\u201cdramatic feature, likely out in the next snapshot.\\u201d Snapshots are Minecraft-speak for PC version game features you can fiddle with early, if you opt to ride Minecraft\\u2018s \\u201cexperimental\\u201d update train. Bergensten followed with a shot of the new feature in motion, calling it a \\u201cwork in progress.\\u201d When you\\u2019re on the ground, the cape folds up, and you can\\u2019t craft it\\u2013it\\u2019s a finders-only thing. But if you do manage to unearth one, Bergensten teases you can use it to \\u201cfly past the bad guys who are all shooting you with surprisingly bad accuracy, swoop down and land flawlessly into a strategically placed boat and then paddle away at moderately high speeds with the stolen prize pig in the back.\\u201d \",\n          \"Cleveland Browns quarterback Johnny Manziel has been released from a drug and alcohol rehabilitation facility and will return to practice, according to multiple reports. ESPN and the Associated Press, citing anonymous sources, report that the 22-year-old Heisman Trophy winner is expected to start off-season workouts later this month. Manziel entered treatment at the end of January following his rookie season in the NFL. Browns left tackle Joe Thomas told ESPN this week that Manziel had lost the trust of his teammates through his behavior, but Thomas added that Manziel checking himself into rehab was a \\u201creally positive\\u201d step. Manziel will compete with veteran Josh McCown for the QB job this year. \\u201cI\\u2019m hoping when we come back in April we see a new Johnny and everybody\\u2019s blown away with his commitment,\\u201d said Thomas. \\u201cAnd I think he\\u2019s got the talent, so it\\u2019s just a matter of if he commits himself to it, we can have a really good quarterback on our hands.\\u201d \",\n          \"Mac users, rejoice: Apple has fixed one of the things that has been most annoying you about your computer. The new beta version of the latest version of Apple\\u2019s OS X has gotten rid of discoveryd, a process which many users complained caused them to lose Wi-Fi access, among other problems, 9to5Mac.com reports. Future versions of the system will revert to using a process from previous OS X versions. The final version of the new system, OS X 10.10.4, is expected to be released to the public in coming months. Apple is set to unveil more details about the new operating system at its Worldwide Developers\\u2019 Conference early next month. \"\n        ],\n        \"semantic_type\": \"\",\n        \"description\": \"\"\n      }\n    },\n    {\n      \"column\": \"Label\",\n      \"properties\": {\n        \"dtype\": \"category\",\n        \"num_unique_values\": 4,\n        \"samples\": [\n          \"Politics\",\n          \"Tech\",\n          \"Business\"\n        ],\n        \"semantic_type\": \"\",\n        \"description\": \"\"\n      }\n    },\n    {\n      \"column\": \"TEXT\",\n      \"properties\": {\n        \"dtype\": \"string\",\n        \"num_unique_values\": 27408,\n        \"samples\": [\n          \"Kenya Pulls Ad Dollars From CNN After 'Hotbed of Terror' Slur. There\\u2019s never a good time for TV companies to offend advertisers but, in a week in which media companies have seen Wall Street fears for their business model wipe tens of billions of dollars off their value, Time Warner Inc\\u2019s CNN hardly needed this. Kenya is pulling out of a contract with the channel after taking offense at being called a \\u2018hotbed of terror\\u2019 during CNN\\u2019s new coverage of President Barack Obama\\u2019s recent visit to Africa. (Obama himself had hardly pulled his punches while in the country, slamming its corruption, its repression of homosexuals and its poor treatment of women.) According to the website Business Daily Africa, the Kenyan Tourism Board, a state agency that markets its internationally renowned safari and beach holidays, said it was reacting to \\u201cmisrepresentation of the country\\u2019s status.\\u201d \\u201cSome narrative adverts were already running on CNN as we planned launch of above-the-line TV campaigns with them but we suspended all of that,\\u201d BDA quoted chief executive Muriithi Ndegwa as saying on Thursday. Tourism Secretary Phyllis Kandie had engaged CNN on a one-year deal to help revive a sector that is struggling after a surge in political instability over the last couple of years. The trouble is, Kenya\\u2019s problems with terrorism-like the beauty of its tourist attractions\\u2013are all too real. Flag carrier Kenyan Airways posted the country\\u2019s biggest ever corporate loss two weeks ago, on the back of a 25% year-on-year drop in tourist arrivals in the first five months of the year. Tourist visits, a key source of foreign exchange for the country, have fallen for the last three years running (although the Kenyan Shilling has fared a lot better against a resurgent dollar than many other emerging currencies in that time). The Somalia-based Islamic terrorist group Al Shabaab has contributed much to that, having launched a string of attacks inside Kenya since 2012 in response to Kenya\\u2019s deployment of troops in neighboring Somalia. A 2013 attack on the Westgate shopping mall in Kenya\\u2019s capital Nairobi by Al Shabaab-associated gunmen killed 130 people, grabbing global headlines. In an even more gruesome attack this April, terrorists killed 148 people, mainly students, at the Garissa University College. This article originally appeared on Fortune.com \",\n          \"Alabama Ruling May Disenfranchise Thousands. Jenny Lux didn\\u2019t want to risk her life to vote. Her acute respiratory distress syndrome puts her at a high risk for dangerous complications related to COVID-19, compelling her to take quarantine seriously. So when the 39-year-old read Alabama\\u2019s requirements for voting by mail this election cycle, she was stunned. While Alabamians no longer needed to give a reason for requesting a mail-in absentee ballot, they still need to either have their mail ballot notarized or witnessed by two adults simultaneously, as well as include a copy of their photo ID when applying for the ballot. Lux lives alone with her 17-year-old son, and suddenly faced an impossible choice: either risk COVID-19 exposure at a notary service or and allow two adults into her home to witness her ballot. \\u201cMy reaction [was], \\u2018Wow, really? You\\u2019re going to do this to me?\\u2019\\u201d she says. \\u201cI just can\\u2019t risk it. It\\u2019s life and death that we\\u2019re talking about here\\u2026 Why should I jump through all these hoops?\\u201d  Lux considered other options, including curbside voting, which many states have adopted this year amid COVID-19. But while Alabama law does not prohibit the service, the state has gone to great lengths to prevent counties from offering it this year. Alabama Secretary of State John Merrill said explicitly that curbside voting would not be allowed under the state\\u2019s law. On Oct. 21, the Supreme Court ruled that Alabama\\u2019s de facto ban on curbside voting could stand, reversing a lower court\\u2019s ruling that the restriction violated the Constitution and the Americans with Disabilities Act. It was the latest instance of a conservative court upholding Republican-backed voting restrictions in the final weeks before Election Day. That court decision, combined with Alabama\\u2019s requirements that mail ballots be notarized or witnessed, and include a copy of an ID with the application, collectively create an extremely high burden to vote amid the pandemic\\u2014particularly for disabled, elderly and other high-risk people.  \\u201cAlabama voters are going to have to decide whether they want to vote in person or not vote at all because some of them will have a very difficult time complying with the absentee ballot requirements,\\u201d says Sarah H. Brannon, a managing attorney with the American Civil Liberties Union\\u2019s (ACLU) Voting Rights Project, which helped bring the suit against Alabama\\u2019s rules.  In May, several Alabama voters challenged the state\\u2019s de facto ban on curbside voting, as well as its witness and voter ID requirements, arguing that the rules posed a threat to their health. In September, a federal district court agreed with the plaintiffs, ordering Alabama to allow curbside voting and suspending the witness and ID rules for elderly voters or those with underlying medical conditions. Alabama appealed the case and earlier this month, the 11th Circuit Court of Appeals handed Alabama Republicans the victory: the appellate court reversed the lower court decision, reinstating the witness and ID requirements.  The court drama continued. The 11th Circuit Court of Appeals ruling left open the option that counties could offer curbside voting, and two of the state\\u2019s most populous counties\\u2014Jefferson County and Montgomery County\\u2014took steps to implement the service. But Alabama appealed again and the Supreme Court decided in its favor. Curbside voting will not be an option for Alabama voters this year. After the prolonged litigation battle, Alabama voters who are disabled, elderly or have underlying conditions were back where they started: deciding whether to put their health at risk to fulfill the witness and ID requirements or vote in person\\u2014or not vote at all. \\u201cNobody should have to make a decision between being able to vote and protecting yourself from COVID-19,\\u201d says Michelle Bishop, voting rights specialist at the National Disability Rights Network. Lux, who is legally blind, is a member of the disability rights advocate group People First of Alabama, the plaintiff in the suit, and testified in the trial. \\u201cI know if I\\u2019m affected by it, there are thousands others like me affected,\\u201d she says. \\u201cIt\\u2019s a fight for social justice.\\u201d Read More: Here\\u2019s Everything You Need to Know About Voting Americans with disabilities and chronic illnesses have already been disproportionately impacted by COVID-19. And as they prepared to vote this year, many found that their states\\u2019 procedures did not take into account their needs, prompting cases like this around the country. Voters with disabilities sued in North Carolina, Virginia and Texas, and advocates sued South Carolina over a witness requirement for absentee ballots in that state. In Alabama, where coronavirus cases have been on the rise, the issue is particularly acute. The state has a history of voter suppression and a high proportion of Black and disabled voters, all of whom are disproportionately affected by both the pandemic and voting rights issues. There are 748,000 eligible voters with disabilities in Alabama, representing 20% of the state\\u2019s electorate, according to data from researchers Douglas Kruse and Lisa Schur at Rutgers University. Alabama\\u2019s population is among the highest risk for heart disease, stroke and has the highest rate of diabetes in the country. Over 40% of its coronavirus deaths have been people with diabetes. Many high-risk voters are taking the threat seriously. Tonja Leath, 57, usually votes by mail from her home in Hoover, Ala. because of a disability that makes it difficult for her to stand for long periods of time. But when she realized she would still need to fulfill the witness and photo ID requirements during the pandemic, she was frustrated. \\u201cWhy with this election? It does not make any sense. They\\u2019re inconveniencing people, especially the disabled and the elderly,\\u201d she says. Leath says she wishes her county offered curbside voting. In Montgomery, 37-year-old Terri Flowers has also been trying to stay home because her daughter has asthma. Flowers has decided to have her daughter attend school virtually for the foreseeable future to protect her from any exposure to the virus. \\u201cIf I\\u2019m going to keep her from going to school because of [the virus],\\u201d she says, \\u201cit doesn\\u2019t make sense for me to go out and be exposed to COVID and potentially bring it back to her.\\u201d  To avoid concerns about voting by mail, both Leath and Flowers decided to vote \\u201cin-person absentee,\\u201d a process that allowed them to go to their absentee ballot manager\\u2019s office, apply for an absentee ballot in person, fill out their absentee ballot and then have it notarized. While they made their situations work, not all voters will be able to do so, as the method still requires voters to risk COVID-19 exposure at their absentee ballot manager\\u2019s office, which can be difficult to access for disabled or rural voters. The other state requirement for voting by mail\\u2014that Alabama residents include a copy of their photo ID in their ballot application\\u2014can also present obstacles for lower income voters who might not have regular internet access or printers at home. Alabama argued that the laws in question were necessary to prevent voter fraud and preserve confidence in the upcoming election. It also said that the restrictions did not place an undue burden on the plaintiffs. \\u201cThe photo ID and witness requirements are necessary deterrents for those looking to commit voter fraud, and I am glad the 11th Circuit has recognized their importance in safeguarding the elections process,\\u201d Merrill said in an Oct. 13 statement. Evidence has repeatedly shown that voter fraud in the U.S. is nearly nonexistent.  Caren Short, a senior staff attorney with the Southern Poverty Law Center, which jointly filed the suit against Alabama, says the 11th Circuit\\u2019s ruling allowing the vote-by-mail laws to stand \\u201cdemonstrates part of a trend where unfortunately more conservative state election officials are leaning heavily on the myth of voter fraud to justify onerous and unnecessary restrictions on voting to essentially suppress votes.\\u201d  Maia Fleischman, a voting rights fellow with the Alabama Disabilities Advocacy Program (ADAP), which also jointly filed the suit, adds that while she found the 11th Circuit\\u2019s ruling disappointing, it \\u201cpretty much aligned with what we\\u2019ve been seeing in the courts the last month.\\u201d She said that, in her opinion, the group chose not to appeal the 11th Circuit\\u2019s ruling on the absentee ballot laws after looking at how the Supreme Court has ruled in similar voting rights cases this year. \\u201cWe don\\u2019t also want to make things harder for voting rights cases in the future,\\u201d she says. She added, \\u201cWe decided to focus our on the argument that the curbside voting ban is unconstitutional and it is a proper ADA accommodation. We think curbside voting would have benefited thousands of Alabamians this upcoming election day in light of COVID-19.\\u201d The Supreme Court did not offer an opinion explaining its decision to stay the 11th Circuit\\u2019s ruling this week, and only the three liberal justices dissented. With Justice Ruth Bader Ginsburg\\u2019s death last month, the Supreme Court now has a conservative majority, and if President Donald Trump\\u2019s nominee Judge Amy Coney Barrett is confirmed as expected, that will cement the court\\u2019s rightward tilt. Trump has also appointed roughly a quarter of all federal appeals court judges during his time in office, meaning that cases are now more likely to be heard by conservative judges on appeal.  Disability and voting rights advocates say that impact of a conservative-leaning bench will affect civil rights litigation long past Nov. 3. \\u201cWe have to file cases at the trial level, because voting is a constitutional right and the foundation of our democracy,\\u201d says Christina Brandt-Young, a managing attorney at Disability Rights Advocates, which signed onto an amicus brief in the Alabama case. \\u201cBut if appeals are less and less attractive, that will push us back into other kinds of advocacy.\\u201d After much deliberation, Lux was able to vote this year. She found a notary who was willing to come to her house, wear a mask, and certify her ballot, so she didn\\u2019t have to risk a trip to the county elections office. She\\u2019s since mailed her ballot and received a notification that it was received. But the process left a bitter taste in her mouth. \\u201cI feel marginalized,\\u201d she says. \\u201cIt\\u2019s like I\\u2019m being swept under the rug.\\u201d She also recognizes that many voters won\\u2019t be able to find the same work-around like she did. As Supreme Court Justice Sonia Sotomayor pointed out in her dissent on the high court\\u2019s ruling, one of the plaintiffs, Howard Porter, Jr.\\u2014a Black man in his 70s with both asthma and Parkinson\\u2019s Disease\\u2014described the state voting restrictions as a question of life or death.  \\u201c\\u2018[S]o many of my [ancestors] even died to vote,\\u201d Porter testified before the lower court. \\u201cAnd while I don\\u2019t mind dying to vote, I think we\\u2019re past that\\u2014we\\u2019re past that time.\\u2019\\u201d  \",\n          \"How Elise Stefanik Went From Moderate to MAGA. When Elise Stefanik was elected to the House of Representatives in 2014, she was hailed as the fresh face of the new GOP. Stefanik had run for office in her 20s, determined to modernize the Republican Party to attract more women and appeal to her fellow millennials. In her victory speech, she praised her opponents for their good-faith participation in the miracle of American democracy. \\u201cNo matter their party, our democratic process is strengthened by those individuals willing to put forth their ideas,\\u201d she said on the night she became the youngest woman ever elected to Congress.  Today Stefanik is still a politician on the rise, but for very different reasons. As soon as next week, she is widely expected to ascend to the position of House GOP conference chair, which would make her the highest-ranking Republican woman in Congress. And she will have gotten there by lashing herself to a cause that undermines the same democratic process she once hoped to strengthen.  The opening for Stefanik to become the No. 3 House Republican has been created by the anticipated ouster of Rep. Liz Cheney, who has lost the support of her colleagues for insisting the party stop parroting President Donald Trump\\u2019s lies about the 2020 election. Rejecting Trump\\u2019s fictions about a stolen election is enough to make Cheney, a rock-ribbed conservative and daughter of a former vice president, an outcast in today\\u2019s GOP. \\u201cElise Stefanik is a far superior choice, and she has my COMPLETE and TOTAL Endorsement for GOP Conference Chair,\\u201d Trump said in a statement. To replace Cheney with Stefanik would send a powerful signal: that anyone who refuses to carry water for Trump\\u2019s conspiracy theories cannot carry the Republican mantle.  But Elise Stefanik is no Matt Gaetz or Marjorie Taylor Greene. She was not always a MAGA warrior. Not long ago, she was a widely respected moderate Republican known for her embrace of facts, her trust in science and her push to build a more diverse party, highlighted by her successful efforts to recruit more GOP women to run for office. She was a prominent member of the moderate Tuesday Group, a caucus of center-right Republicans. And she was widely credited for a bipartisan spirit\\u2014\\u201devery Democrat\\u2019s favorite Republican,\\u201d as one former aide to GOP leadership puts it now. Yet over the last five years, Trump has redefined the GOP. Today the party primarily judges its representatives not by any particular policy positions but by their allegiance to a defeated President and an embrace of his conspiracy theories. Stefanik has adapted. It\\u2019s a calculation that has made her a fundraising star and a party leader-in-waiting. It\\u2019s also dismayed many Republicans who have worked with and admired her in the past.  \\u201cTo be a handmaiden of Trump and get a little pat on the head from Trump is not a leadership move,\\u201d says former Rep. Barbara Comstock (R-VA), who worked closely with Stefanik and helped organize a small, bipartisan shower in her honor ahead of her 2017 wedding. \\u201cIt\\u2019s embarrassing. It\\u2019s sad.\\u201d So how did Elise Stefanik go from praising the democratic process to standing on the House floor in the aftermath of the Capitol riot and voting to object to the Electoral College results? How did she go from saying that one particular Republican candidate was \\u201cdisqualifying themselves with untruthful statements\\u201d in 2015 to feeding vague conspiracy theories about Hunter Biden on Steve Bannon\\u2019s podcast in 2021? Her evolution mirrors the transformation of her party, while her rise within its ranks is a fall from the modern, millennial conservatism she once was on track to define.  Stefanik\\u2019s office declined to make her available to comment for this story, which is based on interviews with former colleagues, aides, friends, classmates and mentors, and draws on others I conducted with Stefanik in 2018 and 2019 for my book, The Ones We\\u2019ve Been Waiting For. Stefanik\\u2019s embrace of Trump has disappointed her high school teachers, alienated her from her alma mater and puzzled former allies and mentors who envisioned a different future for her.  \\u201cElise could have been the face of a new generation of Republicans that could represent a real big-tent party, that could build beyond the base, that could lay the foundation for a coalition that could win elections nationally,\\u201d says Margaret Hoover, a center-right commentator who worked with Stefanik at the Bush White House and now hosts PBS\\u2019s Firing Line. \\u201cIt shows that she was never motivated by principles, and that\\u2019s deeply disappointing.\\u201d Now, as her tolerance of baseless conspiracy theories about the 2020 election propels her toward Republican leadership, many of the people who knew her in the past are asking: what happened to Elise Stefanik? If you ask Stefanik\\u2019s childhood classmates what she was like as a girl, two words keep coming up: \\u201cintegrity\\u201d and \\u201cambition.\\u201d Growing up in upstate New York, Stefanik was friendly with Melissa DeRosa, now an embattled senior aide to scandal-plagued Democratic Governor Andrew Cuomo. Both served in student government at the Albany Academy for Girls. In middle school they teamed up to pressure administrators to install a snack machine.  DeRosa grew into one of New York\\u2019s most powerful Democratic operatives as Stefanik climbed the GOP ladder. But despite their political differences, they remained close for a while. DeRosa was one of a handful of old classmates at Stefanik\\u2019s 2017 wedding. When I interviewed her about Stefanik two years ago for my book, DeRosa told me the old friends would frequently commiserate about the rough-and-tumble world of New York politics.  \\u201cThere have been times over the years when I have called her, practically in tears, saying, \\u2018This just happened, I feel so beaten down, I don\\u2019t know what to do anymore,\\u2019\\u201d DeRosa told me back then. \\u201cAnd she is so morally supportive and will be there to coach through whatever the issue is.\\u201d Somewhere along the way, Stefanik also learned to interpret criticism as evidence that she was doing something right, according to DeRosa. \\u201cShe says, \\u2018People who are criticizing you are criticizing you because you\\u2019re doing a good job,\\u201d DeRosa recalled. \\u201cHer attitude has been like: \\u2018Dig in and go the other way.\\u2019\\u201d But in February of 2021, as DeRosa took heat for the Cuomo Administration\\u2019s alleged effort to obscure the number of nursing-home deaths from COVID-19 in New York, Stefanik went nuclear. On one occasion, she tweeted that the scandal enmeshing her friend of 20 years was a \\u201ccriminal coverup,\\u201d On another, she linked to a story about about Cuomo\\u2019s senior aides, adding \\u201cPROSECUTE NOW!\\u201d  \\u201cShe sort of threw Melissa under the bus,\\u201d says Caroline Mason, the former headmistress at Albany Academy for Girls, who says she kept in touch with Stefanik for years after she graduated, exchanged Christmas cards with her until last year, and even helped preside over her 2017 wedding ceremony. Mason said she had long admired Stefanik, but that \\u201csomething stronger took hold of her.\\u201d  \\u201cShe basically abandoned her own core values for a man who had no core values,\\u201d Mason says. \\u201cHer fealty to Trump seems to have trumped her fealty to her sisters in the House.\\u201d  After high school, Stefanik went to Harvard, becoming the first in her immediate family to earn a college degree. Stefanik was one of few conservative women at Harvard\\u2019s Institute of Politics, but fellow campus politicos told me they admired her sharp reasoning, intellectual integrity and willingness to stick to her positions, even when they were unpopular on a liberal-leaning campus. She crossed paths there with Pete Buttigieg, now the U.S. Transportation Secretary, and they even met for coffee once. (Stefanik and Buttigieg both say their coffee was purely platonic, but the rumor on campus was that it was a single, uneventful date; while Buttigieg is now married to a man, he dated women in college. \\u201cPeter and Elise were at Harvard at the same time and were friends in college and once went to coffee,\\u201d a Stefanik spokesperson said. \\u201cThey did not date.\\u201d )  From Harvard, Stefanik rocketed through the traditional Republican establishment. She worked in various roles in the George W. Bush White House, then as an adviser to vice-presidential nominee Paul Ryan during the 2012 presidential campaign. After that defeat, the GOP released an autopsy that argued the GOP was struggling to reach young voters, women and voters of color. Stefanik saw it as an opening to help transform her party. With support from Ryan and deep-pocketed donors, she handily won her seat in New York\\u2019s North Country to become the youngest woman elected to Congress in U.S. history. (Rep. Alexandria Ocasio-Cortez has since beaten that record.) When she arrived on the Hill, Stefanik was part of a cohort of young Republicans focused on helping the GOP appeal to younger, more diverse voters. With Ryan as her mentor, she staked out moderate positions on climate change and immigration consistent with her fellow conservative millennials, and pushed the GOP to recruit more women to run for office. She also built a strong record of bipartisanship. Stefanik was the 31st most bipartisan members of Congress in her first term and 19th in her second term, according to an index compiled by Georgetown University\\u2019s Lugar Center.  Stefanik tended to steer clear of hot-button right-wing issues, focusing instead on those that affected her district, like military funding and support for rural farmers. She voted against Trump\\u2019s signature domestic policy achievement\\u2014the 2017 tax cuts\\u2014because she felt they unfairly penalized high-tax states like New York. In 2017, she introduced a House resolution to commit to addressing climate change, calling environmental stewardship a \\u201cconservative principle.\\u201d  This relatively moderate record didn\\u2019t make her especially popular with Republican hard-liners. As Stefanik emerged in recent days as a top candidate to replace Cheney, the president of the conservative Club for Growth called her \\u201cvery much a liberal.\\u201d Other conservative groups, from Heritage Action to the American Conservative Union, have ranked Cheney\\u2019s record as more conservative than Stefanik\\u2019s.  But Stefanik was cultivating a reputation among colleagues as a rising star. \\u201cShe had developed a really good brand: she was the young, smart, vivacious millennial who could appeal to constituencies that Republicans had difficulty with,\\u201d says a former GOP congressman who worked closely with Stefanik. \\u201cShe had that real up-and-coming thing.\\u201d When Trump first emerged as a political phenomenon, Stefanik mostly ignored him. She said she would \\u201csupport my party\\u2019s nominee\\u201d in the 2016 election, but largely avoided mentioning him by name. From time to time, she carefully spoke out against him, adopting a tone of dutiful scolding. In August 2015, she said in a radio interview that Trump had been \\u201cinsulting to women\\u201d and said his campaign had \\u201churt the effort\\u201d to reach out to them. After Trump\\u2019s Access Hollywood scandal, she said his \\u201cinappropriate, offensive comments are just wrong.\\u201d When Trump moved to ban travel from some Muslim-majority countries, she said she opposed his \\u201crushed and overly broad Executive Order.\\u201d She said she didn\\u2019t think his plans for a border wall were \\u201crealistic\\u201d and that the President \\u201cwasn\\u2019t exactly right on that.\\u201d When Trump blasted immigrants from \\u201csh-thole countries,\\u201d Stefanik released a statement that the comments were \\u201cwrong and contrary to our American ideals.\\u201d  But as Trump\\u2019s presidency wore on, Stefanik\\u2019s party transformed. So did her district, which voted twice for Obama before breaking heavily for Trump. \\u201cIt\\u2019s only become more and more supportive of President Trump over time,\\u201d Stefanik said on Bannon\\u2019s podcast. \\u201cI represent farmers, manufacturers, and hardworking families who want someone who stands up for them, and President Trump spoke to those people.\\u201d  \\u201cIf you\\u2019re looking for a through line, it\\u2019s that her district has changed and she\\u2019s always been attuned to what her district wants,\\u201d says Brendan Buck, a former top aide to Speaker Ryan. \\u201cA swing purple district got a middle-of-the-road moderate member, and now it is a Trumpy district, and they have a Trumpy representative.\\u201d  It\\u2019s hard to pinpoint exactly when Stefanik\\u2019s own evolution began. Some suspect it started in August of 2018, when Trump joined Stefanik for a visit to Fort Drum, a key military base in her district. \\u201cYou\\u2019re standing in front of a crowd, and all of a sudden you see there\\u2019s a bigger crowd than you normally would have,\\u201d says one former Republican Congresswoman who recalled that event.  Others point out that the political downsides of anti-Trumpism became clear around the same time. In the 2018 midterms, many Republicans who had criticized Trump lost their seats. Among them was Rep. Carlos Curbelo, a close friend of Stefanik\\u2019s who had been outspoken in his opposition to Trump\\u2019s immigration policy.  Still others see a substantive reason for the change. Stefanik sat on the Intelligence Committee during the inquiry into Russian interference in the 2016 election. While former FBI chief Robert Mueller found widespread evidence of bad behavior by Trump and others, including repeated testimony showing Trump obstructed justice, the Intelligence Committee, and later the Department of Justice Inspector General, found evidence of inappropriate investigative measures by the FBI and others. Over the course of the Russia probe, Stefanik became an outspoken defender of the President, arguing that he was being unfairly persecuted by Democrats. \\u201cThe longer she served on Intelligence, the more she pivoted towards defending the Administration,\\u201d says a former GOP member of Congress. Then came Trump\\u2019s 2019 impeachment trial on charges he solicited foreign interference in the 2020 election. That\\u2019s when a switch flipped, according to a former aide to GOP House leadership. Stefanik was named a member of Trump\\u2019s impeachment defense team and emerged as a vehement advocate, earning favorable press on Fox News and praise from the President himself. \\u201cShe became a darling of the right and an enemy of the left,\\u201d says a former Republican Congressman who knew her well. \\u201cAnd she just decided to own that and monetized it.\\u201d  In the last three months of 2019, Stefanik raised a whopping $3.2 million\\u2014a seven-fold increase from the previous quarter\\u2019s haul\\u2014making her the second-highest fundraiser in the House. She had picked her side. \\u201cShe has become a star,\\u201d Trump gushed on Fox & Friends. Stefanik soon became the co-chair of Trump\\u2019s re-election campaign in New York. She gave a rousing speech at the 2020 GOP Convention about \\u201cthe Democrats\\u2019 baseless and illegal impeachment sham and the media\\u2019s endless obsession with it.\\u201d  \\u201cThis attack was not just on the President, it was an attack on you: your voice, and your vote,\\u201d she added. \\u201cOur support for President Trump is stronger than ever before.\\u201d This would be the basis of her defense of Trump before, during, and after the 2020 election. Her constituents were Trump\\u2019s voters, and they perceived any attack on Trump to be an attack on them. \\u201cI think all of this is very genuine to her,\\u201d says Anthony Pileggi, a former top aide for Stefanik from the beginning of her Congressional career. \\u201cI think this is someone who is a very hardworking member of Congress, who saw that the president was being attacked during impeachment.\\u201d Others see it differently. \\u201cTrump has won the Republican Party. Trump owns it. It is the key to her re-elections, it is the key to her fundraising, it\\u2019s the key to her advancement within Congress,\\u201d says Hoover. \\u201cShe knows how to play it, so that\\u2019s what she\\u2019s doing. Never mind that it\\u2019s undermining democracy. She\\u2019s made a calculation that she can rise to power by backing the Big Lie.\\u201d  In the aftermath of Biden\\u2019s victory in the 2020 election, Stefanik stopped short of adopting Trump\\u2019s false claims that the election was \\u201crigged\\u2019 or \\u201cstolen.\\u201d But she perpetuated the baseless claims around the election outcome.  In a Newsmax interview a month after the election, she parroted conspiracy theories about \\u201cirregularities,\\u201d then mentioned she had \\u201cconcerns\\u201d about \\u201cDominion software,\\u201d indirectly alluding to a false conspiracy theory that the voting-machine company had been part of an effort to rig the election against Trump. (Officials from Trump\\u2019s Department of Homeland Security released a statement saying that \\u201cthere is no evidence that any voting system deleted or lost votes, changed votes, or was in any way compromised,\\u201d and Dominion has filed several lawsuits against people and organizations that spread the conspiracy theory, including one that forced Newsmax to retract its claims and apologize.) In December, Stefanik was one of 126 Republicans who signed onto an amicus brief asking the Supreme Court to consider rejecting election results in Michigan, Pennsylvania, Georgia and Wisconsin. She then announced in an open letter to her constituents that she would object to electors from the same four states. Amid the insurrection, when House Republicans forced a vote on only two states, Stefanik voted to certify Biden\\u2019s win in Arizona but reject his win in Pennsylvania. She continued to make baseless claims about \\u201cvoting irregularities\\u201d and \\u201clack of ballot integrity and security,\\u201d though no credible evidence of widespread voter fraud ever emerged. (Harvard, her beloved alma mater, stripped her from the Senior Advisory Council of the Institute of Politics after she voted to challenge the election results.) Some people who know Stefanik said she may have cultivated genuine concerns about election integrity, given that votes were cast under the extraordinary circumstances of a pandemic and the race was extremely close in some states. On Bannon\\u2019s podcast, she said she was concerned about \\u201cunprecedented, unconstitutional overreach\\u201d and \\u201cunelected judges and bureaucrats who were rewriting election laws in real time,\\u201d and raised questions about a \\u201clack of chain of custody\\u201d for ballots. Her aides say she is simply representing the concerns of the millions of Americans who don\\u2019t believe the election was fair, including her constituents, who voted for Trump by a wide margin. But no one I spoke to inside or outside her office believes she actually thinks the election was stolen. When asked directly, aides often pivot to \\u201cconcerns\\u201d about \\u201cirregularities.\\u201d \\u201cI don\\u2019t even know if she believes the Big Lie,\\u201d says Hoover, Stefanik\\u2019s former colleague. \\u201cBut she is absolutely responsible for propagating a lie that will undermine our democracy.\\u201d  Whether she believes the lies or not, Stefanik has now aligned herself with Trump for good. She may still be the face of the GOP\\u2019s future. But that future looks a lot different than anyone thought.  \"\n        ],\n        \"semantic_type\": \"\",\n        \"description\": \"\"\n      }\n    },\n    {\n      \"column\": \"count\",\n      \"properties\": {\n        \"dtype\": \"number\",\n        \"std\": 577,\n        \"min\": 5,\n        \"max\": 5869,\n        \"num_unique_values\": 2499,\n        \"samples\": [\n          1496,\n          1111,\n          1810\n        ],\n        \"semantic_type\": \"\",\n        \"description\": \"\"\n      }\n    }\n  ]\n}"
            }
          },
          "metadata": {},
          "execution_count": 22
        }
      ]
    },
    {
      "cell_type": "code",
      "source": [
        "df_DI.drop(['Header', 'Body'], axis=1, inplace=True)"
      ],
      "metadata": {
        "id": "Gh-VwfYXPioy"
      },
      "execution_count": null,
      "outputs": []
    },
    {
      "cell_type": "code",
      "source": [
        "df_DI.head()"
      ],
      "metadata": {
        "colab": {
          "base_uri": "https://localhost:8080/",
          "height": 206
        },
        "id": "JjISfS0bPdQz",
        "outputId": "c2f58246-f961-47ea-a938-2276ae4d3fd3"
      },
      "execution_count": null,
      "outputs": [
        {
          "output_type": "execute_result",
          "data": {
            "text/plain": [
              "      Label                                               TEXT  count\n",
              "0  Business  Sam Bankman-Fried Faces 25 Years in Jail. Sam ...   1449\n",
              "1  Business  Sam Bankman-Fried to be Sentenced for Defraudi...    570\n",
              "2  Business  India’s Income Inequality Is Now Worse Than Un...    746\n",
              "3  Business  Trump's Social Media Company Soars Nearly 50% ...    692\n",
              "4  Business  How Is Trump's New Firm Worth Billions?. On th...    842"
            ],
            "text/html": [
              "\n",
              "  <div id=\"df-006649c0-3928-4558-9191-5dabb26ca050\" class=\"colab-df-container\">\n",
              "    <div>\n",
              "<style scoped>\n",
              "    .dataframe tbody tr th:only-of-type {\n",
              "        vertical-align: middle;\n",
              "    }\n",
              "\n",
              "    .dataframe tbody tr th {\n",
              "        vertical-align: top;\n",
              "    }\n",
              "\n",
              "    .dataframe thead th {\n",
              "        text-align: right;\n",
              "    }\n",
              "</style>\n",
              "<table border=\"1\" class=\"dataframe\">\n",
              "  <thead>\n",
              "    <tr style=\"text-align: right;\">\n",
              "      <th></th>\n",
              "      <th>Label</th>\n",
              "      <th>TEXT</th>\n",
              "      <th>count</th>\n",
              "    </tr>\n",
              "  </thead>\n",
              "  <tbody>\n",
              "    <tr>\n",
              "      <th>0</th>\n",
              "      <td>Business</td>\n",
              "      <td>Sam Bankman-Fried Faces 25 Years in Jail. Sam ...</td>\n",
              "      <td>1449</td>\n",
              "    </tr>\n",
              "    <tr>\n",
              "      <th>1</th>\n",
              "      <td>Business</td>\n",
              "      <td>Sam Bankman-Fried to be Sentenced for Defraudi...</td>\n",
              "      <td>570</td>\n",
              "    </tr>\n",
              "    <tr>\n",
              "      <th>2</th>\n",
              "      <td>Business</td>\n",
              "      <td>India’s Income Inequality Is Now Worse Than Un...</td>\n",
              "      <td>746</td>\n",
              "    </tr>\n",
              "    <tr>\n",
              "      <th>3</th>\n",
              "      <td>Business</td>\n",
              "      <td>Trump's Social Media Company Soars Nearly 50% ...</td>\n",
              "      <td>692</td>\n",
              "    </tr>\n",
              "    <tr>\n",
              "      <th>4</th>\n",
              "      <td>Business</td>\n",
              "      <td>How Is Trump's New Firm Worth Billions?. On th...</td>\n",
              "      <td>842</td>\n",
              "    </tr>\n",
              "  </tbody>\n",
              "</table>\n",
              "</div>\n",
              "    <div class=\"colab-df-buttons\">\n",
              "\n",
              "  <div class=\"colab-df-container\">\n",
              "    <button class=\"colab-df-convert\" onclick=\"convertToInteractive('df-006649c0-3928-4558-9191-5dabb26ca050')\"\n",
              "            title=\"Convert this dataframe to an interactive table.\"\n",
              "            style=\"display:none;\">\n",
              "\n",
              "  <svg xmlns=\"http://www.w3.org/2000/svg\" height=\"24px\" viewBox=\"0 -960 960 960\">\n",
              "    <path d=\"M120-120v-720h720v720H120Zm60-500h600v-160H180v160Zm220 220h160v-160H400v160Zm0 220h160v-160H400v160ZM180-400h160v-160H180v160Zm440 0h160v-160H620v160ZM180-180h160v-160H180v160Zm440 0h160v-160H620v160Z\"/>\n",
              "  </svg>\n",
              "    </button>\n",
              "\n",
              "  <style>\n",
              "    .colab-df-container {\n",
              "      display:flex;\n",
              "      gap: 12px;\n",
              "    }\n",
              "\n",
              "    .colab-df-convert {\n",
              "      background-color: #E8F0FE;\n",
              "      border: none;\n",
              "      border-radius: 50%;\n",
              "      cursor: pointer;\n",
              "      display: none;\n",
              "      fill: #1967D2;\n",
              "      height: 32px;\n",
              "      padding: 0 0 0 0;\n",
              "      width: 32px;\n",
              "    }\n",
              "\n",
              "    .colab-df-convert:hover {\n",
              "      background-color: #E2EBFA;\n",
              "      box-shadow: 0px 1px 2px rgba(60, 64, 67, 0.3), 0px 1px 3px 1px rgba(60, 64, 67, 0.15);\n",
              "      fill: #174EA6;\n",
              "    }\n",
              "\n",
              "    .colab-df-buttons div {\n",
              "      margin-bottom: 4px;\n",
              "    }\n",
              "\n",
              "    [theme=dark] .colab-df-convert {\n",
              "      background-color: #3B4455;\n",
              "      fill: #D2E3FC;\n",
              "    }\n",
              "\n",
              "    [theme=dark] .colab-df-convert:hover {\n",
              "      background-color: #434B5C;\n",
              "      box-shadow: 0px 1px 3px 1px rgba(0, 0, 0, 0.15);\n",
              "      filter: drop-shadow(0px 1px 2px rgba(0, 0, 0, 0.3));\n",
              "      fill: #FFFFFF;\n",
              "    }\n",
              "  </style>\n",
              "\n",
              "    <script>\n",
              "      const buttonEl =\n",
              "        document.querySelector('#df-006649c0-3928-4558-9191-5dabb26ca050 button.colab-df-convert');\n",
              "      buttonEl.style.display =\n",
              "        google.colab.kernel.accessAllowed ? 'block' : 'none';\n",
              "\n",
              "      async function convertToInteractive(key) {\n",
              "        const element = document.querySelector('#df-006649c0-3928-4558-9191-5dabb26ca050');\n",
              "        const dataTable =\n",
              "          await google.colab.kernel.invokeFunction('convertToInteractive',\n",
              "                                                    [key], {});\n",
              "        if (!dataTable) return;\n",
              "\n",
              "        const docLinkHtml = 'Like what you see? Visit the ' +\n",
              "          '<a target=\"_blank\" href=https://colab.research.google.com/notebooks/data_table.ipynb>data table notebook</a>'\n",
              "          + ' to learn more about interactive tables.';\n",
              "        element.innerHTML = '';\n",
              "        dataTable['output_type'] = 'display_data';\n",
              "        await google.colab.output.renderOutput(dataTable, element);\n",
              "        const docLink = document.createElement('div');\n",
              "        docLink.innerHTML = docLinkHtml;\n",
              "        element.appendChild(docLink);\n",
              "      }\n",
              "    </script>\n",
              "  </div>\n",
              "\n",
              "\n",
              "<div id=\"df-00a09627-f6d8-47f5-a85c-52133a4d0c4c\">\n",
              "  <button class=\"colab-df-quickchart\" onclick=\"quickchart('df-00a09627-f6d8-47f5-a85c-52133a4d0c4c')\"\n",
              "            title=\"Suggest charts\"\n",
              "            style=\"display:none;\">\n",
              "\n",
              "<svg xmlns=\"http://www.w3.org/2000/svg\" height=\"24px\"viewBox=\"0 0 24 24\"\n",
              "     width=\"24px\">\n",
              "    <g>\n",
              "        <path d=\"M19 3H5c-1.1 0-2 .9-2 2v14c0 1.1.9 2 2 2h14c1.1 0 2-.9 2-2V5c0-1.1-.9-2-2-2zM9 17H7v-7h2v7zm4 0h-2V7h2v10zm4 0h-2v-4h2v4z\"/>\n",
              "    </g>\n",
              "</svg>\n",
              "  </button>\n",
              "\n",
              "<style>\n",
              "  .colab-df-quickchart {\n",
              "      --bg-color: #E8F0FE;\n",
              "      --fill-color: #1967D2;\n",
              "      --hover-bg-color: #E2EBFA;\n",
              "      --hover-fill-color: #174EA6;\n",
              "      --disabled-fill-color: #AAA;\n",
              "      --disabled-bg-color: #DDD;\n",
              "  }\n",
              "\n",
              "  [theme=dark] .colab-df-quickchart {\n",
              "      --bg-color: #3B4455;\n",
              "      --fill-color: #D2E3FC;\n",
              "      --hover-bg-color: #434B5C;\n",
              "      --hover-fill-color: #FFFFFF;\n",
              "      --disabled-bg-color: #3B4455;\n",
              "      --disabled-fill-color: #666;\n",
              "  }\n",
              "\n",
              "  .colab-df-quickchart {\n",
              "    background-color: var(--bg-color);\n",
              "    border: none;\n",
              "    border-radius: 50%;\n",
              "    cursor: pointer;\n",
              "    display: none;\n",
              "    fill: var(--fill-color);\n",
              "    height: 32px;\n",
              "    padding: 0;\n",
              "    width: 32px;\n",
              "  }\n",
              "\n",
              "  .colab-df-quickchart:hover {\n",
              "    background-color: var(--hover-bg-color);\n",
              "    box-shadow: 0 1px 2px rgba(60, 64, 67, 0.3), 0 1px 3px 1px rgba(60, 64, 67, 0.15);\n",
              "    fill: var(--button-hover-fill-color);\n",
              "  }\n",
              "\n",
              "  .colab-df-quickchart-complete:disabled,\n",
              "  .colab-df-quickchart-complete:disabled:hover {\n",
              "    background-color: var(--disabled-bg-color);\n",
              "    fill: var(--disabled-fill-color);\n",
              "    box-shadow: none;\n",
              "  }\n",
              "\n",
              "  .colab-df-spinner {\n",
              "    border: 2px solid var(--fill-color);\n",
              "    border-color: transparent;\n",
              "    border-bottom-color: var(--fill-color);\n",
              "    animation:\n",
              "      spin 1s steps(1) infinite;\n",
              "  }\n",
              "\n",
              "  @keyframes spin {\n",
              "    0% {\n",
              "      border-color: transparent;\n",
              "      border-bottom-color: var(--fill-color);\n",
              "      border-left-color: var(--fill-color);\n",
              "    }\n",
              "    20% {\n",
              "      border-color: transparent;\n",
              "      border-left-color: var(--fill-color);\n",
              "      border-top-color: var(--fill-color);\n",
              "    }\n",
              "    30% {\n",
              "      border-color: transparent;\n",
              "      border-left-color: var(--fill-color);\n",
              "      border-top-color: var(--fill-color);\n",
              "      border-right-color: var(--fill-color);\n",
              "    }\n",
              "    40% {\n",
              "      border-color: transparent;\n",
              "      border-right-color: var(--fill-color);\n",
              "      border-top-color: var(--fill-color);\n",
              "    }\n",
              "    60% {\n",
              "      border-color: transparent;\n",
              "      border-right-color: var(--fill-color);\n",
              "    }\n",
              "    80% {\n",
              "      border-color: transparent;\n",
              "      border-right-color: var(--fill-color);\n",
              "      border-bottom-color: var(--fill-color);\n",
              "    }\n",
              "    90% {\n",
              "      border-color: transparent;\n",
              "      border-bottom-color: var(--fill-color);\n",
              "    }\n",
              "  }\n",
              "</style>\n",
              "\n",
              "  <script>\n",
              "    async function quickchart(key) {\n",
              "      const quickchartButtonEl =\n",
              "        document.querySelector('#' + key + ' button');\n",
              "      quickchartButtonEl.disabled = true;  // To prevent multiple clicks.\n",
              "      quickchartButtonEl.classList.add('colab-df-spinner');\n",
              "      try {\n",
              "        const charts = await google.colab.kernel.invokeFunction(\n",
              "            'suggestCharts', [key], {});\n",
              "      } catch (error) {\n",
              "        console.error('Error during call to suggestCharts:', error);\n",
              "      }\n",
              "      quickchartButtonEl.classList.remove('colab-df-spinner');\n",
              "      quickchartButtonEl.classList.add('colab-df-quickchart-complete');\n",
              "    }\n",
              "    (() => {\n",
              "      let quickchartButtonEl =\n",
              "        document.querySelector('#df-00a09627-f6d8-47f5-a85c-52133a4d0c4c button');\n",
              "      quickchartButtonEl.style.display =\n",
              "        google.colab.kernel.accessAllowed ? 'block' : 'none';\n",
              "    })();\n",
              "  </script>\n",
              "</div>\n",
              "\n",
              "    </div>\n",
              "  </div>\n"
            ],
            "application/vnd.google.colaboratory.intrinsic+json": {
              "type": "dataframe",
              "variable_name": "df_DI",
              "summary": "{\n  \"name\": \"df_DI\",\n  \"rows\": 29664,\n  \"fields\": [\n    {\n      \"column\": \"Label\",\n      \"properties\": {\n        \"dtype\": \"category\",\n        \"num_unique_values\": 4,\n        \"samples\": [\n          \"Politics\",\n          \"Tech\",\n          \"Business\"\n        ],\n        \"semantic_type\": \"\",\n        \"description\": \"\"\n      }\n    },\n    {\n      \"column\": \"TEXT\",\n      \"properties\": {\n        \"dtype\": \"string\",\n        \"num_unique_values\": 27408,\n        \"samples\": [\n          \"Kenya Pulls Ad Dollars From CNN After 'Hotbed of Terror' Slur. There\\u2019s never a good time for TV companies to offend advertisers but, in a week in which media companies have seen Wall Street fears for their business model wipe tens of billions of dollars off their value, Time Warner Inc\\u2019s CNN hardly needed this. Kenya is pulling out of a contract with the channel after taking offense at being called a \\u2018hotbed of terror\\u2019 during CNN\\u2019s new coverage of President Barack Obama\\u2019s recent visit to Africa. (Obama himself had hardly pulled his punches while in the country, slamming its corruption, its repression of homosexuals and its poor treatment of women.) According to the website Business Daily Africa, the Kenyan Tourism Board, a state agency that markets its internationally renowned safari and beach holidays, said it was reacting to \\u201cmisrepresentation of the country\\u2019s status.\\u201d \\u201cSome narrative adverts were already running on CNN as we planned launch of above-the-line TV campaigns with them but we suspended all of that,\\u201d BDA quoted chief executive Muriithi Ndegwa as saying on Thursday. Tourism Secretary Phyllis Kandie had engaged CNN on a one-year deal to help revive a sector that is struggling after a surge in political instability over the last couple of years. The trouble is, Kenya\\u2019s problems with terrorism-like the beauty of its tourist attractions\\u2013are all too real. Flag carrier Kenyan Airways posted the country\\u2019s biggest ever corporate loss two weeks ago, on the back of a 25% year-on-year drop in tourist arrivals in the first five months of the year. Tourist visits, a key source of foreign exchange for the country, have fallen for the last three years running (although the Kenyan Shilling has fared a lot better against a resurgent dollar than many other emerging currencies in that time). The Somalia-based Islamic terrorist group Al Shabaab has contributed much to that, having launched a string of attacks inside Kenya since 2012 in response to Kenya\\u2019s deployment of troops in neighboring Somalia. A 2013 attack on the Westgate shopping mall in Kenya\\u2019s capital Nairobi by Al Shabaab-associated gunmen killed 130 people, grabbing global headlines. In an even more gruesome attack this April, terrorists killed 148 people, mainly students, at the Garissa University College. This article originally appeared on Fortune.com \",\n          \"Alabama Ruling May Disenfranchise Thousands. Jenny Lux didn\\u2019t want to risk her life to vote. Her acute respiratory distress syndrome puts her at a high risk for dangerous complications related to COVID-19, compelling her to take quarantine seriously. So when the 39-year-old read Alabama\\u2019s requirements for voting by mail this election cycle, she was stunned. While Alabamians no longer needed to give a reason for requesting a mail-in absentee ballot, they still need to either have their mail ballot notarized or witnessed by two adults simultaneously, as well as include a copy of their photo ID when applying for the ballot. Lux lives alone with her 17-year-old son, and suddenly faced an impossible choice: either risk COVID-19 exposure at a notary service or and allow two adults into her home to witness her ballot. \\u201cMy reaction [was], \\u2018Wow, really? You\\u2019re going to do this to me?\\u2019\\u201d she says. \\u201cI just can\\u2019t risk it. It\\u2019s life and death that we\\u2019re talking about here\\u2026 Why should I jump through all these hoops?\\u201d  Lux considered other options, including curbside voting, which many states have adopted this year amid COVID-19. But while Alabama law does not prohibit the service, the state has gone to great lengths to prevent counties from offering it this year. Alabama Secretary of State John Merrill said explicitly that curbside voting would not be allowed under the state\\u2019s law. On Oct. 21, the Supreme Court ruled that Alabama\\u2019s de facto ban on curbside voting could stand, reversing a lower court\\u2019s ruling that the restriction violated the Constitution and the Americans with Disabilities Act. It was the latest instance of a conservative court upholding Republican-backed voting restrictions in the final weeks before Election Day. That court decision, combined with Alabama\\u2019s requirements that mail ballots be notarized or witnessed, and include a copy of an ID with the application, collectively create an extremely high burden to vote amid the pandemic\\u2014particularly for disabled, elderly and other high-risk people.  \\u201cAlabama voters are going to have to decide whether they want to vote in person or not vote at all because some of them will have a very difficult time complying with the absentee ballot requirements,\\u201d says Sarah H. Brannon, a managing attorney with the American Civil Liberties Union\\u2019s (ACLU) Voting Rights Project, which helped bring the suit against Alabama\\u2019s rules.  In May, several Alabama voters challenged the state\\u2019s de facto ban on curbside voting, as well as its witness and voter ID requirements, arguing that the rules posed a threat to their health. In September, a federal district court agreed with the plaintiffs, ordering Alabama to allow curbside voting and suspending the witness and ID rules for elderly voters or those with underlying medical conditions. Alabama appealed the case and earlier this month, the 11th Circuit Court of Appeals handed Alabama Republicans the victory: the appellate court reversed the lower court decision, reinstating the witness and ID requirements.  The court drama continued. The 11th Circuit Court of Appeals ruling left open the option that counties could offer curbside voting, and two of the state\\u2019s most populous counties\\u2014Jefferson County and Montgomery County\\u2014took steps to implement the service. But Alabama appealed again and the Supreme Court decided in its favor. Curbside voting will not be an option for Alabama voters this year. After the prolonged litigation battle, Alabama voters who are disabled, elderly or have underlying conditions were back where they started: deciding whether to put their health at risk to fulfill the witness and ID requirements or vote in person\\u2014or not vote at all. \\u201cNobody should have to make a decision between being able to vote and protecting yourself from COVID-19,\\u201d says Michelle Bishop, voting rights specialist at the National Disability Rights Network. Lux, who is legally blind, is a member of the disability rights advocate group People First of Alabama, the plaintiff in the suit, and testified in the trial. \\u201cI know if I\\u2019m affected by it, there are thousands others like me affected,\\u201d she says. \\u201cIt\\u2019s a fight for social justice.\\u201d Read More: Here\\u2019s Everything You Need to Know About Voting Americans with disabilities and chronic illnesses have already been disproportionately impacted by COVID-19. And as they prepared to vote this year, many found that their states\\u2019 procedures did not take into account their needs, prompting cases like this around the country. Voters with disabilities sued in North Carolina, Virginia and Texas, and advocates sued South Carolina over a witness requirement for absentee ballots in that state. In Alabama, where coronavirus cases have been on the rise, the issue is particularly acute. The state has a history of voter suppression and a high proportion of Black and disabled voters, all of whom are disproportionately affected by both the pandemic and voting rights issues. There are 748,000 eligible voters with disabilities in Alabama, representing 20% of the state\\u2019s electorate, according to data from researchers Douglas Kruse and Lisa Schur at Rutgers University. Alabama\\u2019s population is among the highest risk for heart disease, stroke and has the highest rate of diabetes in the country. Over 40% of its coronavirus deaths have been people with diabetes. Many high-risk voters are taking the threat seriously. Tonja Leath, 57, usually votes by mail from her home in Hoover, Ala. because of a disability that makes it difficult for her to stand for long periods of time. But when she realized she would still need to fulfill the witness and photo ID requirements during the pandemic, she was frustrated. \\u201cWhy with this election? It does not make any sense. They\\u2019re inconveniencing people, especially the disabled and the elderly,\\u201d she says. Leath says she wishes her county offered curbside voting. In Montgomery, 37-year-old Terri Flowers has also been trying to stay home because her daughter has asthma. Flowers has decided to have her daughter attend school virtually for the foreseeable future to protect her from any exposure to the virus. \\u201cIf I\\u2019m going to keep her from going to school because of [the virus],\\u201d she says, \\u201cit doesn\\u2019t make sense for me to go out and be exposed to COVID and potentially bring it back to her.\\u201d  To avoid concerns about voting by mail, both Leath and Flowers decided to vote \\u201cin-person absentee,\\u201d a process that allowed them to go to their absentee ballot manager\\u2019s office, apply for an absentee ballot in person, fill out their absentee ballot and then have it notarized. While they made their situations work, not all voters will be able to do so, as the method still requires voters to risk COVID-19 exposure at their absentee ballot manager\\u2019s office, which can be difficult to access for disabled or rural voters. The other state requirement for voting by mail\\u2014that Alabama residents include a copy of their photo ID in their ballot application\\u2014can also present obstacles for lower income voters who might not have regular internet access or printers at home. Alabama argued that the laws in question were necessary to prevent voter fraud and preserve confidence in the upcoming election. It also said that the restrictions did not place an undue burden on the plaintiffs. \\u201cThe photo ID and witness requirements are necessary deterrents for those looking to commit voter fraud, and I am glad the 11th Circuit has recognized their importance in safeguarding the elections process,\\u201d Merrill said in an Oct. 13 statement. Evidence has repeatedly shown that voter fraud in the U.S. is nearly nonexistent.  Caren Short, a senior staff attorney with the Southern Poverty Law Center, which jointly filed the suit against Alabama, says the 11th Circuit\\u2019s ruling allowing the vote-by-mail laws to stand \\u201cdemonstrates part of a trend where unfortunately more conservative state election officials are leaning heavily on the myth of voter fraud to justify onerous and unnecessary restrictions on voting to essentially suppress votes.\\u201d  Maia Fleischman, a voting rights fellow with the Alabama Disabilities Advocacy Program (ADAP), which also jointly filed the suit, adds that while she found the 11th Circuit\\u2019s ruling disappointing, it \\u201cpretty much aligned with what we\\u2019ve been seeing in the courts the last month.\\u201d She said that, in her opinion, the group chose not to appeal the 11th Circuit\\u2019s ruling on the absentee ballot laws after looking at how the Supreme Court has ruled in similar voting rights cases this year. \\u201cWe don\\u2019t also want to make things harder for voting rights cases in the future,\\u201d she says. She added, \\u201cWe decided to focus our on the argument that the curbside voting ban is unconstitutional and it is a proper ADA accommodation. We think curbside voting would have benefited thousands of Alabamians this upcoming election day in light of COVID-19.\\u201d The Supreme Court did not offer an opinion explaining its decision to stay the 11th Circuit\\u2019s ruling this week, and only the three liberal justices dissented. With Justice Ruth Bader Ginsburg\\u2019s death last month, the Supreme Court now has a conservative majority, and if President Donald Trump\\u2019s nominee Judge Amy Coney Barrett is confirmed as expected, that will cement the court\\u2019s rightward tilt. Trump has also appointed roughly a quarter of all federal appeals court judges during his time in office, meaning that cases are now more likely to be heard by conservative judges on appeal.  Disability and voting rights advocates say that impact of a conservative-leaning bench will affect civil rights litigation long past Nov. 3. \\u201cWe have to file cases at the trial level, because voting is a constitutional right and the foundation of our democracy,\\u201d says Christina Brandt-Young, a managing attorney at Disability Rights Advocates, which signed onto an amicus brief in the Alabama case. \\u201cBut if appeals are less and less attractive, that will push us back into other kinds of advocacy.\\u201d After much deliberation, Lux was able to vote this year. She found a notary who was willing to come to her house, wear a mask, and certify her ballot, so she didn\\u2019t have to risk a trip to the county elections office. She\\u2019s since mailed her ballot and received a notification that it was received. But the process left a bitter taste in her mouth. \\u201cI feel marginalized,\\u201d she says. \\u201cIt\\u2019s like I\\u2019m being swept under the rug.\\u201d She also recognizes that many voters won\\u2019t be able to find the same work-around like she did. As Supreme Court Justice Sonia Sotomayor pointed out in her dissent on the high court\\u2019s ruling, one of the plaintiffs, Howard Porter, Jr.\\u2014a Black man in his 70s with both asthma and Parkinson\\u2019s Disease\\u2014described the state voting restrictions as a question of life or death.  \\u201c\\u2018[S]o many of my [ancestors] even died to vote,\\u201d Porter testified before the lower court. \\u201cAnd while I don\\u2019t mind dying to vote, I think we\\u2019re past that\\u2014we\\u2019re past that time.\\u2019\\u201d  \",\n          \"How Elise Stefanik Went From Moderate to MAGA. When Elise Stefanik was elected to the House of Representatives in 2014, she was hailed as the fresh face of the new GOP. Stefanik had run for office in her 20s, determined to modernize the Republican Party to attract more women and appeal to her fellow millennials. In her victory speech, she praised her opponents for their good-faith participation in the miracle of American democracy. \\u201cNo matter their party, our democratic process is strengthened by those individuals willing to put forth their ideas,\\u201d she said on the night she became the youngest woman ever elected to Congress.  Today Stefanik is still a politician on the rise, but for very different reasons. As soon as next week, she is widely expected to ascend to the position of House GOP conference chair, which would make her the highest-ranking Republican woman in Congress. And she will have gotten there by lashing herself to a cause that undermines the same democratic process she once hoped to strengthen.  The opening for Stefanik to become the No. 3 House Republican has been created by the anticipated ouster of Rep. Liz Cheney, who has lost the support of her colleagues for insisting the party stop parroting President Donald Trump\\u2019s lies about the 2020 election. Rejecting Trump\\u2019s fictions about a stolen election is enough to make Cheney, a rock-ribbed conservative and daughter of a former vice president, an outcast in today\\u2019s GOP. \\u201cElise Stefanik is a far superior choice, and she has my COMPLETE and TOTAL Endorsement for GOP Conference Chair,\\u201d Trump said in a statement. To replace Cheney with Stefanik would send a powerful signal: that anyone who refuses to carry water for Trump\\u2019s conspiracy theories cannot carry the Republican mantle.  But Elise Stefanik is no Matt Gaetz or Marjorie Taylor Greene. She was not always a MAGA warrior. Not long ago, she was a widely respected moderate Republican known for her embrace of facts, her trust in science and her push to build a more diverse party, highlighted by her successful efforts to recruit more GOP women to run for office. She was a prominent member of the moderate Tuesday Group, a caucus of center-right Republicans. And she was widely credited for a bipartisan spirit\\u2014\\u201devery Democrat\\u2019s favorite Republican,\\u201d as one former aide to GOP leadership puts it now. Yet over the last five years, Trump has redefined the GOP. Today the party primarily judges its representatives not by any particular policy positions but by their allegiance to a defeated President and an embrace of his conspiracy theories. Stefanik has adapted. It\\u2019s a calculation that has made her a fundraising star and a party leader-in-waiting. It\\u2019s also dismayed many Republicans who have worked with and admired her in the past.  \\u201cTo be a handmaiden of Trump and get a little pat on the head from Trump is not a leadership move,\\u201d says former Rep. Barbara Comstock (R-VA), who worked closely with Stefanik and helped organize a small, bipartisan shower in her honor ahead of her 2017 wedding. \\u201cIt\\u2019s embarrassing. It\\u2019s sad.\\u201d So how did Elise Stefanik go from praising the democratic process to standing on the House floor in the aftermath of the Capitol riot and voting to object to the Electoral College results? How did she go from saying that one particular Republican candidate was \\u201cdisqualifying themselves with untruthful statements\\u201d in 2015 to feeding vague conspiracy theories about Hunter Biden on Steve Bannon\\u2019s podcast in 2021? Her evolution mirrors the transformation of her party, while her rise within its ranks is a fall from the modern, millennial conservatism she once was on track to define.  Stefanik\\u2019s office declined to make her available to comment for this story, which is based on interviews with former colleagues, aides, friends, classmates and mentors, and draws on others I conducted with Stefanik in 2018 and 2019 for my book, The Ones We\\u2019ve Been Waiting For. Stefanik\\u2019s embrace of Trump has disappointed her high school teachers, alienated her from her alma mater and puzzled former allies and mentors who envisioned a different future for her.  \\u201cElise could have been the face of a new generation of Republicans that could represent a real big-tent party, that could build beyond the base, that could lay the foundation for a coalition that could win elections nationally,\\u201d says Margaret Hoover, a center-right commentator who worked with Stefanik at the Bush White House and now hosts PBS\\u2019s Firing Line. \\u201cIt shows that she was never motivated by principles, and that\\u2019s deeply disappointing.\\u201d Now, as her tolerance of baseless conspiracy theories about the 2020 election propels her toward Republican leadership, many of the people who knew her in the past are asking: what happened to Elise Stefanik? If you ask Stefanik\\u2019s childhood classmates what she was like as a girl, two words keep coming up: \\u201cintegrity\\u201d and \\u201cambition.\\u201d Growing up in upstate New York, Stefanik was friendly with Melissa DeRosa, now an embattled senior aide to scandal-plagued Democratic Governor Andrew Cuomo. Both served in student government at the Albany Academy for Girls. In middle school they teamed up to pressure administrators to install a snack machine.  DeRosa grew into one of New York\\u2019s most powerful Democratic operatives as Stefanik climbed the GOP ladder. But despite their political differences, they remained close for a while. DeRosa was one of a handful of old classmates at Stefanik\\u2019s 2017 wedding. When I interviewed her about Stefanik two years ago for my book, DeRosa told me the old friends would frequently commiserate about the rough-and-tumble world of New York politics.  \\u201cThere have been times over the years when I have called her, practically in tears, saying, \\u2018This just happened, I feel so beaten down, I don\\u2019t know what to do anymore,\\u2019\\u201d DeRosa told me back then. \\u201cAnd she is so morally supportive and will be there to coach through whatever the issue is.\\u201d Somewhere along the way, Stefanik also learned to interpret criticism as evidence that she was doing something right, according to DeRosa. \\u201cShe says, \\u2018People who are criticizing you are criticizing you because you\\u2019re doing a good job,\\u201d DeRosa recalled. \\u201cHer attitude has been like: \\u2018Dig in and go the other way.\\u2019\\u201d But in February of 2021, as DeRosa took heat for the Cuomo Administration\\u2019s alleged effort to obscure the number of nursing-home deaths from COVID-19 in New York, Stefanik went nuclear. On one occasion, she tweeted that the scandal enmeshing her friend of 20 years was a \\u201ccriminal coverup,\\u201d On another, she linked to a story about about Cuomo\\u2019s senior aides, adding \\u201cPROSECUTE NOW!\\u201d  \\u201cShe sort of threw Melissa under the bus,\\u201d says Caroline Mason, the former headmistress at Albany Academy for Girls, who says she kept in touch with Stefanik for years after she graduated, exchanged Christmas cards with her until last year, and even helped preside over her 2017 wedding ceremony. Mason said she had long admired Stefanik, but that \\u201csomething stronger took hold of her.\\u201d  \\u201cShe basically abandoned her own core values for a man who had no core values,\\u201d Mason says. \\u201cHer fealty to Trump seems to have trumped her fealty to her sisters in the House.\\u201d  After high school, Stefanik went to Harvard, becoming the first in her immediate family to earn a college degree. Stefanik was one of few conservative women at Harvard\\u2019s Institute of Politics, but fellow campus politicos told me they admired her sharp reasoning, intellectual integrity and willingness to stick to her positions, even when they were unpopular on a liberal-leaning campus. She crossed paths there with Pete Buttigieg, now the U.S. Transportation Secretary, and they even met for coffee once. (Stefanik and Buttigieg both say their coffee was purely platonic, but the rumor on campus was that it was a single, uneventful date; while Buttigieg is now married to a man, he dated women in college. \\u201cPeter and Elise were at Harvard at the same time and were friends in college and once went to coffee,\\u201d a Stefanik spokesperson said. \\u201cThey did not date.\\u201d )  From Harvard, Stefanik rocketed through the traditional Republican establishment. She worked in various roles in the George W. Bush White House, then as an adviser to vice-presidential nominee Paul Ryan during the 2012 presidential campaign. After that defeat, the GOP released an autopsy that argued the GOP was struggling to reach young voters, women and voters of color. Stefanik saw it as an opening to help transform her party. With support from Ryan and deep-pocketed donors, she handily won her seat in New York\\u2019s North Country to become the youngest woman elected to Congress in U.S. history. (Rep. Alexandria Ocasio-Cortez has since beaten that record.) When she arrived on the Hill, Stefanik was part of a cohort of young Republicans focused on helping the GOP appeal to younger, more diverse voters. With Ryan as her mentor, she staked out moderate positions on climate change and immigration consistent with her fellow conservative millennials, and pushed the GOP to recruit more women to run for office. She also built a strong record of bipartisanship. Stefanik was the 31st most bipartisan members of Congress in her first term and 19th in her second term, according to an index compiled by Georgetown University\\u2019s Lugar Center.  Stefanik tended to steer clear of hot-button right-wing issues, focusing instead on those that affected her district, like military funding and support for rural farmers. She voted against Trump\\u2019s signature domestic policy achievement\\u2014the 2017 tax cuts\\u2014because she felt they unfairly penalized high-tax states like New York. In 2017, she introduced a House resolution to commit to addressing climate change, calling environmental stewardship a \\u201cconservative principle.\\u201d  This relatively moderate record didn\\u2019t make her especially popular with Republican hard-liners. As Stefanik emerged in recent days as a top candidate to replace Cheney, the president of the conservative Club for Growth called her \\u201cvery much a liberal.\\u201d Other conservative groups, from Heritage Action to the American Conservative Union, have ranked Cheney\\u2019s record as more conservative than Stefanik\\u2019s.  But Stefanik was cultivating a reputation among colleagues as a rising star. \\u201cShe had developed a really good brand: she was the young, smart, vivacious millennial who could appeal to constituencies that Republicans had difficulty with,\\u201d says a former GOP congressman who worked closely with Stefanik. \\u201cShe had that real up-and-coming thing.\\u201d When Trump first emerged as a political phenomenon, Stefanik mostly ignored him. She said she would \\u201csupport my party\\u2019s nominee\\u201d in the 2016 election, but largely avoided mentioning him by name. From time to time, she carefully spoke out against him, adopting a tone of dutiful scolding. In August 2015, she said in a radio interview that Trump had been \\u201cinsulting to women\\u201d and said his campaign had \\u201churt the effort\\u201d to reach out to them. After Trump\\u2019s Access Hollywood scandal, she said his \\u201cinappropriate, offensive comments are just wrong.\\u201d When Trump moved to ban travel from some Muslim-majority countries, she said she opposed his \\u201crushed and overly broad Executive Order.\\u201d She said she didn\\u2019t think his plans for a border wall were \\u201crealistic\\u201d and that the President \\u201cwasn\\u2019t exactly right on that.\\u201d When Trump blasted immigrants from \\u201csh-thole countries,\\u201d Stefanik released a statement that the comments were \\u201cwrong and contrary to our American ideals.\\u201d  But as Trump\\u2019s presidency wore on, Stefanik\\u2019s party transformed. So did her district, which voted twice for Obama before breaking heavily for Trump. \\u201cIt\\u2019s only become more and more supportive of President Trump over time,\\u201d Stefanik said on Bannon\\u2019s podcast. \\u201cI represent farmers, manufacturers, and hardworking families who want someone who stands up for them, and President Trump spoke to those people.\\u201d  \\u201cIf you\\u2019re looking for a through line, it\\u2019s that her district has changed and she\\u2019s always been attuned to what her district wants,\\u201d says Brendan Buck, a former top aide to Speaker Ryan. \\u201cA swing purple district got a middle-of-the-road moderate member, and now it is a Trumpy district, and they have a Trumpy representative.\\u201d  It\\u2019s hard to pinpoint exactly when Stefanik\\u2019s own evolution began. Some suspect it started in August of 2018, when Trump joined Stefanik for a visit to Fort Drum, a key military base in her district. \\u201cYou\\u2019re standing in front of a crowd, and all of a sudden you see there\\u2019s a bigger crowd than you normally would have,\\u201d says one former Republican Congresswoman who recalled that event.  Others point out that the political downsides of anti-Trumpism became clear around the same time. In the 2018 midterms, many Republicans who had criticized Trump lost their seats. Among them was Rep. Carlos Curbelo, a close friend of Stefanik\\u2019s who had been outspoken in his opposition to Trump\\u2019s immigration policy.  Still others see a substantive reason for the change. Stefanik sat on the Intelligence Committee during the inquiry into Russian interference in the 2016 election. While former FBI chief Robert Mueller found widespread evidence of bad behavior by Trump and others, including repeated testimony showing Trump obstructed justice, the Intelligence Committee, and later the Department of Justice Inspector General, found evidence of inappropriate investigative measures by the FBI and others. Over the course of the Russia probe, Stefanik became an outspoken defender of the President, arguing that he was being unfairly persecuted by Democrats. \\u201cThe longer she served on Intelligence, the more she pivoted towards defending the Administration,\\u201d says a former GOP member of Congress. Then came Trump\\u2019s 2019 impeachment trial on charges he solicited foreign interference in the 2020 election. That\\u2019s when a switch flipped, according to a former aide to GOP House leadership. Stefanik was named a member of Trump\\u2019s impeachment defense team and emerged as a vehement advocate, earning favorable press on Fox News and praise from the President himself. \\u201cShe became a darling of the right and an enemy of the left,\\u201d says a former Republican Congressman who knew her well. \\u201cAnd she just decided to own that and monetized it.\\u201d  In the last three months of 2019, Stefanik raised a whopping $3.2 million\\u2014a seven-fold increase from the previous quarter\\u2019s haul\\u2014making her the second-highest fundraiser in the House. She had picked her side. \\u201cShe has become a star,\\u201d Trump gushed on Fox & Friends. Stefanik soon became the co-chair of Trump\\u2019s re-election campaign in New York. She gave a rousing speech at the 2020 GOP Convention about \\u201cthe Democrats\\u2019 baseless and illegal impeachment sham and the media\\u2019s endless obsession with it.\\u201d  \\u201cThis attack was not just on the President, it was an attack on you: your voice, and your vote,\\u201d she added. \\u201cOur support for President Trump is stronger than ever before.\\u201d This would be the basis of her defense of Trump before, during, and after the 2020 election. Her constituents were Trump\\u2019s voters, and they perceived any attack on Trump to be an attack on them. \\u201cI think all of this is very genuine to her,\\u201d says Anthony Pileggi, a former top aide for Stefanik from the beginning of her Congressional career. \\u201cI think this is someone who is a very hardworking member of Congress, who saw that the president was being attacked during impeachment.\\u201d Others see it differently. \\u201cTrump has won the Republican Party. Trump owns it. It is the key to her re-elections, it is the key to her fundraising, it\\u2019s the key to her advancement within Congress,\\u201d says Hoover. \\u201cShe knows how to play it, so that\\u2019s what she\\u2019s doing. Never mind that it\\u2019s undermining democracy. She\\u2019s made a calculation that she can rise to power by backing the Big Lie.\\u201d  In the aftermath of Biden\\u2019s victory in the 2020 election, Stefanik stopped short of adopting Trump\\u2019s false claims that the election was \\u201crigged\\u2019 or \\u201cstolen.\\u201d But she perpetuated the baseless claims around the election outcome.  In a Newsmax interview a month after the election, she parroted conspiracy theories about \\u201cirregularities,\\u201d then mentioned she had \\u201cconcerns\\u201d about \\u201cDominion software,\\u201d indirectly alluding to a false conspiracy theory that the voting-machine company had been part of an effort to rig the election against Trump. (Officials from Trump\\u2019s Department of Homeland Security released a statement saying that \\u201cthere is no evidence that any voting system deleted or lost votes, changed votes, or was in any way compromised,\\u201d and Dominion has filed several lawsuits against people and organizations that spread the conspiracy theory, including one that forced Newsmax to retract its claims and apologize.) In December, Stefanik was one of 126 Republicans who signed onto an amicus brief asking the Supreme Court to consider rejecting election results in Michigan, Pennsylvania, Georgia and Wisconsin. She then announced in an open letter to her constituents that she would object to electors from the same four states. Amid the insurrection, when House Republicans forced a vote on only two states, Stefanik voted to certify Biden\\u2019s win in Arizona but reject his win in Pennsylvania. She continued to make baseless claims about \\u201cvoting irregularities\\u201d and \\u201clack of ballot integrity and security,\\u201d though no credible evidence of widespread voter fraud ever emerged. (Harvard, her beloved alma mater, stripped her from the Senior Advisory Council of the Institute of Politics after she voted to challenge the election results.) Some people who know Stefanik said she may have cultivated genuine concerns about election integrity, given that votes were cast under the extraordinary circumstances of a pandemic and the race was extremely close in some states. On Bannon\\u2019s podcast, she said she was concerned about \\u201cunprecedented, unconstitutional overreach\\u201d and \\u201cunelected judges and bureaucrats who were rewriting election laws in real time,\\u201d and raised questions about a \\u201clack of chain of custody\\u201d for ballots. Her aides say she is simply representing the concerns of the millions of Americans who don\\u2019t believe the election was fair, including her constituents, who voted for Trump by a wide margin. But no one I spoke to inside or outside her office believes she actually thinks the election was stolen. When asked directly, aides often pivot to \\u201cconcerns\\u201d about \\u201cirregularities.\\u201d \\u201cI don\\u2019t even know if she believes the Big Lie,\\u201d says Hoover, Stefanik\\u2019s former colleague. \\u201cBut she is absolutely responsible for propagating a lie that will undermine our democracy.\\u201d  Whether she believes the lies or not, Stefanik has now aligned herself with Trump for good. She may still be the face of the GOP\\u2019s future. But that future looks a lot different than anyone thought.  \"\n        ],\n        \"semantic_type\": \"\",\n        \"description\": \"\"\n      }\n    },\n    {\n      \"column\": \"count\",\n      \"properties\": {\n        \"dtype\": \"number\",\n        \"std\": 577,\n        \"min\": 5,\n        \"max\": 5869,\n        \"num_unique_values\": 2499,\n        \"samples\": [\n          1496,\n          1111,\n          1810\n        ],\n        \"semantic_type\": \"\",\n        \"description\": \"\"\n      }\n    }\n  ]\n}"
            }
          },
          "metadata": {},
          "execution_count": 42
        }
      ]
    },
    {
      "cell_type": "code",
      "source": [
        "plt.figure(figsize= (8, 8))\n",
        "sns.displot(df_DI['count'])\n",
        "\n",
        "#plt.xlim(0, 1000)\n",
        "plt.xlabel('The num of words ', fontsize = 16)\n",
        "plt.title(\"The Number of Words Distribution\", fontsize = 18)\n",
        "plt.show()"
      ],
      "metadata": {
        "colab": {
          "base_uri": "https://localhost:8080/",
          "height": 557
        },
        "id": "PJBRMy-sQAQr",
        "outputId": "838d77fa-d190-4a52-9fdb-68c46b712c0e"
      },
      "execution_count": null,
      "outputs": [
        {
          "output_type": "display_data",
          "data": {
            "text/plain": [
              "<Figure size 800x800 with 0 Axes>"
            ]
          },
          "metadata": {}
        },
        {
          "output_type": "display_data",
          "data": {
            "text/plain": [
              "<Figure size 500x500 with 1 Axes>"
            ],
            "image/png": "[encoded data removed]"
          },
          "metadata": {}
        }
      ]
    },
    {
      "cell_type": "code",
      "source": [
        "category_count = df_DI['Label'].value_counts()\n",
        "\n",
        "categories = category_count.index"
      ],
      "metadata": {
        "id": "j1y_Lb3ZTmZ2"
      },
      "execution_count": null,
      "outputs": []
    },
    {
      "cell_type": "code",
      "source": [
        "fig = plt.figure(figsize= (12, 5))\n",
        "ax = fig.add_subplot(111)\n",
        "palette = sns.color_palette('hls', len(category_count))  # Change the palette for different color schemes\n",
        "\n",
        "\n",
        "sns.barplot(x = df_DI['Label'].value_counts().index, y = df_DI['Label'].value_counts(), palette=palette)\n",
        "\n",
        "for a, p in enumerate(ax.patches):\n",
        "    ax.annotate(f'{categories[a]}\\n' + format(p.get_height(), '.0f'), xy = (p.get_x() + p.get_width() / 2.0, p.get_height()), xytext = (0,-25), size = 13, color = 'white' , ha = 'center', va = 'center', textcoords = 'offset points', bbox = dict(boxstyle = 'round', facecolor='none',edgecolor='white', alpha = 0.5) )\n",
        "\n",
        "plt.xlabel('Categories', size = 15)\n",
        "\n",
        "plt.ylabel('The Number of News for each category', size= 10)\n",
        "\n",
        "plt.xticks(size = 12)\n",
        "\n",
        "plt.title(\"The number of News by Categories\" , size = 18)\n",
        "\n",
        "plt.show()"
      ],
      "metadata": {
        "colab": {
          "base_uri": "https://localhost:8080/",
          "height": 624
        },
        "id": "Z2lWR3L-Q4QT",
        "outputId": "2eeb0674-92c8-413f-d0e2-2ef17be68a7a"
      },
      "execution_count": null,
      "outputs": [
        {
          "output_type": "stream",
          "name": "stderr",
          "text": [
            "<ipython-input-25-ca34da6073bb>:6: FutureWarning:\n",
            "\n",
            "\n",
            "\n",
            "Passing `palette` without assigning `hue` is deprecated and will be removed in v0.14.0. Assign the `x` variable to `hue` and set `legend=False` for the same effect.\n",
            "\n",
            "\n"
          ]
        },
        {
          "output_type": "display_data",
          "data": {
            "text/plain": [
              "<Figure size 1200x500 with 1 Axes>"
            ],
            "image/png": "[encoded data removed]"
          },
          "metadata": {}
        }
      ]
    },
    {
      "cell_type": "code",
      "source": [
        "df_DI['Encoded_label_cat'] = df_DI['Label'].astype('category').cat.codes\n",
        "df_DI.head(1)\n"
      ],
      "metadata": {
        "colab": {
          "base_uri": "https://localhost:8080/",
          "height": 80
        },
        "id": "638GdhE6V-gD",
        "outputId": "ff9a0372-6e1f-45e8-9bd6-8a5c88611fbb"
      },
      "execution_count": null,
      "outputs": [
        {
          "output_type": "execute_result",
          "data": {
            "text/plain": [
              "      Label                                               TEXT  count  \\\n",
              "0  Business  Sam Bankman-Fried Faces 25 Years in Jail. Sam ...   1449   \n",
              "\n",
              "   Encoded_label_cat  \n",
              "0                  0  "
            ],
            "text/html": [
              "\n",
              "  <div id=\"df-c07c6020-89ea-45dd-bc01-3d44ebb31024\" class=\"colab-df-container\">\n",
              "    <div>\n",
              "<style scoped>\n",
              "    .dataframe tbody tr th:only-of-type {\n",
              "        vertical-align: middle;\n",
              "    }\n",
              "\n",
              "    .dataframe tbody tr th {\n",
              "        vertical-align: top;\n",
              "    }\n",
              "\n",
              "    .dataframe thead th {\n",
              "        text-align: right;\n",
              "    }\n",
              "</style>\n",
              "<table border=\"1\" class=\"dataframe\">\n",
              "  <thead>\n",
              "    <tr style=\"text-align: right;\">\n",
              "      <th></th>\n",
              "      <th>Label</th>\n",
              "      <th>TEXT</th>\n",
              "      <th>count</th>\n",
              "      <th>Encoded_label_cat</th>\n",
              "    </tr>\n",
              "  </thead>\n",
              "  <tbody>\n",
              "    <tr>\n",
              "      <th>0</th>\n",
              "      <td>Business</td>\n",
              "      <td>Sam Bankman-Fried Faces 25 Years in Jail. Sam ...</td>\n",
              "      <td>1449</td>\n",
              "      <td>0</td>\n",
              "    </tr>\n",
              "  </tbody>\n",
              "</table>\n",
              "</div>\n",
              "    <div class=\"colab-df-buttons\">\n",
              "\n",
              "  <div class=\"colab-df-container\">\n",
              "    <button class=\"colab-df-convert\" onclick=\"convertToInteractive('df-c07c6020-89ea-45dd-bc01-3d44ebb31024')\"\n",
              "            title=\"Convert this dataframe to an interactive table.\"\n",
              "            style=\"display:none;\">\n",
              "\n",
              "  <svg xmlns=\"http://www.w3.org/2000/svg\" height=\"24px\" viewBox=\"0 -960 960 960\">\n",
              "    <path d=\"M120-120v-720h720v720H120Zm60-500h600v-160H180v160Zm220 220h160v-160H400v160Zm0 220h160v-160H400v160ZM180-400h160v-160H180v160Zm440 0h160v-160H620v160ZM180-180h160v-160H180v160Zm440 0h160v-160H620v160Z\"/>\n",
              "  </svg>\n",
              "    </button>\n",
              "\n",
              "  <style>\n",
              "    .colab-df-container {\n",
              "      display:flex;\n",
              "      gap: 12px;\n",
              "    }\n",
              "\n",
              "    .colab-df-convert {\n",
              "      background-color: #E8F0FE;\n",
              "      border: none;\n",
              "      border-radius: 50%;\n",
              "      cursor: pointer;\n",
              "      display: none;\n",
              "      fill: #1967D2;\n",
              "      height: 32px;\n",
              "      padding: 0 0 0 0;\n",
              "      width: 32px;\n",
              "    }\n",
              "\n",
              "    .colab-df-convert:hover {\n",
              "      background-color: #E2EBFA;\n",
              "      box-shadow: 0px 1px 2px rgba(60, 64, 67, 0.3), 0px 1px 3px 1px rgba(60, 64, 67, 0.15);\n",
              "      fill: #174EA6;\n",
              "    }\n",
              "\n",
              "    .colab-df-buttons div {\n",
              "      margin-bottom: 4px;\n",
              "    }\n",
              "\n",
              "    [theme=dark] .colab-df-convert {\n",
              "      background-color: #3B4455;\n",
              "      fill: #D2E3FC;\n",
              "    }\n",
              "\n",
              "    [theme=dark] .colab-df-convert:hover {\n",
              "      background-color: #434B5C;\n",
              "      box-shadow: 0px 1px 3px 1px rgba(0, 0, 0, 0.15);\n",
              "      filter: drop-shadow(0px 1px 2px rgba(0, 0, 0, 0.3));\n",
              "      fill: #FFFFFF;\n",
              "    }\n",
              "  </style>\n",
              "\n",
              "    <script>\n",
              "      const buttonEl =\n",
              "        document.querySelector('#df-c07c6020-89ea-45dd-bc01-3d44ebb31024 button.colab-df-convert');\n",
              "      buttonEl.style.display =\n",
              "        google.colab.kernel.accessAllowed ? 'block' : 'none';\n",
              "\n",
              "      async function convertToInteractive(key) {\n",
              "        const element = document.querySelector('#df-c07c6020-89ea-45dd-bc01-3d44ebb31024');\n",
              "        const dataTable =\n",
              "          await google.colab.kernel.invokeFunction('convertToInteractive',\n",
              "                                                    [key], {});\n",
              "        if (!dataTable) return;\n",
              "\n",
              "        const docLinkHtml = 'Like what you see? Visit the ' +\n",
              "          '<a target=\"_blank\" href=https://colab.research.google.com/notebooks/data_table.ipynb>data table notebook</a>'\n",
              "          + ' to learn more about interactive tables.';\n",
              "        element.innerHTML = '';\n",
              "        dataTable['output_type'] = 'display_data';\n",
              "        await google.colab.output.renderOutput(dataTable, element);\n",
              "        const docLink = document.createElement('div');\n",
              "        docLink.innerHTML = docLinkHtml;\n",
              "        element.appendChild(docLink);\n",
              "      }\n",
              "    </script>\n",
              "  </div>\n",
              "\n",
              "\n",
              "    </div>\n",
              "  </div>\n"
            ],
            "application/vnd.google.colaboratory.intrinsic+json": {
              "type": "dataframe",
              "variable_name": "df_DI",
              "summary": "{\n  \"name\": \"df_DI\",\n  \"rows\": 29664,\n  \"fields\": [\n    {\n      \"column\": \"Label\",\n      \"properties\": {\n        \"dtype\": \"category\",\n        \"num_unique_values\": 4,\n        \"samples\": [\n          \"Politics\",\n          \"Tech\",\n          \"Business\"\n        ],\n        \"semantic_type\": \"\",\n        \"description\": \"\"\n      }\n    },\n    {\n      \"column\": \"TEXT\",\n      \"properties\": {\n        \"dtype\": \"string\",\n        \"num_unique_values\": 27408,\n        \"samples\": [\n          \"Kenya Pulls Ad Dollars From CNN After 'Hotbed of Terror' Slur. There\\u2019s never a good time for TV companies to offend advertisers but, in a week in which media companies have seen Wall Street fears for their business model wipe tens of billions of dollars off their value, Time Warner Inc\\u2019s CNN hardly needed this. Kenya is pulling out of a contract with the channel after taking offense at being called a \\u2018hotbed of terror\\u2019 during CNN\\u2019s new coverage of President Barack Obama\\u2019s recent visit to Africa. (Obama himself had hardly pulled his punches while in the country, slamming its corruption, its repression of homosexuals and its poor treatment of women.) According to the website Business Daily Africa, the Kenyan Tourism Board, a state agency that markets its internationally renowned safari and beach holidays, said it was reacting to \\u201cmisrepresentation of the country\\u2019s status.\\u201d \\u201cSome narrative adverts were already running on CNN as we planned launch of above-the-line TV campaigns with them but we suspended all of that,\\u201d BDA quoted chief executive Muriithi Ndegwa as saying on Thursday. Tourism Secretary Phyllis Kandie had engaged CNN on a one-year deal to help revive a sector that is struggling after a surge in political instability over the last couple of years. The trouble is, Kenya\\u2019s problems with terrorism-like the beauty of its tourist attractions\\u2013are all too real. Flag carrier Kenyan Airways posted the country\\u2019s biggest ever corporate loss two weeks ago, on the back of a 25% year-on-year drop in tourist arrivals in the first five months of the year. Tourist visits, a key source of foreign exchange for the country, have fallen for the last three years running (although the Kenyan Shilling has fared a lot better against a resurgent dollar than many other emerging currencies in that time). The Somalia-based Islamic terrorist group Al Shabaab has contributed much to that, having launched a string of attacks inside Kenya since 2012 in response to Kenya\\u2019s deployment of troops in neighboring Somalia. A 2013 attack on the Westgate shopping mall in Kenya\\u2019s capital Nairobi by Al Shabaab-associated gunmen killed 130 people, grabbing global headlines. In an even more gruesome attack this April, terrorists killed 148 people, mainly students, at the Garissa University College. This article originally appeared on Fortune.com \",\n          \"Alabama Ruling May Disenfranchise Thousands. Jenny Lux didn\\u2019t want to risk her life to vote. Her acute respiratory distress syndrome puts her at a high risk for dangerous complications related to COVID-19, compelling her to take quarantine seriously. So when the 39-year-old read Alabama\\u2019s requirements for voting by mail this election cycle, she was stunned. While Alabamians no longer needed to give a reason for requesting a mail-in absentee ballot, they still need to either have their mail ballot notarized or witnessed by two adults simultaneously, as well as include a copy of their photo ID when applying for the ballot. Lux lives alone with her 17-year-old son, and suddenly faced an impossible choice: either risk COVID-19 exposure at a notary service or and allow two adults into her home to witness her ballot. \\u201cMy reaction [was], \\u2018Wow, really? You\\u2019re going to do this to me?\\u2019\\u201d she says. \\u201cI just can\\u2019t risk it. It\\u2019s life and death that we\\u2019re talking about here\\u2026 Why should I jump through all these hoops?\\u201d  Lux considered other options, including curbside voting, which many states have adopted this year amid COVID-19. But while Alabama law does not prohibit the service, the state has gone to great lengths to prevent counties from offering it this year. Alabama Secretary of State John Merrill said explicitly that curbside voting would not be allowed under the state\\u2019s law. On Oct. 21, the Supreme Court ruled that Alabama\\u2019s de facto ban on curbside voting could stand, reversing a lower court\\u2019s ruling that the restriction violated the Constitution and the Americans with Disabilities Act. It was the latest instance of a conservative court upholding Republican-backed voting restrictions in the final weeks before Election Day. That court decision, combined with Alabama\\u2019s requirements that mail ballots be notarized or witnessed, and include a copy of an ID with the application, collectively create an extremely high burden to vote amid the pandemic\\u2014particularly for disabled, elderly and other high-risk people.  \\u201cAlabama voters are going to have to decide whether they want to vote in person or not vote at all because some of them will have a very difficult time complying with the absentee ballot requirements,\\u201d says Sarah H. Brannon, a managing attorney with the American Civil Liberties Union\\u2019s (ACLU) Voting Rights Project, which helped bring the suit against Alabama\\u2019s rules.  In May, several Alabama voters challenged the state\\u2019s de facto ban on curbside voting, as well as its witness and voter ID requirements, arguing that the rules posed a threat to their health. In September, a federal district court agreed with the plaintiffs, ordering Alabama to allow curbside voting and suspending the witness and ID rules for elderly voters or those with underlying medical conditions. Alabama appealed the case and earlier this month, the 11th Circuit Court of Appeals handed Alabama Republicans the victory: the appellate court reversed the lower court decision, reinstating the witness and ID requirements.  The court drama continued. The 11th Circuit Court of Appeals ruling left open the option that counties could offer curbside voting, and two of the state\\u2019s most populous counties\\u2014Jefferson County and Montgomery County\\u2014took steps to implement the service. But Alabama appealed again and the Supreme Court decided in its favor. Curbside voting will not be an option for Alabama voters this year. After the prolonged litigation battle, Alabama voters who are disabled, elderly or have underlying conditions were back where they started: deciding whether to put their health at risk to fulfill the witness and ID requirements or vote in person\\u2014or not vote at all. \\u201cNobody should have to make a decision between being able to vote and protecting yourself from COVID-19,\\u201d says Michelle Bishop, voting rights specialist at the National Disability Rights Network. Lux, who is legally blind, is a member of the disability rights advocate group People First of Alabama, the plaintiff in the suit, and testified in the trial. \\u201cI know if I\\u2019m affected by it, there are thousands others like me affected,\\u201d she says. \\u201cIt\\u2019s a fight for social justice.\\u201d Read More: Here\\u2019s Everything You Need to Know About Voting Americans with disabilities and chronic illnesses have already been disproportionately impacted by COVID-19. And as they prepared to vote this year, many found that their states\\u2019 procedures did not take into account their needs, prompting cases like this around the country. Voters with disabilities sued in North Carolina, Virginia and Texas, and advocates sued South Carolina over a witness requirement for absentee ballots in that state. In Alabama, where coronavirus cases have been on the rise, the issue is particularly acute. The state has a history of voter suppression and a high proportion of Black and disabled voters, all of whom are disproportionately affected by both the pandemic and voting rights issues. There are 748,000 eligible voters with disabilities in Alabama, representing 20% of the state\\u2019s electorate, according to data from researchers Douglas Kruse and Lisa Schur at Rutgers University. Alabama\\u2019s population is among the highest risk for heart disease, stroke and has the highest rate of diabetes in the country. Over 40% of its coronavirus deaths have been people with diabetes. Many high-risk voters are taking the threat seriously. Tonja Leath, 57, usually votes by mail from her home in Hoover, Ala. because of a disability that makes it difficult for her to stand for long periods of time. But when she realized she would still need to fulfill the witness and photo ID requirements during the pandemic, she was frustrated. \\u201cWhy with this election? It does not make any sense. They\\u2019re inconveniencing people, especially the disabled and the elderly,\\u201d she says. Leath says she wishes her county offered curbside voting. In Montgomery, 37-year-old Terri Flowers has also been trying to stay home because her daughter has asthma. Flowers has decided to have her daughter attend school virtually for the foreseeable future to protect her from any exposure to the virus. \\u201cIf I\\u2019m going to keep her from going to school because of [the virus],\\u201d she says, \\u201cit doesn\\u2019t make sense for me to go out and be exposed to COVID and potentially bring it back to her.\\u201d  To avoid concerns about voting by mail, both Leath and Flowers decided to vote \\u201cin-person absentee,\\u201d a process that allowed them to go to their absentee ballot manager\\u2019s office, apply for an absentee ballot in person, fill out their absentee ballot and then have it notarized. While they made their situations work, not all voters will be able to do so, as the method still requires voters to risk COVID-19 exposure at their absentee ballot manager\\u2019s office, which can be difficult to access for disabled or rural voters. The other state requirement for voting by mail\\u2014that Alabama residents include a copy of their photo ID in their ballot application\\u2014can also present obstacles for lower income voters who might not have regular internet access or printers at home. Alabama argued that the laws in question were necessary to prevent voter fraud and preserve confidence in the upcoming election. It also said that the restrictions did not place an undue burden on the plaintiffs. \\u201cThe photo ID and witness requirements are necessary deterrents for those looking to commit voter fraud, and I am glad the 11th Circuit has recognized their importance in safeguarding the elections process,\\u201d Merrill said in an Oct. 13 statement. Evidence has repeatedly shown that voter fraud in the U.S. is nearly nonexistent.  Caren Short, a senior staff attorney with the Southern Poverty Law Center, which jointly filed the suit against Alabama, says the 11th Circuit\\u2019s ruling allowing the vote-by-mail laws to stand \\u201cdemonstrates part of a trend where unfortunately more conservative state election officials are leaning heavily on the myth of voter fraud to justify onerous and unnecessary restrictions on voting to essentially suppress votes.\\u201d  Maia Fleischman, a voting rights fellow with the Alabama Disabilities Advocacy Program (ADAP), which also jointly filed the suit, adds that while she found the 11th Circuit\\u2019s ruling disappointing, it \\u201cpretty much aligned with what we\\u2019ve been seeing in the courts the last month.\\u201d She said that, in her opinion, the group chose not to appeal the 11th Circuit\\u2019s ruling on the absentee ballot laws after looking at how the Supreme Court has ruled in similar voting rights cases this year. \\u201cWe don\\u2019t also want to make things harder for voting rights cases in the future,\\u201d she says. She added, \\u201cWe decided to focus our on the argument that the curbside voting ban is unconstitutional and it is a proper ADA accommodation. We think curbside voting would have benefited thousands of Alabamians this upcoming election day in light of COVID-19.\\u201d The Supreme Court did not offer an opinion explaining its decision to stay the 11th Circuit\\u2019s ruling this week, and only the three liberal justices dissented. With Justice Ruth Bader Ginsburg\\u2019s death last month, the Supreme Court now has a conservative majority, and if President Donald Trump\\u2019s nominee Judge Amy Coney Barrett is confirmed as expected, that will cement the court\\u2019s rightward tilt. Trump has also appointed roughly a quarter of all federal appeals court judges during his time in office, meaning that cases are now more likely to be heard by conservative judges on appeal.  Disability and voting rights advocates say that impact of a conservative-leaning bench will affect civil rights litigation long past Nov. 3. \\u201cWe have to file cases at the trial level, because voting is a constitutional right and the foundation of our democracy,\\u201d says Christina Brandt-Young, a managing attorney at Disability Rights Advocates, which signed onto an amicus brief in the Alabama case. \\u201cBut if appeals are less and less attractive, that will push us back into other kinds of advocacy.\\u201d After much deliberation, Lux was able to vote this year. She found a notary who was willing to come to her house, wear a mask, and certify her ballot, so she didn\\u2019t have to risk a trip to the county elections office. She\\u2019s since mailed her ballot and received a notification that it was received. But the process left a bitter taste in her mouth. \\u201cI feel marginalized,\\u201d she says. \\u201cIt\\u2019s like I\\u2019m being swept under the rug.\\u201d She also recognizes that many voters won\\u2019t be able to find the same work-around like she did. As Supreme Court Justice Sonia Sotomayor pointed out in her dissent on the high court\\u2019s ruling, one of the plaintiffs, Howard Porter, Jr.\\u2014a Black man in his 70s with both asthma and Parkinson\\u2019s Disease\\u2014described the state voting restrictions as a question of life or death.  \\u201c\\u2018[S]o many of my [ancestors] even died to vote,\\u201d Porter testified before the lower court. \\u201cAnd while I don\\u2019t mind dying to vote, I think we\\u2019re past that\\u2014we\\u2019re past that time.\\u2019\\u201d  \",\n          \"How Elise Stefanik Went From Moderate to MAGA. When Elise Stefanik was elected to the House of Representatives in 2014, she was hailed as the fresh face of the new GOP. Stefanik had run for office in her 20s, determined to modernize the Republican Party to attract more women and appeal to her fellow millennials. In her victory speech, she praised her opponents for their good-faith participation in the miracle of American democracy. \\u201cNo matter their party, our democratic process is strengthened by those individuals willing to put forth their ideas,\\u201d she said on the night she became the youngest woman ever elected to Congress.  Today Stefanik is still a politician on the rise, but for very different reasons. As soon as next week, she is widely expected to ascend to the position of House GOP conference chair, which would make her the highest-ranking Republican woman in Congress. And she will have gotten there by lashing herself to a cause that undermines the same democratic process she once hoped to strengthen.  The opening for Stefanik to become the No. 3 House Republican has been created by the anticipated ouster of Rep. Liz Cheney, who has lost the support of her colleagues for insisting the party stop parroting President Donald Trump\\u2019s lies about the 2020 election. Rejecting Trump\\u2019s fictions about a stolen election is enough to make Cheney, a rock-ribbed conservative and daughter of a former vice president, an outcast in today\\u2019s GOP. \\u201cElise Stefanik is a far superior choice, and she has my COMPLETE and TOTAL Endorsement for GOP Conference Chair,\\u201d Trump said in a statement. To replace Cheney with Stefanik would send a powerful signal: that anyone who refuses to carry water for Trump\\u2019s conspiracy theories cannot carry the Republican mantle.  But Elise Stefanik is no Matt Gaetz or Marjorie Taylor Greene. She was not always a MAGA warrior. Not long ago, she was a widely respected moderate Republican known for her embrace of facts, her trust in science and her push to build a more diverse party, highlighted by her successful efforts to recruit more GOP women to run for office. She was a prominent member of the moderate Tuesday Group, a caucus of center-right Republicans. And she was widely credited for a bipartisan spirit\\u2014\\u201devery Democrat\\u2019s favorite Republican,\\u201d as one former aide to GOP leadership puts it now. Yet over the last five years, Trump has redefined the GOP. Today the party primarily judges its representatives not by any particular policy positions but by their allegiance to a defeated President and an embrace of his conspiracy theories. Stefanik has adapted. It\\u2019s a calculation that has made her a fundraising star and a party leader-in-waiting. It\\u2019s also dismayed many Republicans who have worked with and admired her in the past.  \\u201cTo be a handmaiden of Trump and get a little pat on the head from Trump is not a leadership move,\\u201d says former Rep. Barbara Comstock (R-VA), who worked closely with Stefanik and helped organize a small, bipartisan shower in her honor ahead of her 2017 wedding. \\u201cIt\\u2019s embarrassing. It\\u2019s sad.\\u201d So how did Elise Stefanik go from praising the democratic process to standing on the House floor in the aftermath of the Capitol riot and voting to object to the Electoral College results? How did she go from saying that one particular Republican candidate was \\u201cdisqualifying themselves with untruthful statements\\u201d in 2015 to feeding vague conspiracy theories about Hunter Biden on Steve Bannon\\u2019s podcast in 2021? Her evolution mirrors the transformation of her party, while her rise within its ranks is a fall from the modern, millennial conservatism she once was on track to define.  Stefanik\\u2019s office declined to make her available to comment for this story, which is based on interviews with former colleagues, aides, friends, classmates and mentors, and draws on others I conducted with Stefanik in 2018 and 2019 for my book, The Ones We\\u2019ve Been Waiting For. Stefanik\\u2019s embrace of Trump has disappointed her high school teachers, alienated her from her alma mater and puzzled former allies and mentors who envisioned a different future for her.  \\u201cElise could have been the face of a new generation of Republicans that could represent a real big-tent party, that could build beyond the base, that could lay the foundation for a coalition that could win elections nationally,\\u201d says Margaret Hoover, a center-right commentator who worked with Stefanik at the Bush White House and now hosts PBS\\u2019s Firing Line. \\u201cIt shows that she was never motivated by principles, and that\\u2019s deeply disappointing.\\u201d Now, as her tolerance of baseless conspiracy theories about the 2020 election propels her toward Republican leadership, many of the people who knew her in the past are asking: what happened to Elise Stefanik? If you ask Stefanik\\u2019s childhood classmates what she was like as a girl, two words keep coming up: \\u201cintegrity\\u201d and \\u201cambition.\\u201d Growing up in upstate New York, Stefanik was friendly with Melissa DeRosa, now an embattled senior aide to scandal-plagued Democratic Governor Andrew Cuomo. Both served in student government at the Albany Academy for Girls. In middle school they teamed up to pressure administrators to install a snack machine.  DeRosa grew into one of New York\\u2019s most powerful Democratic operatives as Stefanik climbed the GOP ladder. But despite their political differences, they remained close for a while. DeRosa was one of a handful of old classmates at Stefanik\\u2019s 2017 wedding. When I interviewed her about Stefanik two years ago for my book, DeRosa told me the old friends would frequently commiserate about the rough-and-tumble world of New York politics.  \\u201cThere have been times over the years when I have called her, practically in tears, saying, \\u2018This just happened, I feel so beaten down, I don\\u2019t know what to do anymore,\\u2019\\u201d DeRosa told me back then. \\u201cAnd she is so morally supportive and will be there to coach through whatever the issue is.\\u201d Somewhere along the way, Stefanik also learned to interpret criticism as evidence that she was doing something right, according to DeRosa. \\u201cShe says, \\u2018People who are criticizing you are criticizing you because you\\u2019re doing a good job,\\u201d DeRosa recalled. \\u201cHer attitude has been like: \\u2018Dig in and go the other way.\\u2019\\u201d But in February of 2021, as DeRosa took heat for the Cuomo Administration\\u2019s alleged effort to obscure the number of nursing-home deaths from COVID-19 in New York, Stefanik went nuclear. On one occasion, she tweeted that the scandal enmeshing her friend of 20 years was a \\u201ccriminal coverup,\\u201d On another, she linked to a story about about Cuomo\\u2019s senior aides, adding \\u201cPROSECUTE NOW!\\u201d  \\u201cShe sort of threw Melissa under the bus,\\u201d says Caroline Mason, the former headmistress at Albany Academy for Girls, who says she kept in touch with Stefanik for years after she graduated, exchanged Christmas cards with her until last year, and even helped preside over her 2017 wedding ceremony. Mason said she had long admired Stefanik, but that \\u201csomething stronger took hold of her.\\u201d  \\u201cShe basically abandoned her own core values for a man who had no core values,\\u201d Mason says. \\u201cHer fealty to Trump seems to have trumped her fealty to her sisters in the House.\\u201d  After high school, Stefanik went to Harvard, becoming the first in her immediate family to earn a college degree. Stefanik was one of few conservative women at Harvard\\u2019s Institute of Politics, but fellow campus politicos told me they admired her sharp reasoning, intellectual integrity and willingness to stick to her positions, even when they were unpopular on a liberal-leaning campus. She crossed paths there with Pete Buttigieg, now the U.S. Transportation Secretary, and they even met for coffee once. (Stefanik and Buttigieg both say their coffee was purely platonic, but the rumor on campus was that it was a single, uneventful date; while Buttigieg is now married to a man, he dated women in college. \\u201cPeter and Elise were at Harvard at the same time and were friends in college and once went to coffee,\\u201d a Stefanik spokesperson said. \\u201cThey did not date.\\u201d )  From Harvard, Stefanik rocketed through the traditional Republican establishment. She worked in various roles in the George W. Bush White House, then as an adviser to vice-presidential nominee Paul Ryan during the 2012 presidential campaign. After that defeat, the GOP released an autopsy that argued the GOP was struggling to reach young voters, women and voters of color. Stefanik saw it as an opening to help transform her party. With support from Ryan and deep-pocketed donors, she handily won her seat in New York\\u2019s North Country to become the youngest woman elected to Congress in U.S. history. (Rep. Alexandria Ocasio-Cortez has since beaten that record.) When she arrived on the Hill, Stefanik was part of a cohort of young Republicans focused on helping the GOP appeal to younger, more diverse voters. With Ryan as her mentor, she staked out moderate positions on climate change and immigration consistent with her fellow conservative millennials, and pushed the GOP to recruit more women to run for office. She also built a strong record of bipartisanship. Stefanik was the 31st most bipartisan members of Congress in her first term and 19th in her second term, according to an index compiled by Georgetown University\\u2019s Lugar Center.  Stefanik tended to steer clear of hot-button right-wing issues, focusing instead on those that affected her district, like military funding and support for rural farmers. She voted against Trump\\u2019s signature domestic policy achievement\\u2014the 2017 tax cuts\\u2014because she felt they unfairly penalized high-tax states like New York. In 2017, she introduced a House resolution to commit to addressing climate change, calling environmental stewardship a \\u201cconservative principle.\\u201d  This relatively moderate record didn\\u2019t make her especially popular with Republican hard-liners. As Stefanik emerged in recent days as a top candidate to replace Cheney, the president of the conservative Club for Growth called her \\u201cvery much a liberal.\\u201d Other conservative groups, from Heritage Action to the American Conservative Union, have ranked Cheney\\u2019s record as more conservative than Stefanik\\u2019s.  But Stefanik was cultivating a reputation among colleagues as a rising star. \\u201cShe had developed a really good brand: she was the young, smart, vivacious millennial who could appeal to constituencies that Republicans had difficulty with,\\u201d says a former GOP congressman who worked closely with Stefanik. \\u201cShe had that real up-and-coming thing.\\u201d When Trump first emerged as a political phenomenon, Stefanik mostly ignored him. She said she would \\u201csupport my party\\u2019s nominee\\u201d in the 2016 election, but largely avoided mentioning him by name. From time to time, she carefully spoke out against him, adopting a tone of dutiful scolding. In August 2015, she said in a radio interview that Trump had been \\u201cinsulting to women\\u201d and said his campaign had \\u201churt the effort\\u201d to reach out to them. After Trump\\u2019s Access Hollywood scandal, she said his \\u201cinappropriate, offensive comments are just wrong.\\u201d When Trump moved to ban travel from some Muslim-majority countries, she said she opposed his \\u201crushed and overly broad Executive Order.\\u201d She said she didn\\u2019t think his plans for a border wall were \\u201crealistic\\u201d and that the President \\u201cwasn\\u2019t exactly right on that.\\u201d When Trump blasted immigrants from \\u201csh-thole countries,\\u201d Stefanik released a statement that the comments were \\u201cwrong and contrary to our American ideals.\\u201d  But as Trump\\u2019s presidency wore on, Stefanik\\u2019s party transformed. So did her district, which voted twice for Obama before breaking heavily for Trump. \\u201cIt\\u2019s only become more and more supportive of President Trump over time,\\u201d Stefanik said on Bannon\\u2019s podcast. \\u201cI represent farmers, manufacturers, and hardworking families who want someone who stands up for them, and President Trump spoke to those people.\\u201d  \\u201cIf you\\u2019re looking for a through line, it\\u2019s that her district has changed and she\\u2019s always been attuned to what her district wants,\\u201d says Brendan Buck, a former top aide to Speaker Ryan. \\u201cA swing purple district got a middle-of-the-road moderate member, and now it is a Trumpy district, and they have a Trumpy representative.\\u201d  It\\u2019s hard to pinpoint exactly when Stefanik\\u2019s own evolution began. Some suspect it started in August of 2018, when Trump joined Stefanik for a visit to Fort Drum, a key military base in her district. \\u201cYou\\u2019re standing in front of a crowd, and all of a sudden you see there\\u2019s a bigger crowd than you normally would have,\\u201d says one former Republican Congresswoman who recalled that event.  Others point out that the political downsides of anti-Trumpism became clear around the same time. In the 2018 midterms, many Republicans who had criticized Trump lost their seats. Among them was Rep. Carlos Curbelo, a close friend of Stefanik\\u2019s who had been outspoken in his opposition to Trump\\u2019s immigration policy.  Still others see a substantive reason for the change. Stefanik sat on the Intelligence Committee during the inquiry into Russian interference in the 2016 election. While former FBI chief Robert Mueller found widespread evidence of bad behavior by Trump and others, including repeated testimony showing Trump obstructed justice, the Intelligence Committee, and later the Department of Justice Inspector General, found evidence of inappropriate investigative measures by the FBI and others. Over the course of the Russia probe, Stefanik became an outspoken defender of the President, arguing that he was being unfairly persecuted by Democrats. \\u201cThe longer she served on Intelligence, the more she pivoted towards defending the Administration,\\u201d says a former GOP member of Congress. Then came Trump\\u2019s 2019 impeachment trial on charges he solicited foreign interference in the 2020 election. That\\u2019s when a switch flipped, according to a former aide to GOP House leadership. Stefanik was named a member of Trump\\u2019s impeachment defense team and emerged as a vehement advocate, earning favorable press on Fox News and praise from the President himself. \\u201cShe became a darling of the right and an enemy of the left,\\u201d says a former Republican Congressman who knew her well. \\u201cAnd she just decided to own that and monetized it.\\u201d  In the last three months of 2019, Stefanik raised a whopping $3.2 million\\u2014a seven-fold increase from the previous quarter\\u2019s haul\\u2014making her the second-highest fundraiser in the House. She had picked her side. \\u201cShe has become a star,\\u201d Trump gushed on Fox & Friends. Stefanik soon became the co-chair of Trump\\u2019s re-election campaign in New York. She gave a rousing speech at the 2020 GOP Convention about \\u201cthe Democrats\\u2019 baseless and illegal impeachment sham and the media\\u2019s endless obsession with it.\\u201d  \\u201cThis attack was not just on the President, it was an attack on you: your voice, and your vote,\\u201d she added. \\u201cOur support for President Trump is stronger than ever before.\\u201d This would be the basis of her defense of Trump before, during, and after the 2020 election. Her constituents were Trump\\u2019s voters, and they perceived any attack on Trump to be an attack on them. \\u201cI think all of this is very genuine to her,\\u201d says Anthony Pileggi, a former top aide for Stefanik from the beginning of her Congressional career. \\u201cI think this is someone who is a very hardworking member of Congress, who saw that the president was being attacked during impeachment.\\u201d Others see it differently. \\u201cTrump has won the Republican Party. Trump owns it. It is the key to her re-elections, it is the key to her fundraising, it\\u2019s the key to her advancement within Congress,\\u201d says Hoover. \\u201cShe knows how to play it, so that\\u2019s what she\\u2019s doing. Never mind that it\\u2019s undermining democracy. She\\u2019s made a calculation that she can rise to power by backing the Big Lie.\\u201d  In the aftermath of Biden\\u2019s victory in the 2020 election, Stefanik stopped short of adopting Trump\\u2019s false claims that the election was \\u201crigged\\u2019 or \\u201cstolen.\\u201d But she perpetuated the baseless claims around the election outcome.  In a Newsmax interview a month after the election, she parroted conspiracy theories about \\u201cirregularities,\\u201d then mentioned she had \\u201cconcerns\\u201d about \\u201cDominion software,\\u201d indirectly alluding to a false conspiracy theory that the voting-machine company had been part of an effort to rig the election against Trump. (Officials from Trump\\u2019s Department of Homeland Security released a statement saying that \\u201cthere is no evidence that any voting system deleted or lost votes, changed votes, or was in any way compromised,\\u201d and Dominion has filed several lawsuits against people and organizations that spread the conspiracy theory, including one that forced Newsmax to retract its claims and apologize.) In December, Stefanik was one of 126 Republicans who signed onto an amicus brief asking the Supreme Court to consider rejecting election results in Michigan, Pennsylvania, Georgia and Wisconsin. She then announced in an open letter to her constituents that she would object to electors from the same four states. Amid the insurrection, when House Republicans forced a vote on only two states, Stefanik voted to certify Biden\\u2019s win in Arizona but reject his win in Pennsylvania. She continued to make baseless claims about \\u201cvoting irregularities\\u201d and \\u201clack of ballot integrity and security,\\u201d though no credible evidence of widespread voter fraud ever emerged. (Harvard, her beloved alma mater, stripped her from the Senior Advisory Council of the Institute of Politics after she voted to challenge the election results.) Some people who know Stefanik said she may have cultivated genuine concerns about election integrity, given that votes were cast under the extraordinary circumstances of a pandemic and the race was extremely close in some states. On Bannon\\u2019s podcast, she said she was concerned about \\u201cunprecedented, unconstitutional overreach\\u201d and \\u201cunelected judges and bureaucrats who were rewriting election laws in real time,\\u201d and raised questions about a \\u201clack of chain of custody\\u201d for ballots. Her aides say she is simply representing the concerns of the millions of Americans who don\\u2019t believe the election was fair, including her constituents, who voted for Trump by a wide margin. But no one I spoke to inside or outside her office believes she actually thinks the election was stolen. When asked directly, aides often pivot to \\u201cconcerns\\u201d about \\u201cirregularities.\\u201d \\u201cI don\\u2019t even know if she believes the Big Lie,\\u201d says Hoover, Stefanik\\u2019s former colleague. \\u201cBut she is absolutely responsible for propagating a lie that will undermine our democracy.\\u201d  Whether she believes the lies or not, Stefanik has now aligned herself with Trump for good. She may still be the face of the GOP\\u2019s future. But that future looks a lot different than anyone thought.  \"\n        ],\n        \"semantic_type\": \"\",\n        \"description\": \"\"\n      }\n    },\n    {\n      \"column\": \"count\",\n      \"properties\": {\n        \"dtype\": \"number\",\n        \"std\": 577,\n        \"min\": 5,\n        \"max\": 5869,\n        \"num_unique_values\": 2499,\n        \"samples\": [\n          1496,\n          1111,\n          1810\n        ],\n        \"semantic_type\": \"\",\n        \"description\": \"\"\n      }\n    },\n    {\n      \"column\": \"Encoded_label_cat\",\n      \"properties\": {\n        \"dtype\": \"int8\",\n        \"num_unique_values\": 4,\n        \"samples\": [\n          1,\n          3,\n          0\n        ],\n        \"semantic_type\": \"\",\n        \"description\": \"\"\n      }\n    }\n  ]\n}"
            }
          },
          "metadata": {},
          "execution_count": 28
        }
      ]
    },
    {
      "cell_type": "code",
      "source": [],
      "metadata": {
        "id": "FzMAPTSWkEJR"
      },
      "execution_count": null,
      "outputs": []
    },
    {
      "cell_type": "code",
      "source": [
        "data_texts = df_DI['TEXT'].to_list()\n",
        "\n",
        "data_labels = df_DI['Encoded_label_cat'].to_list()"
      ],
      "metadata": {
        "id": "XHPknvseWeAL"
      },
      "execution_count": null,
      "outputs": []
    },
    {
      "cell_type": "code",
      "source": [
        "train_texts, val_texts, train_labels, val_labels = train_test_split(data_texts, data_labels, test_size = 0.2, random_state = 0 )\n",
        "\n",
        "\n",
        "train_texts, test_texts, train_labels, test_labels = train_test_split(train_texts, train_labels, test_size = 0.05, random_state = 0 )"
      ],
      "metadata": {
        "id": "D-yCrndWX48f"
      },
      "execution_count": null,
      "outputs": []
    },
    {
      "cell_type": "code",
      "source": [
        "tokenizer = DistilBertTokenizer.from_pretrained('distilbert-base-uncased')\n",
        "\n",
        "train_encodings = tokenizer(train_texts, truncation = True, padding = True  )\n",
        "\n",
        "val_encodings = tokenizer(val_texts, truncation = True, padding = True )"
      ],
      "metadata": {
        "colab": {
          "base_uri": "https://localhost:8080/"
        },
        "id": "qQoOpPG7YAqh",
        "outputId": "595b2960-0229-4847-bd1d-3c0b23de83d8"
      },
      "execution_count": null,
      "outputs": [
        {
          "output_type": "stream",
          "name": "stderr",
          "text": [
            "/usr/local/lib/python3.10/dist-packages/huggingface_hub/utils/_token.py:88: UserWarning:\n",
            "\n",
            "\n",
            "The secret `HF_TOKEN` does not exist in your Colab secrets.\n",
            "To authenticate with the Hugging Face Hub, create a token in your settings tab (https://huggingface.co/settings/tokens), set it as secret in your Google Colab and restart your session.\n",
            "You will be able to reuse this secret in all of your notebooks.\n",
            "Please note that authentication is recommended but still optional to access public models or datasets.\n",
            "\n"
          ]
        }
      ]
    },
    {
      "cell_type": "code",
      "source": [
        "type(train_encodings)"
      ],
      "metadata": {
        "id": "KbyPgPkFZByO",
        "outputId": "4c141849-6e90-4053-840b-43a6259b5b38",
        "colab": {
          "base_uri": "https://localhost:8080/",
          "height": 221
        }
      },
      "execution_count": null,
      "outputs": [
        {
          "output_type": "execute_result",
          "data": {
            "text/plain": [
              "transformers.tokenization_utils_base.BatchEncoding"
            ],
            "text/html": [
              "<div style=\"max-width:800px; border: 1px solid var(--colab-border-color);\"><style>\n",
              "      pre.function-repr-contents {\n",
              "        overflow-x: auto;\n",
              "        padding: 8px 12px;\n",
              "        max-height: 500px;\n",
              "      }\n",
              "\n",
              "      pre.function-repr-contents.function-repr-contents-collapsed {\n",
              "        cursor: pointer;\n",
              "        max-height: 100px;\n",
              "      }\n",
              "    </style>\n",
              "    <pre style=\"white-space: initial; background:\n",
              "         var(--colab-secondary-surface-color); padding: 8px 12px;\n",
              "         border-bottom: 1px solid var(--colab-border-color);\"><b>transformers.tokenization_utils_base.BatchEncoding</b><br/>def __init__(data: Optional[Dict[str, Any]]=None, encoding: Optional[Union[EncodingFast, Sequence[EncodingFast]]]=None, tensor_type: Union[None, str, TensorType]=None, prepend_batch_axis: bool=False, n_sequences: Optional[int]=None)</pre><pre class=\"function-repr-contents function-repr-contents-collapsed\" style=\"\"><a class=\"filepath\" style=\"display:none\" href=\"#\">/usr/local/lib/python3.10/dist-packages/transformers/tokenization_utils_base.py</a>Holds the output of the [`~tokenization_utils_base.PreTrainedTokenizerBase.__call__`],\n",
              "[`~tokenization_utils_base.PreTrainedTokenizerBase.encode_plus`] and\n",
              "[`~tokenization_utils_base.PreTrainedTokenizerBase.batch_encode_plus`] methods (tokens, attention_masks, etc).\n",
              "\n",
              "This class is derived from a python dictionary and can be used as a dictionary. In addition, this class exposes\n",
              "utility methods to map from word/character space to token space.\n",
              "\n",
              "Args:\n",
              "    data (`dict`, *optional*):\n",
              "        Dictionary of lists/arrays/tensors returned by the `__call__`/`encode_plus`/`batch_encode_plus` methods\n",
              "        (&#x27;input_ids&#x27;, &#x27;attention_mask&#x27;, etc.).\n",
              "    encoding (`tokenizers.Encoding` or `Sequence[tokenizers.Encoding]`, *optional*):\n",
              "        If the tokenizer is a fast tokenizer which outputs additional information like mapping from word/character\n",
              "        space to token space the `tokenizers.Encoding` instance or list of instance (for batches) hold this\n",
              "        information.\n",
              "    tensor_type (`Union[None, str, TensorType]`, *optional*):\n",
              "        You can give a tensor_type here to convert the lists of integers in PyTorch/TensorFlow/Numpy Tensors at\n",
              "        initialization.\n",
              "    prepend_batch_axis (`bool`, *optional*, defaults to `False`):\n",
              "        Whether or not to add a batch axis when converting to tensors (see `tensor_type` above).\n",
              "    n_sequences (`Optional[int]`, *optional*):\n",
              "        You can give a tensor_type here to convert the lists of integers in PyTorch/TensorFlow/Numpy Tensors at\n",
              "        initialization.</pre>\n",
              "      <script>\n",
              "      if (google.colab.kernel.accessAllowed && google.colab.files && google.colab.files.view) {\n",
              "        for (const element of document.querySelectorAll('.filepath')) {\n",
              "          element.style.display = 'block'\n",
              "          element.onclick = (event) => {\n",
              "            event.preventDefault();\n",
              "            event.stopPropagation();\n",
              "            google.colab.files.view(element.textContent, 176);\n",
              "          };\n",
              "        }\n",
              "      }\n",
              "      for (const element of document.querySelectorAll('.function-repr-contents')) {\n",
              "        element.onclick = (event) => {\n",
              "          event.preventDefault();\n",
              "          event.stopPropagation();\n",
              "          element.classList.toggle('function-repr-contents-collapsed');\n",
              "        };\n",
              "      }\n",
              "      </script>\n",
              "      </div>"
            ]
          },
          "metadata": {},
          "execution_count": 73
        }
      ]
    },
    {
      "cell_type": "code",
      "source": [
        "\n",
        "train_dataset = tf.data.Dataset.from_tensor_slices((\n",
        "    dict(train_encodings),\n",
        "    train_labels\n",
        "))\n",
        "\n",
        "\n",
        "val_dataset = tf.data.Dataset.from_tensor_slices((\n",
        "    dict(val_encodings),\n",
        "    val_labels\n",
        "))"
      ],
      "metadata": {
        "id": "VdZ6_I-lY9T-"
      },
      "execution_count": null,
      "outputs": []
    },
    {
      "cell_type": "code",
      "source": [
        "model = TFDistilBertForSequenceClassification.from_pretrained('distilbert-base-uncased', num_labels=5)\n"
      ],
      "metadata": {
        "id": "lpDEMt_tbM_h",
        "outputId": "d883fad1-c002-466d-be2c-7bd1746a8e2e",
        "colab": {
          "base_uri": "https://localhost:8080/"
        }
      },
      "execution_count": null,
      "outputs": [
        {
          "output_type": "stream",
          "name": "stderr",
          "text": [
            "Some weights of the PyTorch model were not used when initializing the TF 2.0 model TFDistilBertForSequenceClassification: ['vocab_transform.weight', 'vocab_layer_norm.weight', 'vocab_layer_norm.bias', 'vocab_projector.bias', 'vocab_transform.bias']\n",
            "- This IS expected if you are initializing TFDistilBertForSequenceClassification from a PyTorch model trained on another task or with another architecture (e.g. initializing a TFBertForSequenceClassification model from a BertForPreTraining model).\n",
            "- This IS NOT expected if you are initializing TFDistilBertForSequenceClassification from a PyTorch model that you expect to be exactly identical (e.g. initializing a TFBertForSequenceClassification model from a BertForSequenceClassification model).\n",
            "Some weights or buffers of the TF 2.0 model TFDistilBertForSequenceClassification were not initialized from the PyTorch model and are newly initialized: ['pre_classifier.weight', 'pre_classifier.bias', 'classifier.weight', 'classifier.bias']\n",
            "You should probably TRAIN this model on a down-stream task to be able to use it for predictions and inference.\n"
          ]
        }
      ]
    },
    {
      "cell_type": "code",
      "source": [
        "from transformers import TFDistilBertForSequenceClassification, Trainer, TFTrainingArguments\n"
      ],
      "metadata": {
        "id": "5UCB0XR-b0C2"
      },
      "execution_count": null,
      "outputs": []
    },
    {
      "cell_type": "code",
      "source": [
        "\n",
        "training_args = TFTrainingArguments(\n",
        "    output_dir='./results',\n",
        "    num_train_epochs=10,\n",
        "    per_device_train_batch_size=16,\n",
        "    per_device_eval_batch_size=64,\n",
        "    warmup_steps=500,\n",
        "    weight_decay=1e-5,\n",
        "    logging_dir='./logs',\n",
        "    eval_steps=100\n",
        ")\n",
        "\n",
        "with torch.no_grad():\n",
        "    logits = model(**inputs).logits"
      ],
      "metadata": {
        "id": "2MLZS_MEZahn",
        "outputId": "5184d106-fbc1-4161-bda3-6d56b5912731",
        "colab": {
          "base_uri": "https://localhost:8080/",
          "height": 463
        }
      },
      "execution_count": null,
      "outputs": [
        {
          "output_type": "stream",
          "name": "stderr",
          "text": [
            "Some weights of the PyTorch model were not used when initializing the TF 2.0 model TFDistilBertForSequenceClassification: ['vocab_transform.weight', 'vocab_layer_norm.weight', 'vocab_layer_norm.bias', 'vocab_projector.bias', 'vocab_transform.bias']\n",
            "- This IS expected if you are initializing TFDistilBertForSequenceClassification from a PyTorch model trained on another task or with another architecture (e.g. initializing a TFBertForSequenceClassification model from a BertForPreTraining model).\n",
            "- This IS NOT expected if you are initializing TFDistilBertForSequenceClassification from a PyTorch model that you expect to be exactly identical (e.g. initializing a TFBertForSequenceClassification model from a BertForSequenceClassification model).\n",
            "Some weights or buffers of the TF 2.0 model TFDistilBertForSequenceClassification were not initialized from the PyTorch model and are newly initialized: ['pre_classifier.weight', 'pre_classifier.bias', 'classifier.weight', 'classifier.bias']\n",
            "You should probably TRAIN this model on a down-stream task to be able to use it for predictions and inference.\n"
          ]
        },
        {
          "output_type": "error",
          "ename": "NameError",
          "evalue": "name 'GradientAccumulationPlugin' is not defined",
          "traceback": [
            "\u001b[0;31m---------------------------------------------------------------------------\u001b[0m",
            "\u001b[0;31mNameError\u001b[0m                                 Traceback (most recent call last)",
            "\u001b[0;32m<ipython-input-36-af40d196b150>\u001b[0m in \u001b[0;36m<cell line: 16>\u001b[0;34m()\u001b[0m\n\u001b[1;32m     14\u001b[0m \u001b[0;34m\u001b[0m\u001b[0m\n\u001b[1;32m     15\u001b[0m \u001b[0;34m\u001b[0m\u001b[0m\n\u001b[0;32m---> 16\u001b[0;31m trainer = Trainer(\n\u001b[0m\u001b[1;32m     17\u001b[0m     \u001b[0mmodel\u001b[0m\u001b[0;34m=\u001b[0m\u001b[0mtrainer_model\u001b[0m\u001b[0;34m,\u001b[0m\u001b[0;34m\u001b[0m\u001b[0;34m\u001b[0m\u001b[0m\n\u001b[1;32m     18\u001b[0m     \u001b[0margs\u001b[0m\u001b[0;34m=\u001b[0m\u001b[0mtraining_args\u001b[0m\u001b[0;34m,\u001b[0m\u001b[0;34m\u001b[0m\u001b[0;34m\u001b[0m\u001b[0m\n",
            "\u001b[0;32m/usr/local/lib/python3.10/dist-packages/transformers/trainer.py\u001b[0m in \u001b[0;36m__init__\u001b[0;34m(self, model, args, data_collator, train_dataset, eval_dataset, tokenizer, model_init, compute_metrics, callbacks, optimizers, preprocess_logits_for_metrics)\u001b[0m\n\u001b[1;32m    371\u001b[0m         \u001b[0mself\u001b[0m\u001b[0;34m.\u001b[0m\u001b[0mis_in_train\u001b[0m \u001b[0;34m=\u001b[0m \u001b[0;32mFalse\u001b[0m\u001b[0;34m\u001b[0m\u001b[0;34m\u001b[0m\u001b[0m\n\u001b[1;32m    372\u001b[0m \u001b[0;34m\u001b[0m\u001b[0m\n\u001b[0;32m--> 373\u001b[0;31m         \u001b[0mself\u001b[0m\u001b[0;34m.\u001b[0m\u001b[0mcreate_accelerator_and_postprocess\u001b[0m\u001b[0;34m(\u001b[0m\u001b[0;34m)\u001b[0m\u001b[0;34m\u001b[0m\u001b[0;34m\u001b[0m\u001b[0m\n\u001b[0m\u001b[1;32m    374\u001b[0m \u001b[0;34m\u001b[0m\u001b[0m\n\u001b[1;32m    375\u001b[0m         \u001b[0;31m# memory metrics - must set up as early as possible\u001b[0m\u001b[0;34m\u001b[0m\u001b[0;34m\u001b[0m\u001b[0m\n",
            "\u001b[0;32m/usr/local/lib/python3.10/dist-packages/transformers/trainer.py\u001b[0m in \u001b[0;36mcreate_accelerator_and_postprocess\u001b[0;34m(self)\u001b[0m\n\u001b[1;32m   4247\u001b[0m         \u001b[0mgrad_acc_kwargs\u001b[0m \u001b[0;34m=\u001b[0m \u001b[0;34m{\u001b[0m\u001b[0;34m\"num_steps\"\u001b[0m\u001b[0;34m:\u001b[0m \u001b[0mself\u001b[0m\u001b[0;34m.\u001b[0m\u001b[0margs\u001b[0m\u001b[0;34m.\u001b[0m\u001b[0mgradient_accumulation_steps\u001b[0m\u001b[0;34m}\u001b[0m\u001b[0;34m\u001b[0m\u001b[0;34m\u001b[0m\u001b[0m\n\u001b[1;32m   4248\u001b[0m         \u001b[0mgrad_acc_kwargs\u001b[0m\u001b[0;34m[\u001b[0m\u001b[0;34m\"sync_with_dataloader\"\u001b[0m\u001b[0;34m]\u001b[0m \u001b[0;34m=\u001b[0m \u001b[0;32mFalse\u001b[0m\u001b[0;34m\u001b[0m\u001b[0;34m\u001b[0m\u001b[0m\n\u001b[0;32m-> 4249\u001b[0;31m         \u001b[0mgradient_accumulation_plugin\u001b[0m \u001b[0;34m=\u001b[0m \u001b[0mGradientAccumulationPlugin\u001b[0m\u001b[0;34m(\u001b[0m\u001b[0;34m**\u001b[0m\u001b[0mgrad_acc_kwargs\u001b[0m\u001b[0;34m)\u001b[0m\u001b[0;34m\u001b[0m\u001b[0;34m\u001b[0m\u001b[0m\n\u001b[0m\u001b[1;32m   4250\u001b[0m \u001b[0;34m\u001b[0m\u001b[0m\n\u001b[1;32m   4251\u001b[0m         \u001b[0;31m# create accelerator object\u001b[0m\u001b[0;34m\u001b[0m\u001b[0;34m\u001b[0m\u001b[0m\n",
            "\u001b[0;31mNameError\u001b[0m: name 'GradientAccumulationPlugin' is not defined"
          ]
        }
      ]
    },
    {
      "cell_type": "code",
      "source": [
        "trainer.train()\n"
      ],
      "metadata": {
        "id": "sqPC5ZeIZduS",
        "outputId": "74e3bc59-c3d7-44c7-91e8-9492ffd30561",
        "colab": {
          "base_uri": "https://localhost:8080/",
          "height": 141
        }
      },
      "execution_count": null,
      "outputs": [
        {
          "output_type": "error",
          "ename": "NameError",
          "evalue": "name 'trainer' is not defined",
          "traceback": [
            "\u001b[0;31m---------------------------------------------------------------------------\u001b[0m",
            "\u001b[0;31mNameError\u001b[0m                                 Traceback (most recent call last)",
            "\u001b[0;32m<ipython-input-77-3435b262f1ae>\u001b[0m in \u001b[0;36m<cell line: 1>\u001b[0;34m()\u001b[0m\n\u001b[0;32m----> 1\u001b[0;31m \u001b[0mtrainer\u001b[0m\u001b[0;34m.\u001b[0m\u001b[0mtrain\u001b[0m\u001b[0;34m(\u001b[0m\u001b[0;34m)\u001b[0m\u001b[0;34m\u001b[0m\u001b[0;34m\u001b[0m\u001b[0m\n\u001b[0m",
            "\u001b[0;31mNameError\u001b[0m: name 'trainer' is not defined"
          ]
        }
      ]
    },
    {
      "cell_type": "code",
      "source": [
        "trainer.evaluate()\n"
      ],
      "metadata": {
        "id": "MZpqwgG1aYNc"
      },
      "execution_count": null,
      "outputs": []
    },
    {
      "cell_type": "code",
      "source": [],
      "metadata": {
        "id": "scb4xUchidsA"
      },
      "execution_count": null,
      "outputs": []
    },
    {
      "cell_type": "markdown",
      "source": [
        "#pytorch- Distibert"
      ],
      "metadata": {
        "id": "tYvfkPO8ieFO"
      }
    },
    {
      "cell_type": "code",
      "source": [
        "import gc"
      ],
      "metadata": {
        "id": "iiEFn7lZJvoy"
      },
      "execution_count": 18,
      "outputs": []
    },
    {
      "cell_type": "code",
      "source": [
        "import torch\n",
        "from sklearn.model_selection import train_test_split"
      ],
      "metadata": {
        "id": "AfTfnqElK2a2"
      },
      "execution_count": 20,
      "outputs": []
    },
    {
      "cell_type": "code",
      "source": [
        "torch.cuda.empty_cache()\n",
        "gc.collect()"
      ],
      "metadata": {
        "colab": {
          "base_uri": "https://localhost:8080/"
        },
        "id": "LSD2KHhDJ0uP",
        "outputId": "a7501930-2daf-4d3c-b9c0-1550646127bd"
      },
      "execution_count": 21,
      "outputs": [
        {
          "output_type": "execute_result",
          "data": {
            "text/plain": [
              "0"
            ]
          },
          "metadata": {},
          "execution_count": 21
        }
      ]
    },
    {
      "cell_type": "code",
      "source": [
        "df_DI = df.copy()\n",
        "\n",
        "\n",
        "df_DI['TEXT'] = df_DI['Header'] + \". \" + df_DI['Body']\n",
        "df_DI['count'] = df_DI['TEXT'].apply(lambda x: len(x.split()))\n",
        "df_DI.head()\n",
        "\n",
        "\n",
        "df_DI.drop(['Header', 'Body'], axis=1, inplace=True)\n",
        "\n",
        "\n",
        "plt.figure(figsize= (8, 8))\n",
        "sns.displot(df_DI['count'])\n",
        "\n",
        "#plt.xlim(0, 1000)\n",
        "plt.xlabel('The num of words ', fontsize = 16)\n",
        "plt.title(\"The Number of Words Distribution\", fontsize = 18)\n",
        "plt.show()\n",
        "\n",
        "\n",
        "category_count = df_DI['Label'].value_counts()\n",
        "categories = category_count.index\n",
        "fig = plt.figure(figsize= (12, 5))\n",
        "ax = fig.add_subplot(111)\n",
        "palette = sns.color_palette('hls', len(category_count))  # Change the palette for different color schemes\n",
        "sns.barplot(x = df_DI['Label'].value_counts().index, y = df_DI['Label'].value_counts(), palette=palette)\n",
        "for a, p in enumerate(ax.patches):\n",
        "    ax.annotate(f'{categories[a]}\\n' + format(p.get_height(), '.0f'), xy = (p.get_x() + p.get_width() / 2.0, p.get_height()), xytext = (0,-25), size = 13, color = 'white' , ha = 'center', va = 'center', textcoords = 'offset points', bbox = dict(boxstyle = 'round', facecolor='none',edgecolor='white', alpha = 0.5) )\n",
        "\n",
        "plt.xlabel('Categories', size = 15)\n",
        "plt.ylabel('The Number of News for each category', size= 10)\n",
        "plt.xticks(size = 12)\n",
        "plt.title(\"The number of News by Categories\" , size = 18)\n",
        "plt.show()"
      ],
      "metadata": {
        "colab": {
          "base_uri": "https://localhost:8080/",
          "height": 989
        },
        "id": "K6ECFxkVihm8",
        "outputId": "a8a39ab2-f2cd-43e8-a65f-7b7a12220c0d"
      },
      "execution_count": 22,
      "outputs": [
        {
          "output_type": "display_data",
          "data": {
            "text/plain": [
              "<Figure size 800x800 with 0 Axes>"
            ]
          },
          "metadata": {}
        },
        {
          "output_type": "display_data",
          "data": {
            "text/plain": [
              "<Figure size 500x500 with 1 Axes>"
            ],
            "image/png": "[encoded data removed]"
          },
          "metadata": {}
        },
        {
          "output_type": "stream",
          "name": "stderr",
          "text": [
            "<ipython-input-22-4c2c5d9e8824>:26: FutureWarning: \n",
            "\n",
            "Passing `palette` without assigning `hue` is deprecated and will be removed in v0.14.0. Assign the `x` variable to `hue` and set `legend=False` for the same effect.\n",
            "\n",
            "  sns.barplot(x = df_DI['Label'].value_counts().index, y = df_DI['Label'].value_counts(), palette=palette)\n"
          ]
        },
        {
          "output_type": "display_data",
          "data": {
            "text/plain": [
              "<Figure size 1200x500 with 1 Axes>"
            ],
            "image/png": "[encoded data removed]"
          },
          "metadata": {}
        }
      ]
    },
    {
      "cell_type": "code",
      "source": [
        "from sklearn.preprocessing import LabelBinarizer\n",
        "\n",
        "label = LabelBinarizer()\n",
        "\n",
        "labels = label.fit_transform(df_DI['Label']).astype('float32')\n",
        "labels.shape"
      ],
      "metadata": {
        "colab": {
          "base_uri": "https://localhost:8080/"
        },
        "id": "cPBTeDMxjAVB",
        "outputId": "87003c1a-c816-4cbe-932b-d66a684979cc"
      },
      "execution_count": 23,
      "outputs": [
        {
          "output_type": "execute_result",
          "data": {
            "text/plain": [
              "(29664, 4)"
            ]
          },
          "metadata": {},
          "execution_count": 23
        }
      ]
    },
    {
      "cell_type": "code",
      "source": [
        "texts = df_DI['TEXT'].tolist()\n"
      ],
      "metadata": {
        "id": "sseppfXmjtJJ"
      },
      "execution_count": 24,
      "outputs": []
    },
    {
      "cell_type": "code",
      "source": [
        "train_texts, val_texts, train_labels, val_labels = train_test_split(texts, labels,\n",
        "                                                                    test_size=0.2, random_state=42, shuffle=True)\n"
      ],
      "metadata": {
        "id": "YM3r3x2awdFX"
      },
      "execution_count": 25,
      "outputs": []
    },
    {
      "cell_type": "code",
      "source": [
        "\n",
        "\n",
        "from transformers import DistilBertTokenizer , AutoTokenizer\n",
        "from transformers import DistilBertForSequenceClassification , AutoModelForSequenceClassification"
      ],
      "metadata": {
        "id": "8bJ2ic91kAei"
      },
      "execution_count": 26,
      "outputs": []
    },
    {
      "cell_type": "code",
      "source": [
        "checkpoint = \"distilbert-base-uncased\"\n",
        "tokenizer = DistilBertTokenizer.from_pretrained(checkpoint)\n",
        "model = DistilBertForSequenceClassification.from_pretrained(\n",
        "    checkpoint,\n",
        "    num_labels=4,\n",
        "    problem_type=\"multi_class_classification\",\n",
        "    return_dict=True  # Ensure that outputs are returned as a dict\n",
        ")"
      ],
      "metadata": {
        "colab": {
          "base_uri": "https://localhost:8080/"
        },
        "id": "gd2KXUt9kswa",
        "outputId": "6b3cb1aa-4aa1-4546-9dc5-73d1a7dcd00a"
      },
      "execution_count": 27,
      "outputs": [
        {
          "output_type": "stream",
          "name": "stderr",
          "text": [
            "/usr/local/lib/python3.10/dist-packages/huggingface_hub/utils/_token.py:88: UserWarning: \n",
            "The secret `HF_TOKEN` does not exist in your Colab secrets.\n",
            "To authenticate with the Hugging Face Hub, create a token in your settings tab (https://huggingface.co/settings/tokens), set it as secret in your Google Colab and restart your session.\n",
            "You will be able to reuse this secret in all of your notebooks.\n",
            "Please note that authentication is recommended but still optional to access public models or datasets.\n",
            "  warnings.warn(\n",
            "Some weights of DistilBertForSequenceClassification were not initialized from the model checkpoint at distilbert-base-uncased and are newly initialized: ['classifier.bias', 'classifier.weight', 'pre_classifier.bias', 'pre_classifier.weight']\n",
            "You should probably TRAIN this model on a down-stream task to be able to use it for predictions and inference.\n"
          ]
        }
      ]
    },
    {
      "cell_type": "code",
      "source": [],
      "metadata": {
        "id": "gdiYIAjPwhTM"
      },
      "execution_count": 27,
      "outputs": []
    },
    {
      "cell_type": "code",
      "source": [
        "# custom dataset\n",
        "\n",
        "class CUSTOM_DATASET(torch.utils.data.Dataset) :\n",
        "  def __init__(self , texts , labels , tokenizer , max_len):\n",
        "    self.texts = texts\n",
        "    self.labels = labels\n",
        "    self.tokenizer = tokenizer\n",
        "    self.max_len = max_len\n",
        "\n",
        "  def __len__(self ) :\n",
        "    return len(self.texts)\n",
        "\n",
        "  def __getitem__(self,idx ) :\n",
        "    text = str(self.texts[idx])\n",
        "    label = self.labels[idx]\n",
        "    encoding = self.tokenizer(text, truncation=True, padding=\"max_length\", max_length=self.max_len, return_tensors='pt')\n",
        "\n",
        "    return {\n",
        "        'input_ids': encoding['input_ids'].flatten(),\n",
        "        'attention_mask': encoding['attention_mask'].flatten(),\n",
        "        'labels': label\n",
        "    }"
      ],
      "metadata": {
        "id": "IOuL2XQdnrl1"
      },
      "execution_count": 28,
      "outputs": []
    },
    {
      "cell_type": "code",
      "source": [
        "train_dataset = CUSTOM_DATASET(train_texts, train_labels, tokenizer, max_len=512)\n",
        "val_dataset = CUSTOM_DATASET(val_texts, val_labels, tokenizer, max_len=512)"
      ],
      "metadata": {
        "id": "IZnH-NBavzsy"
      },
      "execution_count": 29,
      "outputs": []
    },
    {
      "cell_type": "code",
      "source": [
        "from sklearn.metrics import accuracy_score, precision_score, recall_score\n",
        "from transformers import EvalPrediction\n",
        "\n",
        "def multi_class_metrics(predictions, labels):\n",
        "    softmax = torch.nn.Softmax(dim=1)\n",
        "    probs = softmax(torch.Tensor(predictions))\n",
        "    y_pred = np.argmax(probs, axis=1)  # Get the class with the highest probability\n",
        "    y_true = labels\n",
        "\n",
        "\n",
        "    # Precision\n",
        "    precision = precision_score(y_true, y_pred, average='weighted')\n",
        "    #Recall\n",
        "    recall = recall_score(y_true, y_pred, average='weighted')\n",
        "    # Accuracy\n",
        "    accuracy = accuracy_score(y_true, y_pred)\n",
        "    # F1 score - 'macro' average may not be appropriate for imbalanced classes\n",
        "    f1 = f1_score(y_true, y_pred, average='weighted')\n",
        "\n",
        "\n",
        "    metrics = {\n",
        "        \"accuracy\": accuracy,\n",
        "        \"precision\": precision,\n",
        "        \"recall\": recall,\n",
        "        \"f1\": f1\n",
        "    }\n",
        "\n",
        "    return metrics\n",
        "\n",
        "\n",
        "def compute_metrics(p: EvalPrediction):\n",
        "    preds = np.argmax(p.predictions, axis=1)\n",
        "    labels = p.label_ids\n",
        "    return multi_class_metrics(predictions=preds, labels=labels)"
      ],
      "metadata": {
        "id": "MK7KbFpBxjHo"
      },
      "execution_count": 30,
      "outputs": []
    },
    {
      "cell_type": "code",
      "source": [
        "print(torch.__version__)"
      ],
      "metadata": {
        "colab": {
          "base_uri": "https://localhost:8080/"
        },
        "id": "1OdVWzkPCb7g",
        "outputId": "79b67b6d-e9d5-49fa-d8d4-f36ff99e95ba"
      },
      "execution_count": 31,
      "outputs": [
        {
          "output_type": "stream",
          "name": "stdout",
          "text": [
            "2.2.1+cu121\n"
          ]
        }
      ]
    },
    {
      "cell_type": "code",
      "source": [
        "!pip install transformers[torch]\n"
      ],
      "metadata": {
        "colab": {
          "base_uri": "https://localhost:8080/"
        },
        "id": "f955aGQSC9NM",
        "outputId": "a41d4c78-b9c4-4f75-8288-0e4a6b493784"
      },
      "execution_count": 32,
      "outputs": [
        {
          "output_type": "stream",
          "name": "stdout",
          "text": [
            "Requirement already satisfied: transformers[torch] in /usr/local/lib/python3.10/dist-packages (4.38.2)\n",
            "Requirement already satisfied: filelock in /usr/local/lib/python3.10/dist-packages (from transformers[torch]) (3.13.4)\n",
            "Requirement already satisfied: huggingface-hub<1.0,>=0.19.3 in /usr/local/lib/python3.10/dist-packages (from transformers[torch]) (0.20.3)\n",
            "Requirement already satisfied: numpy>=1.17 in /usr/local/lib/python3.10/dist-packages (from transformers[torch]) (1.25.2)\n",
            "Requirement already satisfied: packaging>=20.0 in /usr/local/lib/python3.10/dist-packages (from transformers[torch]) (24.0)\n",
            "Requirement already satisfied: pyyaml>=5.1 in /usr/local/lib/python3.10/dist-packages (from transformers[torch]) (6.0.1)\n",
            "Requirement already satisfied: regex!=2019.12.17 in /usr/local/lib/python3.10/dist-packages (from transformers[torch]) (2023.12.25)\n",
            "Requirement already satisfied: requests in /usr/local/lib/python3.10/dist-packages (from transformers[torch]) (2.31.0)\n",
            "Requirement already satisfied: tokenizers<0.19,>=0.14 in /usr/local/lib/python3.10/dist-packages (from transformers[torch]) (0.15.2)\n",
            "Requirement already satisfied: safetensors>=0.4.1 in /usr/local/lib/python3.10/dist-packages (from transformers[torch]) (0.4.2)\n",
            "Requirement already satisfied: tqdm>=4.27 in /usr/local/lib/python3.10/dist-packages (from transformers[torch]) (4.66.2)\n",
            "Requirement already satisfied: torch in /usr/local/lib/python3.10/dist-packages (from transformers[torch]) (2.2.1+cu121)\n",
            "Requirement already satisfied: accelerate>=0.21.0 in /usr/local/lib/python3.10/dist-packages (from transformers[torch]) (0.29.2)\n",
            "Requirement already satisfied: psutil in /usr/local/lib/python3.10/dist-packages (from accelerate>=0.21.0->transformers[torch]) (5.9.5)\n",
            "Requirement already satisfied: fsspec>=2023.5.0 in /usr/local/lib/python3.10/dist-packages (from huggingface-hub<1.0,>=0.19.3->transformers[torch]) (2023.6.0)\n",
            "Requirement already satisfied: typing-extensions>=3.7.4.3 in /usr/local/lib/python3.10/dist-packages (from huggingface-hub<1.0,>=0.19.3->transformers[torch]) (4.11.0)\n",
            "Requirement already satisfied: sympy in /usr/local/lib/python3.10/dist-packages (from torch->transformers[torch]) (1.12)\n",
            "Requirement already satisfied: networkx in /usr/local/lib/python3.10/dist-packages (from torch->transformers[torch]) (3.3)\n",
            "Requirement already satisfied: jinja2 in /usr/local/lib/python3.10/dist-packages (from torch->transformers[torch]) (3.1.3)\n",
            "Requirement already satisfied: nvidia-cuda-nvrtc-cu12==12.1.105 in /usr/local/lib/python3.10/dist-packages (from torch->transformers[torch]) (12.1.105)\n",
            "Requirement already satisfied: nvidia-cuda-runtime-cu12==12.1.105 in /usr/local/lib/python3.10/dist-packages (from torch->transformers[torch]) (12.1.105)\n",
            "Requirement already satisfied: nvidia-cuda-cupti-cu12==12.1.105 in /usr/local/lib/python3.10/dist-packages (from torch->transformers[torch]) (12.1.105)\n",
            "Requirement already satisfied: nvidia-cudnn-cu12==8.9.2.26 in /usr/local/lib/python3.10/dist-packages (from torch->transformers[torch]) (8.9.2.26)\n",
            "Requirement already satisfied: nvidia-cublas-cu12==12.1.3.1 in /usr/local/lib/python3.10/dist-packages (from torch->transformers[torch]) (12.1.3.1)\n",
            "Requirement already satisfied: nvidia-cufft-cu12==11.0.2.54 in /usr/local/lib/python3.10/dist-packages (from torch->transformers[torch]) (11.0.2.54)\n",
            "Requirement already satisfied: nvidia-curand-cu12==10.3.2.106 in /usr/local/lib/python3.10/dist-packages (from torch->transformers[torch]) (10.3.2.106)\n",
            "Requirement already satisfied: nvidia-cusolver-cu12==11.4.5.107 in /usr/local/lib/python3.10/dist-packages (from torch->transformers[torch]) (11.4.5.107)\n",
            "Requirement already satisfied: nvidia-cusparse-cu12==12.1.0.106 in /usr/local/lib/python3.10/dist-packages (from torch->transformers[torch]) (12.1.0.106)\n",
            "Requirement already satisfied: nvidia-nccl-cu12==2.19.3 in /usr/local/lib/python3.10/dist-packages (from torch->transformers[torch]) (2.19.3)\n",
            "Requirement already satisfied: nvidia-nvtx-cu12==12.1.105 in /usr/local/lib/python3.10/dist-packages (from torch->transformers[torch]) (12.1.105)\n",
            "Requirement already satisfied: triton==2.2.0 in /usr/local/lib/python3.10/dist-packages (from torch->transformers[torch]) (2.2.0)\n",
            "Requirement already satisfied: nvidia-nvjitlink-cu12 in /usr/local/lib/python3.10/dist-packages (from nvidia-cusolver-cu12==11.4.5.107->torch->transformers[torch]) (12.4.127)\n",
            "Requirement already satisfied: charset-normalizer<4,>=2 in /usr/local/lib/python3.10/dist-packages (from requests->transformers[torch]) (3.3.2)\n",
            "Requirement already satisfied: idna<4,>=2.5 in /usr/local/lib/python3.10/dist-packages (from requests->transformers[torch]) (3.6)\n",
            "Requirement already satisfied: urllib3<3,>=1.21.1 in /usr/local/lib/python3.10/dist-packages (from requests->transformers[torch]) (2.0.7)\n",
            "Requirement already satisfied: certifi>=2017.4.17 in /usr/local/lib/python3.10/dist-packages (from requests->transformers[torch]) (2024.2.2)\n",
            "Requirement already satisfied: MarkupSafe>=2.0 in /usr/local/lib/python3.10/dist-packages (from jinja2->torch->transformers[torch]) (2.1.5)\n",
            "Requirement already satisfied: mpmath>=0.19 in /usr/local/lib/python3.10/dist-packages (from sympy->torch->transformers[torch]) (1.3.0)\n"
          ]
        }
      ]
    },
    {
      "cell_type": "code",
      "source": [
        "#!pip install accelerate -U\n"
      ],
      "metadata": {
        "id": "r_QIK480DZqr"
      },
      "execution_count": 33,
      "outputs": []
    },
    {
      "cell_type": "code",
      "source": [
        "import accelerate\n",
        "print(accelerate.__version__)"
      ],
      "metadata": {
        "colab": {
          "base_uri": "https://localhost:8080/"
        },
        "id": "N70Jky6sDAt6",
        "outputId": "3d2e42b7-e393-4efc-8841-f29870d2864f"
      },
      "execution_count": 34,
      "outputs": [
        {
          "output_type": "stream",
          "name": "stdout",
          "text": [
            "0.29.2\n"
          ]
        }
      ]
    },
    {
      "cell_type": "code",
      "source": [
        "from transformers import TrainingArguments, Trainer\n",
        "\n",
        "args = TrainingArguments(\n",
        "    per_device_train_batch_size=32,\n",
        "    per_device_eval_batch_size=32,\n",
        "    output_dir = './results',\n",
        "    num_train_epochs=2,\n",
        "    save_steps=1000,\n",
        "    save_total_limit=2\n",
        ")\n",
        "\n",
        "trainer = Trainer(model=model,\n",
        "                  args=args,\n",
        "                  train_dataset=train_dataset,\n",
        "                  eval_dataset = val_dataset,\n",
        "                  compute_metrics=compute_metrics)"
      ],
      "metadata": {
        "colab": {
          "base_uri": "https://localhost:8080/"
        },
        "id": "UqY-rH-PxjLQ",
        "outputId": "1ce5baa0-aecd-4af4-8663-1fcec44b2d42"
      },
      "execution_count": 38,
      "outputs": [
        {
          "output_type": "stream",
          "name": "stderr",
          "text": [
            "/usr/local/lib/python3.10/dist-packages/accelerate/accelerator.py:436: FutureWarning: Passing the following arguments to `Accelerator` is deprecated and will be removed in version 1.0 of Accelerate: dict_keys(['dispatch_batches', 'split_batches', 'even_batches', 'use_seedable_sampler']). Please pass an `accelerate.DataLoaderConfiguration` instead: \n",
            "dataloader_config = DataLoaderConfiguration(dispatch_batches=None, split_batches=False, even_batches=True, use_seedable_sampler=True)\n",
            "  warnings.warn(\n"
          ]
        }
      ]
    },
    {
      "cell_type": "code",
      "source": [
        "trainer.train()"
      ],
      "metadata": {
        "colab": {
          "base_uri": "https://localhost:8080/",
          "height": 370
        },
        "id": "tC0U-HUJA97d",
        "outputId": "233c604e-c5fe-47b0-be8e-a0bb222458ef"
      },
      "execution_count": 39,
      "outputs": [
        {
          "output_type": "error",
          "ename": "ValueError",
          "evalue": "The model did not return a loss from the inputs, only the following keys: logits. For reference, the inputs it received are input_ids,attention_mask,labels.",
          "traceback": [
            "\u001b[0;31m---------------------------------------------------------------------------\u001b[0m",
            "\u001b[0;31mValueError\u001b[0m                                Traceback (most recent call last)",
            "\u001b[0;32m<ipython-input-39-3435b262f1ae>\u001b[0m in \u001b[0;36m<cell line: 1>\u001b[0;34m()\u001b[0m\n\u001b[0;32m----> 1\u001b[0;31m \u001b[0mtrainer\u001b[0m\u001b[0;34m.\u001b[0m\u001b[0mtrain\u001b[0m\u001b[0;34m(\u001b[0m\u001b[0;34m)\u001b[0m\u001b[0;34m\u001b[0m\u001b[0;34m\u001b[0m\u001b[0m\n\u001b[0m",
            "\u001b[0;32m/usr/local/lib/python3.10/dist-packages/transformers/trainer.py\u001b[0m in \u001b[0;36mtrain\u001b[0;34m(self, resume_from_checkpoint, trial, ignore_keys_for_eval, **kwargs)\u001b[0m\n\u001b[1;32m   1622\u001b[0m                 \u001b[0mhf_hub_utils\u001b[0m\u001b[0;34m.\u001b[0m\u001b[0menable_progress_bars\u001b[0m\u001b[0;34m(\u001b[0m\u001b[0;34m)\u001b[0m\u001b[0;34m\u001b[0m\u001b[0;34m\u001b[0m\u001b[0m\n\u001b[1;32m   1623\u001b[0m         \u001b[0;32melse\u001b[0m\u001b[0;34m:\u001b[0m\u001b[0;34m\u001b[0m\u001b[0;34m\u001b[0m\u001b[0m\n\u001b[0;32m-> 1624\u001b[0;31m             return inner_training_loop(\n\u001b[0m\u001b[1;32m   1625\u001b[0m                 \u001b[0margs\u001b[0m\u001b[0;34m=\u001b[0m\u001b[0margs\u001b[0m\u001b[0;34m,\u001b[0m\u001b[0;34m\u001b[0m\u001b[0;34m\u001b[0m\u001b[0m\n\u001b[1;32m   1626\u001b[0m                 \u001b[0mresume_from_checkpoint\u001b[0m\u001b[0;34m=\u001b[0m\u001b[0mresume_from_checkpoint\u001b[0m\u001b[0;34m,\u001b[0m\u001b[0;34m\u001b[0m\u001b[0;34m\u001b[0m\u001b[0m\n",
            "\u001b[0;32m/usr/local/lib/python3.10/dist-packages/transformers/trainer.py\u001b[0m in \u001b[0;36m_inner_training_loop\u001b[0;34m(self, batch_size, args, resume_from_checkpoint, trial, ignore_keys_for_eval)\u001b[0m\n\u001b[1;32m   1959\u001b[0m \u001b[0;34m\u001b[0m\u001b[0m\n\u001b[1;32m   1960\u001b[0m                 \u001b[0;32mwith\u001b[0m \u001b[0mself\u001b[0m\u001b[0;34m.\u001b[0m\u001b[0maccelerator\u001b[0m\u001b[0;34m.\u001b[0m\u001b[0maccumulate\u001b[0m\u001b[0;34m(\u001b[0m\u001b[0mmodel\u001b[0m\u001b[0;34m)\u001b[0m\u001b[0;34m:\u001b[0m\u001b[0;34m\u001b[0m\u001b[0;34m\u001b[0m\u001b[0m\n\u001b[0;32m-> 1961\u001b[0;31m                     \u001b[0mtr_loss_step\u001b[0m \u001b[0;34m=\u001b[0m \u001b[0mself\u001b[0m\u001b[0;34m.\u001b[0m\u001b[0mtraining_step\u001b[0m\u001b[0;34m(\u001b[0m\u001b[0mmodel\u001b[0m\u001b[0;34m,\u001b[0m \u001b[0minputs\u001b[0m\u001b[0;34m)\u001b[0m\u001b[0;34m\u001b[0m\u001b[0;34m\u001b[0m\u001b[0m\n\u001b[0m\u001b[1;32m   1962\u001b[0m \u001b[0;34m\u001b[0m\u001b[0m\n\u001b[1;32m   1963\u001b[0m                 if (\n",
            "\u001b[0;32m/usr/local/lib/python3.10/dist-packages/transformers/trainer.py\u001b[0m in \u001b[0;36mtraining_step\u001b[0;34m(self, model, inputs)\u001b[0m\n\u001b[1;32m   2900\u001b[0m \u001b[0;34m\u001b[0m\u001b[0m\n\u001b[1;32m   2901\u001b[0m         \u001b[0;32mwith\u001b[0m \u001b[0mself\u001b[0m\u001b[0;34m.\u001b[0m\u001b[0mcompute_loss_context_manager\u001b[0m\u001b[0;34m(\u001b[0m\u001b[0;34m)\u001b[0m\u001b[0;34m:\u001b[0m\u001b[0;34m\u001b[0m\u001b[0;34m\u001b[0m\u001b[0m\n\u001b[0;32m-> 2902\u001b[0;31m             \u001b[0mloss\u001b[0m \u001b[0;34m=\u001b[0m \u001b[0mself\u001b[0m\u001b[0;34m.\u001b[0m\u001b[0mcompute_loss\u001b[0m\u001b[0;34m(\u001b[0m\u001b[0mmodel\u001b[0m\u001b[0;34m,\u001b[0m \u001b[0minputs\u001b[0m\u001b[0;34m)\u001b[0m\u001b[0;34m\u001b[0m\u001b[0;34m\u001b[0m\u001b[0m\n\u001b[0m\u001b[1;32m   2903\u001b[0m \u001b[0;34m\u001b[0m\u001b[0m\n\u001b[1;32m   2904\u001b[0m         \u001b[0;32mif\u001b[0m \u001b[0mself\u001b[0m\u001b[0;34m.\u001b[0m\u001b[0margs\u001b[0m\u001b[0;34m.\u001b[0m\u001b[0mn_gpu\u001b[0m \u001b[0;34m>\u001b[0m \u001b[0;36m1\u001b[0m\u001b[0;34m:\u001b[0m\u001b[0;34m\u001b[0m\u001b[0;34m\u001b[0m\u001b[0m\n",
            "\u001b[0;32m/usr/local/lib/python3.10/dist-packages/transformers/trainer.py\u001b[0m in \u001b[0;36mcompute_loss\u001b[0;34m(self, model, inputs, return_outputs)\u001b[0m\n\u001b[1;32m   2941\u001b[0m         \u001b[0;32melse\u001b[0m\u001b[0;34m:\u001b[0m\u001b[0;34m\u001b[0m\u001b[0;34m\u001b[0m\u001b[0m\n\u001b[1;32m   2942\u001b[0m             \u001b[0;32mif\u001b[0m \u001b[0misinstance\u001b[0m\u001b[0;34m(\u001b[0m\u001b[0moutputs\u001b[0m\u001b[0;34m,\u001b[0m \u001b[0mdict\u001b[0m\u001b[0;34m)\u001b[0m \u001b[0;32mand\u001b[0m \u001b[0;34m\"loss\"\u001b[0m \u001b[0;32mnot\u001b[0m \u001b[0;32min\u001b[0m \u001b[0moutputs\u001b[0m\u001b[0;34m:\u001b[0m\u001b[0;34m\u001b[0m\u001b[0;34m\u001b[0m\u001b[0m\n\u001b[0;32m-> 2943\u001b[0;31m                 raise ValueError(\n\u001b[0m\u001b[1;32m   2944\u001b[0m                     \u001b[0;34m\"The model did not return a loss from the inputs, only the following keys: \"\u001b[0m\u001b[0;34m\u001b[0m\u001b[0;34m\u001b[0m\u001b[0m\n\u001b[1;32m   2945\u001b[0m                     \u001b[0;34mf\"{','.join(outputs.keys())}. For reference, the inputs it received are {','.join(inputs.keys())}.\"\u001b[0m\u001b[0;34m\u001b[0m\u001b[0;34m\u001b[0m\u001b[0m\n",
            "\u001b[0;31mValueError\u001b[0m: The model did not return a loss from the inputs, only the following keys: logits. For reference, the inputs it received are input_ids,attention_mask,labels."
          ]
        }
      ]
    },
    {
      "cell_type": "code",
      "source": [
        "trainer.evaluate()"
      ],
      "metadata": {
        "id": "A0okaVB3A_-R"
      },
      "execution_count": null,
      "outputs": []
    }
  ]
}