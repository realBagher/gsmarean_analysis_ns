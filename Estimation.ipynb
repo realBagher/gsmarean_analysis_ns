{
 "cells": [
  {
   "cell_type": "markdown",
   "metadata": {},
   "source": [
    "z-score: Used when the population standard deviation is known or when the sample size is large (typically, n≥30) even if the population standard deviation is unknown. The Z-score is based on the standard normal distribution."
   ]
  },
  {
   "cell_type": "code",
   "execution_count": 1,
   "metadata": {},
   "outputs": [],
   "source": [
    "import numpy as np\n",
    "import pandas as pd\n",
    "from scipy import stats\n",
    "\n",
    "\n",
    "\n",
    "# hypothetical data\n",
    "np.random.seed(0)  \n",
    "data = {\n",
    "    'Brand': np.random.choice(['Apple', 'Samsung', 'Huawei', 'Xiaomi', 'Nokia'], 100),\n",
    "    'Year': np.random.choice([2023], 100),\n",
    "    'Price': np.random.randint(200, 1200, 100)  # Assuming prices range from 200 to 1200\n",
    "}\n"
   ]
  },
  {
   "cell_type": "code",
   "execution_count": 2,
   "metadata": {},
   "outputs": [
    {
     "name": "stdout",
     "output_type": "stream",
     "text": [
      "Average Prices and 98% Confidence Intervals for 2023:\n",
      "Apple: Average Price = 660.32, 98% CI = (-82.34911154148188, 1402.9854751778457)\n",
      "Huawei: Average Price = 725.82, 98% CI = (92.82536547558811, 1358.8216933479414)\n",
      "Nokia: Average Price = 794.37, 98% CI = (107.90909781519781, 1480.8277442900653)\n",
      "Samsung: Average Price = 592.90, 98% CI = (-134.82052994839694, 1320.6205299483968)\n",
      "Xiaomi: Average Price = 600.68, 98% CI = (-95.76775691317289, 1297.1313932768091)\n"
     ]
    }
   ],
   "source": [
    "df = pd.DataFrame(data)\n",
    "\n",
    "df_2023 = df[df['Year'] == 2023]\n",
    "\n",
    "mean_prices = df_2023.groupby('Brand')['Price'].mean()\n",
    "\n",
    "std_devs = df_2023.groupby('Brand')['Price'].std()\n",
    "sample_sizes = df_2023.groupby('Brand')['Price'].count()\n",
    "\n",
    "# 98% confidence interval\n",
    "alpha = 0.02  \n",
    "conf_intervals = {}\n",
    "\n",
    "for brand in mean_prices.index:\n",
    "    mean = mean_prices[brand]\n",
    "    std_dev = std_devs[brand]\n",
    "    ci = stats.norm.interval(1-alpha, loc=mean, scale=std_dev)\n",
    "    conf_intervals[brand] = ci\n",
    "\n",
    "\n",
    "print(\"Average Prices and 98% Confidence Intervals for 2023:\")\n",
    "for brand in mean_prices.index:\n",
    "    print(f\"{brand}: Average Price = {mean_prices[brand]:.2f}, 98% CI = {conf_intervals[brand]}\")\n"
   ]
  }
 ],
 "metadata": {
  "kernelspec": {
   "display_name": "base",
   "language": "python",
   "name": "python3"
  },
  "language_info": {
   "codemirror_mode": {
    "name": "ipython",
    "version": 3
   },
   "file_extension": ".py",
   "mimetype": "text/x-python",
   "name": "python",
   "nbconvert_exporter": "python",
   "pygments_lexer": "ipython3",
   "version": "3.11.5"
  }
 },
 "nbformat": 4,
 "nbformat_minor": 2
}
